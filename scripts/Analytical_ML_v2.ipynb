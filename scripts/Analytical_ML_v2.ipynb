{
  "nbformat": 4,
  "nbformat_minor": 0,
  "metadata": {
    "colab": {
      "name": "Analytical_ML_v2.ipynb",
      "provenance": []
    },
    "kernelspec": {
      "name": "python3",
      "display_name": "Python 3"
    },
    "language_info": {
      "name": "python"
    }
  },
  "cells": [
    {
      "cell_type": "code",
      "execution_count": 1,
      "metadata": {
        "id": "ULRTMt7Z2w-B"
      },
      "outputs": [],
      "source": [
        "import numpy as np\n",
        "import pandas as pd\n",
        "from sympy import *"
      ]
    },
    {
      "cell_type": "code",
      "source": [
        "# 8 different cols corresponds to f_{++-}, ..., f_{-+-};\n",
        "target = np.array([[1, 1, -1, -1, 1, 1, -1, -1],\n",
        "                   [1, 1, -1, -1, -1, -1, 1, 1],\n",
        "                   [-1, 1, -1, 1, 1, -1, 1, -1]])\n",
        "\n",
        "# cleaner input later\n",
        "\n",
        "mean = np.array([2.795084971874737,\n",
        " 2.800317370942086,\n",
        " 2.792356968942187,\n",
        " 2.8109163331554354,\n",
        " 2.781936892167038,\n",
        " 2.776749214459239,\n",
        " 2.8200842118631844,\n",
        " 2.7832338115939885])\n",
        "\n",
        "cov = np.array([[ 0.10815616, -0.01290591, -0.01658358, -0.01911512, -0.01469069,\n",
        "        -0.01202002, -0.01986286, -0.01297798],\n",
        "       [-0.01290591,  0.10223085, -0.01302075, -0.01820604, -0.01536957,\n",
        "        -0.01587493, -0.00927608, -0.01757757],\n",
        "       [-0.01658358, -0.01302075,  0.11190446, -0.01635016, -0.01486774,\n",
        "        -0.02029532, -0.01258839, -0.01819853],\n",
        "       [-0.01911512, -0.01820604, -0.01635016,  0.10672009, -0.01819004,\n",
        "        -0.0120778 , -0.01157835, -0.01120258],\n",
        "       [-0.01469069, -0.01536957, -0.01486774, -0.01819004,  0.11301614,\n",
        "        -0.01713021, -0.01452683, -0.01824106],\n",
        "       [-0.01202002, -0.01587493, -0.02029532, -0.0120778 , -0.01713021,\n",
        "         0.10669449, -0.01572034, -0.01357588],\n",
        "       [-0.01986286, -0.00927608, -0.01258839, -0.01157835, -0.01452683,\n",
        "        -0.01572034,  0.09758462, -0.01403176],\n",
        "       [-0.01297798, -0.01757757, -0.01819853, -0.01120258, -0.01824106,\n",
        "        -0.01357588, -0.01403176,  0.10580536]])\n",
        "\n",
        "# rv = np.random.multivariate_normal(mean, cov).reshape((8, 1))\n",
        "# print(rv) # sample from multivariate gaussian "
      ],
      "metadata": {
        "id": "rijLgUF_3MLm"
      },
      "execution_count": 2,
      "outputs": []
    },
    {
      "cell_type": "code",
      "source": [
        "rv = np.random.multivariate_normal(mean, cov).reshape((8, 1))\n",
        "print(rv.T, \"\\n\") # sample from multivariate gaussian\n",
        "\n",
        "scales = [1] # later use np.linspace(1, 25, num=10)\n",
        "\n",
        "for scale in scales:\n",
        "\n",
        "  print(\"scale              \", scale)\n",
        "\n",
        "  scaled_rv = (scale * rv).astype(int)\n",
        "\n",
        "  # print(\"scaled random sample\", scaled_rv.T)\n",
        "\n",
        "  x = symbols('x')\n",
        "  expr = 0 # negative log likelihood expression\n",
        "\n",
        "  for i in range(0, 8):\n",
        "    factor = target[0][i] * target[1][i] # assume theta_C = 0, so sigma_C_i does not matter\n",
        "    for j in range(0, scaled_rv[i][0]):\n",
        "      subexpr = 1 / 8 * (1 + factor * x) # probability of observing column i\n",
        "      expr += -log(subexpr)\n",
        "\n",
        "  print(\"nll expression     \", expr)    \n",
        "\n",
        "  dexpr = diff(expr) # derivative of negative log likelihood expression\n",
        "  solution = list(solveset(dexpr, x, Interval(0, 1).closure))\n",
        "  nll = -1\n",
        "  print(\"critical (T_A)(T_B)\", solution)\n",
        "  if len(solution) == 0: # if there exist no critical values, check 0 and 1\n",
        "    min = 0\n",
        "    max = 1\n",
        "    nll_0 = expr.evalf(subs={x: min})\n",
        "    nll_1 = expr.evalf(subs={x: max})\n",
        "    if nll_0 <= nll_1:\n",
        "      solution.append(min)\n",
        "      nll = nll_0\n",
        "    else:\n",
        "      solution.append(max)\n",
        "      nll = nll_1\n",
        "  else: # plug in critical value to compute maximum likelihood\n",
        "    nll = expr.evalf(subs={x: solution[0]})\n",
        "    min = 0\n",
        "    max = 1\n",
        "    nll_0 = expr.evalf(subs={x: min})\n",
        "    nll_1 = expr.evalf(subs={x: max})\n",
        "    if nll_0 <= nll:\n",
        "      solution.insert(0, min)\n",
        "      nll = nll_0\n",
        "    elif nll_1 <= nll:\n",
        "      solution.insert(0, max)\n",
        "      nll = nll_1\n",
        "  lhd = exp(-1 * nll)\n",
        "  print(\"optimal (T_A)(T_B) \", solution[0]) # (theta_A)(theta_B) maximizing likelihood\n",
        "  print(\"maximum likelihood \", lhd, \"\\n\") # maximum likelihood"
      ],
      "metadata": {
        "colab": {
          "base_uri": "https://localhost:8080/"
        },
        "id": "U2sWwVYo34hK",
        "outputId": "d5a8dbdc-41bb-4c63-a7e4-f56b4abd832a"
      },
      "execution_count": 4,
      "outputs": [
        {
          "output_type": "stream",
          "name": "stdout",
          "text": [
            "[[2.77576394 2.62083737 2.75315434 2.71716411 3.01385441 2.7952545\n",
            "  2.7727821  2.91190446]] \n",
            "\n",
            "scale               1\n",
            "nll expression      -9*log(0.125 - 0.125*x) - 8*log(0.125*x + 0.125)\n",
            "critical (T_A)(T_B) []\n",
            "optimal (T_A)(T_B)  0\n",
            "maximum likelihood  4.44089209850061e-16 \n",
            "\n"
          ]
        }
      ]
    },
    {
      "cell_type": "code",
      "source": [
        ""
      ],
      "metadata": {
        "id": "Q31ze2lG7SST"
      },
      "execution_count": null,
      "outputs": []
    }
  ]
}