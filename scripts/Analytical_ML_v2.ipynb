{
  "nbformat": 4,
  "nbformat_minor": 0,
  "metadata": {
    "colab": {
      "name": "Analytical_ML_v2.ipynb",
      "provenance": []
    },
    "kernelspec": {
      "name": "python3",
      "display_name": "Python 3"
    },
    "language_info": {
      "name": "python"
    }
  },
  "cells": [
    {
      "cell_type": "code",
      "execution_count": 32,
      "metadata": {
        "id": "ULRTMt7Z2w-B"
      },
      "outputs": [],
      "source": [
        "import numpy as np\n",
        "import pandas as pd\n",
        "import matplotlib.pyplot as plt"
      ]
    },
    {
      "cell_type": "code",
      "source": [
        "# 8 different cols corresponds to f_{++-}, ..., f_{-+-};\n",
        "target = np.array([[1, 1, -1, -1, 1, 1, -1, -1],\n",
        "                   [1, 1, -1, -1, -1, -1, 1, 1],\n",
        "                   [-1, 1, -1, 1, 1, -1, 1, -1]])\n",
        "\n",
        "# cleaner input later\n",
        "\n",
        "# mean vector and covariance matrix from Binhao and Jingde's script\n",
        "\n",
        "mean = np.array([93.75, 93.75, 93.75, 93.75, 31.25, 31.25, 31.25, 31.25])\n",
        "\n",
        "cov = np.array([[ 76.171875, -17.578125, -17.578125, -17.578125,  -5.859375,\n",
        "         -5.859375,  -5.859375,  -5.859375],\n",
        "       [-17.578125,  76.171875, -17.578125, -17.578125,  -5.859375,\n",
        "         -5.859375,  -5.859375,  -5.859375],\n",
        "       [-17.578125, -17.578125,  76.171875, -17.578125,  -5.859375,\n",
        "         -5.859375,  -5.859375,  -5.859375],\n",
        "       [-17.578125, -17.578125, -17.578125,  76.171875,  -5.859375,\n",
        "         -5.859375,  -5.859375,  -5.859375],\n",
        "       [ -5.859375,  -5.859375,  -5.859375,  -5.859375,  29.296875,\n",
        "         -1.953125,  -1.953125,  -1.953125],\n",
        "       [ -5.859375,  -5.859375,  -5.859375,  -5.859375,  -1.953125,\n",
        "         29.296875,  -1.953125,  -1.953125],\n",
        "       [ -5.859375,  -5.859375,  -5.859375,  -5.859375,  -1.953125,\n",
        "         -1.953125,  29.296875,  -1.953125],\n",
        "       [ -5.859375,  -5.859375,  -5.859375,  -5.859375,  -1.953125,\n",
        "         -1.953125,  -1.953125,  29.296875]])\n",
        "\n",
        "# rv = np.random.multivariate_normal(mean, cov).reshape((8, 1))\n",
        "# print(rv) # sample from multivariate gaussian "
      ],
      "metadata": {
        "id": "rijLgUF_3MLm"
      },
      "execution_count": 34,
      "outputs": []
    },
    {
      "cell_type": "code",
      "source": [
        "'''\n",
        "CALCULATING OPTIMAL (theta_A)(theta_B) FROM RANDOM SAMPLE\n",
        "'''\n",
        "\n",
        "rv = np.random.multivariate_normal(mean, cov).reshape((8, 1))\n",
        "\n",
        "# no need to scale random sample anymore\n",
        "scales = [1] # scales = np.linspace(1, 25, num=5)\n",
        "\n",
        "for scale in scales: # for scale in scales:\n",
        "\n",
        "  scaled_rv = (scale * rv).astype(int)\n",
        "  print(\"random sample\", scaled_rv.T)\n",
        "\n",
        "  count_pos, count_neg = 0, 0\n",
        "\n",
        "  for i in range(0, 8):\n",
        "    if target[0][i] * target[1][i] == 1:\n",
        "      count_pos += scaled_rv[i][0]\n",
        "    else:\n",
        "      count_neg += scaled_rv[i][0]\n",
        "\n",
        "  solution = 0\n",
        "\n",
        "  # analytic computation for optimal (T_A)(T_B)\n",
        "  if count_pos >= count_neg:\n",
        "    solution = (count_pos - count_neg)/(count_pos + count_neg)\n",
        "  else:\n",
        "    solution = 0\n",
        "\n",
        "  print(\"optimal (T_A)(T_B)  \", solution) # (T_A)(T_B) maximizing likelihood"
      ],
      "metadata": {
        "colab": {
          "base_uri": "https://localhost:8080/"
        },
        "id": "3h2KYamQbhzE",
        "outputId": "58c6ec21-636c-43e8-8243-b00b8d866249"
      },
      "execution_count": 54,
      "outputs": [
        {
          "output_type": "stream",
          "name": "stdout",
          "text": [
            "random sample [[ 91  87 102 104  28  34  22  28]]\n",
            "optimal (T_A)(T_B)   0.5483870967741935\n"
          ]
        }
      ]
    },
    {
      "cell_type": "code",
      "source": [
        "'''\n",
        "OBSERVING DISTRIBUTION OF OPTIMAL (theta_A)(theta_B)\n",
        "'''\n",
        "\n",
        "# rv = np.random.multivariate_normal(mean, cov).reshape((8, 1))\n",
        "optimal_vals = []\n",
        "\n",
        "# no need to scale random sample anymore\n",
        "scale = 1 # scales = np.linspace(1, 25, num=5)\n",
        "\n",
        "for i in range(1000): # for scale in scales:\n",
        "\n",
        "  rv = np.random.multivariate_normal(mean, cov).reshape((8, 1))\n",
        "\n",
        "  scaled_rv = (scale * rv).astype(int)\n",
        "  #print(\"scaled random sample\", scaled_rv.T)\n",
        "\n",
        "  count_pos, count_neg = 0, 0\n",
        "\n",
        "  for i in range(0, 8):\n",
        "    if target[0][i] * target[1][i] == 1:\n",
        "      count_pos += scaled_rv[i][0]\n",
        "    else:\n",
        "      count_neg += scaled_rv[i][0]\n",
        "\n",
        "  solution = 0\n",
        "\n",
        "  # analytic computation for optimal (T_A)(T_B)\n",
        "  if count_pos >= count_neg:\n",
        "    solution = (count_pos - count_neg)/(count_pos + count_neg)\n",
        "  else:\n",
        "    solution = 0\n",
        "\n",
        "  optimal_vals.append(solution)\n",
        "  #print(\"optimal (T_A)(T_B)  \", solution, \"\\n\") # (T_A)(T_B) maximizing likelihood\n",
        "\n",
        "print(\"mean:    \", np.mean(optimal_vals))\n",
        "print(\"variance:\", np.var(optimal_vals))\n",
        "\n",
        "plt.hist(optimal_vals, bins = 25, edgecolor = 'white')\n",
        "plt.title('Distribution of optimal (T_A)(T_B)')\n",
        "plt.show()"
      ],
      "metadata": {
        "id": "Q31ze2lG7SST",
        "colab": {
          "base_uri": "https://localhost:8080/",
          "height": 312
        },
        "outputId": "e437c7a3-a115-4962-f355-80503d140af2"
      },
      "execution_count": 52,
      "outputs": [
        {
          "output_type": "stream",
          "name": "stdout",
          "text": [
            "mean:     0.505998676844325\n",
            "variance: 0.0015469919337703461\n"
          ]
        },
        {
          "output_type": "display_data",
          "data": {
            "image/png": "[encoded data removed]",
            "text/plain": [
              "<Figure size 432x288 with 1 Axes>"
            ]
          },
          "metadata": {}
        }
      ]
    },
    {
      "cell_type": "code",
      "source": [
        ""
      ],
      "metadata": {
        "id": "uTVmhudjcYzw"
      },
      "execution_count": null,
      "outputs": []
    }
  ]
}