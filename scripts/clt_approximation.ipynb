{
  "nbformat": 4,
  "nbformat_minor": 0,
  "metadata": {
    "colab": {
      "provenance": []
    },
    "kernelspec": {
      "name": "python3",
      "display_name": "Python 3"
    },
    "language_info": {
      "name": "python"
    }
  },
  "cells": [
    {
      "cell_type": "code",
      "execution_count": 8,
      "metadata": {
        "id": "RbA7Iy7ypNke"
      },
      "outputs": [],
      "source": [
        "import numpy as np\n",
        "from scipy.optimize import least_squares"
      ]
    },
    {
      "cell_type": "code",
      "source": [
        "# columns of matrix obs are possible observations of\n",
        "# binary nucleotides associated with the four species\n",
        "#\n",
        "# the set of possible observations is {-1, +1}^4\n",
        "\n",
        "obs = np.array([[-1, -1, -1, -1, -1, -1, -1, -1, +1, +1, +1, +1, +1, +1, +1, +1], \n",
        "                [-1, -1, -1, -1, +1, +1, +1, +1, -1, -1, -1, -1, +1, +1, +1, +1], \n",
        "                [-1, -1, +1, +1, -1, -1, +1, +1, -1, -1, +1, +1, -1, -1, +1, +1], \n",
        "                [-1, +1, -1, +1, -1, +1, -1, +1, -1, +1, -1, +1, -1, +1, -1, +1]])\n",
        "\n",
        "# adjust the following parameters before computing mean and covariance\n",
        "\n",
        "global tau # \\theta_{1} * \\theta_{5} * \\theta_{2}\n",
        "tau = 0.5\n",
        "\n",
        "global k # length of DNA sequence\n",
        "k = 300"
      ],
      "metadata": {
        "id": "e5L5d7UfpVr0"
      },
      "execution_count": 9,
      "outputs": []
    },
    {
      "cell_type": "code",
      "source": [
        "# assume our observations are k i.i.d X_1,...,X_k\n",
        "# taking values from the columns of obs\n",
        "# \n",
        "# also assume \\theta_{3} = \\theta_{4} = 0\n",
        "# \n",
        "# q_j = P(X_i = obs[:, j]) i.e. q_j is the probability\n",
        "# of observing column j of obs\n",
        "\n",
        "q = np.zeros(16)\n",
        "for j in range(16):\n",
        "  q[j] = (1 / 16) * (1 + obs[0, j] * obs[1, j] * tau)\n",
        "\n",
        "print(q)"
      ],
      "metadata": {
        "id": "iSw8ycQKqsLZ",
        "colab": {
          "base_uri": "https://localhost:8080/"
        },
        "outputId": "65359539-277b-41d0-81b5-b6a607c9bd57"
      },
      "execution_count": 10,
      "outputs": [
        {
          "output_type": "stream",
          "name": "stdout",
          "text": [
            "[0.09375 0.09375 0.09375 0.09375 0.03125 0.03125 0.03125 0.03125 0.03125\n",
            " 0.03125 0.03125 0.03125 0.09375 0.09375 0.09375 0.09375]\n"
          ]
        }
      ]
    },
    {
      "cell_type": "code",
      "source": [
        "# let Y_i = e_j \\in \\mathbb{R}^16 iff X_i = obs[:, j]\n",
        "# where e_1,...,e_16 are the standard basis vectors, and\n",
        "# define frequency vector F_k = Y_1 + ... + Y_k\n",
        "#\n",
        "# our frequency vector follows multinomial distribution with\n",
        "# k trials and event probabilities q, and it can be approximated\n",
        "# as a multivariate Gaussian via the Central Limit Theorem; see\n",
        "# computation in Overleaf document\n",
        "#\n",
        "# see https://en.wikipedia.org/wiki/Multinomial_distribution#Properties\n",
        "# and https://en.wikipedia.org/wiki/Central_limit_theorem#Multidimensional_CLT\n",
        "#\n",
        "# we now compute the mean and covariance\n",
        "\n",
        "mean = k * q # mean vector of multivariate Gaussian\n",
        "\n",
        "cov = k * (np.diag(q) - np.outer(q, q)) # cov matrix of multivariate Gaussian\n",
        "\n",
        "print(mean, \"\\n\")\n",
        "print(cov)\n",
        "\n",
        "# copy and paste as a np.array(...)"
      ],
      "metadata": {
        "colab": {
          "base_uri": "https://localhost:8080/"
        },
        "id": "0jRhMEqVqtCU",
        "outputId": "0e742927-d07f-44ca-85d3-f985afadba88"
      },
      "execution_count": 11,
      "outputs": [
        {
          "output_type": "stream",
          "name": "stdout",
          "text": [
            "[28.125 28.125 28.125 28.125  9.375  9.375  9.375  9.375  9.375  9.375\n",
            "  9.375  9.375 28.125 28.125 28.125 28.125] \n",
            "\n",
            "[[25.48828125 -2.63671875 -2.63671875 -2.63671875 -0.87890625 -0.87890625\n",
            "  -0.87890625 -0.87890625 -0.87890625 -0.87890625 -0.87890625 -0.87890625\n",
            "  -2.63671875 -2.63671875 -2.63671875 -2.63671875]\n",
            " [-2.63671875 25.48828125 -2.63671875 -2.63671875 -0.87890625 -0.87890625\n",
            "  -0.87890625 -0.87890625 -0.87890625 -0.87890625 -0.87890625 -0.87890625\n",
            "  -2.63671875 -2.63671875 -2.63671875 -2.63671875]\n",
            " [-2.63671875 -2.63671875 25.48828125 -2.63671875 -0.87890625 -0.87890625\n",
            "  -0.87890625 -0.87890625 -0.87890625 -0.87890625 -0.87890625 -0.87890625\n",
            "  -2.63671875 -2.63671875 -2.63671875 -2.63671875]\n",
            " [-2.63671875 -2.63671875 -2.63671875 25.48828125 -0.87890625 -0.87890625\n",
            "  -0.87890625 -0.87890625 -0.87890625 -0.87890625 -0.87890625 -0.87890625\n",
            "  -2.63671875 -2.63671875 -2.63671875 -2.63671875]\n",
            " [-0.87890625 -0.87890625 -0.87890625 -0.87890625  9.08203125 -0.29296875\n",
            "  -0.29296875 -0.29296875 -0.29296875 -0.29296875 -0.29296875 -0.29296875\n",
            "  -0.87890625 -0.87890625 -0.87890625 -0.87890625]\n",
            " [-0.87890625 -0.87890625 -0.87890625 -0.87890625 -0.29296875  9.08203125\n",
            "  -0.29296875 -0.29296875 -0.29296875 -0.29296875 -0.29296875 -0.29296875\n",
            "  -0.87890625 -0.87890625 -0.87890625 -0.87890625]\n",
            " [-0.87890625 -0.87890625 -0.87890625 -0.87890625 -0.29296875 -0.29296875\n",
            "   9.08203125 -0.29296875 -0.29296875 -0.29296875 -0.29296875 -0.29296875\n",
            "  -0.87890625 -0.87890625 -0.87890625 -0.87890625]\n",
            " [-0.87890625 -0.87890625 -0.87890625 -0.87890625 -0.29296875 -0.29296875\n",
            "  -0.29296875  9.08203125 -0.29296875 -0.29296875 -0.29296875 -0.29296875\n",
            "  -0.87890625 -0.87890625 -0.87890625 -0.87890625]\n",
            " [-0.87890625 -0.87890625 -0.87890625 -0.87890625 -0.29296875 -0.29296875\n",
            "  -0.29296875 -0.29296875  9.08203125 -0.29296875 -0.29296875 -0.29296875\n",
            "  -0.87890625 -0.87890625 -0.87890625 -0.87890625]\n",
            " [-0.87890625 -0.87890625 -0.87890625 -0.87890625 -0.29296875 -0.29296875\n",
            "  -0.29296875 -0.29296875 -0.29296875  9.08203125 -0.29296875 -0.29296875\n",
            "  -0.87890625 -0.87890625 -0.87890625 -0.87890625]\n",
            " [-0.87890625 -0.87890625 -0.87890625 -0.87890625 -0.29296875 -0.29296875\n",
            "  -0.29296875 -0.29296875 -0.29296875 -0.29296875  9.08203125 -0.29296875\n",
            "  -0.87890625 -0.87890625 -0.87890625 -0.87890625]\n",
            " [-0.87890625 -0.87890625 -0.87890625 -0.87890625 -0.29296875 -0.29296875\n",
            "  -0.29296875 -0.29296875 -0.29296875 -0.29296875 -0.29296875  9.08203125\n",
            "  -0.87890625 -0.87890625 -0.87890625 -0.87890625]\n",
            " [-2.63671875 -2.63671875 -2.63671875 -2.63671875 -0.87890625 -0.87890625\n",
            "  -0.87890625 -0.87890625 -0.87890625 -0.87890625 -0.87890625 -0.87890625\n",
            "  25.48828125 -2.63671875 -2.63671875 -2.63671875]\n",
            " [-2.63671875 -2.63671875 -2.63671875 -2.63671875 -0.87890625 -0.87890625\n",
            "  -0.87890625 -0.87890625 -0.87890625 -0.87890625 -0.87890625 -0.87890625\n",
            "  -2.63671875 25.48828125 -2.63671875 -2.63671875]\n",
            " [-2.63671875 -2.63671875 -2.63671875 -2.63671875 -0.87890625 -0.87890625\n",
            "  -0.87890625 -0.87890625 -0.87890625 -0.87890625 -0.87890625 -0.87890625\n",
            "  -2.63671875 -2.63671875 25.48828125 -2.63671875]\n",
            " [-2.63671875 -2.63671875 -2.63671875 -2.63671875 -0.87890625 -0.87890625\n",
            "  -0.87890625 -0.87890625 -0.87890625 -0.87890625 -0.87890625 -0.87890625\n",
            "  -2.63671875 -2.63671875 -2.63671875 25.48828125]]\n"
          ]
        }
      ]
    },
    {
      "cell_type": "code",
      "source": [
        "# we can now generate data by sampling a point from this distribution\n",
        "# by executing the following command\n",
        "\n",
        "freq = np.random.multivariate_normal(mean, cov)\n",
        "print(freq, \"\\n\")\n",
        "\n",
        "# gives frequency of observations, would need to round components\n",
        "# in practice"
      ],
      "metadata": {
        "colab": {
          "base_uri": "https://localhost:8080/"
        },
        "id": "6idpckDnuuHz",
        "outputId": "f81758ed-c517-431f-83b3-b9f110460bfa"
      },
      "execution_count": 5,
      "outputs": [
        {
          "output_type": "stream",
          "name": "stdout",
          "text": [
            "[26.18595552 19.88178106 32.3619518  25.1850168  11.72939597  4.96815609\n",
            "  8.61220286  7.62459227 11.13078244 16.30505883  8.51878733  7.4611995\n",
            " 29.28236207 27.01672445 30.94814749 32.78788534] \n",
            "\n"
          ]
        }
      ]
    },
    {
      "cell_type": "code",
      "source": [
        "# no idea if this is right lol\n",
        "# see https://docs.scipy.org/doc/scipy/reference/generated/scipy.optimize.least_squares.html\n",
        "# and https://hernandis.me/2020/04/05/three-examples-of-nonlinear-least-squares-fitting-in-python-with-scipy.html\n",
        "\n",
        "# return random vector z from frequency vector\n",
        "def data(freq, q, k):\n",
        "  return np.sqrt(k) * ((freq / k) - q) # is this correct?\n",
        "\n",
        "# p = (\\theta_1, \\theta_2, \\alpha_3, \\alpha_4)\n",
        "# q = [q_j] for j = 1,...,16 i.e. observation probabilities \n",
        "# tau is a known parameter\n",
        "# z is our data\n",
        "#\n",
        "# returns vector of residuals for least squares\n",
        "# see least squares problem in Overleaf document\n",
        "def llhd(p, q, tau, z):\n",
        "  epsilon = np.zeros(16)\n",
        "  for j in range(16):\n",
        "    # formula for /epsilon_{/sigma_j}\n",
        "    # multiply by constraint(p, tau) to force 0 <= \\theta_5 <= 1\n",
        "    epsilon[j] = constraint(p, tau) * ((obs[0, j]*obs[2, j]*p[0]*p[2]) + (obs[1, j]*obs[3, j]*p[1]*p[3]) + (obs[0, j]*obs[3, j]*(tau/p[1])*p[3]) + obs[1, j]*obs[2, j]*(tau/p[0])*p[2])\n",
        "  return np.multiply(1 / np.sqrt(q), z - epsilon)\n",
        "\n",
        "# p = (\\theta_1, \\theta_2, \\alpha_3, \\alpha_4)\n",
        "# tau is a known parameter\n",
        "#\n",
        "# nonlinear constraint for nonlinear least squares\n",
        "# forces 0 <= \\theta_5 <= 1 where\n",
        "# \\theta_1 * \\theta_2 * \\theta_5 = \\tau\n",
        "def constraint(p, tau):\n",
        "  if tau/(p[0]*p[1]) < 0 or tau/(p[0]*p[1]) > 1:\n",
        "    return 100 # np.inf\n",
        "  return 1\n",
        "\n",
        "freq = np.random.multivariate_normal(mean, cov)\n",
        "z = data(freq, q, k)\n",
        "\n",
        "# function passed to scipy.optimize.least_squares\n",
        "def fun(p):\n",
        "  return llhd(p, q, tau, z)\n",
        "  \n",
        "# minimizer of least sqaures\n",
        "res = least_squares(fun, np.ones(4), bounds=(np.array([0, 0, 0, 0]), np.array([1, 1, np.inf, np.inf])))\n",
        "\n",
        "epsilon = np.zeros(16)\n",
        "for j in range(16):\n",
        "    epsilon[j] = (obs[0, j]*obs[2, j]*res.x[0]*res.x[2]) + (obs[1, j]*obs[3, j]*res.x[1]*res.x[3]) + (obs[0, j]*obs[3, j]*(tau/res.x[1])*res.x[3]) + obs[1, j]*obs[2, j]*(tau/res.x[0])*res.x[2]\n",
        "\n",
        "print(\"F_k: \", freq, \"\\n\")\n",
        "print(\"z_sigma: \", z, \"\\n\")\n",
        "print(\"e_sigma: \", epsilon, \"\\n\")\n",
        "print(\"Cost: \", res.cost, \"\\n\")\n",
        "# print(0.5 * np.sum(np.square(llhd(res.x, q, tau, z)))) # manual computation gives same minimum cost\n",
        "print(\"theta_1\", res.x[0])\n",
        "print(\"theta_2\", res.x[1])\n",
        "print(\"alpha_3\", res.x[2])\n",
        "print(\"alpha_4\", res.x[3])\n",
        "print(\"theta_5\", tau/(res.x[0]*res.x[1]))"
      ],
      "metadata": {
        "id": "0KXQyyXTBcDT",
        "colab": {
          "base_uri": "https://localhost:8080/"
        },
        "outputId": "00d21379-90e2-493f-df9b-44aac160db49"
      },
      "execution_count": 24,
      "outputs": [
        {
          "output_type": "stream",
          "name": "stdout",
          "text": [
            "F_k:  [30.80596269 24.58432557 39.87786997 32.50246293  9.91596675  8.38598576\n",
            " 10.0997625   7.33285352  8.86728836  4.82404767  4.62937719 13.26463085\n",
            " 21.5180444  27.07776757 24.15890255 32.15475216] \n",
            "\n",
            "z_sigma:  [ 0.15478545 -0.20442093  0.67855226  0.25273294  0.03123273 -0.05710076\n",
            "  0.04184418 -0.11790338 -0.02931275 -0.26274936 -0.27398866  0.22456794\n",
            " -0.38145276 -0.06046199 -0.22898274  0.23265785] \n",
            "\n",
            "e_sigma:  [ 0.5823279  -0.13005098  0.13005098 -0.5823279   0.05877384 -0.01312593\n",
            "  0.01312593 -0.05877384 -0.05877384  0.01312593 -0.01312593  0.05877384\n",
            " -0.5823279   0.13005098 -0.13005098  0.5823279 ] \n",
            "\n",
            "Cost:  10.313508796169437 \n",
            "\n",
            "theta_1 0.7824700397841017\n",
            "theta_2 0.6390021029065408\n",
            "alpha_3 0.15908750659815923\n",
            "alpha_4 0.25057785689812234\n",
            "theta_5 0.9999999982331889\n"
          ]
        }
      ]
    },
    {
      "cell_type": "code",
      "source": [],
      "metadata": {
        "id": "to3d1r-TJKLk"
      },
      "execution_count": 6,
      "outputs": []
    }
  ]
}