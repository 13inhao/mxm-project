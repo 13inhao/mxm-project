{
  "nbformat": 4,
  "nbformat_minor": 0,
  "metadata": {
    "colab": {
      "name": "Analytical_ML_v3.ipynb",
      "provenance": []
    },
    "kernelspec": {
      "name": "python3",
      "display_name": "Python 3"
    },
    "language_info": {
      "name": "python"
    }
  },
  "cells": [
    {
      "cell_type": "code",
      "execution_count": 35,
      "metadata": {
        "id": "xf8seG1mIZc2"
      },
      "outputs": [],
      "source": [
        "import numpy as np\n",
        "\n",
        "# 8 different cols corresponds to f_{++-}, ..., f_{-+-}\n",
        "target = np.array([[1, 1, -1, -1, 1, 1, -1, -1],\n",
        "                   [1, 1, -1, -1, -1, -1, 1, 1],\n",
        "                   [-1, 1, -1, 1, 1, -1, 1, -1]])"
      ]
    },
    {
      "cell_type": "code",
      "source": [
        "# CONFIGURATION 1.0\n",
        "# (theta_A)(theta_B) = tau, theta_C = 0\n",
        "# \n",
        "# input:  freq_vec.shape == (8, 1)\n",
        "# return: [tau]\n",
        "def config1_0(freq_vec):  \n",
        "  count_pos, count_neg = 0, 0\n",
        "  for i in range(0, 8):\n",
        "    if target[0][i] * target[1][i] == 1:\n",
        "      count_pos += freq_vec[i][0]\n",
        "    else:\n",
        "      count_neg += freq_vec[i][0]\n",
        "  opt = [(count_pos - count_neg)/(count_pos + count_neg)]\n",
        "  return opt\n",
        "\n",
        "# CONFIGURATION 2.0\n",
        "# theta_A = 1, theta_B = tau + epsilon, theta_C = delta\n",
        "# \n",
        "# input:  freq_vec.shape == (8, 1)\n",
        "# return: [tau + epsilon, delta]\n",
        "def config2_0(freq_vec):\n",
        "  count_ee, count_en, count_ne, count_nn = 0, 0, 0, 0\n",
        "  for i in range(0, 8):\n",
        "    if target[0][i] * target[1][i] == 1 and target[0][i] * target[2][i] == 1:\n",
        "      count_ee += freq_vec[i][0]\n",
        "    elif target[0][i] * target[1][i] == 1 and target[0][i] * target[2][i] == -1:\n",
        "      count_en += freq_vec[i][0]\n",
        "    elif target[0][i] * target[1][i] == -1 and target[0][i] * target[2][i] == 1:\n",
        "      count_ne += freq_vec[i][0]\n",
        "    else:\n",
        "      count_nn += freq_vec[i][0]\n",
        "  opt = [(count_ee + count_en - count_ne - count_nn)/(count_ee + count_en + count_ne + count_nn)]\n",
        "  opt.append((count_ee - count_en + count_ne - count_nn)/(count_ee + count_en + count_ne + count_nn))\n",
        "  return opt\n",
        "\n",
        "# CONFIGURATION 2.1\n",
        "# theta_A = tau + epsilon, theta_B = 1, theta_C = delta\n",
        "# \n",
        "# input:  freq_vec.shape == (8, 1)\n",
        "# return: [tau + epsilon, delta]\n",
        "def config2_1(freq_vec):\n",
        "  count_ee, count_en, count_ne, count_nn = 0, 0, 0, 0\n",
        "  for i in range(0, 8):\n",
        "    if target[0][i] * target[1][i] == 1 and target[1][i] * target[2][i] == 1:\n",
        "      count_ee += freq_vec[i][0]\n",
        "    elif target[0][i] * target[1][i] == 1 and target[1][i] * target[2][i] == -1:\n",
        "      count_en += freq_vec[i][0]\n",
        "    elif target[0][i] * target[1][i] == -1 and target[1][i] * target[2][i] == 1:\n",
        "      count_ne += freq_vec[i][0]\n",
        "    else:\n",
        "      count_nn += freq_vec[i][0]\n",
        "  opt = [(count_ee + count_en - count_ne - count_nn)/(count_ee + count_en + count_ne + count_nn)]\n",
        "  opt.append((count_ee - count_en + count_ne - count_nn)/(count_ee + count_en + count_ne + count_nn))\n",
        "  return opt\n",
        "\n",
        "# CONFIGURATION 3.0\n",
        "# (theta_A)(theta_B) = tau + epsilon, (theta_A)(theta_C) = delta_1, (theta_B)(theta_C) = delta_2\n",
        "# \n",
        "# input:  freq_vec.shape == (8, 1)\n",
        "# return: [tau + epsilon, delta_1, delta_2]\n",
        "def config3_0(freq_vec):\n",
        "  count_ee, count_en, count_ne, count_nn = 0, 0, 0, 0\n",
        "  for i in range(0, 8):\n",
        "    if target[0][i] * target[1][i] == 1 and target[0][i] * target[2][i] == 1:\n",
        "      count_ee += freq_vec[i][0]\n",
        "    elif target[0][i] * target[1][i] == 1 and target[0][i] * target[2][i] == -1:\n",
        "      count_en += freq_vec[i][0]\n",
        "    elif target[0][i] * target[1][i] == -1 and target[0][i] * target[2][i] == 1:\n",
        "      count_ne += freq_vec[i][0]\n",
        "    else:\n",
        "      count_nn += freq_vec[i][0]\n",
        "  opt = [(count_ee + count_en - count_ne - count_nn)/(count_ee + count_en + count_ne + count_nn)]\n",
        "  p_a = (count_ee - count_en)/(count_ee + count_en + count_ne + count_nn)\n",
        "  p_b = (count_ne - count_nn)/(count_ee + count_en + count_ne + count_nn)\n",
        "  p_c = 0.25 * ((2/(1+opt[0]))-(2/(1-opt[0])))\n",
        "  opt.append(((p_a/(1+opt[0]))-(p_b/(1-opt[0])))/p_c)\n",
        "  opt.append(((p_a/(1+opt[0]))+(p_b/(1-opt[0])))/p_c)\n",
        "  return opt"
      ],
      "metadata": {
        "id": "OlV1HeXvJ-8G"
      },
      "execution_count": 37,
      "outputs": []
    },
    {
      "cell_type": "code",
      "source": [
        ""
      ],
      "metadata": {
        "id": "rlyfOJ43NDhI"
      },
      "execution_count": null,
      "outputs": []
    }
  ]
}