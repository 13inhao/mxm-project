{
  "cells": [
    {
      "cell_type": "markdown",
      "metadata": {
        "collapsed": false,
        "id": "5pBZgs4pC7bC"
      },
      "source": [
        "# Analytical\\_ML\\_v3.ipynb\n",
        "\n",
        "DOCUMENT OVERVIEW: This document contains code for replicating Figure 3 of Parks\n",
        "and Goldman (2014). Understanding this document requires familiarity with the\n",
        "content of the analytic results in the paper.\n"
      ]
    },
    {
      "cell_type": "markdown",
      "metadata": {
        "collapsed": false,
        "id": "oqv3PFfLC7bD"
      },
      "source": [
        "## Initialization\n",
        "\n",
        "Import Python packages and intialize data array 'target'."
      ]
    },
    {
      "cell_type": "code",
      "execution_count": 1,
      "metadata": {
        "id": "xf8seG1mIZc2"
      },
      "outputs": [],
      "source": [
        "import numpy as np\n",
        "import matplotlib.pyplot as plt\n",
        "\n",
        "\n",
        "# The 8 columns of 'target' are the 8 possible site patterns which may be\n",
        "# observed at the three tips of the tree. These correspond to the site pattern\n",
        "# counts f_{++-}, ..., f_{-+-} in the paper.\n",
        "target = np.array([[1, 1, -1, -1, 1, 1, -1, -1],\n",
        "                   [1, 1, -1, -1, -1, -1, 1, 1],\n",
        "                   [-1, 1, -1, 1, 1, -1, 1, -1]])"
      ]
    },
    {
      "cell_type": "markdown",
      "metadata": {
        "collapsed": false,
        "id": "zKu3zcgoC7bE"
      },
      "source": [
        "## Define ML Functions\n",
        "\n",
        "COMMENTARY: This section defines the key functions which, for each tree\n",
        "configuration, compute the relevant ML parameter estimates given the observed\n",
        "data. These functions implement the formulas derived in the paper; the\n",
        "parameters estimated are $\\tau, \\epsilon, \\delta, \\delta_1$, and $\\delta_2$,\n",
        "depending on the configuration. See the paper for details.\n",
        "\n",
        "NOTATION: The variables `count_ee`, `count_en`, `count_ne` and `count_nn`\n",
        "respectively correspond to the variables $f_{=.=}, f_{=,\\neq}, f_{\\neq,=}$ and\n",
        "$f_{\\neq,\\neq}$ defined in the paper. The variables `count_pos` and `count_neg`\n",
        "correspond respectively to the variables $f_{=}$ and $f_{\\neq}$ defined in the\n",
        "paper.\n"
      ]
    },
    {
      "cell_type": "code",
      "execution_count": 2,
      "metadata": {
        "id": "OlV1HeXvJ-8G"
      },
      "outputs": [],
      "source": [
        "# CONFIGURATION 1.0\n",
        "# (θ_A)(θ_B) = τ, θ_C = 0\n",
        "# \n",
        "# input:  freq_vec.shape == (8, 1)\n",
        "# return: [τ]\n",
        "def config1_0(freq_vec):  \n",
        "  count_pos, count_neg = 0, 0\n",
        "  for i in range(0, 8):\n",
        "    if target[0][i] * target[1][i] == 1:\n",
        "      count_pos += freq_vec[i][0]\n",
        "    else:\n",
        "      count_neg += freq_vec[i][0]\n",
        "  opt = [(count_pos - count_neg)/(count_pos + count_neg)]\n",
        "  return opt\n",
        "\n",
        "# CONFIGURATION 2.0\n",
        "# θ_A = 1, θ_B = τ + ε, θ_C = δ\n",
        "# \n",
        "# input:  freq_vec.shape == (8, 1)\n",
        "# return: [τ + ε, δ]\n",
        "def config2_0(freq_vec):\n",
        "  count_ee, count_en, count_ne, count_nn = 0, 0, 0, 0\n",
        "  for i in range(0, 8):\n",
        "    if target[0][i] * target[1][i] == 1 and target[0][i] * target[2][i] == 1:\n",
        "      count_ee += freq_vec[i][0]\n",
        "    elif target[0][i] * target[1][i] == 1 and target[0][i] * target[2][i] == -1:\n",
        "      count_en += freq_vec[i][0]\n",
        "    elif target[0][i] * target[1][i] == -1 and target[0][i] * target[2][i] == 1:\n",
        "      count_ne += freq_vec[i][0]\n",
        "    else:\n",
        "      count_nn += freq_vec[i][0]\n",
        "  opt = [(count_ee + count_en - count_ne - count_nn)/(count_ee + count_en + count_ne + count_nn)]\n",
        "  opt.append((count_ee - count_en + count_ne - count_nn)/(count_ee + count_en + count_ne + count_nn))\n",
        "  return opt\n",
        "\n",
        "# CONFIGURATION 2.1\n",
        "# θ_A = τ + ε, θ_B = 1, θ_C = δ\n",
        "# \n",
        "# input:  freq_vec.shape == (8, 1)\n",
        "# return: [τ + ε, δ]\n",
        "def config2_1(freq_vec):\n",
        "  count_ee, count_en, count_ne, count_nn = 0, 0, 0, 0\n",
        "  for i in range(0, 8):\n",
        "    if target[0][i] * target[1][i] == 1 and target[1][i] * target[2][i] == 1:\n",
        "      count_ee += freq_vec[i][0]\n",
        "    elif target[0][i] * target[1][i] == 1 and target[1][i] * target[2][i] == -1:\n",
        "      count_en += freq_vec[i][0]\n",
        "    elif target[0][i] * target[1][i] == -1 and target[1][i] * target[2][i] == 1:\n",
        "      count_ne += freq_vec[i][0]\n",
        "    else:\n",
        "      count_nn += freq_vec[i][0]\n",
        "  opt = [(count_ee + count_en - count_ne - count_nn)/(count_ee + count_en + count_ne + count_nn)]\n",
        "  opt.append((count_ee - count_en + count_ne - count_nn)/(count_ee + count_en + count_ne + count_nn))\n",
        "  return opt\n",
        "\n",
        "# CONFIGURATION 3.0\n",
        "# (θ_A)(θ_B) = τ + ε, (θ_A)(θ_C) = δ₁, (θ_B)(θ_C) = δ₂\n",
        "# \n",
        "# input:  freq_vec.shape == (8, 1)\n",
        "# return: [τ + ε, δ₁, δ₂]\n",
        "def config3_0(freq_vec):\n",
        "  count_ee, count_en, count_ne, count_nn = 0, 0, 0, 0\n",
        "  for i in range(0, 8):\n",
        "    if target[0][i] * target[1][i] == 1 and target[0][i] * target[2][i] == 1:\n",
        "      count_ee += freq_vec[i][0]\n",
        "    elif target[0][i] * target[1][i] == 1 and target[0][i] * target[2][i] == -1:\n",
        "      count_en += freq_vec[i][0]\n",
        "    elif target[0][i] * target[1][i] == -1 and target[0][i] * target[2][i] == 1:\n",
        "      count_ne += freq_vec[i][0]\n",
        "    else:\n",
        "      count_nn += freq_vec[i][0]\n",
        "  opt = [(count_ee + count_en - count_ne - count_nn)/(count_ee + count_en + count_ne + count_nn)]\n",
        "  p_a = (count_ee - count_en)/(count_ee + count_en + count_ne + count_nn)\n",
        "  p_b = (count_ne - count_nn)/(count_ee + count_en + count_ne + count_nn)\n",
        "  p_c = 0.25 * ((2/(1+opt[0]))-(2/(1-opt[0])))\n",
        "  opt.append(((p_a/(1+opt[0]))-(p_b/(1-opt[0])))/p_c)\n",
        "  opt.append(((p_a/(1+opt[0]))+(p_b/(1-opt[0])))/p_c)\n",
        "  return opt\n",
        "\n",
        "# CONFIGURATION 3.0 (Version 2)\n",
        "# DOES NOT USE TAYLOR EXPANSION\n",
        "# (theta_A)(theta_B) = tau + epsilon, (theta_A)(theta_C) = delta_1, (theta_B)(theta_C) = delta_2\n",
        "# \n",
        "# input:  freq_vec.shape == (8, 1)\n",
        "# return: [tau + epsilon, delta_1, delta_2]\n",
        "def config3_0v2(freq_vec):\n",
        "  count_ee, count_en, count_ne, count_nn = 0, 0, 0, 0\n",
        "  for i in range(0, 8):\n",
        "    if target[0][i] * target[1][i] == 1 and target[0][i] * target[2][i] == 1:\n",
        "      count_ee += freq_vec[i][0]\n",
        "    elif target[0][i] * target[1][i] == 1 and target[0][i] * target[2][i] == -1:\n",
        "      count_en += freq_vec[i][0]\n",
        "    elif target[0][i] * target[1][i] == -1 and target[0][i] * target[2][i] == 1:\n",
        "      count_ne += freq_vec[i][0]\n",
        "    else:\n",
        "      count_nn += freq_vec[i][0]\n",
        "  k = 1 / (count_en + count_ne + count_nn + count_ee)\n",
        "  opt = [k * (count_en - count_ne - count_nn + count_ee)]\n",
        "  opt.append(k * (-count_en + count_ne - count_nn + count_ee))\n",
        "  opt.append(k * (-count_en - count_ne + count_nn + count_ee))\n",
        "  return opt"
      ]
    },
    {
      "cell_type": "markdown",
      "metadata": {
        "collapsed": false,
        "id": "6nfPHwOfC7bF"
      },
      "source": [
        "## Data\n",
        "\n",
        "COMMENTARY: Under our theoretical model, observed data takes the form of a\n",
        "multi-species alignment with three rows corresponding to the three leaves $A,B$\n",
        "and $C$ of the species tree. The sequences in the alignment consist of binary\n",
        "characters (i.e. each 'nucleotide' is either $+1$ or $-1$) and the sequences are\n",
        "of length $k$ (i.e. the number of samples). We assume a symmetric binary site\n",
        "substitution process. See the paper for additional details.\n",
        "\n",
        "Here, we generate data in the equivalent but more compact form of a vector of\n",
        "site pattern counts. This vector is drawn according to a multivariate\n",
        "distributions which approximates the asymptotic case of configuration 1, which\n",
        "is assumed to be the true configuration of the species tree we seek to estimate.\n",
        "The mean and covariance matrix for this multivariate Gaussian distribution are\n",
        "given as follows.\n"
      ]
    },
    {
      "cell_type": "code",
      "execution_count": 3,
      "metadata": {
        "id": "rlyfOJ43NDhI"
      },
      "outputs": [],
      "source": [
        "# mean vector and covariance matrix from Binhao and Jingde's script\n",
        "\n",
        "mean = np.array([93.75, 93.75, 93.75, 93.75, 31.25, 31.25, 31.25, 31.25])\n",
        "\n",
        "cov = np.array([[ 76.171875, -17.578125, -17.578125, -17.578125,  -5.859375,\n",
        "         -5.859375,  -5.859375,  -5.859375],\n",
        "       [-17.578125,  76.171875, -17.578125, -17.578125,  -5.859375,\n",
        "         -5.859375,  -5.859375,  -5.859375],\n",
        "       [-17.578125, -17.578125,  76.171875, -17.578125,  -5.859375,\n",
        "         -5.859375,  -5.859375,  -5.859375],\n",
        "       [-17.578125, -17.578125, -17.578125,  76.171875,  -5.859375,\n",
        "         -5.859375,  -5.859375,  -5.859375],\n",
        "       [ -5.859375,  -5.859375,  -5.859375,  -5.859375,  29.296875,\n",
        "         -1.953125,  -1.953125,  -1.953125],\n",
        "       [ -5.859375,  -5.859375,  -5.859375,  -5.859375,  -1.953125,\n",
        "         29.296875,  -1.953125,  -1.953125],\n",
        "       [ -5.859375,  -5.859375,  -5.859375,  -5.859375,  -1.953125,\n",
        "         -1.953125,  29.296875,  -1.953125],\n",
        "       [ -5.859375,  -5.859375,  -5.859375,  -5.859375,  -1.953125,\n",
        "         -1.953125,  -1.953125,  29.296875]])"
      ]
    },
    {
      "cell_type": "markdown",
      "metadata": {
        "collapsed": false,
        "id": "HIKpzFKJC7bG"
      },
      "source": [
        "## Analyze Data to Make Plot\n",
        "\n",
        "Finish this description -- mb 2022-04-16"
      ]
    },
    {
      "cell_type": "code",
      "execution_count": 8,
      "metadata": {
        "colab": {
          "base_uri": "https://localhost:8080/",
          "height": 299
        },
        "id": "CfSFKame78Cp",
        "outputId": "d7ba01e0-4292-4797-c2c1-37002da67413"
      },
      "outputs": [
        {
          "output_type": "stream",
          "name": "stdout",
          "text": [
            "Samples thrown out:  15227\n"
          ]
        },
        {
          "output_type": "display_data",
          "data": {
            "text/plain": [
              "<Figure size 432x288 with 1 Axes>"
            ],
            "image/png": "[encoded data removed]"
          },
          "metadata": {
            "needs_background": "light"
          }
        }
      ],
      "source": [
        "ratio = []\n",
        "\n",
        "ct = 0\n",
        "\n",
        "for i in range(1000):\n",
        "\n",
        "  rv = np.random.multivariate_normal(mean, cov).reshape((8, 1))\n",
        "  vals = config3_0(rv)\n",
        "  valid = False\n",
        "  while True:\n",
        "    if vals[0] < 0 or vals[1] < 0 or vals[2] < 0: # negative parameters\n",
        "      rv = np.random.multivariate_normal(mean, cov).reshape((8, 1))\n",
        "      vals = config3_0(rv)\n",
        "      ct += 1\n",
        "      continue\n",
        "    if np.sqrt(vals[0]*vals[1]/vals[2]) > 1: # θ_A\n",
        "      rv = np.random.multivariate_normal(mean, cov).reshape((8, 1))\n",
        "      vals = config3_0(rv)\n",
        "      ct += 1\n",
        "      continue\n",
        "    if np.sqrt(vals[0]*vals[2]/vals[1]) > 1: # θ_B\n",
        "      rv = np.random.multivariate_normal(mean, cov).reshape((8, 1))\n",
        "      vals = config3_0(rv)\n",
        "      ct += 1\n",
        "      continue\n",
        "    break\n",
        "    \n",
        "  # computing θ_A and θ_B\n",
        "  T_A = np.sqrt(vals[0]*vals[1]/vals[2])\n",
        "  T_B = np.sqrt(vals[0]*vals[2]/vals[1])\n",
        "\n",
        "  # computing d_A and d_B\n",
        "  d_A = -0.5 * np.log(T_A)\n",
        "  d_B = -0.5 * np.log(T_B)\n",
        "\n",
        "  ratio.append(d_A / (d_A + d_B))\n",
        "\n",
        "print(\"Samples thrown out: \", ct) # cases thrown out\n",
        "plt.hist(ratio, bins = 20, edgecolor = 'white')\n",
        "plt.title('d_A / (d_A + d_B)')\n",
        "plt.show()"
      ]
    },
    {
      "cell_type": "code",
      "execution_count": 4,
      "metadata": {
        "id": "IWoP436Y85Ob"
      },
      "outputs": [],
      "source": [
        ""
      ]
    }
  ],
  "metadata": {
    "colab": {
      "name": "Analytical_ML_v3_1.ipynb",
      "provenance": []
    },
    "kernelspec": {
      "argv": [
        "python",
        "-m",
        "ipykernel_launcher",
        "-f",
        "{connection_file}"
      ],
      "display_name": "Python 3 (ipykernel)",
      "env": null,
      "interrupt_mode": "signal",
      "language": "python",
      "metadata": {
        "debugger": true
      },
      "name": "python3"
    },
    "language_info": {
      "codemirror_mode": {
        "name": "ipython",
        "version": 3
      },
      "file_extension": ".py",
      "mimetype": "text/x-python",
      "name": "python",
      "nbconvert_exporter": "python",
      "pygments_lexer": "ipython3",
      "version": "3.7.3"
    },
    "name": "Analytical_ML_v3.ipynb"
  },
  "nbformat": 4,
  "nbformat_minor": 0
}