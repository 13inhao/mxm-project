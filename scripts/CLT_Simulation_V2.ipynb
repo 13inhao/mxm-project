{
  "nbformat": 4,
  "nbformat_minor": 0,
  "metadata": {
    "colab": {
      "name": "CLT_Simulation_V2.ipynb",
      "provenance": [],
      "collapsed_sections": []
    },
    "kernelspec": {
      "name": "python3",
      "display_name": "Python 3"
    },
    "language_info": {
      "name": "python"
    }
  },
  "cells": [
    {
      "cell_type": "code",
      "execution_count": 8,
      "metadata": {
        "id": "lQQcYmsFn7Oa"
      },
      "outputs": [],
      "source": [
        "import numpy as np\n",
        "import pandas as pd"
      ]
    },
    {
      "cell_type": "code",
      "source": [
        "target = np.array([[1, 1, -1, -1, 1, 1, -1, -1],\n",
        "                   [1, 1, -1, -1, -1, -1, 1, 1],\n",
        "                   [-1, 1, -1, 1, 1, -1, 1, -1]])\n",
        "\n",
        "# The two paratemters below should be adjusted before each sampling \n",
        "\n",
        "global x # \\theta_{A}*\\theta_{B}\n",
        "x = 0.5\n",
        "\n",
        "global n # length of a DNA sequence data set (sequence alignment) (one single data set)\n",
        "n = 300\n",
        "\n",
        "# n = 300 is a realistic sequenece length for small protein"
      ],
      "metadata": {
        "id": "cfHynEcKyH1O"
      },
      "execution_count": 9,
      "outputs": []
    },
    {
      "cell_type": "code",
      "source": [
        "prob = []\n",
        "for i in range(0, 8):\n",
        "  prob.append(1/8*(1+target[0, i]*target[1, i]*x))\n",
        "\n",
        "prob"
      ],
      "metadata": {
        "colab": {
          "base_uri": "https://localhost:8080/"
        },
        "id": "paEblGqtyMCw",
        "outputId": "11085e3d-d172-45cf-f9d2-f84ce25687c2"
      },
      "execution_count": 10,
      "outputs": [
        {
          "output_type": "execute_result",
          "data": {
            "text/plain": [
              "[0.1875, 0.1875, 0.1875, 0.1875, 0.0625, 0.0625, 0.0625, 0.0625]"
            ]
          },
          "metadata": {},
          "execution_count": 10
        }
      ]
    },
    {
      "cell_type": "code",
      "source": [
        "mean_vector = [n*q for q in prob] # By CLT, use Multi-Normal to approximate Multi-Nomial\n",
        "mean_vector"
      ],
      "metadata": {
        "colab": {
          "base_uri": "https://localhost:8080/"
        },
        "id": "7KrHRiz139vC",
        "outputId": "3754e9c7-2871-43c2-f264-895edc470442"
      },
      "execution_count": 11,
      "outputs": [
        {
          "output_type": "execute_result",
          "data": {
            "text/plain": [
              "[187.5, 187.5, 187.5, 187.5, 62.5, 62.5, 62.5, 62.5]"
            ]
          },
          "metadata": {},
          "execution_count": 11
        }
      ]
    },
    {
      "cell_type": "code",
      "source": [
        "covariance_matrix = [[],[],[],[],[],[],[],[]]\n",
        "for i in range(0,8):\n",
        "  for j in range(0,8):\n",
        "    covariance_matrix[i].append(-1*n*prob[i]*prob[j])\n",
        "# replace diagonal with correct terms\n",
        "for i in range(0,8):\n",
        "  covariance_matrix[i][i] = n*prob[i]*(1-prob[i])\n",
        "\n",
        "covariance_matrix = np.array(covariance_matrix)\n",
        "covariance_matrix"
      ],
      "metadata": {
        "colab": {
          "base_uri": "https://localhost:8080/"
        },
        "id": "UnWmLcrY49aS",
        "outputId": "bface700-3513-4463-8ade-1955f25785d3"
      },
      "execution_count": 12,
      "outputs": [
        {
          "output_type": "execute_result",
          "data": {
            "text/plain": [
              "array([[152.34375, -35.15625, -35.15625, -35.15625, -11.71875, -11.71875,\n",
              "        -11.71875, -11.71875],\n",
              "       [-35.15625, 152.34375, -35.15625, -35.15625, -11.71875, -11.71875,\n",
              "        -11.71875, -11.71875],\n",
              "       [-35.15625, -35.15625, 152.34375, -35.15625, -11.71875, -11.71875,\n",
              "        -11.71875, -11.71875],\n",
              "       [-35.15625, -35.15625, -35.15625, 152.34375, -11.71875, -11.71875,\n",
              "        -11.71875, -11.71875],\n",
              "       [-11.71875, -11.71875, -11.71875, -11.71875,  58.59375,  -3.90625,\n",
              "         -3.90625,  -3.90625],\n",
              "       [-11.71875, -11.71875, -11.71875, -11.71875,  -3.90625,  58.59375,\n",
              "         -3.90625,  -3.90625],\n",
              "       [-11.71875, -11.71875, -11.71875, -11.71875,  -3.90625,  -3.90625,\n",
              "         58.59375,  -3.90625],\n",
              "       [-11.71875, -11.71875, -11.71875, -11.71875,  -3.90625,  -3.90625,\n",
              "         -3.90625,  58.59375]])"
            ]
          },
          "metadata": {},
          "execution_count": 12
        }
      ]
    },
    {
      "cell_type": "code",
      "source": [
        "f_bar = np.random.multivariate_normal(mean_vector, covariance_matrix).reshape((8, 1))\n",
        "print(f_bar.T, \"\\n\") # sample from multivariate gaussian"
      ],
      "metadata": {
        "id": "gAOZYhQH8I1x",
        "colab": {
          "base_uri": "https://localhost:8080/"
        },
        "outputId": "5864e4cc-1a55-4b50-a07b-01a2ccc348aa"
      },
      "execution_count": 13,
      "outputs": [
        {
          "output_type": "stream",
          "name": "stdout",
          "text": [
            "[[187.33192393 199.49779901 179.51730071 159.88767831  72.0953697\n",
            "   66.13580245  71.43630526  64.09782005]] \n",
            "\n"
          ]
        }
      ]
    }
  ]
}