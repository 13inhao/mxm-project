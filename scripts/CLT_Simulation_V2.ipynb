{
  "nbformat": 4,
  "nbformat_minor": 0,
  "metadata": {
    "colab": {
      "name": "CLT_Simulation_V2.ipynb",
      "provenance": []
    },
    "kernelspec": {
      "name": "python3",
      "display_name": "Python 3"
    },
    "language_info": {
      "name": "python"
    }
  },
  "cells": [
    {
      "cell_type": "code",
      "execution_count": null,
      "metadata": {
        "id": "lQQcYmsFn7Oa"
      },
      "outputs": [],
      "source": [
        "import numpy as np\n",
        "import pandas as pd"
      ]
    },
    {
      "cell_type": "code",
      "source": [
        "target = np.array([[1, 1, -1, -1, 1, 1, -1, -1],\n",
        "                   [1, 1, -1, -1, -1, -1, 1, 1],\n",
        "                   [-1, 1, -1, 1, 1, -1, 1, -1]])\n",
        "\n",
        "# The two paratemters below should be adjusted before each sampling \n",
        "\n",
        "x = 0.5 # \\theta_{A}*\\theta_{B}\n",
        "n = 500 # number of the trials"
      ],
      "metadata": {
        "id": "cfHynEcKyH1O"
      },
      "execution_count": null,
      "outputs": []
    },
    {
      "cell_type": "code",
      "source": [
        "prob = []\n",
        "for i in range(0, 8):\n",
        "  prob.append(1/8*(1+target[0, i]*target[1, i]*x))\n",
        "\n",
        "prob"
      ],
      "metadata": {
        "colab": {
          "base_uri": "https://localhost:8080/"
        },
        "id": "paEblGqtyMCw",
        "outputId": "78eb0d40-bc4d-4bb5-f6af-2c5fdadcc5c2"
      },
      "execution_count": null,
      "outputs": [
        {
          "output_type": "execute_result",
          "data": {
            "text/plain": [
              "[0.1875, 0.1875, 0.1875, 0.1875, 0.0625, 0.0625, 0.0625, 0.0625]"
            ]
          },
          "metadata": {},
          "execution_count": 35
        }
      ]
    },
    {
      "cell_type": "code",
      "source": [
        "mean_vector = [n*q for q in prob] # By CLT, use Multi-Normal to approximate Multi-Nomial\n",
        "mean_vector"
      ],
      "metadata": {
        "colab": {
          "base_uri": "https://localhost:8080/"
        },
        "id": "7KrHRiz139vC",
        "outputId": "93ebb283-39c6-4feb-9b1d-6d7be91c5bf4"
      },
      "execution_count": null,
      "outputs": [
        {
          "output_type": "execute_result",
          "data": {
            "text/plain": [
              "[93.75, 93.75, 93.75, 93.75, 31.25, 31.25, 31.25, 31.25]"
            ]
          },
          "metadata": {},
          "execution_count": 36
        }
      ]
    },
    {
      "cell_type": "code",
      "source": [
        "covariance_matrix = [[],[],[],[],[],[],[],[]]\n",
        "for i in range(0,8):\n",
        "  for j in range(0,8):\n",
        "    covariance_matrix[i].append(-1*n*prob[i]*prob[j])\n",
        "# replace diagonal with correct terms\n",
        "for k in range(0,8):\n",
        "  covariance_matrix[k][k] = n*prob[k]*(1-prob[k])\n",
        "\n",
        "covariance_matrix = np.array(covariance_matrix)\n",
        "covariance_matrix"
      ],
      "metadata": {
        "colab": {
          "base_uri": "https://localhost:8080/"
        },
        "id": "UnWmLcrY49aS",
        "outputId": "e5d8cdaf-ff7e-42a5-a51a-6e6eb44c67cc"
      },
      "execution_count": null,
      "outputs": [
        {
          "output_type": "execute_result",
          "data": {
            "text/plain": [
              "array([[ 76.171875, -17.578125, -17.578125, -17.578125,  -5.859375,\n",
              "         -5.859375,  -5.859375,  -5.859375],\n",
              "       [-17.578125,  76.171875, -17.578125, -17.578125,  -5.859375,\n",
              "         -5.859375,  -5.859375,  -5.859375],\n",
              "       [-17.578125, -17.578125,  76.171875, -17.578125,  -5.859375,\n",
              "         -5.859375,  -5.859375,  -5.859375],\n",
              "       [-17.578125, -17.578125, -17.578125,  76.171875,  -5.859375,\n",
              "         -5.859375,  -5.859375,  -5.859375],\n",
              "       [ -5.859375,  -5.859375,  -5.859375,  -5.859375,  29.296875,\n",
              "         -1.953125,  -1.953125,  -1.953125],\n",
              "       [ -5.859375,  -5.859375,  -5.859375,  -5.859375,  -1.953125,\n",
              "         29.296875,  -1.953125,  -1.953125],\n",
              "       [ -5.859375,  -5.859375,  -5.859375,  -5.859375,  -1.953125,\n",
              "         -1.953125,  29.296875,  -1.953125],\n",
              "       [ -5.859375,  -5.859375,  -5.859375,  -5.859375,  -1.953125,\n",
              "         -1.953125,  -1.953125,  29.296875]])"
            ]
          },
          "metadata": {},
          "execution_count": 37
        }
      ]
    },
    {
      "cell_type": "code",
      "source": [
        "f_bar = np.random.multivariate_normal(mean_vector, covariance_matrix).reshape((8, 1))\n",
        "print(f_bar.T, \"\\n\") # sample from multivariate gaussian"
      ],
      "metadata": {
        "id": "gAOZYhQH8I1x",
        "colab": {
          "base_uri": "https://localhost:8080/"
        },
        "outputId": "93294be5-c760-4a92-a158-1ee1046de338"
      },
      "execution_count": null,
      "outputs": [
        {
          "output_type": "stream",
          "name": "stdout",
          "text": [
            "[[ 90.1322915   90.71488375  96.52633148 103.89462212  26.35266236\n",
            "   30.65454486  27.62996899  34.09469495]] \n",
            "\n"
          ]
        }
      ]
    }
  ]
}