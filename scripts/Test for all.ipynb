{
 "cells": [
  {
   "cell_type": "code",
   "execution_count": 1,
   "id": "0b7d7760",
   "metadata": {},
   "outputs": [
    {
     "data": {
      "text/plain": [
       "1000000000"
      ]
     },
     "execution_count": 1,
     "metadata": {},
     "output_type": "execute_result"
    }
   ],
   "source": [
    "obs1 = [-1 -1 -1 -1 -1 -1 -1 -1 +1 +1 +1 +1 +1 +1 +1 +1; \n",
    "                -1 -1 -1 -1 +1 +1 +1 +1 -1 -1 -1 -1 +1 +1 +1 +1;\n",
    "        -1 -1 +1 +1 -1 -1 +1 +1 -1 -1 +1 +1 -1 -1 +1 +1;\n",
    "    -1 +1 -1 +1 -1 +1 -1 +1 -1 +1 -1 +1 -1 +1 -1 +1]\n",
    "\n",
    "\n",
    "k = 1000000000\n"
   ]
  },
  {
   "cell_type": "code",
   "execution_count": 2,
   "id": "8df90c96",
   "metadata": {},
   "outputs": [
    {
     "name": "stderr",
     "output_type": "stream",
     "text": [
      "\u001b[32m\u001b[1m    Updating\u001b[22m\u001b[39m registry at `~/.julia/registries/General`\n",
      "\u001b[32m\u001b[1m   Resolving\u001b[22m\u001b[39m package versions...\n",
      "\u001b[32m\u001b[1m  No Changes\u001b[22m\u001b[39m to `~/.julia/environments/v1.6/Project.toml`\n",
      "\u001b[32m\u001b[1m  No Changes\u001b[22m\u001b[39m to `~/.julia/environments/v1.6/Manifest.toml`\n"
     ]
    }
   ],
   "source": [
    "import Pkg; Pkg.add(\"Ipopt\")"
   ]
  },
  {
   "cell_type": "markdown",
   "id": "fa9c865d",
   "metadata": {},
   "source": [
    "This is Z6 which will used the fixed data for compartion to the mates' results."
   ]
  },
  {
   "cell_type": "code",
   "execution_count": 3,
   "id": "159639de",
   "metadata": {},
   "outputs": [
    {
     "name": "stderr",
     "output_type": "stream",
     "text": [
      "\u001b[32m\u001b[1m   Resolving\u001b[22m\u001b[39m package versions...\n",
      "\u001b[32m\u001b[1m  No Changes\u001b[22m\u001b[39m to `~/.julia/environments/v1.6/Project.toml`\n",
      "\u001b[32m\u001b[1m  No Changes\u001b[22m\u001b[39m to `~/.julia/environments/v1.6/Manifest.toml`\n"
     ]
    }
   ],
   "source": [
    "import Pkg; Pkg.add(\"JuMP\")"
   ]
  },
  {
   "cell_type": "markdown",
   "id": "053e9380",
   "metadata": {},
   "source": [
    "This is case 1"
   ]
  },
  {
   "cell_type": "code",
   "execution_count": 4,
   "id": "f54d085e",
   "metadata": {},
   "outputs": [],
   "source": [
    "using Ipopt,JuMP,LinearAlgebra,Distributions"
   ]
  },
  {
   "cell_type": "code",
   "execution_count": 5,
   "id": "df62aa35",
   "metadata": {},
   "outputs": [
    {
     "data": {
      "text/plain": [
       "test1 (generic function with 1 method)"
      ]
     },
     "execution_count": 5,
     "metadata": {},
     "output_type": "execute_result"
    }
   ],
   "source": [
    "function test1(freqtest,e,q)\n",
    "model = Model(Ipopt.Optimizer)\n",
    "@variable(model,x1>=0)\n",
    "@variable(model,x2>=0)\n",
    "@variable(model,x3>=0)\n",
    "@variable(model,x4>=0)\n",
    "@variable(model,x5>=0)\n",
    "#set each one variable to be larger than 0\n",
    "@constraint(model,x1<=1)\n",
    "@constraint(model,x2<=1)\n",
    "@constraint(model,x3<=sqrt(k))\n",
    "@constraint(model,x4<=sqrt(k))\n",
    "@constraint(model,x5<=1)\n",
    "@NLconstraint(model,x1*x2*x5 == e)\n",
    "@NLobjective(model, Min, 1/2*sum(((freqtest[i]-obs1[1,i]*obs1[3,i]*x1*x3\n",
    "                -obs1[2,i]*obs1[4,i]*x2*x4\n",
    "                -obs1[1,i]*obs1[4,i]*x1*x5*x4\n",
    "                -obs1[2,i]*obs1[3,i]*x2*x5*x3)^2)/q[i] for i in 1:16))\n",
    "optimize!(model)\n",
    "status = termination_status(model)\n",
    "asdgf =objective_value(model)\n",
    "    return objective_value(model)\n",
    "end"
   ]
  },
  {
   "cell_type": "code",
   "execution_count": 6,
   "id": "4657bde6",
   "metadata": {},
   "outputs": [
    {
     "data": {
      "text/plain": [
       "test11 (generic function with 1 method)"
      ]
     },
     "execution_count": 6,
     "metadata": {},
     "output_type": "execute_result"
    }
   ],
   "source": [
    "function test11(freqtest,e,q)\n",
    "model = Model(Ipopt.Optimizer)\n",
    "@variable(model,x2>=0)\n",
    "@variable(model,x3>=0)\n",
    "@variable(model,x4>=0)\n",
    "@variable(model,x5>=0)\n",
    "#set each one variable to be larger than 0\n",
    "@constraint(model,x2<=1)\n",
    "@constraint(model,x3<=sqrt(k))\n",
    "@constraint(model,x4<=sqrt(k))\n",
    "@constraint(model,x5<=1)\n",
    "@NLconstraint(model,x2*x5 == e)\n",
    "@NLobjective(model, Min, 1/2*sum(((freqtest[i]-obs1[1,i]*obs1[3,i]*x3\n",
    "                -obs1[2,i]*obs1[4,i]*x2*x4\n",
    "                -obs1[1,i]*obs1[4,i]*x5*x4\n",
    "                -obs1[2,i]*obs1[3,i]*x2*x5*x3)^2)/q[i] for i in 1:16))\n",
    "optimize!(model)\n",
    "status = termination_status(model)\n",
    "asdgf =objective_value(model)\n",
    "    return objective_value(model)\n",
    "end"
   ]
  },
  {
   "cell_type": "code",
   "execution_count": 7,
   "id": "e00bc0bf",
   "metadata": {},
   "outputs": [
    {
     "data": {
      "text/plain": [
       "test12 (generic function with 1 method)"
      ]
     },
     "execution_count": 7,
     "metadata": {},
     "output_type": "execute_result"
    }
   ],
   "source": [
    "function test12(freqtest,e,q)\n",
    "model = Model(Ipopt.Optimizer)\n",
    "@variable(model,x1>=0)\n",
    "@variable(model,x3>=0)\n",
    "@variable(model,x4>=0)\n",
    "@variable(model,x5>=0)\n",
    "#set each one variable to be larger than 0\n",
    "@constraint(model,x1<=1)\n",
    "@constraint(model,x3<=sqrt(k))\n",
    "@constraint(model,x4<=sqrt(k))\n",
    "@constraint(model,x5<=1)\n",
    "@NLconstraint(model,x1*x5 == e)\n",
    "@NLobjective(model, Min, 1/2*sum(((freqtest[i]-obs1[1,i]*obs1[3,i]*x1*x3\n",
    "                -obs1[2,i]*obs1[4,i]*x4\n",
    "                -obs1[1,i]*obs1[4,i]*x1*x5*x4\n",
    "                -obs1[2,i]*obs1[3,i]*x5*x3)^2)/q[i] for i in 1:16))\n",
    "optimize!(model)\n",
    "status = termination_status(model)\n",
    "asdgf =objective_value(model)\n",
    "    return objective_value(model)\n",
    "end"
   ]
  },
  {
   "cell_type": "code",
   "execution_count": 8,
   "id": "5c3d5312",
   "metadata": {},
   "outputs": [
    {
     "data": {
      "text/plain": [
       "test13 (generic function with 1 method)"
      ]
     },
     "execution_count": 8,
     "metadata": {},
     "output_type": "execute_result"
    }
   ],
   "source": [
    "function test13(freqtest,e,q)\n",
    "model = Model(Ipopt.Optimizer)\n",
    "@variable(model,x1>=0)\n",
    "@variable(model,x2>=0)\n",
    "@variable(model,x4>=0)\n",
    "@variable(model,x5>=0)\n",
    "#set each one variable to be larger than 0\n",
    "@constraint(model,x1<=1)\n",
    "@constraint(model,x2<=1)\n",
    "@constraint(model,x4<=sqrt(k))\n",
    "@constraint(model,x5<=1)\n",
    "@NLconstraint(model,x1*x2*x5 == e)\n",
    "@NLobjective(model, Min, 1/2*sum(((freqtest[i]-obs1[1,i]*obs1[3,i]*0\n",
    "                -obs1[2,i]*obs1[4,i]*x2*x4\n",
    "                -obs1[1,i]*obs1[4,i]*x1*x5*x4\n",
    "                -obs1[2,i]*obs1[3,i]*0)^2)/q[i] for i in 1:16))\n",
    "optimize!(model)\n",
    "status = termination_status(model)\n",
    "asdgf =objective_value(model)\n",
    "    return objective_value(model)\n",
    "end"
   ]
  },
  {
   "cell_type": "code",
   "execution_count": 9,
   "id": "e6a457f8",
   "metadata": {},
   "outputs": [
    {
     "data": {
      "text/plain": [
       "test14 (generic function with 1 method)"
      ]
     },
     "execution_count": 9,
     "metadata": {},
     "output_type": "execute_result"
    }
   ],
   "source": [
    "function test14(freqtest,e,q)\n",
    "model = Model(Ipopt.Optimizer)\n",
    "@variable(model,x1>=0)\n",
    "@variable(model,x2>=0)\n",
    "@variable(model,x3>=0)\n",
    "@variable(model,x5>=0)\n",
    "#set each one variable to be larger than 0\n",
    "@constraint(model,x1<=1)\n",
    "@constraint(model,x2<=1)\n",
    "@constraint(model,x3<=sqrt(k))\n",
    "@constraint(model,x5<=1)\n",
    "@NLconstraint(model,x1*x2*x5 == e)\n",
    "@NLobjective(model, Min, 1/2*sum(((freqtest[i]-obs1[1,i]*obs1[3,i]*x1*x3\n",
    "                -obs1[2,i]*obs1[4,i]*0\n",
    "                -obs1[1,i]*obs1[4,i]*0\n",
    "                -obs1[2,i]*obs1[3,i]*x2*x5*x3)^2)/q[i] for i in 1:16))\n",
    "optimize!(model)\n",
    "status = termination_status(model)\n",
    "asdgf =objective_value(model)\n",
    "    return objective_value(model)\n",
    "end"
   ]
  },
  {
   "cell_type": "code",
   "execution_count": 10,
   "id": "a1a360f4",
   "metadata": {},
   "outputs": [
    {
     "data": {
      "text/plain": [
       "test15 (generic function with 1 method)"
      ]
     },
     "execution_count": 10,
     "metadata": {},
     "output_type": "execute_result"
    }
   ],
   "source": [
    "function test15(freqtest,e,q)\n",
    "model = Model(Ipopt.Optimizer)\n",
    "@variable(model,x1>=0)\n",
    "@variable(model,x2>=0)\n",
    "@variable(model,x3>=0)\n",
    "@variable(model,x4>=0)\n",
    "#set each one variable to be larger than 0\n",
    "@constraint(model,x1<=1)\n",
    "@constraint(model,x2<=1)\n",
    "@constraint(model,x3<=sqrt(k))\n",
    "@constraint(model,x4<=sqrt(k))\n",
    "@NLconstraint(model,x1*x2 == e)\n",
    "@NLobjective(model, Min, 1/2*sum(((freqtest[i]-obs1[1,i]*obs1[3,i]*x1*x3\n",
    "                -obs1[2,i]*obs1[4,i]*x2*x4\n",
    "                -obs1[1,i]*obs1[4,i]*x1*x4\n",
    "                -obs1[2,i]*obs1[3,i]*x2*x3)^2)/q[i] for i in 1:16))\n",
    "optimize!(model)\n",
    "status = termination_status(model)\n",
    "asdgf =objective_value(model)\n",
    "    return objective_value(model)\n",
    "end"
   ]
  },
  {
   "cell_type": "code",
   "execution_count": 11,
   "id": "af3ab4f7",
   "metadata": {},
   "outputs": [
    {
     "data": {
      "text/plain": [
       "test111 (generic function with 1 method)"
      ]
     },
     "execution_count": 11,
     "metadata": {},
     "output_type": "execute_result"
    }
   ],
   "source": [
    "function test111(freqtest,e,q)\n",
    "model = Model(Ipopt.Optimizer)\n",
    "@variable(model,x2>=0)\n",
    "@variable(model,x4>=0)\n",
    "@variable(model,x5>=0)\n",
    "#set each one variable to be larger than 0\n",
    "@constraint(model,x2<=1)\n",
    "@constraint(model,x4<=sqrt(k))\n",
    "@constraint(model,x5<=1)\n",
    "@NLconstraint(model,x2*x5 == e)\n",
    "@NLobjective(model, Min, 1/2*sum(((freqtest[i]-obs1[1,i]*obs1[3,i]*0\n",
    "                -obs1[2,i]*obs1[4,i]*x2*x4\n",
    "                -obs1[1,i]*obs1[4,i]*x5*x4\n",
    "                -obs1[2,i]*obs1[3,i]*0)^2)/q[i] for i in 1:16))\n",
    "optimize!(model)\n",
    "status = termination_status(model)\n",
    "asdgf =objective_value(model)\n",
    "    return objective_value(model)\n",
    "end"
   ]
  },
  {
   "cell_type": "code",
   "execution_count": 12,
   "id": "fc23a5a3",
   "metadata": {},
   "outputs": [
    {
     "data": {
      "text/plain": [
       "test112 (generic function with 1 method)"
      ]
     },
     "execution_count": 12,
     "metadata": {},
     "output_type": "execute_result"
    }
   ],
   "source": [
    "function test112(freqtest,e,q)\n",
    "model = Model(Ipopt.Optimizer)\n",
    "@variable(model,x2>=0)\n",
    "@variable(model,x3>=0)\n",
    "@variable(model,x5>=0)\n",
    "#set each one variable to be larger than 0\n",
    "@constraint(model,x2<=1)\n",
    "@constraint(model,x3<=sqrt(k))\n",
    "@constraint(model,x5<=1)\n",
    "@NLconstraint(model,x2*x5 == e)\n",
    "@NLobjective(model, Min, 1/2*sum(((freqtest[i]-obs1[1,i]*obs1[3,i]*x3\n",
    "                -obs1[2,i]*obs1[4,i]*0\n",
    "                -obs1[1,i]*obs1[4,i]*0\n",
    "                -obs1[2,i]*obs1[3,i]*x2*x5*x3)^2)/q[i] for i in 1:16))\n",
    "optimize!(model)\n",
    "status = termination_status(model)\n",
    "asdgf =objective_value(model)\n",
    "    return objective_value(model)\n",
    "end"
   ]
  },
  {
   "cell_type": "code",
   "execution_count": 13,
   "id": "a38ae0fc",
   "metadata": {},
   "outputs": [
    {
     "data": {
      "text/plain": [
       "test113 (generic function with 1 method)"
      ]
     },
     "execution_count": 13,
     "metadata": {},
     "output_type": "execute_result"
    }
   ],
   "source": [
    "function test113(freqtest,e,q)\n",
    "model = Model(Ipopt.Optimizer)\n",
    "@variable(model,x1>=0)\n",
    "@variable(model,x4>=0)\n",
    "@variable(model,x5>=0)\n",
    "#set each one variable to be larger than 0\n",
    "@constraint(model,x1<=1)\n",
    "@constraint(model,x4<=sqrt(k))\n",
    "@constraint(model,x5<=1)\n",
    "@NLconstraint(model,x1*x5 == e)\n",
    "@NLobjective(model, Min, 1/2*sum(((freqtest[i]-obs1[1,i]*obs1[3,i]*0\n",
    "                -obs1[2,i]*obs1[4,i]*x4\n",
    "                -obs1[1,i]*obs1[4,i]*x1*x5*x4\n",
    "                -obs1[2,i]*obs1[3,i]*0)^2)/q[i] for i in 1:16))\n",
    "optimize!(model)\n",
    "status = termination_status(model)\n",
    "asdgf =objective_value(model)\n",
    "    return objective_value(model)\n",
    "end"
   ]
  },
  {
   "cell_type": "code",
   "execution_count": 14,
   "id": "4a46ede2",
   "metadata": {},
   "outputs": [
    {
     "data": {
      "text/plain": [
       "test114 (generic function with 1 method)"
      ]
     },
     "execution_count": 14,
     "metadata": {},
     "output_type": "execute_result"
    }
   ],
   "source": [
    "function test114(freqtest,e,q)\n",
    "model = Model(Ipopt.Optimizer)\n",
    "@variable(model,x1>=0)\n",
    "@variable(model,x3>=0)\n",
    "@variable(model,x5>=0)\n",
    "#set each one variable to be larger than 0\n",
    "@constraint(model,x1<=1)\n",
    "@constraint(model,x3<=sqrt(k))\n",
    "@constraint(model,x5<=1)\n",
    "@NLconstraint(model,x1*x5 == e)\n",
    "@NLobjective(model, Min, 1/2*sum(((freqtest[i]-obs1[1,i]*obs1[3,i]*x1*x3\n",
    "                -obs1[2,i]*obs1[4,i]*0\n",
    "                -obs1[1,i]*obs1[4,i]*0\n",
    "                -obs1[2,i]*obs1[3,i]*x5*x3)^2)/q[i] for i in 1:16))\n",
    "optimize!(model)\n",
    "status = termination_status(model)\n",
    "asdgf =objective_value(model)\n",
    "    return objective_value(model)\n",
    "end"
   ]
  },
  {
   "cell_type": "code",
   "execution_count": 15,
   "id": "55efcabc",
   "metadata": {},
   "outputs": [
    {
     "data": {
      "text/plain": [
       "test115 (generic function with 1 method)"
      ]
     },
     "execution_count": 15,
     "metadata": {},
     "output_type": "execute_result"
    }
   ],
   "source": [
    "function test115(freqtest,e,q)\n",
    "model = Model(Ipopt.Optimizer)\n",
    "@variable(model,x1>=0)\n",
    "@variable(model,x2>=0)\n",
    "@variable(model,x4>=0)\n",
    "#set each one variable to be larger than 0\n",
    "@constraint(model,x1<=1)\n",
    "@constraint(model,x2<=1)\n",
    "@constraint(model,x4<=sqrt(k))\n",
    "@NLconstraint(model,x1*x2 == e)\n",
    "@NLobjective(model, Min, 1/2*sum(((freqtest[i]-obs1[1,i]*obs1[3,i]*0\n",
    "                -obs1[2,i]*obs1[4,i]*x2*x4\n",
    "                -obs1[1,i]*obs1[4,i]*x1*x4\n",
    "                -obs1[2,i]*obs1[3,i]*0)^2)/q[i] for i in 1:16))\n",
    "optimize!(model)\n",
    "status = termination_status(model)\n",
    "asdgf =objective_value(model)\n",
    "    return objective_value(model)\n",
    "end"
   ]
  },
  {
   "cell_type": "code",
   "execution_count": 16,
   "id": "744292ec",
   "metadata": {},
   "outputs": [
    {
     "data": {
      "text/plain": [
       "test116 (generic function with 1 method)"
      ]
     },
     "execution_count": 16,
     "metadata": {},
     "output_type": "execute_result"
    }
   ],
   "source": [
    "function test116(freqtest,e,q)\n",
    "model = Model(Ipopt.Optimizer)\n",
    "@variable(model,x1>=0)\n",
    "@variable(model,x2>=0)\n",
    "@variable(model,x3>=0)\n",
    "#set each one variable to be larger than 0\n",
    "@constraint(model,x1<=1)\n",
    "@constraint(model,x2<=1)\n",
    "@constraint(model,x3<=sqrt(k))\n",
    "@NLconstraint(model,x1*x2 == e)\n",
    "@NLobjective(model, Min, 1/2*sum(((freqtest[i]-obs1[1,i]*obs1[3,i]*x1*x3\n",
    "                -obs1[2,i]*obs1[4,i]*0\n",
    "                -obs1[1,i]*obs1[4,i]*0\n",
    "                -obs1[2,i]*obs1[3,i]*x2*x3)^2)/q[i] for i in 1:16))\n",
    "optimize!(model)\n",
    "status = termination_status(model)\n",
    "asdgf =objective_value(model)\n",
    "    return objective_value(model)\n",
    "end"
   ]
  },
  {
   "cell_type": "code",
   "execution_count": 17,
   "id": "461adad7",
   "metadata": {},
   "outputs": [
    {
     "data": {
      "text/plain": [
       "test117 (generic function with 1 method)"
      ]
     },
     "execution_count": 17,
     "metadata": {},
     "output_type": "execute_result"
    }
   ],
   "source": [
    "function test117(freqtest,e,q)\n",
    "model = Model(Ipopt.Optimizer)\n",
    "@variable(model,x3>=0)\n",
    "@variable(model,x4>=0)\n",
    "@variable(model,x5>=0)\n",
    "#set each one variable to be larger than 0\n",
    "@constraint(model,x3<=sqrt(k))\n",
    "@constraint(model,x4<=sqrt(k))\n",
    "@constraint(model,x5<=1)\n",
    "@NLconstraint(model,x5 == e)\n",
    "@NLobjective(model, Min, 1/2*sum(((freqtest[i]-obs1[1,i]*obs1[3,i]*x3\n",
    "                -obs1[2,i]*obs1[4,i]*x4\n",
    "                -obs1[1,i]*obs1[4,i]*x5*x4\n",
    "                -obs1[2,i]*obs1[3,i]*x5*x3)^2)/q[i] for i in 1:16))\n",
    "optimize!(model)\n",
    "status = termination_status(model)\n",
    "asdgf =objective_value(model)\n",
    "    return objective_value(model)\n",
    "end"
   ]
  },
  {
   "cell_type": "code",
   "execution_count": 18,
   "id": "9fe80f89",
   "metadata": {},
   "outputs": [
    {
     "data": {
      "text/plain": [
       "test118 (generic function with 1 method)"
      ]
     },
     "execution_count": 18,
     "metadata": {},
     "output_type": "execute_result"
    }
   ],
   "source": [
    "function test118(freqtest,e,q)\n",
    "model = Model(Ipopt.Optimizer)\n",
    "@variable(model,x1>=0)\n",
    "@variable(model,x3>=0)\n",
    "@variable(model,x4>=0)\n",
    "#set each one variable to be larger than 0\n",
    "@constraint(model,x1<=1)\n",
    "@constraint(model,x3<=sqrt(k))\n",
    "@constraint(model,x4<=sqrt(k))\n",
    "@NLconstraint(model,x1 == e)\n",
    "@NLobjective(model, Min, 1/2*sum(((freqtest[i]-obs1[1,i]*obs1[3,i]*x1*x3\n",
    "                -obs1[2,i]*obs1[4,i]*x4\n",
    "                -obs1[1,i]*obs1[4,i]*x1*x4\n",
    "                -obs1[2,i]*obs1[3,i]*x3)^2)/q[i] for i in 1:16))\n",
    "optimize!(model)\n",
    "status = termination_status(model)\n",
    "asdgf =objective_value(model)\n",
    "    return objective_value(model)\n",
    "end"
   ]
  },
  {
   "cell_type": "code",
   "execution_count": 19,
   "id": "152984b0",
   "metadata": {},
   "outputs": [
    {
     "data": {
      "text/plain": [
       "test119 (generic function with 1 method)"
      ]
     },
     "execution_count": 19,
     "metadata": {},
     "output_type": "execute_result"
    }
   ],
   "source": [
    "function test119(freqtest,e,q)\n",
    "model = Model(Ipopt.Optimizer)\n",
    "@variable(model,x2>=0)\n",
    "@variable(model,x3>=0)\n",
    "@variable(model,x4>=0)\n",
    "#set each one variable to be larger than 0\n",
    "@constraint(model,x2<=1)\n",
    "@constraint(model,x3<=sqrt(k))\n",
    "@constraint(model,x4<=sqrt(k))\n",
    "@NLconstraint(model,x2 == e)\n",
    "@NLobjective(model, Min, 1/2*sum(((freqtest[i]-obs1[1,i]*obs1[3,i]*x3\n",
    "                -obs1[2,i]*obs1[4,i]*x2*x4\n",
    "                -obs1[1,i]*obs1[4,i]*x4\n",
    "                -obs1[2,i]*obs1[3,i]*x2*x3)^2)/q[i] for i in 1:16))\n",
    "optimize!(model)\n",
    "status = termination_status(model)\n",
    "asdgf =objective_value(model)\n",
    "    return objective_value(model)\n",
    "end"
   ]
  },
  {
   "cell_type": "code",
   "execution_count": 20,
   "id": "aaabb8e6",
   "metadata": {},
   "outputs": [
    {
     "data": {
      "text/plain": [
       "test1111 (generic function with 1 method)"
      ]
     },
     "execution_count": 20,
     "metadata": {},
     "output_type": "execute_result"
    }
   ],
   "source": [
    "function test1111(freqtest,e,q)\n",
    "model = Model(Ipopt.Optimizer)\n",
    "@variable(model,x4>=0)\n",
    "@variable(model,x5>=0)\n",
    "#set each one variable to be larger than 0\n",
    "@constraint(model,x4<=sqrt(k))\n",
    "@constraint(model,x5<=1)\n",
    "@NLconstraint(model,x5 == e)\n",
    "@NLobjective(model, Min, 1/2*sum(((freqtest[i]-obs1[1,i]*obs1[3,i]*0\n",
    "                -obs1[2,i]*obs1[4,i]*x4\n",
    "                -obs1[1,i]*obs1[4,i]*x5*x4\n",
    "                -obs1[2,i]*obs1[3,i]*0)^2)/q[i] for i in 1:16))\n",
    "optimize!(model)\n",
    "status = termination_status(model)\n",
    "asdgf =objective_value(model)\n",
    "    return objective_value(model)\n",
    "end"
   ]
  },
  {
   "cell_type": "code",
   "execution_count": 21,
   "id": "4e81e983",
   "metadata": {},
   "outputs": [
    {
     "data": {
      "text/plain": [
       "test1112 (generic function with 1 method)"
      ]
     },
     "execution_count": 21,
     "metadata": {},
     "output_type": "execute_result"
    }
   ],
   "source": [
    "function test1112(freqtest,e,q)\n",
    "model = Model(Ipopt.Optimizer)\n",
    "@variable(model,x3>=0)\n",
    "@variable(model,x5>=0)\n",
    "#set each one variable to be larger than 0\n",
    "@constraint(model,x3<=sqrt(k))\n",
    "@constraint(model,x5<=1)\n",
    "@NLconstraint(model,x5 == e)\n",
    "@NLobjective(model, Min, 1/2*sum(((freqtest[i]-obs1[1,i]*obs1[3,i]*x3\n",
    "                -obs1[2,i]*obs1[4,i]*0\n",
    "                -obs1[1,i]*obs1[4,i]*0\n",
    "                -obs1[2,i]*obs1[3,i]*x5*x3)^2)/q[i] for i in 1:16))\n",
    "optimize!(model)\n",
    "status = termination_status(model)\n",
    "asdgf =objective_value(model)\n",
    "    return objective_value(model)\n",
    "end"
   ]
  },
  {
   "cell_type": "code",
   "execution_count": 22,
   "id": "08214706",
   "metadata": {},
   "outputs": [
    {
     "data": {
      "text/plain": [
       "test1113 (generic function with 1 method)"
      ]
     },
     "execution_count": 22,
     "metadata": {},
     "output_type": "execute_result"
    }
   ],
   "source": [
    "function test1113(freqtest,e,q)\n",
    "model = Model(Ipopt.Optimizer)\n",
    "@variable(model,x1>=0)\n",
    "@variable(model,x4>=0)\n",
    "#set each one variable to be larger than 0\n",
    "@constraint(model,x1<=1)\n",
    "@constraint(model,x4<=sqrt(k))\n",
    "@NLconstraint(model,x1 == e)\n",
    "@NLobjective(model, Min, 1/2*sum(((freqtest[i]-obs1[1,i]*obs1[3,i]*0\n",
    "                -obs1[2,i]*obs1[4,i]*x4\n",
    "                -obs1[1,i]*obs1[4,i]*x1*x4\n",
    "                -obs1[2,i]*obs1[3,i]*0)^2)/q[i] for i in 1:16))\n",
    "optimize!(model)\n",
    "status = termination_status(model)\n",
    "asdgf =objective_value(model)\n",
    "    return objective_value(model)\n",
    "end"
   ]
  },
  {
   "cell_type": "code",
   "execution_count": 23,
   "id": "c267c0e9",
   "metadata": {},
   "outputs": [
    {
     "data": {
      "text/plain": [
       "test1114 (generic function with 1 method)"
      ]
     },
     "execution_count": 23,
     "metadata": {},
     "output_type": "execute_result"
    }
   ],
   "source": [
    "function test1114(freqtest,e,q)\n",
    "model = Model(Ipopt.Optimizer)\n",
    "@variable(model,x1>=0)\n",
    "@variable(model,x3>=0)\n",
    "#set each one variable to be larger than 0\n",
    "@constraint(model,x1<=1)\n",
    "@constraint(model,x3<=sqrt(k))\n",
    "@NLconstraint(model,x1 == e)\n",
    "@NLobjective(model, Min, 1/2*sum(((freqtest[i]-obs1[1,i]*obs1[3,i]*x1*x3\n",
    "                -obs1[2,i]*obs1[4,i]*0\n",
    "                -obs1[1,i]*obs1[4,i]*0\n",
    "                -obs1[2,i]*obs1[3,i]*x3)^2)/q[i] for i in 1:16))\n",
    "optimize!(model)\n",
    "status = termination_status(model)\n",
    "asdgf =objective_value(model)\n",
    "    return objective_value(model)\n",
    "end"
   ]
  },
  {
   "cell_type": "code",
   "execution_count": 24,
   "id": "67205094",
   "metadata": {},
   "outputs": [
    {
     "data": {
      "text/plain": [
       "test1115 (generic function with 1 method)"
      ]
     },
     "execution_count": 24,
     "metadata": {},
     "output_type": "execute_result"
    }
   ],
   "source": [
    "function test1115(freqtest,e,q)\n",
    "model = Model(Ipopt.Optimizer)\n",
    "@variable(model,x2>=0)\n",
    "@variable(model,x3>=0)\n",
    "#set each one variable to be larger than 0\n",
    "@constraint(model,x2<=1)\n",
    "@constraint(model,x3<=sqrt(k))\n",
    "@NLconstraint(model,x2 == e)\n",
    "@NLobjective(model, Min, 1/2*sum(((freqtest[i]-obs1[1,i]*obs1[3,i]*x3\n",
    "                -obs1[2,i]*obs1[4,i]*0\n",
    "                -obs1[1,i]*obs1[4,i]*0\n",
    "                -obs1[2,i]*obs1[3,i]*x2*x3)^2)/q[i] for i in 1:16))\n",
    "optimize!(model)\n",
    "status = termination_status(model)\n",
    "asdgf =objective_value(model)\n",
    "    return objective_value(model)\n",
    "end"
   ]
  },
  {
   "cell_type": "code",
   "execution_count": 25,
   "id": "004b6001",
   "metadata": {},
   "outputs": [
    {
     "data": {
      "text/plain": [
       "test1116 (generic function with 1 method)"
      ]
     },
     "execution_count": 25,
     "metadata": {},
     "output_type": "execute_result"
    }
   ],
   "source": [
    "function test1116(freqtest,e,q)\n",
    "model = Model(Ipopt.Optimizer)\n",
    "@variable(model,x2>=0)\n",
    "@variable(model,x4>=0)\n",
    "#set each one variable to be larger than 0\n",
    "@constraint(model,x2<=1)\n",
    "@constraint(model,x4<=sqrt(k))\n",
    "@NLconstraint(model,x2 == e)\n",
    "@NLobjective(model, Min, 1/2*sum(((freqtest[i]-obs1[1,i]*obs1[3,i]*0\n",
    "                -obs1[2,i]*obs1[4,i]*x2*x4\n",
    "                -obs1[1,i]*obs1[4,i]*x4\n",
    "                -obs1[2,i]*obs1[3,i]*0)^2)/q[i] for i in 1:16))\n",
    "optimize!(model)\n",
    "status = termination_status(model)\n",
    "asdgf =objective_value(model)\n",
    "    return objective_value(model)\n",
    "end"
   ]
  },
  {
   "cell_type": "code",
   "execution_count": 26,
   "id": "c440666d",
   "metadata": {},
   "outputs": [
    {
     "data": {
      "text/plain": [
       "test2a (generic function with 1 method)"
      ]
     },
     "execution_count": 26,
     "metadata": {},
     "output_type": "execute_result"
    }
   ],
   "source": [
    "function test2a(freqtest,e,q)\n",
    "model = Model(Ipopt.Optimizer)\n",
    "@variable(model,x1>=0)\n",
    "@variable(model,x2>=0)\n",
    "@variable(model,x3>=0)\n",
    "@variable(model,x4>=0)\n",
    "@variable(model,x5>=0)\n",
    "#set each one variable to be larger than 0\n",
    "@constraint(model,x1<=1)\n",
    "@constraint(model,x2<=1)\n",
    "@constraint(model,x3<=sqrt(k))\n",
    "@constraint(model,x4<=sqrt(k))\n",
    "@constraint(model,x5<=1)\n",
    "@NLconstraint(model,x1*x2 == e)\n",
    "@NLobjective(model, Min, 1/2*sum(((freqtest[i]-obs1[1,i]*obs1[3,i]*x1*x3*x5\n",
    "                -obs1[2,i]*obs1[4,i]*x2*x4*x5\n",
    "                -obs1[1,i]*obs1[4,i]*x1*x5*x4\n",
    "                -obs1[2,i]*obs1[3,i]*x2*x5*x3)^2)/q[i] for i in 1:16))\n",
    "optimize!(model)\n",
    "status = termination_status(model)\n",
    "asdgf =objective_value(model)\n",
    "    return objective_value(model)\n",
    "end\n"
   ]
  },
  {
   "cell_type": "code",
   "execution_count": 27,
   "id": "97e98783",
   "metadata": {},
   "outputs": [
    {
     "data": {
      "text/plain": [
       "test2a1 (generic function with 1 method)"
      ]
     },
     "execution_count": 27,
     "metadata": {},
     "output_type": "execute_result"
    }
   ],
   "source": [
    "function test2a1(freqtest,e,q)\n",
    "model = Model(Ipopt.Optimizer)\n",
    "@variable(model,x2>=0)\n",
    "@variable(model,x3>=0)\n",
    "@variable(model,x4>=0)\n",
    "@variable(model,x5>=0)\n",
    "#set each one variable to be larger than 0\n",
    "@constraint(model,x2<=1)\n",
    "@constraint(model,x3<=sqrt(k))\n",
    "@constraint(model,x4<=sqrt(k))\n",
    "@constraint(model,x5<=1)\n",
    "@NLconstraint(model,x2 == e)\n",
    "@NLobjective(model, Min, 1/2*sum(((freqtest[i]-obs1[1,i]*obs1[3,i]*x3*x5\n",
    "                -obs1[2,i]*obs1[4,i]*x2*x4*x5\n",
    "                -obs1[1,i]*obs1[4,i]*x5*x4\n",
    "                -obs1[2,i]*obs1[3,i]*x2*x5*x3)^2)/q[i] for i in 1:16))\n",
    "optimize!(model)\n",
    "status = termination_status(model)\n",
    "asdgf =objective_value(model)\n",
    "    return objective_value(model)\n",
    "end"
   ]
  },
  {
   "cell_type": "code",
   "execution_count": 28,
   "id": "71d89d48",
   "metadata": {},
   "outputs": [
    {
     "data": {
      "text/plain": [
       "test2a2 (generic function with 1 method)"
      ]
     },
     "execution_count": 28,
     "metadata": {},
     "output_type": "execute_result"
    }
   ],
   "source": [
    "function test2a2(freqtest,e,q)\n",
    "model = Model(Ipopt.Optimizer)\n",
    "@variable(model,x1>=0)\n",
    "@variable(model,x3>=0)\n",
    "@variable(model,x4>=0)\n",
    "@variable(model,x5>=0)\n",
    "#set each one variable to be larger than 0\n",
    "@constraint(model,x1<=1)\n",
    "@constraint(model,x3<=sqrt(k))\n",
    "@constraint(model,x4<=sqrt(k))\n",
    "@constraint(model,x5<=1)\n",
    "@NLconstraint(model,x1 == e)\n",
    "@NLobjective(model, Min, 1/2*sum(((freqtest[i]-obs1[1,i]*obs1[3,i]*x1*x3*x5\n",
    "                -obs1[2,i]*obs1[4,i]*x4*x5\n",
    "                -obs1[1,i]*obs1[4,i]*x1*x5*x4\n",
    "                -obs1[2,i]*obs1[3,i]*x5*x3)^2)/q[i] for i in 1:16))\n",
    "optimize!(model)\n",
    "status = termination_status(model)\n",
    "asdgf =objective_value(model)\n",
    "    return objective_value(model)\n",
    "end"
   ]
  },
  {
   "cell_type": "code",
   "execution_count": 29,
   "id": "330aa57a",
   "metadata": {},
   "outputs": [
    {
     "data": {
      "text/plain": [
       "test2a3 (generic function with 1 method)"
      ]
     },
     "execution_count": 29,
     "metadata": {},
     "output_type": "execute_result"
    }
   ],
   "source": [
    "function test2a3(freqtest,e,q)\n",
    "model = Model(Ipopt.Optimizer)\n",
    "@variable(model,x1>=0)\n",
    "@variable(model,x2>=0)\n",
    "@variable(model,x4>=0)\n",
    "@variable(model,x5>=0)\n",
    "#set each one variable to be larger than 0\n",
    "@constraint(model,x1<=1)\n",
    "@constraint(model,x2<=1)\n",
    "@constraint(model,x4<=sqrt(k))\n",
    "@constraint(model,x5<=1)\n",
    "@NLconstraint(model,x1*x2 == e)\n",
    "@NLobjective(model, Min, 1/2*sum(((freqtest[i]-obs1[1,i]*obs1[3,i]*x1*0*x5\n",
    "                -obs1[2,i]*obs1[4,i]*x2*x4*x5\n",
    "                -obs1[1,i]*obs1[4,i]*x1*x5*x4\n",
    "                -obs1[2,i]*obs1[3,i]*x2*x5*0)^2)/q[i] for i in 1:16))\n",
    "optimize!(model)\n",
    "status = termination_status(model)\n",
    "asdgf =objective_value(model)\n",
    "    return objective_value(model)\n",
    "end"
   ]
  },
  {
   "cell_type": "code",
   "execution_count": 30,
   "id": "7e64d223",
   "metadata": {},
   "outputs": [
    {
     "data": {
      "text/plain": [
       "test2a4 (generic function with 1 method)"
      ]
     },
     "execution_count": 30,
     "metadata": {},
     "output_type": "execute_result"
    }
   ],
   "source": [
    "function test2a4(freqtest,e,q)\n",
    "model = Model(Ipopt.Optimizer)\n",
    "@variable(model,x1>=0)\n",
    "@variable(model,x2>=0)\n",
    "@variable(model,x3>=0)\n",
    "@variable(model,x5>=0)\n",
    "#set each one variable to be larger than 0\n",
    "@constraint(model,x1<=1)\n",
    "@constraint(model,x2<=1)\n",
    "@constraint(model,x3<=sqrt(k))\n",
    "@constraint(model,x5<=1)\n",
    "@NLconstraint(model,x1*x2 == e)\n",
    "@NLobjective(model, Min, 1/2*sum(((freqtest[i]-obs1[1,i]*obs1[3,i]*x1*x3*x5\n",
    "                -obs1[2,i]*obs1[4,i]*x2*0*x5\n",
    "                -obs1[1,i]*obs1[4,i]*x1*x5*0\n",
    "                -obs1[2,i]*obs1[3,i]*x2*x5*x3)^2)/q[i] for i in 1:16))\n",
    "optimize!(model)\n",
    "status = termination_status(model)\n",
    "asdgf =objective_value(model)\n",
    "    return objective_value(model)\n",
    "end"
   ]
  },
  {
   "cell_type": "code",
   "execution_count": 31,
   "id": "56eeb539",
   "metadata": {},
   "outputs": [
    {
     "data": {
      "text/plain": [
       "test2a5 (generic function with 1 method)"
      ]
     },
     "execution_count": 31,
     "metadata": {},
     "output_type": "execute_result"
    }
   ],
   "source": [
    "function test2a5(freqtest,e,q)\n",
    "model = Model(Ipopt.Optimizer)\n",
    "@variable(model,x1>=0)\n",
    "@variable(model,x2>=0)\n",
    "@variable(model,x3>=0)\n",
    "@variable(model,x4>=0)\n",
    "#set each one variable to be larger than 0\n",
    "@constraint(model,x1<=1)\n",
    "@constraint(model,x2<=1)\n",
    "@constraint(model,x3<=sqrt(k))\n",
    "@constraint(model,x4<=sqrt(k))\n",
    "@NLconstraint(model,x1*x2 == e)\n",
    "@NLobjective(model, Min, 1/2*sum(((freqtest[i]-obs1[1,i]*obs1[3,i]*x1*x3\n",
    "                -obs1[2,i]*obs1[4,i]*x2*x4\n",
    "                -obs1[1,i]*obs1[4,i]*x1*x4\n",
    "                -obs1[2,i]*obs1[3,i]*x2*x3)^2)/q[i] for i in 1:16))\n",
    "optimize!(model)\n",
    "status = termination_status(model)\n",
    "asdgf =objective_value(model)\n",
    "    return objective_value(model)\n",
    "end"
   ]
  },
  {
   "cell_type": "code",
   "execution_count": 32,
   "id": "f5f30dfe",
   "metadata": {},
   "outputs": [
    {
     "data": {
      "text/plain": [
       "test2a11 (generic function with 1 method)"
      ]
     },
     "execution_count": 32,
     "metadata": {},
     "output_type": "execute_result"
    }
   ],
   "source": [
    "function test2a11(freqtest,e,q)\n",
    "model = Model(Ipopt.Optimizer)\n",
    "@variable(model,x2>=0)\n",
    "@variable(model,x4>=0)\n",
    "@variable(model,x5>=0)\n",
    "#set each one variable to be larger than 0\n",
    "@constraint(model,x2<=1)\n",
    "@constraint(model,x4<=sqrt(k))\n",
    "@constraint(model,x5<=1)\n",
    "@NLconstraint(model,x2 == e)\n",
    "@NLobjective(model, Min, 1/2*sum(((freqtest[i]-obs1[1,i]*obs1[3,i]*0\n",
    "                -obs1[2,i]*obs1[4,i]*x2*x4*x5\n",
    "                -obs1[1,i]*obs1[4,i]*x5*x4\n",
    "                -obs1[2,i]*obs1[3,i]*0)^2)/q[i] for i in 1:16))\n",
    "optimize!(model)\n",
    "status = termination_status(model)\n",
    "asdgf =objective_value(model)\n",
    "    return objective_value(model)\n",
    "end"
   ]
  },
  {
   "cell_type": "code",
   "execution_count": 33,
   "id": "bceee847",
   "metadata": {},
   "outputs": [
    {
     "data": {
      "text/plain": [
       "test2a12 (generic function with 1 method)"
      ]
     },
     "execution_count": 33,
     "metadata": {},
     "output_type": "execute_result"
    }
   ],
   "source": [
    "function test2a12(freqtest,e,q)\n",
    "model = Model(Ipopt.Optimizer)\n",
    "@variable(model,x1>=0)\n",
    "@variable(model,x4>=0)\n",
    "@variable(model,x5>=0)\n",
    "#set each one variable to be larger than 0\n",
    "@constraint(model,x1<=1)\n",
    "@constraint(model,x4<=sqrt(k))\n",
    "@constraint(model,x5<=1)\n",
    "@NLconstraint(model,x1 == e)\n",
    "@NLobjective(model, Min, 1/2*sum(((freqtest[i]-obs1[1,i]*obs1[3,i]*x1*0*x5\n",
    "                -obs1[2,i]*obs1[4,i]*x4*x5\n",
    "                -obs1[1,i]*obs1[4,i]*x1*x5*x4\n",
    "                -obs1[2,i]*obs1[3,i]*x5*0)^2)/q[i] for i in 1:16))\n",
    "optimize!(model)\n",
    "status = termination_status(model)\n",
    "asdgf =objective_value(model)\n",
    "    return objective_value(model)\n",
    "end"
   ]
  },
  {
   "cell_type": "code",
   "execution_count": 34,
   "id": "4065887d",
   "metadata": {},
   "outputs": [
    {
     "data": {
      "text/plain": [
       "test2a13 (generic function with 1 method)"
      ]
     },
     "execution_count": 34,
     "metadata": {},
     "output_type": "execute_result"
    }
   ],
   "source": [
    "function test2a13(freqtest,e,q)\n",
    "model = Model(Ipopt.Optimizer)\n",
    "@variable(model,x2>=0)\n",
    "@variable(model,x3>=0)\n",
    "@variable(model,x5>=0)\n",
    "#set each one variable to be larger than 0\n",
    "@constraint(model,x2<=1)\n",
    "@constraint(model,x3<=sqrt(k))\n",
    "@constraint(model,x5<=1)\n",
    "@NLconstraint(model,x2 == e)\n",
    "@NLobjective(model, Min, 1/2*sum(((freqtest[i]-obs1[1,i]*obs1[3,i]*x3*x5\n",
    "                -obs1[2,i]*obs1[4,i]*x2*0*x5\n",
    "                -obs1[1,i]*obs1[4,i]*x5*0\n",
    "                -obs1[2,i]*obs1[3,i]*x2*x5*x3)^2)/q[i] for i in 1:16))\n",
    "optimize!(model)\n",
    "status = termination_status(model)\n",
    "asdgf =objective_value(model)\n",
    "    return objective_value(model)\n",
    "end"
   ]
  },
  {
   "cell_type": "code",
   "execution_count": 35,
   "id": "ad73092f",
   "metadata": {},
   "outputs": [
    {
     "data": {
      "text/plain": [
       "test2a14 (generic function with 1 method)"
      ]
     },
     "execution_count": 35,
     "metadata": {},
     "output_type": "execute_result"
    }
   ],
   "source": [
    "function test2a14(freqtest,e,q)\n",
    "model = Model(Ipopt.Optimizer)\n",
    "@variable(model,x1>=0)\n",
    "@variable(model,x3>=0)\n",
    "@variable(model,x5>=0)\n",
    "#set each one variable to be larger than 0\n",
    "@constraint(model,x1<=1)\n",
    "@constraint(model,x3<=sqrt(k))\n",
    "@constraint(model,x5<=1)\n",
    "@NLconstraint(model,x1 == e)\n",
    "@NLobjective(model, Min, 1/2*sum(((freqtest[i]-obs1[1,i]*obs1[3,i]*x1*x3*x5\n",
    "                -obs1[2,i]*obs1[4,i]*0\n",
    "                -obs1[1,i]*obs1[4,i]*0\n",
    "                -obs1[2,i]*obs1[3,i]*x5*x3)^2)/q[i] for i in 1:16))\n",
    "optimize!(model)\n",
    "status = termination_status(model)\n",
    "asdgf =objective_value(model)\n",
    "    return objective_value(model)\n",
    "end"
   ]
  },
  {
   "cell_type": "code",
   "execution_count": 36,
   "id": "574728b6",
   "metadata": {},
   "outputs": [
    {
     "data": {
      "text/plain": [
       "test2a15 (generic function with 1 method)"
      ]
     },
     "execution_count": 36,
     "metadata": {},
     "output_type": "execute_result"
    }
   ],
   "source": [
    "function test2a15(freqtest,e,q)\n",
    "model = Model(Ipopt.Optimizer)\n",
    "@variable(model,x2>=0)\n",
    "@variable(model,x3>=0)\n",
    "@variable(model,x4>=0)\n",
    "#set each one variable to be larger than 0\n",
    "@constraint(model,x2<=1)\n",
    "@constraint(model,x3<=sqrt(k))\n",
    "@constraint(model,x4<=sqrt(k))\n",
    "@NLconstraint(model,x2 == e)\n",
    "@NLobjective(model, Min, 1/2*sum(((freqtest[i]-obs1[1,i]*obs1[3,i]*x3\n",
    "                -obs1[2,i]*obs1[4,i]*x2*x4\n",
    "                -obs1[1,i]*obs1[4,i]*x4\n",
    "                -obs1[2,i]*obs1[3,i]*x2*x3)^2)/q[i] for i in 1:16))\n",
    "optimize!(model)\n",
    "status = termination_status(model)\n",
    "asdgf =objective_value(model)\n",
    "    return objective_value(model)\n",
    "end"
   ]
  },
  {
   "cell_type": "code",
   "execution_count": 37,
   "id": "8efe1dfc",
   "metadata": {},
   "outputs": [
    {
     "data": {
      "text/plain": [
       "test2a16 (generic function with 1 method)"
      ]
     },
     "execution_count": 37,
     "metadata": {},
     "output_type": "execute_result"
    }
   ],
   "source": [
    "function test2a16(freqtest,e,q)\n",
    "model = Model(Ipopt.Optimizer)\n",
    "@variable(model,x1>=0)\n",
    "@variable(model,x3>=0)\n",
    "@variable(model,x4>=0)\n",
    "#set each one variable to be larger than 0\n",
    "@constraint(model,x1<=1)\n",
    "@constraint(model,x3<=sqrt(k))\n",
    "@constraint(model,x4<=sqrt(k))\n",
    "@NLconstraint(model,x1== e)\n",
    "@NLobjective(model, Min, 1/2*sum(((freqtest[i]-obs1[1,i]*obs1[3,i]*x1*x3\n",
    "                -obs1[2,i]*obs1[4,i]*x4\n",
    "                -obs1[1,i]*obs1[4,i]*x1*x4\n",
    "                -obs1[2,i]*obs1[3,i]*x3)^2)/q[i] for i in 1:16))\n",
    "optimize!(model)\n",
    "status = termination_status(model)\n",
    "asdgf =objective_value(model)\n",
    "    return objective_value(model)\n",
    "end"
   ]
  },
  {
   "cell_type": "code",
   "execution_count": 38,
   "id": "294e83ca",
   "metadata": {},
   "outputs": [
    {
     "data": {
      "text/plain": [
       "test2a17 (generic function with 1 method)"
      ]
     },
     "execution_count": 38,
     "metadata": {},
     "output_type": "execute_result"
    }
   ],
   "source": [
    "function test2a17(freqtest,e,q)\n",
    "model = Model(Ipopt.Optimizer)\n",
    "@variable(model,x1>=0)\n",
    "@variable(model,x2>=0)\n",
    "@variable(model,x4>=0)\n",
    "#set each one variable to be larger than 0\n",
    "@constraint(model,x1<=1)\n",
    "@constraint(model,x2<=1)\n",
    "@constraint(model,x4<=sqrt(k))\n",
    "@NLconstraint(model,x1*x2 == e)\n",
    "@NLobjective(model, Min, 1/2*sum(((freqtest[i]-obs1[1,i]*obs1[3,i]*x1*0\n",
    "                -obs1[2,i]*obs1[4,i]*x2*x4\n",
    "                -obs1[1,i]*obs1[4,i]*x1*x4\n",
    "                -obs1[2,i]*obs1[3,i]*0)^2)/q[i] for i in 1:16))\n",
    "optimize!(model)\n",
    "status = termination_status(model)\n",
    "asdgf =objective_value(model)\n",
    "    return objective_value(model)\n",
    "end"
   ]
  },
  {
   "cell_type": "code",
   "execution_count": 39,
   "id": "da5c44c7",
   "metadata": {},
   "outputs": [
    {
     "data": {
      "text/plain": [
       "test2a18 (generic function with 1 method)"
      ]
     },
     "execution_count": 39,
     "metadata": {},
     "output_type": "execute_result"
    }
   ],
   "source": [
    "function test2a18(freqtest,e,q)\n",
    "model = Model(Ipopt.Optimizer)\n",
    "@variable(model,x1>=0)\n",
    "@variable(model,x2>=0)\n",
    "@variable(model,x3>=0)\n",
    "#set each one variable to be larger than 0\n",
    "@constraint(model,x1<=1)\n",
    "@constraint(model,x2<=1)\n",
    "@constraint(model,x3<=sqrt(k))\n",
    "@NLconstraint(model,x1*x2 == e)\n",
    "@NLobjective(model, Min, 1/2*sum(((freqtest[i]-obs1[1,i]*obs1[3,i]*x1*x3\n",
    "                -obs1[2,i]*obs1[4,i]*0\n",
    "                -obs1[1,i]*obs1[4,i]*0\n",
    "                -obs1[2,i]*obs1[3,i]*x2*x3)^2)/q[i] for i in 1:16))\n",
    "optimize!(model)\n",
    "status = termination_status(model)\n",
    "asdgf =objective_value(model)\n",
    "    return objective_value(model)\n",
    "end"
   ]
  },
  {
   "cell_type": "code",
   "execution_count": 40,
   "id": "15c980c2",
   "metadata": {},
   "outputs": [
    {
     "data": {
      "text/plain": [
       "test2b (generic function with 1 method)"
      ]
     },
     "execution_count": 40,
     "metadata": {},
     "output_type": "execute_result"
    }
   ],
   "source": [
    "function test2b(freqtest,e,q)\n",
    "model = Model(Ipopt.Optimizer)\n",
    "@variable(model,x1>=0)\n",
    "@variable(model,x2>=0)\n",
    "@variable(model,x3>=0) \n",
    "@variable(model,x4>=0)\n",
    "@variable(model,x5>=0)\n",
    "#set each one variable to be larger than 0\n",
    "@constraint(model,x1<=1)\n",
    "@constraint(model,x2<=1)\n",
    "@constraint(model,x3<=sqrt(k))\n",
    "@constraint(model,x4<=sqrt(k))\n",
    "@constraint(model,x5<=1)\n",
    "@NLconstraint(model,x1*x2 == e)\n",
    "@NLobjective(model, Min, 1/2*sum(((freqtest[i]-obs1[1,i]*obs1[3,i]*x1*x3*x5\n",
    "                -obs1[2,i]*obs1[4,i]*x2*x4*x5\n",
    "                -obs1[1,i]*obs1[4,i]*x1*x5*x4\n",
    "                -obs1[2,i]*obs1[3,i]*x2*x5*x3\n",
    "                -obs1[1,i]*obs1[2,i]*obs1[3,i]*obs1[4,i]*x1*x2*x3*x4)^2)/q[i] for i in 1:16))\n",
    "optimize!(model)\n",
    "status = termination_status(model)\n",
    "asdgf =objective_value(model)\n",
    "    return objective_value(model)\n",
    "end"
   ]
  },
  {
   "cell_type": "code",
   "execution_count": 41,
   "id": "44bd0677",
   "metadata": {},
   "outputs": [
    {
     "data": {
      "text/plain": [
       "test2b1 (generic function with 1 method)"
      ]
     },
     "execution_count": 41,
     "metadata": {},
     "output_type": "execute_result"
    }
   ],
   "source": [
    "function test2b1(freqtest,e,q)\n",
    "model = Model(Ipopt.Optimizer)\n",
    "@variable(model,x2>=0)\n",
    "@variable(model,x3>=0) \n",
    "@variable(model,x4>=0)\n",
    "@variable(model,x5>=0)\n",
    "#set each one variable to be larger than 0\n",
    "@constraint(model,x2<=1)\n",
    "@constraint(model,x3<=sqrt(k))\n",
    "@constraint(model,x4<=sqrt(k))\n",
    "@constraint(model,x5<=1)\n",
    "@NLconstraint(model,x2 == e)\n",
    "@NLobjective(model, Min, 1/2*sum(((freqtest[i]-obs1[1,i]*obs1[3,i]*x3*x5\n",
    "                -obs1[2,i]*obs1[4,i]*x2*x4*x5\n",
    "                -obs1[1,i]*obs1[4,i]*x5*x4\n",
    "                -obs1[2,i]*obs1[3,i]*x2*x5*x3\n",
    "                -obs1[1,i]*obs1[2,i]*obs1[3,i]*obs1[4,i]*x2*x3*x4)^2)/q[i] for i in 1:16))\n",
    "optimize!(model)\n",
    "status = termination_status(model)\n",
    "asdgf =objective_value(model)\n",
    "    return objective_value(model)\n",
    "end"
   ]
  },
  {
   "cell_type": "code",
   "execution_count": 42,
   "id": "23700992",
   "metadata": {},
   "outputs": [
    {
     "data": {
      "text/plain": [
       "test2b2 (generic function with 1 method)"
      ]
     },
     "execution_count": 42,
     "metadata": {},
     "output_type": "execute_result"
    }
   ],
   "source": [
    "function test2b2(freqtest,e,q)\n",
    "model = Model(Ipopt.Optimizer)\n",
    "@variable(model,x1>=0)\n",
    "@variable(model,x3>=0) \n",
    "@variable(model,x4>=0)\n",
    "@variable(model,x5>=0)\n",
    "#set each one variable to be larger than 0\n",
    "@constraint(model,x1<=1)\n",
    "@constraint(model,x3<=sqrt(k))\n",
    "@constraint(model,x4<=sqrt(k))\n",
    "@constraint(model,x5<=1)\n",
    "@NLconstraint(model,x1 == e)\n",
    "@NLobjective(model, Min, 1/2*sum(((freqtest[i]-obs1[1,i]*obs1[3,i]*x1*x3*x5\n",
    "                -obs1[2,i]*obs1[4,i]*x4*x5\n",
    "                -obs1[1,i]*obs1[4,i]*x1*x5*x4\n",
    "                -obs1[2,i]*obs1[3,i]*x5*x3\n",
    "                -obs1[1,i]*obs1[2,i]*obs1[3,i]*obs1[4,i]*x1*x3*x4)^2)/q[i] for i in 1:16))\n",
    "optimize!(model)\n",
    "status = termination_status(model)\n",
    "asdgf =objective_value(model)\n",
    "    return objective_value(model)\n",
    "end"
   ]
  },
  {
   "cell_type": "code",
   "execution_count": 43,
   "id": "950236f0",
   "metadata": {},
   "outputs": [
    {
     "data": {
      "text/plain": [
       "test2b3 (generic function with 1 method)"
      ]
     },
     "execution_count": 43,
     "metadata": {},
     "output_type": "execute_result"
    }
   ],
   "source": [
    "function test2b3(freqtest,e,q)\n",
    "model = Model(Ipopt.Optimizer)\n",
    "@variable(model,x1>=0)\n",
    "@variable(model,x2>=0)\n",
    "@variable(model,x4>=0)\n",
    "@variable(model,x5>=0)\n",
    "#set each one variable to be larger than 0\n",
    "@constraint(model,x1<=1)\n",
    "@constraint(model,x2<=1)\n",
    "@constraint(model,x4<=sqrt(k))\n",
    "@constraint(model,x5<=1)\n",
    "@NLconstraint(model,x1*x2 == e)\n",
    "@NLobjective(model, Min, 1/2*sum(((freqtest[i]-obs1[1,i]*obs1[3,i]*x1*0*x5\n",
    "                -obs1[2,i]*obs1[4,i]*x2*x4*x5\n",
    "                -obs1[1,i]*obs1[4,i]*x1*x5*x4\n",
    "                -obs1[2,i]*obs1[3,i]*x2*x5*0\n",
    "                -obs1[1,i]*obs1[2,i]*obs1[3,i]*obs1[4,i]*x1*x2*0*x4)^2)/q[i] for i in 1:16))\n",
    "optimize!(model)\n",
    "status = termination_status(model)\n",
    "asdgf =objective_value(model)\n",
    "    return objective_value(model)\n",
    "end"
   ]
  },
  {
   "cell_type": "code",
   "execution_count": 44,
   "id": "fed338ad",
   "metadata": {},
   "outputs": [
    {
     "data": {
      "text/plain": [
       "test2b4 (generic function with 1 method)"
      ]
     },
     "execution_count": 44,
     "metadata": {},
     "output_type": "execute_result"
    }
   ],
   "source": [
    "function test2b4(freqtest,e,q)\n",
    "model = Model(Ipopt.Optimizer)\n",
    "@variable(model,x1>=0)\n",
    "@variable(model,x2>=0)\n",
    "@variable(model,x3>=0) \n",
    "@variable(model,x5>=0)\n",
    "#set each one variable to be larger than 0\n",
    "@constraint(model,x1<=1)\n",
    "@constraint(model,x2<=1)\n",
    "@constraint(model,x3<=sqrt(k))\n",
    "@constraint(model,x5<=1)\n",
    "@NLconstraint(model,x1*x2 == e)\n",
    "@NLobjective(model, Min, 1/2*sum(((freqtest[i]-obs1[1,i]*obs1[3,i]*x1*x3*x5\n",
    "                -obs1[2,i]*obs1[4,i]*x2*0*x5\n",
    "                -obs1[1,i]*obs1[4,i]*x1*x5*0\n",
    "                -obs1[2,i]*obs1[3,i]*x2*x5*x3\n",
    "                -obs1[1,i]*obs1[2,i]*obs1[3,i]*obs1[4,i]*x1*x2*x3*0)^2)/q[i] for i in 1:16))\n",
    "optimize!(model)\n",
    "status = termination_status(model)\n",
    "asdgf =objective_value(model)\n",
    "    return objective_value(model)\n",
    "end"
   ]
  },
  {
   "cell_type": "code",
   "execution_count": 45,
   "id": "f8117317",
   "metadata": {},
   "outputs": [
    {
     "data": {
      "text/plain": [
       "test2b5 (generic function with 1 method)"
      ]
     },
     "execution_count": 45,
     "metadata": {},
     "output_type": "execute_result"
    }
   ],
   "source": [
    "function test2b5(freqtest,e,q)\n",
    "model = Model(Ipopt.Optimizer)\n",
    "@variable(model,x1>=0)\n",
    "@variable(model,x2>=0)\n",
    "@variable(model,x3>=0) \n",
    "@variable(model,x4>=0)\n",
    "#set each one variable to be larger than 0\n",
    "@constraint(model,x1<=1)\n",
    "@constraint(model,x2<=1)\n",
    "@constraint(model,x3<=sqrt(k))\n",
    "@constraint(model,x4<=sqrt(k))\n",
    "@NLconstraint(model,x1*x2 == e)\n",
    "@NLobjective(model, Min, 1/2*sum(((freqtest[i]-obs1[1,i]*obs1[3,i]*x1*x3*1\n",
    "                -obs1[2,i]*obs1[4,i]*x2*x4*1\n",
    "                -obs1[1,i]*obs1[4,i]*x1*1*x4\n",
    "                -obs1[2,i]*obs1[3,i]*x2*1*x3\n",
    "                -obs1[1,i]*obs1[2,i]*obs1[3,i]*obs1[4,i]*x1*x2*x3*x4)^2)/q[i] for i in 1:16))\n",
    "optimize!(model)\n",
    "status = termination_status(model)\n",
    "asdgf =objective_value(model)\n",
    "    return objective_value(model)\n",
    "end"
   ]
  },
  {
   "cell_type": "code",
   "execution_count": 46,
   "id": "051d91ca",
   "metadata": {},
   "outputs": [
    {
     "data": {
      "text/plain": [
       "test2b11 (generic function with 1 method)"
      ]
     },
     "execution_count": 46,
     "metadata": {},
     "output_type": "execute_result"
    }
   ],
   "source": [
    "function test2b11(freqtest,e,q)\n",
    "model = Model(Ipopt.Optimizer)\n",
    "@variable(model,x2>=0) \n",
    "@variable(model,x4>=0)\n",
    "@variable(model,x5>=0)\n",
    "#set each one variable to be larger than 0\n",
    "@constraint(model,x2<=1)\n",
    "@constraint(model,x4<=sqrt(k))\n",
    "@constraint(model,x5<=1)\n",
    "@NLconstraint(model,x2 == e)\n",
    "@NLobjective(model, Min, 1/2*sum(((freqtest[i]-obs1[1,i]*obs1[3,i]*0\n",
    "                -obs1[2,i]*obs1[4,i]*x2*x4*x5\n",
    "                -obs1[1,i]*obs1[4,i]*1*x5*x4\n",
    "                -obs1[2,i]*obs1[3,i]*0\n",
    "                -obs1[1,i]*obs1[2,i]*obs1[3,i]*obs1[4,i]*x2*0*x4)^2)/q[i] for i in 1:16))\n",
    "optimize!(model)\n",
    "status = termination_status(model)\n",
    "asdgf =objective_value(model)\n",
    "    return objective_value(model)\n",
    "end"
   ]
  },
  {
   "cell_type": "code",
   "execution_count": 47,
   "id": "cde7d638",
   "metadata": {},
   "outputs": [
    {
     "data": {
      "text/plain": [
       "test2b12 (generic function with 1 method)"
      ]
     },
     "execution_count": 47,
     "metadata": {},
     "output_type": "execute_result"
    }
   ],
   "source": [
    "function test2b12(freqtest,e,q)\n",
    "model = Model(Ipopt.Optimizer)\n",
    "@variable(model,x1>=0)\n",
    "@variable(model,x4>=0)\n",
    "@variable(model,x5>=0)\n",
    "#set each one variable to be larger than 0\n",
    "@constraint(model,x1<=1)\n",
    "@constraint(model,x4<=sqrt(k))\n",
    "@constraint(model,x5<=1)\n",
    "@NLconstraint(model,x1 == e)\n",
    "@NLobjective(model, Min, 1/2*sum(((freqtest[i]-obs1[1,i]*obs1[3,i]*0\n",
    "                -obs1[2,i]*obs1[4,i]*x4*x5\n",
    "                -obs1[1,i]*obs1[4,i]*x1*x5*x4\n",
    "                -obs1[2,i]*obs1[3,i]*0\n",
    "                -obs1[1,i]*obs1[2,i]*obs1[3,i]*obs1[4,i]*0)^2)/q[i] for i in 1:16))\n",
    "optimize!(model)\n",
    "status = termination_status(model)\n",
    "asdgf =objective_value(model)\n",
    "    return objective_value(model)\n",
    "end"
   ]
  },
  {
   "cell_type": "code",
   "execution_count": 48,
   "id": "15dad43a",
   "metadata": {},
   "outputs": [
    {
     "data": {
      "text/plain": [
       "test2b13 (generic function with 1 method)"
      ]
     },
     "execution_count": 48,
     "metadata": {},
     "output_type": "execute_result"
    }
   ],
   "source": [
    "function test2b13(freqtest,e,q)\n",
    "model = Model(Ipopt.Optimizer)\n",
    "@variable(model,x1>=0)\n",
    "@variable(model,x2>=0)\n",
    "@variable(model,x4>=0)\n",
    "#set each one variable to be larger than 0\n",
    "@constraint(model,x1<=1)\n",
    "@constraint(model,x2<=1)\n",
    "@constraint(model,x4<=sqrt(k))\n",
    "@NLconstraint(model,x1*x2 == e)\n",
    "@NLobjective(model, Min, 1/2*sum(((freqtest[i]-obs1[1,i]*obs1[3,i]*x1*0\n",
    "                -obs1[2,i]*obs1[4,i]*x2*x4\n",
    "                -obs1[1,i]*obs1[4,i]*x1*x4\n",
    "                -obs1[2,i]*obs1[3,i]*0\n",
    "                -obs1[1,i]*obs1[2,i]*obs1[3,i]*obs1[4,i]*x1*x2*0*x4)^2)/q[i] for i in 1:16))\n",
    "optimize!(model)\n",
    "status = termination_status(model)\n",
    "asdgf =objective_value(model)\n",
    "    return objective_value(model)\n",
    "end"
   ]
  },
  {
   "cell_type": "code",
   "execution_count": 49,
   "id": "3230fd5f",
   "metadata": {},
   "outputs": [
    {
     "data": {
      "text/plain": [
       "test2b14 (generic function with 1 method)"
      ]
     },
     "execution_count": 49,
     "metadata": {},
     "output_type": "execute_result"
    }
   ],
   "source": [
    "function test2b14(freqtest,e,q)\n",
    "model = Model(Ipopt.Optimizer)\n",
    "@variable(model,x2>=0)\n",
    "@variable(model,x3>=0) \n",
    "@variable(model,x5>=0)\n",
    "#set each one variable to be larger than 0\n",
    "@constraint(model,x2<=1)\n",
    "@constraint(model,x3<=sqrt(k))\n",
    "@constraint(model,x5<=1)\n",
    "@NLconstraint(model,x2 == e)\n",
    "@NLobjective(model, Min, 1/2*sum(((freqtest[i]-obs1[1,i]*obs1[3,i]*x3*x5\n",
    "                -obs1[2,i]*obs1[4,i]*0\n",
    "                -obs1[1,i]*obs1[4,i]*0\n",
    "                -obs1[2,i]*obs1[3,i]*x2*x5*x3\n",
    "                -obs1[1,i]*obs1[2,i]*obs1[3,i]*obs1[4,i]*0)^2)/q[i] for i in 1:16))\n",
    "optimize!(model)\n",
    "status = termination_status(model)\n",
    "asdgf =objective_value(model)\n",
    "    return objective_value(model)\n",
    "end"
   ]
  },
  {
   "cell_type": "code",
   "execution_count": 50,
   "id": "20187dee",
   "metadata": {},
   "outputs": [
    {
     "data": {
      "text/plain": [
       "test2b15 (generic function with 1 method)"
      ]
     },
     "execution_count": 50,
     "metadata": {},
     "output_type": "execute_result"
    }
   ],
   "source": [
    "function test2b15(freqtest,e,q)\n",
    "model = Model(Ipopt.Optimizer)\n",
    "@variable(model,x1>=0)\n",
    "@variable(model,x3>=0) \n",
    "@variable(model,x5>=0)\n",
    "#set each one variable to be larger than 0\n",
    "@constraint(model,x1<=1)\n",
    "@constraint(model,x3<=sqrt(k))\n",
    "@constraint(model,x5<=1)\n",
    "@NLconstraint(model,x1 == e)\n",
    "@NLobjective(model, Min, 1/2*sum(((freqtest[i]-obs1[1,i]*obs1[3,i]*x1*x3*x5\n",
    "                -obs1[2,i]*obs1[4,i]*0*x5\n",
    "                -obs1[1,i]*obs1[4,i]*x1*x5*0\n",
    "                -obs1[2,i]*obs1[3,i]*x5*x3\n",
    "                -obs1[1,i]*obs1[2,i]*obs1[3,i]*obs1[4,i]*0)^2)/q[i] for i in 1:16))\n",
    "optimize!(model)\n",
    "status = termination_status(model)\n",
    "asdgf =objective_value(model)\n",
    "    return objective_value(model)\n",
    "end"
   ]
  },
  {
   "cell_type": "code",
   "execution_count": 51,
   "id": "86be844d",
   "metadata": {},
   "outputs": [
    {
     "data": {
      "text/plain": [
       "test2b16 (generic function with 1 method)"
      ]
     },
     "execution_count": 51,
     "metadata": {},
     "output_type": "execute_result"
    }
   ],
   "source": [
    "function test2b16(freqtest,e,q)\n",
    "model = Model(Ipopt.Optimizer)\n",
    "@variable(model,x1>=0)\n",
    "@variable(model,x2>=0)\n",
    "@variable(model,x3>=0) \n",
    "#set each one variable to be larger than 0\n",
    "@constraint(model,x1<=1)\n",
    "@constraint(model,x2<=1)\n",
    "@constraint(model,x3<=sqrt(k))\n",
    "@NLconstraint(model,x1*x2 == e)\n",
    "@NLobjective(model, Min, 1/2*sum(((freqtest[i]-obs1[1,i]*obs1[3,i]*x1*x3\n",
    "                -obs1[2,i]*obs1[4,i]*0\n",
    "                -obs1[1,i]*obs1[4,i]*0\n",
    "                -obs1[2,i]*obs1[3,i]*x2*x3\n",
    "                -obs1[1,i]*obs1[2,i]*obs1[3,i]*obs1[4,i]*0)^2)/q[i] for i in 1:16))\n",
    "optimize!(model)\n",
    "status = termination_status(model)\n",
    "asdgf =objective_value(model)\n",
    "    return objective_value(model)\n",
    "end"
   ]
  },
  {
   "cell_type": "code",
   "execution_count": 52,
   "id": "ba68ffd5",
   "metadata": {},
   "outputs": [
    {
     "data": {
      "text/plain": [
       "test2b17 (generic function with 1 method)"
      ]
     },
     "execution_count": 52,
     "metadata": {},
     "output_type": "execute_result"
    }
   ],
   "source": [
    "function test2b17(freqtest,e,q)\n",
    "model = Model(Ipopt.Optimizer)\n",
    "@variable(model,x2>=0)\n",
    "@variable(model,x3>=0) \n",
    "@variable(model,x4>=0)\n",
    "#set each one variable to be larger than 0\n",
    "@constraint(model,x2<=1)\n",
    "@constraint(model,x3<=sqrt(k))\n",
    "@constraint(model,x4<=sqrt(k))\n",
    "@NLconstraint(model,x2 == e)\n",
    "@NLobjective(model, Min, 1/2*sum(((freqtest[i]-obs1[1,i]*obs1[3,i]*x3\n",
    "                -obs1[2,i]*obs1[4,i]*x2*x4\n",
    "                -obs1[1,i]*obs1[4,i]*x4\n",
    "                -obs1[2,i]*obs1[3,i]*x2*x3\n",
    "                -obs1[1,i]*obs1[2,i]*obs1[3,i]*obs1[4,i]*x2*x3*x4)^2)/q[i] for i in 1:16))\n",
    "optimize!(model)\n",
    "status = termination_status(model)\n",
    "asdgf =objective_value(model)\n",
    "    return objective_value(model)\n",
    "end"
   ]
  },
  {
   "cell_type": "code",
   "execution_count": 53,
   "id": "80d8edac",
   "metadata": {},
   "outputs": [
    {
     "data": {
      "text/plain": [
       "test2b18 (generic function with 1 method)"
      ]
     },
     "execution_count": 53,
     "metadata": {},
     "output_type": "execute_result"
    }
   ],
   "source": [
    "function test2b18(freqtest,e,q)\n",
    "model = Model(Ipopt.Optimizer)\n",
    "@variable(model,x2>=0)\n",
    "@variable(model,x3>=0) \n",
    "@variable(model,x4>=0)\n",
    "#set each one variable to be larger than 0\n",
    "@constraint(model,x2<=1)\n",
    "@constraint(model,x3<=sqrt(k))\n",
    "@constraint(model,x4<=sqrt(k))\n",
    "@NLconstraint(model,x2 == e)\n",
    "@NLobjective(model, Min, 1/2*sum(((freqtest[i]-obs1[1,i]*obs1[3,i]*x3\n",
    "                -obs1[2,i]*obs1[4,i]*x2*x4\n",
    "                -obs1[1,i]*obs1[4,i]*x4\n",
    "                -obs1[2,i]*obs1[3,i]*x2*x3\n",
    "                -obs1[1,i]*obs1[2,i]*obs1[3,i]*obs1[4,i]*x2*x3*x4)^2)/q[i] for i in 1:16))\n",
    "optimize!(model)\n",
    "status = termination_status(model)\n",
    "asdgf =objective_value(model)\n",
    "    return objective_value(model)\n",
    "end"
   ]
  },
  {
   "cell_type": "code",
   "execution_count": 54,
   "id": "ac391979",
   "metadata": {},
   "outputs": [
    {
     "data": {
      "text/plain": [
       "test2b21 (generic function with 1 method)"
      ]
     },
     "execution_count": 54,
     "metadata": {},
     "output_type": "execute_result"
    }
   ],
   "source": [
    "function test2b21(freqtest,e,q)\n",
    "model = Model(Ipopt.Optimizer)\n",
    "@variable(model,x2>=0)\n",
    "@variable(model,x4>=0)\n",
    "#set each one variable to be larger than 0\n",
    "@constraint(model,x2<=1)\n",
    "@constraint(model,x4<=sqrt(k))\n",
    "@NLconstraint(model,x2 == e)\n",
    "@NLobjective(model, Min, 1/2*sum(((freqtest[i]-obs1[1,i]*obs1[3,i]*0\n",
    "                -obs1[2,i]*obs1[4,i]*x2*x4\n",
    "                -obs1[1,i]*obs1[4,i]*x4\n",
    "                -obs1[2,i]*obs1[3,i]*0\n",
    "                -obs1[1,i]*obs1[2,i]*obs1[3,i]*obs1[4,i]*0)^2)/q[i] for i in 1:16))\n",
    "optimize!(model)\n",
    "status = termination_status(model)\n",
    "asdgf =objective_value(model)\n",
    "    return objective_value(model)\n",
    "end"
   ]
  },
  {
   "cell_type": "code",
   "execution_count": 55,
   "id": "63192b88",
   "metadata": {},
   "outputs": [
    {
     "data": {
      "text/plain": [
       "test2b22 (generic function with 1 method)"
      ]
     },
     "execution_count": 55,
     "metadata": {},
     "output_type": "execute_result"
    }
   ],
   "source": [
    "function test2b22(freqtest,e,q)\n",
    "model = Model(Ipopt.Optimizer)\n",
    "@variable(model,x1>=0)\n",
    "@variable(model,x4>=0)\n",
    "#set each one variable to be larger than 0\n",
    "@constraint(model,x1<=1)\n",
    "@constraint(model,x4<=sqrt(k))\n",
    "@NLconstraint(model,x1 == e)\n",
    "@NLobjective(model, Min, 1/2*sum(((freqtest[i]-obs1[1,i]*obs1[3,i]*x1*0\n",
    "                -obs1[2,i]*obs1[4,i]*x4\n",
    "                -obs1[1,i]*obs1[4,i]*x1*x4\n",
    "                -obs1[2,i]*obs1[3,i]*0\n",
    "                -obs1[1,i]*obs1[2,i]*obs1[3,i]*obs1[4,i]*0)^2)/q[i] for i in 1:16))\n",
    "optimize!(model)\n",
    "status = termination_status(model)\n",
    "asdgf =objective_value(model)\n",
    "    return objective_value(model)\n",
    "end"
   ]
  },
  {
   "cell_type": "code",
   "execution_count": 56,
   "id": "9b813df3",
   "metadata": {},
   "outputs": [
    {
     "data": {
      "text/plain": [
       "test2b23 (generic function with 1 method)"
      ]
     },
     "execution_count": 56,
     "metadata": {},
     "output_type": "execute_result"
    }
   ],
   "source": [
    "function test2b23(freqtest,e,q)\n",
    "model = Model(Ipopt.Optimizer)\n",
    "@variable(model,x2>=0)\n",
    "@variable(model,x3>=0) \n",
    "#set each one variable to be larger than 0\n",
    "@constraint(model,x2<=1)\n",
    "@constraint(model,x3<=sqrt(k))\n",
    "@NLconstraint(model,x2 == e)\n",
    "@NLobjective(model, Min, 1/2*sum(((freqtest[i]-obs1[1,i]*obs1[3,i]*x3\n",
    "                -obs1[2,i]*obs1[4,i]*0\n",
    "                -obs1[1,i]*obs1[4,i]*0\n",
    "                -obs1[2,i]*obs1[3,i]*x2*x3\n",
    "                -obs1[1,i]*obs1[2,i]*obs1[3,i]*obs1[4,i]*0)^2)/q[i] for i in 1:16))\n",
    "optimize!(model)\n",
    "status = termination_status(model)\n",
    "asdgf =objective_value(model)\n",
    "    return objective_value(model)\n",
    "end"
   ]
  },
  {
   "cell_type": "code",
   "execution_count": 57,
   "id": "53f3c152",
   "metadata": {},
   "outputs": [
    {
     "data": {
      "text/plain": [
       "test2b24 (generic function with 1 method)"
      ]
     },
     "execution_count": 57,
     "metadata": {},
     "output_type": "execute_result"
    }
   ],
   "source": [
    "function test2b24(freqtest,e,q)\n",
    "model = Model(Ipopt.Optimizer)\n",
    "@variable(model,x1>=0)\n",
    "@variable(model,x3>=0) \n",
    "#set each one variable to be larger than 0\n",
    "@constraint(model,x1<=1)\n",
    "@constraint(model,x3<=sqrt(k))\n",
    "@NLconstraint(model,x1 == e)\n",
    "@NLobjective(model, Min, 1/2*sum(((freqtest[i]-obs1[1,i]*obs1[3,i]*x1*x3\n",
    "                -obs1[2,i]*obs1[4,i]*0\n",
    "                -obs1[1,i]*obs1[4,i]*0\n",
    "                -obs1[2,i]*obs1[3,i]*x3\n",
    "                -obs1[1,i]*obs1[2,i]*obs1[3,i]*obs1[4,i]*0)^2)/q[i] for i in 1:16))\n",
    "optimize!(model)\n",
    "status = termination_status(model)\n",
    "asdgf =objective_value(model)\n",
    "    return objective_value(model)\n",
    "end"
   ]
  },
  {
   "cell_type": "code",
   "execution_count": 58,
   "id": "e711e6b1",
   "metadata": {},
   "outputs": [
    {
     "data": {
      "text/plain": [
       "test3 (generic function with 1 method)"
      ]
     },
     "execution_count": 58,
     "metadata": {},
     "output_type": "execute_result"
    }
   ],
   "source": [
    "function test3(freqtest,e,q)\n",
    "model = Model(Ipopt.Optimizer)\n",
    "@variable(model,x1>=0)\n",
    "@variable(model,x2>=0)\n",
    "@variable(model,x3>=0)\n",
    "@variable(model,x4>=0)\n",
    "@variable(model,x5>=0)\n",
    "#set each one variable to be larger than 0\n",
    "@constraint(model,x1<=1)\n",
    "@constraint(model,x2<=1)\n",
    "@constraint(model,x3<=sqrt(k))\n",
    "@constraint(model,x4<=sqrt(k))\n",
    "@constraint(model,x5<=1)\n",
    "@NLconstraint(model,x1*x2*x5 == e)\n",
    "@NLobjective(model, Min, 1/2*sum(((freqtest[i]-obs1[1,i]*obs1[4,i]*x1*x4\n",
    "                -obs1[2,i]*obs1[3,i]*x2*x3\n",
    "                -obs1[1,i]*obs1[3,i]*x1*x3*x5\n",
    "                -obs1[2,i]*obs1[4,i]*x2*x4*x5)^2)/q[i] for i in 1:16))\n",
    "optimize!(model)\n",
    "status = termination_status(model)\n",
    "asdgf =objective_value(model)\n",
    "    return objective_value(model)\n",
    "end"
   ]
  },
  {
   "cell_type": "code",
   "execution_count": 59,
   "id": "2e50c8d6",
   "metadata": {},
   "outputs": [
    {
     "data": {
      "text/plain": [
       "test31 (generic function with 1 method)"
      ]
     },
     "execution_count": 59,
     "metadata": {},
     "output_type": "execute_result"
    }
   ],
   "source": [
    "function test31(freqtest,e,q)\n",
    "model = Model(Ipopt.Optimizer)\n",
    "@variable(model,x2>=0)\n",
    "@variable(model,x3>=0)\n",
    "@variable(model,x4>=0)\n",
    "@variable(model,x5>=0)\n",
    "#set each one variable to be larger than 0\n",
    "@constraint(model,x2<=1)\n",
    "@constraint(model,x3<=sqrt(k))\n",
    "@constraint(model,x4<=sqrt(k))\n",
    "@constraint(model,x5<=1)\n",
    "@NLconstraint(model,x2*x5 == e)\n",
    "@NLobjective(model, Min, 1/2*sum(((freqtest[i]-obs1[1,i]*obs1[4,i]*x4\n",
    "                -obs1[2,i]*obs1[3,i]*x2*x3\n",
    "                -obs1[1,i]*obs1[3,i]*x3*x5\n",
    "                -obs1[2,i]*obs1[4,i]*x2*x4*x5)^2)/q[i] for i in 1:16))\n",
    "optimize!(model)\n",
    "status = termination_status(model)\n",
    "asdgf =objective_value(model)\n",
    "    return objective_value(model)\n",
    "end"
   ]
  },
  {
   "cell_type": "code",
   "execution_count": 60,
   "id": "865518d8",
   "metadata": {},
   "outputs": [
    {
     "data": {
      "text/plain": [
       "test32 (generic function with 1 method)"
      ]
     },
     "execution_count": 60,
     "metadata": {},
     "output_type": "execute_result"
    }
   ],
   "source": [
    "function test32(freqtest,e,q)\n",
    "model = Model(Ipopt.Optimizer)\n",
    "@variable(model,x1>=0)\n",
    "@variable(model,x3>=0)\n",
    "@variable(model,x4>=0)\n",
    "@variable(model,x5>=0)\n",
    "#set each one variable to be larger than 0\n",
    "@constraint(model,x1<=1)\n",
    "@constraint(model,x3<=sqrt(k))\n",
    "@constraint(model,x4<=sqrt(k))\n",
    "@constraint(model,x5<=1)\n",
    "@NLconstraint(model,x1*x5 == e)\n",
    "@NLobjective(model, Min, 1/2*sum(((freqtest[i]-obs1[1,i]*obs1[4,i]*x1*x4\n",
    "                -obs1[2,i]*obs1[3,i]*x3\n",
    "                -obs1[1,i]*obs1[3,i]*x1*x3*x5\n",
    "                -obs1[2,i]*obs1[4,i]*x4*x5)^2)/q[i] for i in 1:16))\n",
    "optimize!(model)\n",
    "status = termination_status(model)\n",
    "asdgf =objective_value(model)\n",
    "    return objective_value(model)\n",
    "end"
   ]
  },
  {
   "cell_type": "code",
   "execution_count": 61,
   "id": "1fd2c933",
   "metadata": {},
   "outputs": [
    {
     "data": {
      "text/plain": [
       "test33 (generic function with 1 method)"
      ]
     },
     "execution_count": 61,
     "metadata": {},
     "output_type": "execute_result"
    }
   ],
   "source": [
    "function test33(freqtest,e,q)\n",
    "model = Model(Ipopt.Optimizer)\n",
    "@variable(model,x1>=0)\n",
    "@variable(model,x2>=0)\n",
    "@variable(model,x4>=0)\n",
    "@variable(model,x5>=0)\n",
    "#set each one variable to be larger than 0\n",
    "@constraint(model,x1<=1)\n",
    "@constraint(model,x2<=1)\n",
    "@constraint(model,x4<=sqrt(k))\n",
    "@constraint(model,x5<=1)\n",
    "@NLconstraint(model,x1*x2*x5 == e)\n",
    "@NLobjective(model, Min, 1/2*sum(((freqtest[i]-obs1[1,i]*obs1[4,i]*x1*x4\n",
    "                -obs1[2,i]*obs1[3,i]*0\n",
    "                -obs1[1,i]*obs1[3,i]*x1*0*x5\n",
    "                -obs1[2,i]*obs1[4,i]*x2*x4*x5)^2)/q[i] for i in 1:16))\n",
    "optimize!(model)\n",
    "status = termination_status(model)\n",
    "asdgf =objective_value(model)\n",
    "    return objective_value(model)\n",
    "end"
   ]
  },
  {
   "cell_type": "code",
   "execution_count": 62,
   "id": "e52bc09d",
   "metadata": {},
   "outputs": [
    {
     "data": {
      "text/plain": [
       "test34 (generic function with 1 method)"
      ]
     },
     "execution_count": 62,
     "metadata": {},
     "output_type": "execute_result"
    }
   ],
   "source": [
    "function test34(freqtest,e,q)\n",
    "model = Model(Ipopt.Optimizer)\n",
    "@variable(model,x1>=0)\n",
    "@variable(model,x2>=0)\n",
    "@variable(model,x3>=0)\n",
    "@variable(model,x5>=0)\n",
    "#set each one variable to be larger than 0\n",
    "@constraint(model,x1<=1)\n",
    "@constraint(model,x2<=1)\n",
    "@constraint(model,x3<=sqrt(k))\n",
    "@constraint(model,x5<=1)\n",
    "@NLconstraint(model,x1*x2*x5 == e)\n",
    "@NLobjective(model, Min, 1/2*sum(((freqtest[i]-obs1[1,i]*obs1[4,i]*0\n",
    "                -obs1[2,i]*obs1[3,i]*x2*x3\n",
    "                -obs1[1,i]*obs1[3,i]*x1*x3*x5\n",
    "                -obs1[2,i]*obs1[4,i]*0)^2)/q[i] for i in 1:16))\n",
    "optimize!(model)\n",
    "status = termination_status(model)\n",
    "asdgf =objective_value(model)\n",
    "    return objective_value(model)\n",
    "end"
   ]
  },
  {
   "cell_type": "code",
   "execution_count": 63,
   "id": "399491f3",
   "metadata": {},
   "outputs": [
    {
     "data": {
      "text/plain": [
       "test35 (generic function with 1 method)"
      ]
     },
     "execution_count": 63,
     "metadata": {},
     "output_type": "execute_result"
    }
   ],
   "source": [
    "function test35(freqtest,e,q)\n",
    "model = Model(Ipopt.Optimizer)\n",
    "@variable(model,x1>=0)\n",
    "@variable(model,x2>=0)\n",
    "@variable(model,x3>=0)\n",
    "@variable(model,x4>=0)\n",
    "#set each one variable to be larger than 0\n",
    "@constraint(model,x1<=1)\n",
    "@constraint(model,x2<=1)\n",
    "@constraint(model,x3<=sqrt(k))\n",
    "@constraint(model,x4<=sqrt(k))\n",
    "@NLconstraint(model,x1*x2 == e)\n",
    "@NLobjective(model, Min, 1/2*sum(((freqtest[i]-obs1[1,i]*obs1[4,i]*x1*x4\n",
    "                -obs1[2,i]*obs1[3,i]*x2*x3\n",
    "                -obs1[1,i]*obs1[3,i]*x1*x3\n",
    "                -obs1[2,i]*obs1[4,i]*x2*x4)^2)/q[i] for i in 1:16))\n",
    "optimize!(model)\n",
    "status = termination_status(model)\n",
    "asdgf =objective_value(model)\n",
    "    return objective_value(model)\n",
    "end"
   ]
  },
  {
   "cell_type": "code",
   "execution_count": 64,
   "id": "71686222",
   "metadata": {},
   "outputs": [
    {
     "data": {
      "text/plain": [
       "test311 (generic function with 1 method)"
      ]
     },
     "execution_count": 64,
     "metadata": {},
     "output_type": "execute_result"
    }
   ],
   "source": [
    "function test311(freqtest,e,q)\n",
    "model = Model(Ipopt.Optimizer)\n",
    "@variable(model,x3>=0)\n",
    "@variable(model,x4>=0)\n",
    "@variable(model,x5>=0)\n",
    "#set each one variable to be larger than 0\n",
    "@constraint(model,x3<=sqrt(k))\n",
    "@constraint(model,x4<=sqrt(k))\n",
    "@constraint(model,x5<=1)\n",
    "@NLconstraint(model,x5 == e)\n",
    "@NLobjective(model, Min, 1/2*sum(((freqtest[i]-obs1[1,i]*obs1[4,i]*x4\n",
    "                -obs1[2,i]*obs1[3,i]*x3\n",
    "                -obs1[1,i]*obs1[3,i]*x3*x5\n",
    "                -obs1[2,i]*obs1[4,i]*x4*x5)^2)/q[i] for i in 1:16))\n",
    "optimize!(model)\n",
    "status = termination_status(model)\n",
    "asdgf =objective_value(model)\n",
    "    return objective_value(model)\n",
    "end"
   ]
  },
  {
   "cell_type": "code",
   "execution_count": 65,
   "id": "2411251d",
   "metadata": {},
   "outputs": [
    {
     "data": {
      "text/plain": [
       "test312 (generic function with 1 method)"
      ]
     },
     "execution_count": 65,
     "metadata": {},
     "output_type": "execute_result"
    }
   ],
   "source": [
    "function test312(freqtest,e,q)\n",
    "model = Model(Ipopt.Optimizer)\n",
    "@variable(model,x2>=0)\n",
    "@variable(model,x4>=0)\n",
    "@variable(model,x5>=0)\n",
    "#set each one variable to be larger than 0\n",
    "@constraint(model,x2<=1)\n",
    "@constraint(model,x4<=sqrt(k))\n",
    "@constraint(model,x5<=1)\n",
    "@NLconstraint(model,x2*x5 == e)\n",
    "@NLobjective(model, Min, 1/2*sum(((freqtest[i]-obs1[1,i]*obs1[4,i]*x4\n",
    "                -obs1[2,i]*obs1[3,i]*0\n",
    "                -obs1[1,i]*obs1[3,i]*0\n",
    "                -obs1[2,i]*obs1[4,i]*x2*x4*x5)^2)/q[i] for i in 1:16))\n",
    "optimize!(model)\n",
    "status = termination_status(model)\n",
    "asdgf =objective_value(model)\n",
    "    return objective_value(model)\n",
    "end"
   ]
  },
  {
   "cell_type": "code",
   "execution_count": 66,
   "id": "3df9845a",
   "metadata": {},
   "outputs": [
    {
     "data": {
      "text/plain": [
       "test313 (generic function with 1 method)"
      ]
     },
     "execution_count": 66,
     "metadata": {},
     "output_type": "execute_result"
    }
   ],
   "source": [
    "function test313(freqtest,e,q)\n",
    "model = Model(Ipopt.Optimizer)\n",
    "@variable(model,x2>=0)\n",
    "@variable(model,x3>=0)\n",
    "@variable(model,x5>=0)\n",
    "#set each one variable to be larger than 0\n",
    "@constraint(model,x2<=1)\n",
    "@constraint(model,x3<=sqrt(k))\n",
    "@constraint(model,x5<=1)\n",
    "@NLconstraint(model,x2*x5 == e)\n",
    "@NLobjective(model, Min, 1/2*sum(((freqtest[i]-obs1[1,i]*obs1[4,i]*0\n",
    "                -obs1[2,i]*obs1[3,i]*x2*x3\n",
    "                -obs1[1,i]*obs1[3,i]*x3*x5\n",
    "                -obs1[2,i]*obs1[4,i]*0)^2)/q[i] for i in 1:16))\n",
    "optimize!(model)\n",
    "status = termination_status(model)\n",
    "asdgf =objective_value(model)\n",
    "    return objective_value(model)\n",
    "end"
   ]
  },
  {
   "cell_type": "code",
   "execution_count": 67,
   "id": "c526df66",
   "metadata": {},
   "outputs": [
    {
     "data": {
      "text/plain": [
       "test314 (generic function with 1 method)"
      ]
     },
     "execution_count": 67,
     "metadata": {},
     "output_type": "execute_result"
    }
   ],
   "source": [
    "function test314(freqtest,e,q)\n",
    "model = Model(Ipopt.Optimizer)\n",
    "@variable(model,x2>=0)\n",
    "@variable(model,x3>=0)\n",
    "@variable(model,x4>=0)\n",
    "#set each one variable to be larger than 0\n",
    "@constraint(model,x2<=1)\n",
    "@constraint(model,x3<=sqrt(k))\n",
    "@constraint(model,x4<=sqrt(k))\n",
    "@NLconstraint(model,x2 == e)\n",
    "@NLobjective(model, Min, 1/2*sum(((freqtest[i]-obs1[1,i]*obs1[4,i]*x4\n",
    "                -obs1[2,i]*obs1[3,i]*x2*x3\n",
    "                -obs1[1,i]*obs1[3,i]*x3\n",
    "                -obs1[2,i]*obs1[4,i]*x2*x4)^2)/q[i] for i in 1:16))\n",
    "optimize!(model)\n",
    "status = termination_status(model)\n",
    "asdgf =objective_value(model)\n",
    "    return objective_value(model)\n",
    "end"
   ]
  },
  {
   "cell_type": "code",
   "execution_count": 68,
   "id": "d15ccbc7",
   "metadata": {},
   "outputs": [
    {
     "data": {
      "text/plain": [
       "test315 (generic function with 1 method)"
      ]
     },
     "execution_count": 68,
     "metadata": {},
     "output_type": "execute_result"
    }
   ],
   "source": [
    "function test315(freqtest,e,q)\n",
    "model = Model(Ipopt.Optimizer)\n",
    "@variable(model,x1>=0)\n",
    "@variable(model,x4>=0)\n",
    "@variable(model,x5>=0)\n",
    "#set each one variable to be larger than 0\n",
    "@constraint(model,x1<=1)\n",
    "@constraint(model,x4<=sqrt(k))\n",
    "@constraint(model,x5<=1)\n",
    "@NLconstraint(model,x1*x5 == e)\n",
    "@NLobjective(model, Min, 1/2*sum(((freqtest[i]-obs1[1,i]*obs1[4,i]*x1*x4\n",
    "                -obs1[2,i]*obs1[3,i]*0\n",
    "                -obs1[1,i]*obs1[3,i]*0\n",
    "                -obs1[2,i]*obs1[4,i]*x4*x5)^2)/q[i] for i in 1:16))\n",
    "optimize!(model)\n",
    "status = termination_status(model)\n",
    "asdgf =objective_value(model)\n",
    "    return objective_value(model)\n",
    "end"
   ]
  },
  {
   "cell_type": "code",
   "execution_count": 69,
   "id": "08ea783a",
   "metadata": {},
   "outputs": [
    {
     "data": {
      "text/plain": [
       "test316 (generic function with 1 method)"
      ]
     },
     "execution_count": 69,
     "metadata": {},
     "output_type": "execute_result"
    }
   ],
   "source": [
    "function test316(freqtest,e,q)\n",
    "model = Model(Ipopt.Optimizer)\n",
    "@variable(model,x1>=0)\n",
    "@variable(model,x3>=0)\n",
    "@variable(model,x5>=0)\n",
    "#set each one variable to be larger than 0\n",
    "@constraint(model,x1<=1)\n",
    "@constraint(model,x3<=sqrt(k))\n",
    "@constraint(model,x5<=1)\n",
    "@NLconstraint(model,x1*x5 == e)\n",
    "@NLobjective(model, Min, 1/2*sum(((freqtest[i]-obs1[1,i]*obs1[4,i]*0\n",
    "                -obs1[2,i]*obs1[3,i]*x3\n",
    "                -obs1[1,i]*obs1[3,i]*x1*x3*x5\n",
    "                -obs1[2,i]*obs1[4,i]*0)^2)/q[i] for i in 1:16))\n",
    "optimize!(model)\n",
    "status = termination_status(model)\n",
    "asdgf =objective_value(model)\n",
    "    return objective_value(model)\n",
    "end"
   ]
  },
  {
   "cell_type": "code",
   "execution_count": 70,
   "id": "74559636",
   "metadata": {},
   "outputs": [
    {
     "data": {
      "text/plain": [
       "test317 (generic function with 1 method)"
      ]
     },
     "execution_count": 70,
     "metadata": {},
     "output_type": "execute_result"
    }
   ],
   "source": [
    "function test317(freqtest,e,q)\n",
    "model = Model(Ipopt.Optimizer)\n",
    "@variable(model,x1>=0)\n",
    "@variable(model,x3>=0)\n",
    "@variable(model,x4>=0)\n",
    "#set each one variable to be larger than 0\n",
    "@constraint(model,x1<=1)\n",
    "@constraint(model,x3<=sqrt(k))\n",
    "@constraint(model,x4<=sqrt(k))\n",
    "@NLconstraint(model,x1 == e)\n",
    "@NLobjective(model, Min, 1/2*sum(((freqtest[i]-obs1[1,i]*obs1[4,i]*x1*x4\n",
    "                -obs1[2,i]*obs1[3,i]*x3\n",
    "                -obs1[1,i]*obs1[3,i]*x1*x3\n",
    "                -obs1[2,i]*obs1[4,i]*x4)^2)/q[i] for i in 1:16))\n",
    "optimize!(model)\n",
    "status = termination_status(model)\n",
    "asdgf =objective_value(model)\n",
    "    return objective_value(model)\n",
    "end"
   ]
  },
  {
   "cell_type": "code",
   "execution_count": 71,
   "id": "7d30a6b6",
   "metadata": {},
   "outputs": [
    {
     "data": {
      "text/plain": [
       "test318 (generic function with 1 method)"
      ]
     },
     "execution_count": 71,
     "metadata": {},
     "output_type": "execute_result"
    }
   ],
   "source": [
    "function test318(freqtest,e,q)\n",
    "model = Model(Ipopt.Optimizer)\n",
    "@variable(model,x1>=0)\n",
    "@variable(model,x2>=0)\n",
    "@variable(model,x4>=0)\n",
    "#set each one variable to be larger than 0\n",
    "@constraint(model,x1<=1)\n",
    "@constraint(model,x2<=1)\n",
    "@constraint(model,x4<=sqrt(k))\n",
    "@NLconstraint(model,x1*x2 == e)\n",
    "@NLobjective(model, Min, 1/2*sum(((freqtest[i]-obs1[1,i]*obs1[4,i]*x1*x4\n",
    "                -obs1[2,i]*obs1[3,i]*0\n",
    "                -obs1[1,i]*obs1[3,i]*0\n",
    "                -obs1[2,i]*obs1[4,i]*x2*x4)^2)/q[i] for i in 1:16))\n",
    "optimize!(model)\n",
    "status = termination_status(model)\n",
    "asdgf =objective_value(model)\n",
    "    return objective_value(model)\n",
    "end"
   ]
  },
  {
   "cell_type": "code",
   "execution_count": 72,
   "id": "b38b39ed",
   "metadata": {},
   "outputs": [
    {
     "data": {
      "text/plain": [
       "test319 (generic function with 1 method)"
      ]
     },
     "execution_count": 72,
     "metadata": {},
     "output_type": "execute_result"
    }
   ],
   "source": [
    "function test319(freqtest,e,q)\n",
    "model = Model(Ipopt.Optimizer)\n",
    "@variable(model,x1>=0)\n",
    "@variable(model,x2>=0)\n",
    "@variable(model,x3>=0)\n",
    "#set each one variable to be larger than 0\n",
    "@constraint(model,x1<=1)\n",
    "@constraint(model,x2<=1)\n",
    "@constraint(model,x3<=sqrt(k))\n",
    "@NLconstraint(model,x1*x2 == e)\n",
    "@NLobjective(model, Min, 1/2*sum(((freqtest[i]-obs1[1,i]*obs1[4,i]*0\n",
    "                -obs1[2,i]*obs1[3,i]*x2*x3\n",
    "                -obs1[1,i]*obs1[3,i]*x1*x3\n",
    "                -obs1[2,i]*obs1[4,i]*0)^2)/q[i] for i in 1:16))\n",
    "optimize!(model)\n",
    "status = termination_status(model)\n",
    "asdgf =objective_value(model)\n",
    "    return objective_value(model)\n",
    "end"
   ]
  },
  {
   "cell_type": "code",
   "execution_count": 73,
   "id": "3680ba89",
   "metadata": {},
   "outputs": [
    {
     "data": {
      "text/plain": [
       "getforonetime (generic function with 1 method)"
      ]
     },
     "execution_count": 73,
     "metadata": {},
     "output_type": "execute_result"
    }
   ],
   "source": [
    "function getforonetime(freqtest,e,q)\n",
    "    testwhole = zeros(4,25)\n",
    "    testwhole = settest1(testwhole,freqtest,e,q)\n",
    "    testwhole = settest2(testwhole,freqtest,e,q)\n",
    "    testwhole = settest3(testwhole,freqtest,e,q)\n",
    "    testwhole = settest4(testwhole,freqtest,e,q)\n",
    "    for i in 1:4\n",
    "        for j in 1:25\n",
    "            if testwhole[i,j] == 0\n",
    "                testwhole[i,j] = 100\n",
    "            end\n",
    "        end\n",
    "    end\n",
    "    return testwhole\n",
    "end"
   ]
  },
  {
   "cell_type": "code",
   "execution_count": 74,
   "id": "79bbeb6f",
   "metadata": {},
   "outputs": [
    {
     "data": {
      "text/plain": [
       "settest1 (generic function with 1 method)"
      ]
     },
     "execution_count": 74,
     "metadata": {},
     "output_type": "execute_result"
    }
   ],
   "source": [
    "function settest1(testwhole,freqtest,e,q)\n",
    "    testwhole[1,1] = test1(freqtest,e,q)\n",
    "    testwhole[1,2] = test11(freqtest,e,q)\n",
    "    testwhole[1,3] = test12(freqtest,e,q)\n",
    "    testwhole[1,4] = test13(freqtest,e,q)\n",
    "    testwhole[1,5] = test14(freqtest,e,q)\n",
    "    testwhole[1,6] = test15(freqtest,e,q)\n",
    "    testwhole[1,7] = test111(freqtest,e,q)\n",
    "    testwhole[1,8] = test112(freqtest,e,q)\n",
    "    testwhole[1,9] = test113(freqtest,e,q)\n",
    "    testwhole[1,10] = test114(freqtest,e,q)\n",
    "    testwhole[1,11] = test115(freqtest,e,q)\n",
    "    testwhole[1,12] = test116(freqtest,e,q)\n",
    "    testwhole[1,13] = test117(freqtest,e,q)\n",
    "    testwhole[1,14] = test118(freqtest,e,q)\n",
    "    testwhole[1,15] = test1111(freqtest,e,q)\n",
    "    testwhole[1,16] = test1112(freqtest,e,q)\n",
    "    testwhole[1,17] = test1113(freqtest,e,q)\n",
    "    testwhole[1,18] = test1114(freqtest,e,q)\n",
    "    testwhole[1,19] = test1115(freqtest,e,q)\n",
    "    testwhole[1,20] = test1116(freqtest,e,q)\n",
    "    return testwhole\n",
    "end"
   ]
  },
  {
   "cell_type": "code",
   "execution_count": 75,
   "id": "ac8fa0e7",
   "metadata": {},
   "outputs": [
    {
     "data": {
      "text/plain": [
       "settest2 (generic function with 1 method)"
      ]
     },
     "execution_count": 75,
     "metadata": {},
     "output_type": "execute_result"
    }
   ],
   "source": [
    "function settest2(testwhole,freqtest,e,q)\n",
    "    testwhole[2,1] = test2a(freqtest,e,q)\n",
    "    testwhole[2,2] = test2a1(freqtest,e,q)\n",
    "    testwhole[2,3] = test2a2(freqtest,e,q)\n",
    "    testwhole[2,4] = test2a3(freqtest,e,q)\n",
    "    testwhole[2,5] = test2a4(freqtest,e,q)\n",
    "    testwhole[2,6] = test2a5(freqtest,e,q)\n",
    "    testwhole[2,7] = test2a11(freqtest,e,q)\n",
    "    testwhole[2,8] = test2a12(freqtest,e,q)\n",
    "    testwhole[2,9] = test2a13(freqtest,e,q)\n",
    "    testwhole[2,10] = test2a14(freqtest,e,q)\n",
    "    testwhole[2,11] = test2a15(freqtest,e,q)\n",
    "    testwhole[2,12] = test2a16(freqtest,e,q)\n",
    "    testwhole[2,13] = test2a17(freqtest,e,q)\n",
    "    testwhole[2,14] = test2a18(freqtest,e,q)\n",
    "    return testwhole\n",
    "end"
   ]
  },
  {
   "cell_type": "code",
   "execution_count": 76,
   "id": "e0a1b297",
   "metadata": {},
   "outputs": [
    {
     "data": {
      "text/plain": [
       "settest3 (generic function with 1 method)"
      ]
     },
     "execution_count": 76,
     "metadata": {},
     "output_type": "execute_result"
    }
   ],
   "source": [
    "function settest3(testwhole,freqtest,e,q)\n",
    "    testwhole[3,1] = test2b(freqtest,e,q)\n",
    "    testwhole[3,2] = test2b1(freqtest,e,q)\n",
    "    testwhole[3,3] = test2b2(freqtest,e,q)\n",
    "    testwhole[3,4] = test2b3(freqtest,e,q)\n",
    "    testwhole[3,5] = test2b4(freqtest,e,q)\n",
    "    testwhole[3,6] = test2b11(freqtest,e,q)\n",
    "    testwhole[3,7] = test2b12(freqtest,e,q)\n",
    "    testwhole[3,8] = test2b13(freqtest,e,q)\n",
    "    testwhole[3,9] = test2b14(freqtest,e,q)\n",
    "    testwhole[3,10] = test2b15(freqtest,e,q)\n",
    "    testwhole[3,11] = test2b16(freqtest,e,q)\n",
    "    testwhole[3,12] = test2b17(freqtest,e,q)\n",
    "    testwhole[3,13] = test2b18(freqtest,e,q)\n",
    "    testwhole[3,14] = test2b21(freqtest,e,q)\n",
    "    testwhole[3,16] = test2b22(freqtest,e,q)\n",
    "    testwhole[3,17] = test2b23(freqtest,e,q)\n",
    "    testwhole[3,18] = test2b24(freqtest,e,q)\n",
    "    return testwhole\n",
    "end"
   ]
  },
  {
   "cell_type": "code",
   "execution_count": 77,
   "id": "61383abf",
   "metadata": {},
   "outputs": [
    {
     "data": {
      "text/plain": [
       "settest4 (generic function with 1 method)"
      ]
     },
     "execution_count": 77,
     "metadata": {},
     "output_type": "execute_result"
    }
   ],
   "source": [
    "function settest4(testwhole,freqtest,e,q)\n",
    "    testwhole[4,1] = test3(freqtest,e,q)\n",
    "    testwhole[4,2] = test31(freqtest,e,q)\n",
    "    testwhole[4,3] = test32(freqtest,e,q)\n",
    "    testwhole[4,4] = test33(freqtest,e,q)\n",
    "    testwhole[4,5] = test34(freqtest,e,q)\n",
    "    testwhole[4,6] = test35(freqtest,e,q)\n",
    "    testwhole[4,7] = test311(freqtest,e,q)\n",
    "    testwhole[4,8] = test312(freqtest,e,q)\n",
    "    testwhole[4,9] = test313(freqtest,e,q)\n",
    "    testwhole[4,10] = test314(freqtest,e,q)\n",
    "    testwhole[4,11] = test315(freqtest,e,q)\n",
    "    testwhole[4,12] = test316(freqtest,e,q)\n",
    "    testwhole[4,13] = test317(freqtest,e,q)\n",
    "    testwhole[4,14] = test318(freqtest,e,q)\n",
    "    return testwhole\n",
    "end"
   ]
  },
  {
   "cell_type": "code",
   "execution_count": 78,
   "id": "d6f3b31e",
   "metadata": {},
   "outputs": [
    {
     "data": {
      "text/plain": [
       "4×25 Matrix{Float64}:\n",
       " 0.0  0.0  0.0  0.0  0.0  0.0  0.0  0.0  …  0.0  0.0  0.0  0.0  0.0  0.0  0.0\n",
       " 0.0  0.0  0.0  0.0  0.0  0.0  0.0  0.0     0.0  0.0  0.0  0.0  0.0  0.0  0.0\n",
       " 0.0  0.0  0.0  0.0  0.0  0.0  0.0  0.0     0.0  0.0  0.0  0.0  0.0  0.0  0.0\n",
       " 0.0  0.0  0.0  0.0  0.0  0.0  0.0  0.0     0.0  0.0  0.0  0.0  0.0  0.0  0.0"
      ]
     },
     "execution_count": 78,
     "metadata": {},
     "output_type": "execute_result"
    }
   ],
   "source": [
    "count = zeros(4,25)"
   ]
  },
  {
   "cell_type": "code",
   "execution_count": 79,
   "id": "b524b4ce",
   "metadata": {},
   "outputs": [
    {
     "data": {
      "text/plain": [
       "setcount (generic function with 1 method)"
      ]
     },
     "execution_count": 79,
     "metadata": {},
     "output_type": "execute_result"
    }
   ],
   "source": [
    "function setcount(tau)\n",
    "    q = zeros(16)\n",
    "    for j = 1:16\n",
    "        q[j] = (1 / 16) * (1 + obs1[1, j] * obs1[2, j] * tau)\n",
    "    end\n",
    "    mean = k * q \n",
    "    meandia = diagm(q)\n",
    "    b = transpose(q)\n",
    "    c = q * b\n",
    "    d1 = meandia -c \n",
    "    cov = k * d1\n",
    "    d = MvNormal(mean, cov)\n",
    "    test123 = rand(d)\n",
    "    freqtest = (test123-mean)/sqrt(k)\n",
    "    testwhole = getforonetime(freqtest,tau,q)\n",
    "    sat = findmin(testwhole)\n",
    "    count[sat[2]] = count[sat[2]]+1\n",
    "    return testwhole\n",
    "end"
   ]
  },
  {
   "cell_type": "code",
   "execution_count": 82,
   "id": "d1d609e9",
   "metadata": {},
   "outputs": [
    {
     "name": "stdout",
     "output_type": "stream",
     "text": [
      "This is Ipopt version 3.14.4, running with linear solver MUMPS 5.4.1.\n",
      "\n",
      "Number of nonzeros in equality constraint Jacobian...:        3\n",
      "Number of nonzeros in inequality constraint Jacobian.:        5\n",
      "Number of nonzeros in Lagrangian Hessian.............:       21\n",
      "\n",
      "Total number of variables............................:        5\n",
      "                     variables with only lower bounds:        5\n",
      "                variables with lower and upper bounds:        0\n",
      "                     variables with only upper bounds:        0\n",
      "Total number of equality constraints.................:        1\n",
      "Total number of inequality constraints...............:        5\n",
      "        inequality constraints with only lower bounds:        0\n",
      "   inequality constraints with lower and upper bounds:        0\n",
      "        inequality constraints with only upper bounds:        5\n",
      "\n",
      "iter    objective    inf_pr   inf_du lg(mu)  ||d||  lg(rg) alpha_du alpha_pr  ls\n",
      "   0  1.0373196e+01 5.00e-01 7.96e-02  -1.0 0.00e+00    -  0.00e+00 0.00e+00   0\n",
      "   1  1.5359800e+01 4.14e-01 1.01e+06  -1.0 1.70e+03    -  5.82e-06 5.76e-04h  1\n",
      "   2  1.0728671e+01 5.94e-02 2.20e+05  -1.0 1.50e-01    -  1.62e-01 1.00e+00f  1\n",
      "   3  1.0149797e+01 2.08e-03 1.45e+04  -1.0 5.90e-02    -  9.90e-01 1.00e+00f  1\n",
      "   4  1.0225176e+01 2.87e-06 4.00e+01  -1.0 1.58e-02    -  9.90e-01 1.00e+00f  1\n",
      "   5  1.0170217e+01 2.28e-04 9.30e-01  -1.0 1.82e-02    -  1.00e+00 1.00e+00f  1\n",
      "   6  9.9143480e+00 4.49e-02 3.61e+00  -1.7 2.86e-01    -  4.89e-01 8.72e-01f  1\n",
      "   7  9.9071364e+00 1.27e-04 2.75e-01  -1.7 4.94e-02    -  1.00e+00 1.00e+00f  1\n",
      "   8  9.9071516e+00 5.67e-05 1.98e-03  -1.7 1.05e-02    -  1.00e+00 1.00e+00h  1\n",
      "   9  9.8879479e+00 1.09e-03 8.83e-02  -3.8 2.96e-02    -  9.44e-01 1.00e+00f  1\n",
      "iter    objective    inf_pr   inf_du lg(mu)  ||d||  lg(rg) alpha_du alpha_pr  ls\n",
      "  10  9.8825906e+00 4.32e-04 1.29e-02  -3.8 2.49e-02    -  1.00e+00 1.00e+00h  1\n",
      "  11  9.8817679e+00 1.01e-04 2.34e-03  -3.8 1.39e-02    -  1.00e+00 1.00e+00h  1\n",
      "  12  9.8816346e+00 1.21e-05 2.83e-04  -3.8 4.96e-03    -  1.00e+00 1.00e+00h  1\n",
      "  13  9.8813669e+00 1.17e-05 2.73e-04  -5.7 4.66e-03    -  1.00e+00 1.00e+00h  1\n",
      "  14  9.8813418e+00 7.62e-07 1.78e-05  -5.7 1.24e-03    -  1.00e+00 1.00e+00h  1\n",
      "  15  9.8813366e+00 1.45e-08 3.39e-07  -8.6 1.69e-04    -  1.00e+00 1.00e+00h  1\n",
      "  16  9.8813366e+00 1.40e-12 3.27e-11  -8.6 1.69e-06    -  1.00e+00 1.00e+00h  1\n",
      "\n",
      "Number of Iterations....: 16\n",
      "\n",
      "                                   (scaled)                 (unscaled)\n",
      "Objective...............:   9.8813366154261981e+00    9.8813366154261981e+00\n",
      "Dual infeasibility......:   3.2714738977383497e-11    3.2714738977383497e-11\n",
      "Constraint violation....:   1.4006018567158662e-12    1.4006018567158662e-12\n",
      "Variable bound violation:   0.0000000000000000e+00    0.0000000000000000e+00\n",
      "Complementarity.........:   2.5092573066586096e-09    2.5092573066586096e-09\n",
      "Overall NLP error.......:   2.5092573066586096e-09    2.5092573066586096e-09\n",
      "\n",
      "\n",
      "Number of objective function evaluations             = 17\n",
      "Number of objective gradient evaluations             = 17\n",
      "Number of equality constraint evaluations            = 17\n",
      "Number of inequality constraint evaluations          = 17\n",
      "Number of equality constraint Jacobian evaluations   = 17\n",
      "Number of inequality constraint Jacobian evaluations = 17\n",
      "Number of Lagrangian Hessian evaluations             = 16\n",
      "Total seconds in IPOPT                               = 0.005\n",
      "\n",
      "EXIT: Optimal Solution Found.\n",
      "This is Ipopt version 3.14.4, running with linear solver MUMPS 5.4.1.\n",
      "\n",
      "Number of nonzeros in equality constraint Jacobian...:        2\n",
      "Number of nonzeros in inequality constraint Jacobian.:        4\n",
      "Number of nonzeros in Lagrangian Hessian.............:       13\n",
      "\n",
      "Total number of variables............................:        4\n",
      "                     variables with only lower bounds:        4\n",
      "                variables with lower and upper bounds:        0\n",
      "                     variables with only upper bounds:        0\n",
      "Total number of equality constraints.................:        1\n",
      "Total number of inequality constraints...............:        4\n",
      "        inequality constraints with only lower bounds:        0\n",
      "   inequality constraints with lower and upper bounds:        0\n",
      "        inequality constraints with only upper bounds:        4\n",
      "\n",
      "iter    objective    inf_pr   inf_du lg(mu)  ||d||  lg(rg) alpha_du alpha_pr  ls\n",
      "   0  1.0228430e+01 5.00e-01 6.39e+00  -1.0 0.00e+00    -  0.00e+00 0.00e+00   0\n",
      "   1  1.2285117e+01 4.55e-01 1.02e+04  -1.0 2.53e+01    -  3.92e-04 3.87e-02h  1\n",
      "   2  1.0375886e+01 5.42e-02 1.85e+03  -1.0 2.35e-01    -  6.71e-02 1.00e+00f  1\n",
      "   3  1.0022072e+01 1.33e-03 8.54e+01  -1.0 3.97e-02    -  9.90e-01 1.00e+00f  1\n",
      "   4  1.0015745e+01 1.68e-05 6.05e-01  -1.0 5.06e-03    -  9.90e-01 1.00e+00h  1\n",
      "   5  9.9298005e+00 1.51e-02 1.28e+00  -1.0 1.25e-01    -  1.00e+00 1.00e+00f  1\n",
      "   6  9.9388983e+00 3.56e-04 4.63e-02  -1.0 2.68e-02    -  1.00e+00 1.00e+00h  1\n",
      "   7  9.8977646e+00 1.56e-03 1.58e-01  -2.5 4.68e-02    -  9.46e-01 1.00e+00f  1\n",
      "   8  9.8855411e+00 1.66e-03 6.74e-02  -2.5 5.23e-02    -  1.00e+00 1.00e+00h  1\n",
      "   9  9.8834900e+00 2.97e-04 6.92e-03  -2.5 2.44e-02    -  1.00e+00 1.00e+00h  1\n",
      "iter    objective    inf_pr   inf_du lg(mu)  ||d||  lg(rg) alpha_du alpha_pr  ls\n",
      "  10  9.8819524e+00 2.62e-04 6.12e-03  -3.8 2.22e-02    -  1.00e+00 1.00e+00h  1\n",
      "  11  9.8815639e+00 6.56e-05 1.53e-03  -3.8 1.15e-02    -  1.00e+00 1.00e+00h  1\n",
      "  12  9.8814780e+00 6.36e-06 1.48e-04  -3.8 3.60e-03    -  1.00e+00 1.00e+00h  1\n",
      "  13  9.8813600e+00 1.02e-05 2.39e-04  -5.7 4.50e-03    -  1.00e+00 1.00e+00h  1\n",
      "  14  9.8813396e+00 6.04e-07 1.41e-05  -5.7 1.11e-03    -  1.00e+00 1.00e+00h  1\n",
      "  15  9.8813366e+00 1.15e-08 2.68e-07  -8.6 1.52e-04    -  1.00e+00 1.00e+00h  1\n",
      "  16  9.8813366e+00 8.81e-13 2.06e-11  -8.6 1.34e-06    -  1.00e+00 1.00e+00h  1\n",
      "\n",
      "Number of Iterations....: 16\n",
      "\n",
      "                                   (scaled)                 (unscaled)\n",
      "Objective...............:   9.8813366172539361e+00    9.8813366172539361e+00\n",
      "Dual infeasibility......:   2.0592263444530995e-11    2.0592263444530995e-11\n",
      "Constraint violation....:   8.8123952579621800e-13    8.8123952579621800e-13\n",
      "Variable bound violation:   0.0000000000000000e+00    0.0000000000000000e+00\n",
      "Complementarity.........:   2.5080159616414464e-09    2.5080159616414464e-09\n",
      "Overall NLP error.......:   2.5080159616414464e-09    2.5080159616414464e-09\n",
      "\n",
      "\n",
      "Number of objective function evaluations             = 17\n",
      "Number of objective gradient evaluations             = 17\n",
      "Number of equality constraint evaluations            = 17\n",
      "Number of inequality constraint evaluations          = 17\n",
      "Number of equality constraint Jacobian evaluations   = 17\n",
      "Number of inequality constraint Jacobian evaluations = 17\n",
      "Number of Lagrangian Hessian evaluations             = 16\n",
      "Total seconds in IPOPT                               = 0.004\n",
      "\n",
      "EXIT: Optimal Solution Found.\n",
      "This is Ipopt version 3.14.4, running with linear solver MUMPS 5.4.1.\n",
      "\n",
      "Number of nonzeros in equality constraint Jacobian...:        2\n",
      "Number of nonzeros in inequality constraint Jacobian.:        4\n",
      "Number of nonzeros in Lagrangian Hessian.............:       13\n",
      "\n",
      "Total number of variables............................:        4\n",
      "                     variables with only lower bounds:        4\n",
      "                variables with lower and upper bounds:        0\n",
      "                     variables with only upper bounds:        0\n",
      "Total number of equality constraints.................:        1\n",
      "Total number of inequality constraints...............:        4\n",
      "        inequality constraints with only lower bounds:        0\n",
      "   inequality constraints with lower and upper bounds:        0\n",
      "        inequality constraints with only upper bounds:        4\n",
      "\n",
      "iter    objective    inf_pr   inf_du lg(mu)  ||d||  lg(rg) alpha_du alpha_pr  ls\n",
      "   0  1.0396107e+01 5.00e-01 1.88e+00  -1.0 0.00e+00    -  0.00e+00 0.00e+00   0\n",
      "   1  1.0392606e+01 4.79e-01 1.90e+02  -1.0 2.53e+01    -  3.92e-04 5.38e-03f  1\n",
      "   2  1.0794202e+01 4.59e-01 6.83e+03  -1.0 1.68e+00    -  9.90e-01 5.03e-01h  1\n",
      "   3  1.0720805e+01 5.49e-02 2.51e+03  -1.0 2.41e-01   4.0 4.49e-02 1.00e+00f  1\n",
      "   4  1.0783823e+01 1.45e-03 4.56e+02  -1.0 8.75e-02   3.5 9.35e-01 1.00e+00h  1\n",
      "   5  1.0701330e+01 2.88e-07 5.97e+00  -1.0 5.38e-03   3.0 9.95e-01 1.00e+00f  1\n",
      "   6  1.0475748e+01 5.25e-04 4.18e+00  -1.0 8.44e-02    -  1.00e+00 3.00e-01f  2\n",
      "   7  1.0371623e+01 5.92e-03 2.48e-01  -1.0 8.74e-02    -  1.00e+00 1.00e+00f  1\n",
      "   8  1.0272989e+01 4.94e-02 1.91e+00  -1.7 2.23e-01    -  6.66e-01 1.00e+00f  1\n",
      "   9  1.0232044e+01 1.76e-03 2.36e-01  -1.7 9.40e-02    -  1.00e+00 9.59e-01h  1\n",
      "iter    objective    inf_pr   inf_du lg(mu)  ||d||  lg(rg) alpha_du alpha_pr  ls\n",
      "  10  1.0247835e+01 7.85e-04 5.43e-02  -1.7 3.79e-02    -  1.00e+00 1.00e+00f  1\n",
      "  11  1.0234114e+01 3.83e-04 8.96e-03  -2.5 2.74e-02    -  1.00e+00 1.00e+00h  1\n",
      "  12  1.0229525e+01 5.68e-05 1.22e-03  -3.8 1.09e-02    -  1.00e+00 1.00e+00h  1\n",
      "  13  1.0229311e+01 1.03e-07 1.62e-06  -5.7 5.14e-04    -  1.00e+00 1.00e+00h  1\n",
      "  14  1.0229309e+01 1.20e-11 1.84e-10  -8.6 4.99e-06    -  1.00e+00 1.00e+00h  1\n",
      "\n",
      "Number of Iterations....: 14\n",
      "\n",
      "                                   (scaled)                 (unscaled)\n",
      "Objective...............:   1.0229309349627226e+01    1.0229309349627226e+01\n",
      "Dual infeasibility......:   1.8437372888355073e-10    1.8437372888355073e-10\n",
      "Constraint violation....:   1.1953826817290292e-11    1.1953826817290292e-11\n",
      "Variable bound violation:   0.0000000000000000e+00    0.0000000000000000e+00\n",
      "Complementarity.........:   2.5339748736325898e-09    2.5339748736325898e-09\n",
      "Overall NLP error.......:   2.5339748736325898e-09    2.5339748736325898e-09\n",
      "\n",
      "\n",
      "Number of objective function evaluations             = 19\n",
      "Number of objective gradient evaluations             = 15\n",
      "Number of equality constraint evaluations            = 19\n",
      "Number of inequality constraint evaluations          = 19\n",
      "Number of equality constraint Jacobian evaluations   = 15\n",
      "Number of inequality constraint Jacobian evaluations = 15\n",
      "Number of Lagrangian Hessian evaluations             = 14\n",
      "Total seconds in IPOPT                               = 0.004\n",
      "\n",
      "EXIT: Optimal Solution Found.\n",
      "This is Ipopt version 3.14.4, running with linear solver MUMPS 5.4.1.\n",
      "\n",
      "Number of nonzeros in equality constraint Jacobian...:        3\n",
      "Number of nonzeros in inequality constraint Jacobian.:        4\n",
      "Number of nonzeros in Lagrangian Hessian.............:       16\n",
      "\n",
      "Total number of variables............................:        4\n",
      "                     variables with only lower bounds:        4\n",
      "                variables with lower and upper bounds:        0\n",
      "                     variables with only upper bounds:        0\n",
      "Total number of equality constraints.................:        1\n",
      "Total number of inequality constraints...............:        4\n",
      "        inequality constraints with only lower bounds:        0\n",
      "   inequality constraints with lower and upper bounds:        0\n",
      "        inequality constraints with only upper bounds:        4\n",
      "\n",
      "iter    objective    inf_pr   inf_du lg(mu)  ||d||  lg(rg) alpha_du alpha_pr  ls\n",
      "   0  1.0374791e+01 5.00e-01 1.82e-03  -1.0 0.00e+00    -  0.00e+00 0.00e+00   0\n",
      "   1  1.0256160e+01 4.69e-01 9.68e+05  -1.0 1.67e+03    -  5.94e-06 5.88e-04f  1\n",
      "   2  1.0110416e+01 7.16e-02 2.20e+05  -1.0 1.60e-01    -  1.39e-01 1.00e+00f  1\n",
      "   3  1.0132232e+01 2.94e-03 1.68e+04  -1.0 3.47e-02    -  9.90e-01 1.00e+00h  1\n",
      "   4  1.0133965e+01 5.74e-06 6.57e+01  -1.0 1.59e-03    -  9.90e-01 1.00e+00h  1\n",
      "   5  1.0125338e+01 4.84e-05 7.42e-01  -1.0 8.99e-03    -  1.00e+00 1.00e+00f  1\n",
      "   6  9.9623826e+00 3.79e-02 2.47e+00  -1.7 2.38e-01    -  5.22e-01 1.00e+00f  1\n",
      "   7  9.9384568e+00 8.93e-04 2.25e-01  -1.7 2.64e-02    -  1.00e+00 1.00e+00h  1\n",
      "   8  9.9394191e+00 2.41e-06 6.78e-04  -1.7 1.87e-03    -  1.00e+00 1.00e+00h  1\n",
      "   9  9.9274493e+00 1.30e-03 5.50e-02  -3.8 3.34e-02    -  9.34e-01 1.00e+00f  1\n",
      "iter    objective    inf_pr   inf_du lg(mu)  ||d||  lg(rg) alpha_du alpha_pr  ls\n",
      "  10  9.9231528e+00 5.67e-04 2.45e-02  -3.8 2.05e-02    -  1.00e+00 1.00e+00h  1\n",
      "  11  9.9218823e+00 1.59e-04 5.14e-03  -3.8 1.05e-02    -  1.00e+00 1.00e+00h  1\n",
      "  12  9.9215530e+00 2.42e-05 6.85e-04  -3.8 4.08e-03    -  1.00e+00 1.00e+00h  1\n",
      "  13  9.9213225e+00 2.18e-05 5.84e-04  -5.7 3.84e-03    -  1.00e+00 1.00e+00h  1\n",
      "  14  9.9212603e+00 2.59e-06 6.46e-05  -5.7 1.33e-03    -  1.00e+00 1.00e+00h  1\n",
      "  15  9.9212523e+00 5.04e-08 1.23e-06  -5.7 1.85e-04    -  1.00e+00 1.00e+00h  1\n",
      "  16  9.9212485e+00 1.18e-08 2.89e-07  -8.6 8.86e-05    -  1.00e+00 1.00e+00h  1\n",
      "  17  9.9212485e+00 1.28e-12 3.11e-11  -8.6 9.30e-07    -  1.00e+00 1.00e+00h  1\n",
      "\n",
      "Number of Iterations....: 17\n",
      "\n",
      "                                   (scaled)                 (unscaled)\n",
      "Objective...............:   9.9212485032632021e+00    9.9212485032632021e+00\n",
      "Dual infeasibility......:   3.1056739428376475e-11    3.1056739428376475e-11\n",
      "Constraint violation....:   1.2759238110504612e-12    1.2759238110504612e-12\n",
      "Variable bound violation:   0.0000000000000000e+00    0.0000000000000000e+00\n",
      "Complementarity.........:   2.5079539132070409e-09    2.5079539132070409e-09\n",
      "Overall NLP error.......:   2.5079539132070409e-09    2.5079539132070409e-09\n",
      "\n",
      "\n",
      "Number of objective function evaluations             = 18\n",
      "Number of objective gradient evaluations             = 18\n",
      "Number of equality constraint evaluations            = 18\n",
      "Number of inequality constraint evaluations          = 18\n",
      "Number of equality constraint Jacobian evaluations   = 18\n",
      "Number of inequality constraint Jacobian evaluations = 18\n",
      "Number of Lagrangian Hessian evaluations             = 17\n",
      "Total seconds in IPOPT                               = 0.005\n",
      "\n",
      "EXIT: Optimal Solution Found.\n",
      "This is Ipopt version 3.14.4, running with linear solver MUMPS 5.4.1.\n",
      "\n",
      "Number of nonzeros in equality constraint Jacobian...:        3\n",
      "Number of nonzeros in inequality constraint Jacobian.:        4\n",
      "Number of nonzeros in Lagrangian Hessian.............:       16\n",
      "\n",
      "Total number of variables............................:        4\n",
      "                     variables with only lower bounds:        4\n",
      "                variables with lower and upper bounds:        0\n",
      "                     variables with only upper bounds:        0\n",
      "Total number of equality constraints.................:        1\n",
      "Total number of inequality constraints...............:        4\n",
      "        inequality constraints with only lower bounds:        0\n",
      "   inequality constraints with lower and upper bounds:        0\n",
      "        inequality constraints with only upper bounds:        4\n",
      "\n",
      "iter    objective    inf_pr   inf_du lg(mu)  ||d||  lg(rg) alpha_du alpha_pr  ls\n",
      "   0  1.0373174e+01 5.00e-01 7.96e-02  -1.0 0.00e+00    -  0.00e+00 0.00e+00   0\n",
      "   1  1.5489439e+01 4.16e-01 1.01e+06  -1.0 1.70e+03    -  5.83e-06 5.77e-04h  1\n",
      "   2  1.1001821e+01 5.98e-02 2.21e+05  -1.0 1.50e-01    -  1.61e-01 1.00e+00f  1\n",
      "   3  1.0399398e+01 2.11e-03 1.46e+04  -1.0 5.92e-02    -  9.90e-01 1.00e+00f  1\n",
      "   4  1.0473923e+01 2.94e-06 4.05e+01  -1.0 1.59e-02    -  9.90e-01 1.00e+00f  1\n",
      "   5  1.0438980e+01 3.29e-05 3.69e-01  -1.0 7.59e-03    -  1.00e+00 1.00e+00f  1\n",
      "   6  1.0371775e+01 4.97e-03 4.20e-02  -1.7 9.59e-02    -  9.79e-01 1.00e+00f  1\n",
      "   7  1.0348069e+01 1.10e-03 5.48e-02  -2.5 5.34e-02   0.0 1.00e+00 1.00e+00h  1\n",
      "   8  1.0334725e+01 6.11e-04 8.15e-02  -2.5 4.02e-02  -0.5 1.00e+00 8.40e-01h  1\n",
      "   9  1.0337718e+01 1.92e-05 3.24e-03  -2.5 6.79e-03    -  1.00e+00 1.00e+00f  1\n",
      "iter    objective    inf_pr   inf_du lg(mu)  ||d||  lg(rg) alpha_du alpha_pr  ls\n",
      "  10  1.0335084e+01 1.51e-05 1.45e-04  -3.8 6.32e-03    -  1.00e+00 1.00e+00h  1\n",
      "  11  1.0334859e+01 1.14e-07 4.75e-06  -5.7 5.61e-04    -  1.00e+00 1.00e+00h  1\n",
      "  12  1.0334857e+01 9.51e-12 1.93e-10  -8.6 5.11e-06    -  1.00e+00 1.00e+00h  1\n",
      "\n",
      "Number of Iterations....: 12\n",
      "\n",
      "                                   (scaled)                 (unscaled)\n",
      "Objective...............:   1.0334856770553564e+01    1.0334856770553564e+01\n",
      "Dual infeasibility......:   1.9334945755875678e-10    1.9334945755875678e-10\n",
      "Constraint violation....:   9.5068397598652155e-12    9.5068397598652155e-12\n",
      "Variable bound violation:   0.0000000000000000e+00    0.0000000000000000e+00\n",
      "Complementarity.........:   2.5466486842006680e-09    2.5466486842006680e-09\n",
      "Overall NLP error.......:   2.5466486842006680e-09    2.5466486842006680e-09\n",
      "\n",
      "\n",
      "Number of objective function evaluations             = 13\n",
      "Number of objective gradient evaluations             = 13\n",
      "Number of equality constraint evaluations            = 13\n",
      "Number of inequality constraint evaluations          = 13\n",
      "Number of equality constraint Jacobian evaluations   = 13\n",
      "Number of inequality constraint Jacobian evaluations = 13\n",
      "Number of Lagrangian Hessian evaluations             = 12\n",
      "Total seconds in IPOPT                               = 0.004\n",
      "\n",
      "EXIT: Optimal Solution Found.\n",
      "This is Ipopt version 3.14.4, running with linear solver MUMPS 5.4.1.\n",
      "\n",
      "Number of nonzeros in equality constraint Jacobian...:        2\n",
      "Number of nonzeros in inequality constraint Jacobian.:        4\n",
      "Number of nonzeros in Lagrangian Hessian.............:       13\n",
      "\n",
      "Total number of variables............................:        4\n",
      "                     variables with only lower bounds:        4\n",
      "                variables with lower and upper bounds:        0\n",
      "                     variables with only upper bounds:        0\n",
      "Total number of equality constraints.................:        1\n",
      "Total number of inequality constraints...............:        4\n",
      "        inequality constraints with only lower bounds:        0\n",
      "   inequality constraints with lower and upper bounds:        0\n",
      "        inequality constraints with only upper bounds:        4\n",
      "\n",
      "iter    objective    inf_pr   inf_du lg(mu)  ||d||  lg(rg) alpha_du alpha_pr  ls\n",
      "   0  1.0373981e+01 5.00e-01 1.38e-01  -1.0 0.00e+00    -  0.00e+00 0.00e+00   0\n",
      "   1  1.0304643e+01 4.76e-01 2.28e+02  -1.0 2.50e+01    -  3.97e-04 5.76e-03f  1\n",
      "   2  1.1225474e+01 1.73e-01 1.69e+03  -1.0 1.55e+00    -  5.41e-02 2.70e-01h  2\n",
      "   3  1.2280259e+01 2.28e-02 2.87e+03  -1.0 1.51e-01   4.0 9.90e-01 1.00e+00h  1\n",
      "   4  1.0107010e+01 2.48e-04 9.17e+01  -1.0 1.40e-01    -  9.90e-01 1.00e+00f  1\n",
      "   5  1.0127522e+01 3.99e-05 8.31e-01  -1.0 6.49e-03    -  1.00e+00 1.00e+00f  1\n",
      "   6  9.9276925e+00 4.45e-02 3.31e+00  -1.7 2.13e-01    -  6.61e-01 1.00e+00f  1\n",
      "   7  9.8863426e+00 8.55e-04 6.24e-01  -1.7 6.62e-02    -  1.00e+00 1.00e+00h  1\n",
      "   8  9.8990697e+00 3.80e-04 2.89e-02  -1.7 2.82e-02    -  1.00e+00 1.00e+00f  1\n",
      "   9  9.8861588e+00 2.95e-04 1.09e-02  -2.5 2.38e-02    -  1.00e+00 1.00e+00h  1\n",
      "iter    objective    inf_pr   inf_du lg(mu)  ||d||  lg(rg) alpha_du alpha_pr  ls\n",
      "  10  9.8816186e+00 5.24e-05 8.32e-04  -3.8 1.04e-02    -  1.00e+00 1.00e+00h  1\n",
      "  11  9.8813386e+00 2.07e-07 7.46e-06  -5.7 6.97e-04    -  1.00e+00 1.00e+00h  1\n",
      "  12  9.8813366e+00 1.09e-11 2.07e-10  -8.6 4.88e-06    -  1.00e+00 1.00e+00h  1\n",
      "\n",
      "Number of Iterations....: 12\n",
      "\n",
      "                                   (scaled)                 (unscaled)\n",
      "Objective...............:   9.8813366131652138e+00    9.8813366131652138e+00\n",
      "Dual infeasibility......:   2.0705606919371229e-10    2.0705606919371229e-10\n",
      "Constraint violation....:   1.0899059432745162e-11    1.0899059432745162e-11\n",
      "Variable bound violation:   0.0000000000000000e+00    0.0000000000000000e+00\n",
      "Complementarity.........:   2.5456821406557382e-09    2.5456821406557382e-09\n",
      "Overall NLP error.......:   2.5456821406557382e-09    2.5456821406557382e-09\n",
      "\n",
      "\n",
      "Number of objective function evaluations             = 15\n",
      "Number of objective gradient evaluations             = 13\n",
      "Number of equality constraint evaluations            = 15\n",
      "Number of inequality constraint evaluations          = 15\n",
      "Number of equality constraint Jacobian evaluations   = 13\n",
      "Number of inequality constraint Jacobian evaluations = 13\n",
      "Number of Lagrangian Hessian evaluations             = 12\n",
      "Total seconds in IPOPT                               = 0.004\n",
      "\n",
      "EXIT: Optimal Solution Found.\n",
      "This is Ipopt version 3.14.4, running with linear solver MUMPS 5.4.1.\n",
      "\n",
      "Number of nonzeros in equality constraint Jacobian...:        2\n",
      "Number of nonzeros in inequality constraint Jacobian.:        3\n",
      "Number of nonzeros in Lagrangian Hessian.............:        9\n",
      "\n",
      "Total number of variables............................:        3\n",
      "                     variables with only lower bounds:        3\n",
      "                variables with lower and upper bounds:        0\n",
      "                     variables with only upper bounds:        0\n",
      "Total number of equality constraints.................:        1\n",
      "Total number of inequality constraints...............:        3\n",
      "        inequality constraints with only lower bounds:        0\n",
      "   inequality constraints with lower and upper bounds:        0\n",
      "        inequality constraints with only upper bounds:        3\n",
      "\n",
      "iter    objective    inf_pr   inf_du lg(mu)  ||d||  lg(rg) alpha_du alpha_pr  ls\n",
      "   0  1.0373264e+01 5.00e-01 7.51e-02  -1.0 0.00e+00    -  0.00e+00 0.00e+00   0\n",
      "   1  1.2197032e+01 4.55e-01 1.02e+04  -1.0 2.53e+01    -  3.92e-04 3.87e-02h  1\n",
      "   2  1.0310125e+01 5.42e-02 1.85e+03  -1.0 2.35e-01    -  6.71e-02 1.00e+00f  1\n",
      "   3  1.0043840e+01 1.33e-03 8.54e+01  -1.0 3.97e-02    -  9.90e-01 1.00e+00f  1\n",
      "   4  1.0034496e+01 1.68e-05 6.05e-01  -1.0 5.06e-03    -  9.90e-01 1.00e+00h  1\n",
      "   5  9.9593800e+00 1.51e-02 1.28e+00  -1.0 1.25e-01    -  1.00e+00 1.00e+00f  1\n",
      "   6  9.9580218e+00 3.57e-04 4.64e-02  -1.0 2.68e-02    -  1.00e+00 1.00e+00h  1\n",
      "   7  9.9363671e+00 1.56e-03 5.08e-02  -2.5 4.68e-02    -  9.46e-01 1.00e+00f  1\n",
      "   8  9.9260216e+00 1.66e-03 6.74e-02  -2.5 5.23e-02    -  1.00e+00 1.00e+00h  1\n",
      "   9  9.9234797e+00 2.97e-04 5.01e-03  -2.5 2.44e-02    -  1.00e+00 1.00e+00h  1\n",
      "iter    objective    inf_pr   inf_du lg(mu)  ||d||  lg(rg) alpha_du alpha_pr  ls\n",
      "  10  9.9219723e+00 2.62e-04 4.04e-03  -3.8 2.22e-02    -  1.00e+00 1.00e+00h  1\n",
      "  11  9.9215028e+00 6.56e-05 9.43e-04  -3.8 1.15e-02    -  1.00e+00 1.00e+00h  1\n",
      "  12  9.9213057e+00 2.34e-05 2.69e-04  -5.7 6.84e-03    -  1.00e+00 1.00e+00h  1\n",
      "  13  9.9212558e+00 2.34e-06 2.59e-05  -5.7 2.18e-03    -  1.00e+00 1.00e+00h  1\n",
      "  14  9.9212504e+00 3.17e-08 3.39e-07  -5.7 2.54e-04    -  1.00e+00 1.00e+00h  1\n",
      "  15  9.9212485e+00 3.98e-09 4.06e-08  -8.6 8.93e-05    -  1.00e+00 1.00e+00h  1\n",
      "  16  9.9212485e+00 1.11e-13 1.16e-12  -8.6 4.76e-07    -  1.00e+00 1.00e+00h  1\n",
      "\n",
      "Number of Iterations....: 16\n",
      "\n",
      "                                   (scaled)                 (unscaled)\n",
      "Objective...............:   9.9212485009661204e+00    9.9212485009661204e+00\n",
      "Dual infeasibility......:   1.1609819414192085e-12    1.1609819414192085e-12\n",
      "Constraint violation....:   1.1141088052113446e-13    1.1141088052113446e-13\n",
      "Variable bound violation:   0.0000000000000000e+00    0.0000000000000000e+00\n",
      "Complementarity.........:   2.5061708756867416e-09    2.5061708756867416e-09\n",
      "Overall NLP error.......:   2.5061708756867416e-09    2.5061708756867416e-09\n",
      "\n",
      "\n",
      "Number of objective function evaluations             = 17\n",
      "Number of objective gradient evaluations             = 17\n",
      "Number of equality constraint evaluations            = 17\n",
      "Number of inequality constraint evaluations          = 17\n",
      "Number of equality constraint Jacobian evaluations   = 17\n",
      "Number of inequality constraint Jacobian evaluations = 17\n",
      "Number of Lagrangian Hessian evaluations             = 16\n",
      "Total seconds in IPOPT                               = 0.004\n",
      "\n",
      "EXIT: Optimal Solution Found.\n",
      "This is Ipopt version 3.14.4, running with linear solver MUMPS 5.4.1.\n",
      "\n",
      "Number of nonzeros in equality constraint Jacobian...:        2\n",
      "Number of nonzeros in inequality constraint Jacobian.:        3\n",
      "Number of nonzeros in Lagrangian Hessian.............:        9\n",
      "\n",
      "Total number of variables............................:        3\n",
      "                     variables with only lower bounds:        3\n",
      "                variables with lower and upper bounds:        0\n",
      "                     variables with only upper bounds:        0\n",
      "Total number of equality constraints.................:        1\n",
      "Total number of inequality constraints...............:        3\n",
      "        inequality constraints with only lower bounds:        0\n",
      "   inequality constraints with lower and upper bounds:        0\n",
      "        inequality constraints with only upper bounds:        3\n",
      "\n",
      "iter    objective    inf_pr   inf_du lg(mu)  ||d||  lg(rg) alpha_du alpha_pr  ls\n",
      "   0  1.0229934e+01 5.00e-01 6.39e+00  -1.0 0.00e+00    -  0.00e+00 0.00e+00   0\n",
      "   1  1.0470066e+01 4.80e-01 9.76e+03  -1.0 2.50e+01    -  3.98e-04 3.92e-02h  1\n",
      "   2  1.0442662e+01 5.88e-02 1.81e+03  -1.0 2.43e-01    -  6.39e-02 1.00e+00f  1\n",
      "   3  1.0353329e+01 1.55e-03 8.95e+01  -1.0 3.93e-02    -  9.90e-01 1.00e+00h  1\n",
      "   4  1.0356021e+01 1.19e-06 1.38e-01  -1.0 1.19e-03    -  9.90e-01 1.00e+00h  1\n",
      "   5  1.0355886e+01 7.14e-13 1.16e-06  -1.0 4.07e-05    -  1.00e+00 1.00e+00h  1\n",
      "   6  1.0336956e+01 1.11e-16 2.83e-08  -2.5 8.77e-03    -  1.00e+00 1.00e+00f  1\n",
      "   7  1.0334912e+01 1.11e-16 1.50e-09  -3.8 3.39e-03    -  1.00e+00 1.00e+00f  1\n",
      "   8  1.0334857e+01 1.11e-16 1.50e-09  -3.8 6.06e-04    -  1.00e+00 1.00e+00f  1\n",
      "   9  1.0334857e+01 0.00e+00 1.84e-11  -5.7 5.33e-05    -  1.00e+00 1.00e+00f  1\n",
      "iter    objective    inf_pr   inf_du lg(mu)  ||d||  lg(rg) alpha_du alpha_pr  ls\n",
      "  10  1.0334857e+01 0.00e+00 3.19e-14  -8.6 5.69e-07    -  1.00e+00 1.00e+00f  1\n",
      "\n",
      "Number of Iterations....: 10\n",
      "\n",
      "                                   (scaled)                 (unscaled)\n",
      "Objective...............:   1.0334856772132886e+01    1.0334856772132886e+01\n",
      "Dual infeasibility......:   3.1931509878997764e-14    3.1931509878997764e-14\n",
      "Constraint violation....:   0.0000000000000000e+00    0.0000000000000000e+00\n",
      "Variable bound violation:   0.0000000000000000e+00    0.0000000000000000e+00\n",
      "Complementarity.........:   2.5886503504205455e-09    2.5886503504205455e-09\n",
      "Overall NLP error.......:   2.5886503504205455e-09    2.5886503504205455e-09\n",
      "\n",
      "\n",
      "Number of objective function evaluations             = 11\n",
      "Number of objective gradient evaluations             = 11\n",
      "Number of equality constraint evaluations            = 11\n",
      "Number of inequality constraint evaluations          = 11\n",
      "Number of equality constraint Jacobian evaluations   = 11\n",
      "Number of inequality constraint Jacobian evaluations = 11\n",
      "Number of Lagrangian Hessian evaluations             = 10\n",
      "Total seconds in IPOPT                               = 0.003\n",
      "\n",
      "EXIT: Optimal Solution Found.\n",
      "This is Ipopt version 3.14.4, running with linear solver MUMPS 5.4.1.\n",
      "\n",
      "Number of nonzeros in equality constraint Jacobian...:        2\n",
      "Number of nonzeros in inequality constraint Jacobian.:        3\n",
      "Number of nonzeros in Lagrangian Hessian.............:        9\n",
      "\n",
      "Total number of variables............................:        3\n",
      "                     variables with only lower bounds:        3\n",
      "                variables with lower and upper bounds:        0\n",
      "                     variables with only upper bounds:        0\n",
      "Total number of equality constraints.................:        1\n",
      "Total number of inequality constraints...............:        3\n",
      "        inequality constraints with only lower bounds:        0\n",
      "   inequality constraints with lower and upper bounds:        0\n",
      "        inequality constraints with only upper bounds:        3\n",
      "\n",
      "iter    objective    inf_pr   inf_du lg(mu)  ||d||  lg(rg) alpha_du alpha_pr  ls\n",
      "   0  1.0395390e+01 5.00e-01 1.88e+00  -1.0 0.00e+00    -  0.00e+00 0.00e+00   0\n",
      "   1  1.0228412e+01 4.80e-01 9.76e+03  -1.0 2.50e+01    -  3.98e-04 3.92e-02f  1\n",
      "   2  1.0262800e+01 5.88e-02 1.81e+03  -1.0 2.43e-01    -  6.39e-02 1.00e+00f  1\n",
      "   3  1.0280322e+01 1.55e-03 8.95e+01  -1.0 3.93e-02    -  9.90e-01 1.00e+00h  1\n",
      "   4  1.0282217e+01 1.19e-06 1.38e-01  -1.0 1.09e-03    -  9.90e-01 1.00e+00h  1\n",
      "   5  1.0282204e+01 7.14e-13 1.16e-06  -1.0 5.38e-06    -  1.00e+00 1.00e+00h  1\n",
      "   6  1.0269900e+01 0.00e+00 2.83e-08  -2.5 7.77e-03    -  1.00e+00 1.00e+00f  1\n",
      "   7  1.0269225e+01 0.00e+00 1.50e-09  -3.8 2.13e-03    -  1.00e+00 1.00e+00f  1\n",
      "   8  1.0269221e+01 0.00e+00 1.84e-11  -5.7 1.75e-04    -  1.00e+00 1.00e+00f  1\n",
      "   9  1.0269221e+01 0.00e+00 2.51e-14  -8.6 1.32e-06    -  1.00e+00 1.00e+00f  1\n",
      "\n",
      "Number of Iterations....: 9\n",
      "\n",
      "                                   (scaled)                 (unscaled)\n",
      "Objective...............:   1.0269221234928594e+01    1.0269221234928594e+01\n",
      "Dual infeasibility......:   2.5102912370317254e-14    2.5102912370317254e-14\n",
      "Constraint violation....:   0.0000000000000000e+00    0.0000000000000000e+00\n",
      "Variable bound violation:   0.0000000000000000e+00    0.0000000000000000e+00\n",
      "Complementarity.........:   2.9529494483222751e-09    2.9529494483222751e-09\n",
      "Overall NLP error.......:   2.9529494483222751e-09    2.9529494483222751e-09\n",
      "\n",
      "\n",
      "Number of objective function evaluations             = 10\n",
      "Number of objective gradient evaluations             = 10\n",
      "Number of equality constraint evaluations            = 10\n",
      "Number of inequality constraint evaluations          = 10\n",
      "Number of equality constraint Jacobian evaluations   = 10\n",
      "Number of inequality constraint Jacobian evaluations = 10\n",
      "Number of Lagrangian Hessian evaluations             = 9\n",
      "Total seconds in IPOPT                               = 0.002\n",
      "\n",
      "EXIT: Optimal Solution Found.\n",
      "This is Ipopt version 3.14.4, running with linear solver MUMPS 5.4.1.\n",
      "\n",
      "Number of nonzeros in equality constraint Jacobian...:        2\n",
      "Number of nonzeros in inequality constraint Jacobian.:        3\n",
      "Number of nonzeros in Lagrangian Hessian.............:        9\n",
      "\n",
      "Total number of variables............................:        3\n",
      "                     variables with only lower bounds:        3\n",
      "                variables with lower and upper bounds:        0\n",
      "                     variables with only upper bounds:        0\n",
      "Total number of equality constraints.................:        1\n",
      "Total number of inequality constraints...............:        3\n",
      "        inequality constraints with only lower bounds:        0\n",
      "   inequality constraints with lower and upper bounds:        0\n",
      "        inequality constraints with only upper bounds:        3\n",
      "\n",
      "iter    objective    inf_pr   inf_du lg(mu)  ||d||  lg(rg) alpha_du alpha_pr  ls\n",
      "   0  1.0375485e+01 5.00e-01 9.88e-02  -1.0 0.00e+00    -  0.00e+00 0.00e+00   0\n",
      "   1  1.0374879e+01 4.79e-01 1.90e+02  -1.0 2.53e+01    -  3.92e-04 5.38e-03f  1\n",
      "   2  1.1069965e+01 4.59e-01 6.83e+03  -1.0 1.68e+00    -  9.90e-01 5.03e-01h  1\n",
      "   3  1.0849885e+01 5.49e-02 2.51e+03  -1.0 2.41e-01   4.0 4.49e-02 1.00e+00f  1\n",
      "   4  1.0888699e+01 1.44e-03 4.56e+02  -1.0 8.75e-02   3.5 9.35e-01 1.00e+00h  1\n",
      "   5  1.0806592e+01 2.86e-07 5.97e+00  -1.0 5.38e-03   3.0 9.95e-01 1.00e+00f  1\n",
      "   6  1.0579135e+01 5.27e-04 4.18e+00  -1.0 8.45e-02    -  1.00e+00 3.00e-01f  2\n",
      "   7  1.0460424e+01 5.93e-03 2.46e-01  -1.0 8.74e-02    -  1.00e+00 1.00e+00f  1\n",
      "   8  1.0350459e+01 5.03e-02 1.93e+00  -1.7 2.25e-01    -  6.63e-01 1.00e+00f  1\n",
      "   9  1.0336710e+01 2.27e-04 2.31e-01  -1.7 8.89e-02    -  1.00e+00 9.92e-01h  1\n",
      "iter    objective    inf_pr   inf_du lg(mu)  ||d||  lg(rg) alpha_du alpha_pr  ls\n",
      "  10  1.0352337e+01 7.23e-04 5.33e-02  -1.7 3.82e-02    -  1.00e+00 1.00e+00f  1\n",
      "  11  1.0339471e+01 3.91e-04 8.80e-03  -2.5 2.76e-02    -  1.00e+00 1.00e+00h  1\n",
      "  12  1.0335047e+01 5.72e-05 1.25e-03  -3.8 1.10e-02    -  1.00e+00 1.00e+00h  1\n",
      "  13  1.0334859e+01 1.02e-07 1.11e-06  -5.7 5.13e-04    -  1.00e+00 1.00e+00h  1\n",
      "  14  1.0334857e+01 1.20e-11 9.54e-11  -8.6 5.00e-06    -  1.00e+00 1.00e+00h  1\n",
      "\n",
      "Number of Iterations....: 14\n",
      "\n",
      "                                   (scaled)                 (unscaled)\n",
      "Objective...............:   1.0334856770539915e+01    1.0334856770539915e+01\n",
      "Dual infeasibility......:   9.5418124065322189e-11    9.5418124065322189e-11\n",
      "Constraint violation....:   1.1973144697918769e-11    1.1973144697918769e-11\n",
      "Variable bound violation:   0.0000000000000000e+00    0.0000000000000000e+00\n",
      "Complementarity.........:   2.5340155120603716e-09    2.5340155120603716e-09\n",
      "Overall NLP error.......:   2.5340155120603716e-09    2.5340155120603716e-09\n",
      "\n",
      "\n",
      "Number of objective function evaluations             = 19\n",
      "Number of objective gradient evaluations             = 15\n",
      "Number of equality constraint evaluations            = 19\n",
      "Number of inequality constraint evaluations          = 19\n",
      "Number of equality constraint Jacobian evaluations   = 15\n",
      "Number of inequality constraint Jacobian evaluations = 15\n",
      "Number of Lagrangian Hessian evaluations             = 14\n",
      "Total seconds in IPOPT                               = 0.004\n",
      "\n",
      "EXIT: Optimal Solution Found.\n",
      "This is Ipopt version 3.14.4, running with linear solver MUMPS 5.4.1.\n",
      "\n",
      "Number of nonzeros in equality constraint Jacobian...:        2\n",
      "Number of nonzeros in inequality constraint Jacobian.:        3\n",
      "Number of nonzeros in Lagrangian Hessian.............:        9\n",
      "\n",
      "Total number of variables............................:        3\n",
      "                     variables with only lower bounds:        3\n",
      "                variables with lower and upper bounds:        0\n",
      "                     variables with only upper bounds:        0\n",
      "Total number of equality constraints.................:        1\n",
      "Total number of inequality constraints...............:        3\n",
      "        inequality constraints with only lower bounds:        0\n",
      "   inequality constraints with lower and upper bounds:        0\n",
      "        inequality constraints with only upper bounds:        3\n",
      "\n",
      "iter    objective    inf_pr   inf_du lg(mu)  ||d||  lg(rg) alpha_du alpha_pr  ls\n",
      "   0  1.0373264e+01 5.00e-01 7.51e-02  -1.0 0.00e+00    -  0.00e+00 0.00e+00   0\n",
      "   1  1.2197032e+01 4.55e-01 1.02e+04  -1.0 2.53e+01    -  3.92e-04 3.87e-02h  1\n",
      "   2  1.0310125e+01 5.42e-02 1.85e+03  -1.0 2.35e-01    -  6.71e-02 1.00e+00f  1\n",
      "   3  1.0043840e+01 1.33e-03 8.54e+01  -1.0 3.97e-02    -  9.90e-01 1.00e+00f  1\n",
      "   4  1.0034496e+01 1.68e-05 6.05e-01  -1.0 5.06e-03    -  9.90e-01 1.00e+00h  1\n",
      "   5  9.9593800e+00 1.51e-02 1.28e+00  -1.0 1.25e-01    -  1.00e+00 1.00e+00f  1\n",
      "   6  9.9580218e+00 3.57e-04 4.64e-02  -1.0 2.68e-02    -  1.00e+00 1.00e+00h  1\n",
      "   7  9.9363671e+00 1.56e-03 5.08e-02  -2.5 4.68e-02    -  9.46e-01 1.00e+00f  1\n",
      "   8  9.9260216e+00 1.66e-03 6.74e-02  -2.5 5.23e-02    -  1.00e+00 1.00e+00h  1\n",
      "   9  9.9234797e+00 2.97e-04 5.01e-03  -2.5 2.44e-02    -  1.00e+00 1.00e+00h  1\n",
      "iter    objective    inf_pr   inf_du lg(mu)  ||d||  lg(rg) alpha_du alpha_pr  ls\n",
      "  10  9.9219723e+00 2.62e-04 4.04e-03  -3.8 2.22e-02    -  1.00e+00 1.00e+00h  1\n",
      "  11  9.9215028e+00 6.56e-05 9.43e-04  -3.8 1.15e-02    -  1.00e+00 1.00e+00h  1\n",
      "  12  9.9213057e+00 2.34e-05 2.69e-04  -5.7 6.84e-03    -  1.00e+00 1.00e+00h  1\n",
      "  13  9.9212558e+00 2.34e-06 2.59e-05  -5.7 2.18e-03    -  1.00e+00 1.00e+00h  1\n",
      "  14  9.9212504e+00 3.17e-08 3.39e-07  -5.7 2.54e-04    -  1.00e+00 1.00e+00h  1\n",
      "  15  9.9212485e+00 3.98e-09 4.06e-08  -8.6 8.93e-05    -  1.00e+00 1.00e+00h  1\n",
      "  16  9.9212485e+00 1.11e-13 1.16e-12  -8.6 4.76e-07    -  1.00e+00 1.00e+00h  1\n",
      "\n",
      "Number of Iterations....: 16\n",
      "\n",
      "                                   (scaled)                 (unscaled)\n",
      "Objective...............:   9.9212485009661204e+00    9.9212485009661204e+00\n",
      "Dual infeasibility......:   1.1612039860175161e-12    1.1612039860175161e-12\n",
      "Constraint violation....:   1.1141088052113446e-13    1.1141088052113446e-13\n",
      "Variable bound violation:   0.0000000000000000e+00    0.0000000000000000e+00\n",
      "Complementarity.........:   2.5061708756866998e-09    2.5061708756866998e-09\n",
      "Overall NLP error.......:   2.5061708756866998e-09    2.5061708756866998e-09\n",
      "\n",
      "\n",
      "Number of objective function evaluations             = 17\n",
      "Number of objective gradient evaluations             = 17\n",
      "Number of equality constraint evaluations            = 17\n",
      "Number of inequality constraint evaluations          = 17\n",
      "Number of equality constraint Jacobian evaluations   = 17\n",
      "Number of inequality constraint Jacobian evaluations = 17\n",
      "Number of Lagrangian Hessian evaluations             = 16\n",
      "Total seconds in IPOPT                               = 0.004\n",
      "\n",
      "EXIT: Optimal Solution Found.\n",
      "This is Ipopt version 3.14.4, running with linear solver MUMPS 5.4.1.\n",
      "\n",
      "Number of nonzeros in equality constraint Jacobian...:        2\n",
      "Number of nonzeros in inequality constraint Jacobian.:        3\n",
      "Number of nonzeros in Lagrangian Hessian.............:        9\n",
      "\n",
      "Total number of variables............................:        3\n",
      "                     variables with only lower bounds:        3\n",
      "                variables with lower and upper bounds:        0\n",
      "                     variables with only upper bounds:        0\n",
      "Total number of equality constraints.................:        1\n",
      "Total number of inequality constraints...............:        3\n",
      "        inequality constraints with only lower bounds:        0\n",
      "   inequality constraints with lower and upper bounds:        0\n",
      "        inequality constraints with only upper bounds:        3\n",
      "\n",
      "iter    objective    inf_pr   inf_du lg(mu)  ||d||  lg(rg) alpha_du alpha_pr  ls\n",
      "   0  1.0375485e+01 5.00e-01 9.88e-02  -1.0 0.00e+00    -  0.00e+00 0.00e+00   0\n",
      "   1  1.0374879e+01 4.79e-01 1.90e+02  -1.0 2.53e+01    -  3.92e-04 5.38e-03f  1\n",
      "   2  1.1069965e+01 4.59e-01 6.83e+03  -1.0 1.68e+00    -  9.90e-01 5.03e-01h  1\n",
      "   3  1.0849885e+01 5.49e-02 2.51e+03  -1.0 2.41e-01   4.0 4.49e-02 1.00e+00f  1\n",
      "   4  1.0888699e+01 1.44e-03 4.56e+02  -1.0 8.75e-02   3.5 9.35e-01 1.00e+00h  1\n",
      "   5  1.0806592e+01 2.86e-07 5.97e+00  -1.0 5.38e-03   3.0 9.95e-01 1.00e+00f  1\n",
      "   6  1.0579135e+01 5.27e-04 4.18e+00  -1.0 8.45e-02    -  1.00e+00 3.00e-01f  2\n",
      "   7  1.0460424e+01 5.93e-03 2.46e-01  -1.0 8.74e-02    -  1.00e+00 1.00e+00f  1\n",
      "   8  1.0350459e+01 5.03e-02 1.93e+00  -1.7 2.25e-01    -  6.63e-01 1.00e+00f  1\n",
      "   9  1.0336710e+01 2.27e-04 2.31e-01  -1.7 8.89e-02    -  1.00e+00 9.92e-01h  1\n",
      "iter    objective    inf_pr   inf_du lg(mu)  ||d||  lg(rg) alpha_du alpha_pr  ls\n",
      "  10  1.0352337e+01 7.23e-04 5.33e-02  -1.7 3.82e-02    -  1.00e+00 1.00e+00f  1\n",
      "  11  1.0339471e+01 3.91e-04 8.80e-03  -2.5 2.76e-02    -  1.00e+00 1.00e+00h  1\n",
      "  12  1.0335047e+01 5.72e-05 1.25e-03  -3.8 1.10e-02    -  1.00e+00 1.00e+00h  1\n",
      "  13  1.0334859e+01 1.02e-07 1.11e-06  -5.7 5.13e-04    -  1.00e+00 1.00e+00h  1\n",
      "  14  1.0334857e+01 1.20e-11 9.54e-11  -8.6 5.00e-06    -  1.00e+00 1.00e+00h  1\n",
      "\n",
      "Number of Iterations....: 14\n",
      "\n",
      "                                   (scaled)                 (unscaled)\n",
      "Objective...............:   1.0334856770539915e+01    1.0334856770539915e+01\n",
      "Dual infeasibility......:   9.5418124078874716e-11    9.5418124078874716e-11\n",
      "Constraint violation....:   1.1973144697918769e-11    1.1973144697918769e-11\n",
      "Variable bound violation:   0.0000000000000000e+00    0.0000000000000000e+00\n",
      "Complementarity.........:   2.5340155120603716e-09    2.5340155120603716e-09\n",
      "Overall NLP error.......:   2.5340155120603716e-09    2.5340155120603716e-09\n",
      "\n",
      "\n",
      "Number of objective function evaluations             = 19\n",
      "Number of objective gradient evaluations             = 15\n",
      "Number of equality constraint evaluations            = 19\n",
      "Number of inequality constraint evaluations          = 19\n",
      "Number of equality constraint Jacobian evaluations   = 15\n",
      "Number of inequality constraint Jacobian evaluations = 15\n",
      "Number of Lagrangian Hessian evaluations             = 14\n",
      "Total seconds in IPOPT                               = 0.005\n",
      "\n",
      "EXIT: Optimal Solution Found.\n",
      "This is Ipopt version 3.14.4, running with linear solver MUMPS 5.4.1.\n",
      "\n",
      "Number of nonzeros in equality constraint Jacobian...:        1\n",
      "Number of nonzeros in inequality constraint Jacobian.:        3\n",
      "Number of nonzeros in Lagrangian Hessian.............:        6\n",
      "\n",
      "Total number of variables............................:        3\n",
      "                     variables with only lower bounds:        3\n",
      "                variables with lower and upper bounds:        0\n",
      "                     variables with only upper bounds:        0\n",
      "Total number of equality constraints.................:        1\n",
      "Total number of inequality constraints...............:        3\n",
      "        inequality constraints with only lower bounds:        0\n",
      "   inequality constraints with lower and upper bounds:        0\n",
      "        inequality constraints with only upper bounds:        3\n",
      "\n",
      "iter    objective    inf_pr   inf_du lg(mu)  ||d||  lg(rg) alpha_du alpha_pr  ls\n",
      "   0  1.0251006e+01 4.90e-01 6.29e+00  -1.0 0.00e+00    -  0.00e+00 0.00e+00   0\n",
      "   1  1.0325288e+01 0.00e+00 3.88e+01  -1.0 4.90e-01    -  2.47e-02 1.00e+00f  1\n",
      "   2  1.0256315e+01 0.00e+00 1.71e-02  -1.0 1.04e-02    -  9.90e-01 1.00e+00f  1\n",
      "   3  1.0263592e+01 0.00e+00 4.45e-03  -1.0 1.73e-03    -  9.90e-01 1.00e+00f  1\n",
      "   4  1.0263321e+01 0.00e+00 1.00e-06  -1.0 7.16e-05    -  1.00e+00 1.00e+00f  1\n",
      "   5  1.0232087e+01 0.00e+00 2.83e-08  -2.5 8.77e-03    -  1.00e+00 1.00e+00f  1\n",
      "   6  1.0229369e+01 0.00e+00 1.50e-09  -3.8 3.39e-03    -  1.00e+00 1.00e+00f  1\n",
      "   7  1.0229310e+01 0.00e+00 1.50e-09  -3.8 6.06e-04    -  1.00e+00 1.00e+00f  1\n",
      "   8  1.0229309e+01 0.00e+00 1.85e-11  -5.7 5.33e-05    -  1.00e+00 1.00e+00f  1\n",
      "   9  1.0229309e+01 0.00e+00 2.55e-14  -8.6 5.69e-07    -  1.00e+00 1.00e+00f  1\n",
      "\n",
      "Number of Iterations....: 9\n",
      "\n",
      "                                   (scaled)                 (unscaled)\n",
      "Objective...............:   1.0229309351214944e+01    1.0229309351214944e+01\n",
      "Dual infeasibility......:   2.5456992153422931e-14    2.5456992153422931e-14\n",
      "Constraint violation....:   0.0000000000000000e+00    0.0000000000000000e+00\n",
      "Variable bound violation:   0.0000000000000000e+00    0.0000000000000000e+00\n",
      "Complementarity.........:   2.5886511235659369e-09    2.5886511235659369e-09\n",
      "Overall NLP error.......:   2.5886511235659369e-09    2.5886511235659369e-09\n",
      "\n",
      "\n",
      "Number of objective function evaluations             = 10\n",
      "Number of objective gradient evaluations             = 10\n",
      "Number of equality constraint evaluations            = 10\n",
      "Number of inequality constraint evaluations          = 10\n",
      "Number of equality constraint Jacobian evaluations   = 10\n",
      "Number of inequality constraint Jacobian evaluations = 10\n",
      "Number of Lagrangian Hessian evaluations             = 9\n",
      "Total seconds in IPOPT                               = 0.003\n",
      "\n",
      "EXIT: Optimal Solution Found.\n",
      "This is Ipopt version 3.14.4, running with linear solver MUMPS 5.4.1.\n",
      "\n",
      "Number of nonzeros in equality constraint Jacobian...:        1\n",
      "Number of nonzeros in inequality constraint Jacobian.:        3\n",
      "Number of nonzeros in Lagrangian Hessian.............:        6\n",
      "\n",
      "Total number of variables............................:        3\n",
      "                     variables with only lower bounds:        3\n",
      "                variables with lower and upper bounds:        0\n",
      "                     variables with only upper bounds:        0\n",
      "Total number of equality constraints.................:        1\n",
      "Total number of inequality constraints...............:        3\n",
      "        inequality constraints with only lower bounds:        0\n",
      "   inequality constraints with lower and upper bounds:        0\n",
      "        inequality constraints with only upper bounds:        3\n",
      "\n",
      "iter    objective    inf_pr   inf_du lg(mu)  ||d||  lg(rg) alpha_du alpha_pr  ls\n",
      "   0  1.0642410e+01 4.90e-01 1.33e+01  -1.0 0.00e+00    -  0.00e+00 0.00e+00   0\n",
      "   1  1.0370697e+01 1.86e-01 2.38e+01  -1.0 4.90e-01    -  2.47e-02 6.20e-01f  1\n",
      "   2  1.2203101e+01 0.00e+00 5.56e-01  -1.0 1.86e-01    -  9.90e-01 1.00e+00h  1\n",
      "   3  1.0851331e+01 0.00e+00 1.21e-01  -1.0 4.66e-02    -  9.90e-01 1.00e+00f  1\n",
      "   4  1.0462167e+01 0.00e+00 1.00e-06  -1.0 1.90e-02    -  1.00e+00 1.00e+00f  1\n",
      "   5  1.0294276e+01 0.00e+00 2.83e-08  -2.5 9.24e-03    -  1.00e+00 1.00e+00f  1\n",
      "   6  1.0269974e+01 0.00e+00 1.50e-09  -3.8 2.13e-03    -  1.00e+00 1.00e+00f  1\n",
      "   7  1.0269224e+01 0.00e+00 1.84e-11  -5.7 1.75e-04    -  1.00e+00 1.00e+00f  1\n",
      "   8  1.0269221e+01 0.00e+00 2.82e-14  -8.6 1.32e-06    -  1.00e+00 1.00e+00f  1\n",
      "\n",
      "Number of Iterations....: 8\n",
      "\n",
      "                                   (scaled)                 (unscaled)\n",
      "Objective...............:   1.0269221084966739e+01    1.0269221084966739e+01\n",
      "Dual infeasibility......:   2.8187923188589688e-14    2.8187923188589688e-14\n",
      "Constraint violation....:   0.0000000000000000e+00    0.0000000000000000e+00\n",
      "Variable bound violation:   9.8352157006488927e-09    9.8352157006488927e-09\n",
      "Complementarity.........:   2.9529580579566825e-09    2.9529580579566825e-09\n",
      "Overall NLP error.......:   2.9529580579566825e-09    2.9529580579566825e-09\n",
      "\n",
      "\n",
      "Number of objective function evaluations             = 9\n",
      "Number of objective gradient evaluations             = 9\n",
      "Number of equality constraint evaluations            = 9\n",
      "Number of inequality constraint evaluations          = 9\n",
      "Number of equality constraint Jacobian evaluations   = 9\n",
      "Number of inequality constraint Jacobian evaluations = 9\n",
      "Number of Lagrangian Hessian evaluations             = 8\n",
      "Total seconds in IPOPT                               = 0.002\n",
      "\n",
      "EXIT: Optimal Solution Found.\n",
      "This is Ipopt version 3.14.4, running with linear solver MUMPS 5.4.1.\n",
      "\n",
      "Number of nonzeros in equality constraint Jacobian...:        1\n",
      "Number of nonzeros in inequality constraint Jacobian.:        2\n",
      "Number of nonzeros in Lagrangian Hessian.............:        3\n",
      "\n",
      "Total number of variables............................:        2\n",
      "                     variables with only lower bounds:        2\n",
      "                variables with lower and upper bounds:        0\n",
      "                     variables with only upper bounds:        0\n",
      "Total number of equality constraints.................:        1\n",
      "Total number of inequality constraints...............:        2\n",
      "        inequality constraints with only lower bounds:        0\n",
      "   inequality constraints with lower and upper bounds:        0\n",
      "        inequality constraints with only upper bounds:        2\n",
      "\n",
      "iter    objective    inf_pr   inf_du lg(mu)  ||d||  lg(rg) alpha_du alpha_pr  ls\n",
      "   0  1.0393696e+01 4.90e-01 1.79e+00  -1.0 0.00e+00    -  0.00e+00 0.00e+00   0\n",
      "   1  1.0305905e+01 0.00e+00 3.89e+01  -1.0 4.90e-01    -  2.47e-02 1.00e+00f  1\n",
      "   2  1.0280289e+01 0.00e+00 1.25e-02  -1.0 7.63e-03    -  9.90e-01 1.00e+00f  1\n",
      "   3  1.0282238e+01 0.00e+00 2.07e-03  -1.0 7.86e-04    -  9.90e-01 1.00e+00f  1\n",
      "   4  1.0282204e+01 0.00e+00 1.00e-06  -1.0 1.34e-05    -  1.00e+00 1.00e+00f  1\n",
      "   5  1.0269900e+01 0.00e+00 2.83e-08  -2.5 7.77e-03    -  1.00e+00 1.00e+00f  1\n",
      "   6  1.0269225e+01 0.00e+00 1.50e-09  -3.8 2.13e-03    -  1.00e+00 1.00e+00f  1\n",
      "   7  1.0269221e+01 0.00e+00 1.84e-11  -5.7 1.75e-04    -  1.00e+00 1.00e+00f  1\n",
      "   8  1.0269221e+01 0.00e+00 2.53e-14  -8.6 1.32e-06    -  1.00e+00 1.00e+00f  1\n",
      "\n",
      "Number of Iterations....: 8\n",
      "\n",
      "                                   (scaled)                 (unscaled)\n",
      "Objective...............:   1.0269221234928594e+01    1.0269221234928594e+01\n",
      "Dual infeasibility......:   2.5321401064755263e-14    2.5321401064755263e-14\n",
      "Constraint violation....:   0.0000000000000000e+00    0.0000000000000000e+00\n",
      "Variable bound violation:   0.0000000000000000e+00    0.0000000000000000e+00\n",
      "Complementarity.........:   2.9529499767496609e-09    2.9529499767496609e-09\n",
      "Overall NLP error.......:   2.9529499767496609e-09    2.9529499767496609e-09\n",
      "\n",
      "\n",
      "Number of objective function evaluations             = 9\n",
      "Number of objective gradient evaluations             = 9\n",
      "Number of equality constraint evaluations            = 9\n",
      "Number of inequality constraint evaluations          = 9\n",
      "Number of equality constraint Jacobian evaluations   = 9\n",
      "Number of inequality constraint Jacobian evaluations = 9\n",
      "Number of Lagrangian Hessian evaluations             = 8\n",
      "Total seconds in IPOPT                               = 0.002\n",
      "\n",
      "EXIT: Optimal Solution Found.\n",
      "This is Ipopt version 3.14.4, running with linear solver MUMPS 5.4.1.\n",
      "\n",
      "Number of nonzeros in equality constraint Jacobian...:        1\n",
      "Number of nonzeros in inequality constraint Jacobian.:        2\n",
      "Number of nonzeros in Lagrangian Hessian.............:        3\n",
      "\n",
      "Total number of variables............................:        2\n",
      "                     variables with only lower bounds:        2\n",
      "                variables with lower and upper bounds:        0\n",
      "                     variables with only upper bounds:        0\n",
      "Total number of equality constraints.................:        1\n",
      "Total number of inequality constraints...............:        2\n",
      "        inequality constraints with only lower bounds:        0\n",
      "   inequality constraints with lower and upper bounds:        0\n",
      "        inequality constraints with only upper bounds:        2\n",
      "\n",
      "iter    objective    inf_pr   inf_du lg(mu)  ||d||  lg(rg) alpha_du alpha_pr  ls\n",
      "   0  1.0232078e+01 4.90e-01 6.29e+00  -1.0 0.00e+00    -  0.00e+00 0.00e+00   0\n",
      "   1  1.0394152e+01 0.00e+00 3.89e+01  -1.0 4.90e-01    -  2.47e-02 1.00e+00f  1\n",
      "   2  1.0350794e+01 0.00e+00 1.71e-02  -1.0 1.04e-02    -  9.90e-01 1.00e+00f  1\n",
      "   3  1.0356122e+01 0.00e+00 4.45e-03  -1.0 1.73e-03    -  9.90e-01 1.00e+00f  1\n",
      "   4  1.0355886e+01 0.00e+00 1.00e-06  -1.0 7.16e-05    -  1.00e+00 1.00e+00f  1\n",
      "   5  1.0336956e+01 0.00e+00 2.83e-08  -2.5 8.77e-03    -  1.00e+00 1.00e+00f  1\n",
      "   6  1.0334912e+01 0.00e+00 1.50e-09  -3.8 3.39e-03    -  1.00e+00 1.00e+00f  1\n",
      "   7  1.0334857e+01 0.00e+00 1.50e-09  -3.8 6.06e-04    -  1.00e+00 1.00e+00f  1\n",
      "   8  1.0334857e+01 0.00e+00 1.85e-11  -5.7 5.33e-05    -  1.00e+00 1.00e+00f  1\n",
      "   9  1.0334857e+01 0.00e+00 2.51e-14  -8.6 5.69e-07    -  1.00e+00 1.00e+00f  1\n",
      "\n",
      "Number of Iterations....: 9\n",
      "\n",
      "                                   (scaled)                 (unscaled)\n",
      "Objective...............:   1.0334856772132891e+01    1.0334856772132891e+01\n",
      "Dual infeasibility......:   2.5059035640133008e-14    2.5059035640133008e-14\n",
      "Constraint violation....:   0.0000000000000000e+00    0.0000000000000000e+00\n",
      "Variable bound violation:   0.0000000000000000e+00    0.0000000000000000e+00\n",
      "Complementarity.........:   2.5886511235664167e-09    2.5886511235664167e-09\n",
      "Overall NLP error.......:   2.5886511235664167e-09    2.5886511235664167e-09\n",
      "\n",
      "\n",
      "Number of objective function evaluations             = 10\n",
      "Number of objective gradient evaluations             = 10\n",
      "Number of equality constraint evaluations            = 10\n",
      "Number of inequality constraint evaluations          = 10\n",
      "Number of equality constraint Jacobian evaluations   = 10\n",
      "Number of inequality constraint Jacobian evaluations = 10\n",
      "Number of Lagrangian Hessian evaluations             = 9\n",
      "Total seconds in IPOPT                               = 0.002\n",
      "\n",
      "EXIT: Optimal Solution Found.\n",
      "This is Ipopt version 3.14.4, running with linear solver MUMPS 5.4.1.\n",
      "\n",
      "Number of nonzeros in equality constraint Jacobian...:        1\n",
      "Number of nonzeros in inequality constraint Jacobian.:        2\n",
      "Number of nonzeros in Lagrangian Hessian.............:        3\n",
      "\n",
      "Total number of variables............................:        2\n",
      "                     variables with only lower bounds:        2\n",
      "                variables with lower and upper bounds:        0\n",
      "                     variables with only upper bounds:        0\n",
      "Total number of equality constraints.................:        1\n",
      "Total number of inequality constraints...............:        2\n",
      "        inequality constraints with only lower bounds:        0\n",
      "   inequality constraints with lower and upper bounds:        0\n",
      "        inequality constraints with only upper bounds:        2\n",
      "\n",
      "iter    objective    inf_pr   inf_du lg(mu)  ||d||  lg(rg) alpha_du alpha_pr  ls\n",
      "   0  1.0393696e+01 4.90e-01 1.79e+00  -1.0 0.00e+00    -  0.00e+00 0.00e+00   0\n",
      "   1  1.0305905e+01 0.00e+00 3.89e+01  -1.0 4.90e-01    -  2.47e-02 1.00e+00f  1\n",
      "   2  1.0280289e+01 0.00e+00 1.25e-02  -1.0 7.63e-03    -  9.90e-01 1.00e+00f  1\n",
      "   3  1.0282238e+01 0.00e+00 2.07e-03  -1.0 7.86e-04    -  9.90e-01 1.00e+00f  1\n",
      "   4  1.0282204e+01 0.00e+00 1.00e-06  -1.0 1.34e-05    -  1.00e+00 1.00e+00f  1\n",
      "   5  1.0269900e+01 0.00e+00 2.83e-08  -2.5 7.77e-03    -  1.00e+00 1.00e+00f  1\n",
      "   6  1.0269225e+01 0.00e+00 1.50e-09  -3.8 2.13e-03    -  1.00e+00 1.00e+00f  1\n",
      "   7  1.0269221e+01 0.00e+00 1.84e-11  -5.7 1.75e-04    -  1.00e+00 1.00e+00f  1\n",
      "   8  1.0269221e+01 0.00e+00 2.53e-14  -8.6 1.32e-06    -  1.00e+00 1.00e+00f  1\n",
      "\n",
      "Number of Iterations....: 8\n",
      "\n",
      "                                   (scaled)                 (unscaled)\n",
      "Objective...............:   1.0269221234928594e+01    1.0269221234928594e+01\n",
      "Dual infeasibility......:   2.5321401064755263e-14    2.5321401064755263e-14\n",
      "Constraint violation....:   0.0000000000000000e+00    0.0000000000000000e+00\n",
      "Variable bound violation:   0.0000000000000000e+00    0.0000000000000000e+00\n",
      "Complementarity.........:   2.9529499767496609e-09    2.9529499767496609e-09\n",
      "Overall NLP error.......:   2.9529499767496609e-09    2.9529499767496609e-09\n",
      "\n",
      "\n",
      "Number of objective function evaluations             = 9\n",
      "Number of objective gradient evaluations             = 9\n",
      "Number of equality constraint evaluations            = 9\n",
      "Number of inequality constraint evaluations          = 9\n",
      "Number of equality constraint Jacobian evaluations   = 9\n",
      "Number of inequality constraint Jacobian evaluations = 9\n",
      "Number of Lagrangian Hessian evaluations             = 8\n",
      "Total seconds in IPOPT                               = 0.002\n",
      "\n",
      "EXIT: Optimal Solution Found.\n",
      "This is Ipopt version 3.14.4, running with linear solver MUMPS 5.4.1.\n",
      "\n",
      "Number of nonzeros in equality constraint Jacobian...:        1\n",
      "Number of nonzeros in inequality constraint Jacobian.:        2\n",
      "Number of nonzeros in Lagrangian Hessian.............:        3\n",
      "\n",
      "Total number of variables............................:        2\n",
      "                     variables with only lower bounds:        2\n",
      "                variables with lower and upper bounds:        0\n",
      "                     variables with only upper bounds:        0\n",
      "Total number of equality constraints.................:        1\n",
      "Total number of inequality constraints...............:        2\n",
      "        inequality constraints with only lower bounds:        0\n",
      "   inequality constraints with lower and upper bounds:        0\n",
      "        inequality constraints with only upper bounds:        2\n",
      "\n",
      "iter    objective    inf_pr   inf_du lg(mu)  ||d||  lg(rg) alpha_du alpha_pr  ls\n",
      "   0  1.0623483e+01 4.90e-01 1.33e+01  -1.0 0.00e+00    -  0.00e+00 0.00e+00   0\n",
      "   1  1.0376596e+01 1.86e-01 2.39e+01  -1.0 4.90e-01    -  2.47e-02 6.20e-01f  1\n",
      "   2  1.2290059e+01 0.00e+00 5.56e-01  -1.0 1.86e-01    -  9.90e-01 1.00e+00h  1\n",
      "   3  1.0943814e+01 0.00e+00 1.21e-01  -1.0 4.66e-02    -  9.90e-01 1.00e+00f  1\n",
      "   4  1.0554732e+01 0.00e+00 1.00e-06  -1.0 1.90e-02    -  1.00e+00 1.00e+00f  1\n",
      "   5  1.0399145e+01 0.00e+00 2.83e-08  -2.5 9.24e-03    -  1.00e+00 1.00e+00f  1\n",
      "   6  1.0375517e+01 0.00e+00 1.50e-09  -3.8 1.53e-03    -  1.00e+00 1.00e+00f  1\n",
      "   7  1.0374771e+01 0.00e+00 1.84e-11  -5.7 4.89e-05    -  1.00e+00 1.00e+00f  1\n",
      "   8  1.0374769e+01 0.00e+00 2.51e-14  -8.6 1.61e-07    -  1.00e+00 1.00e+00f  1\n",
      "\n",
      "Number of Iterations....: 8\n",
      "\n",
      "                                   (scaled)                 (unscaled)\n",
      "Objective...............:   1.0374768505884687e+01    1.0374768505884687e+01\n",
      "Dual infeasibility......:   2.5059037413608241e-14    2.5059037413608241e-14\n",
      "Constraint violation....:   0.0000000000000000e+00    0.0000000000000000e+00\n",
      "Variable bound violation:   9.8352156987037610e-09    9.8352156987037610e-09\n",
      "Complementarity.........:   2.5125384079110991e-09    2.5125384079110991e-09\n",
      "Overall NLP error.......:   2.5125384079110991e-09    2.5125384079110991e-09\n",
      "\n",
      "\n",
      "Number of objective function evaluations             = 9\n",
      "Number of objective gradient evaluations             = 9\n",
      "Number of equality constraint evaluations            = 9\n",
      "Number of inequality constraint evaluations          = 9\n",
      "Number of equality constraint Jacobian evaluations   = 9\n",
      "Number of inequality constraint Jacobian evaluations = 9\n",
      "Number of Lagrangian Hessian evaluations             = 8\n",
      "Total seconds in IPOPT                               = 0.002\n",
      "\n",
      "EXIT: Optimal Solution Found.\n",
      "This is Ipopt version 3.14.4, running with linear solver MUMPS 5.4.1.\n",
      "\n",
      "Number of nonzeros in equality constraint Jacobian...:        1\n",
      "Number of nonzeros in inequality constraint Jacobian.:        2\n",
      "Number of nonzeros in Lagrangian Hessian.............:        3\n",
      "\n",
      "Total number of variables............................:        2\n",
      "                     variables with only lower bounds:        2\n",
      "                variables with lower and upper bounds:        0\n",
      "                     variables with only upper bounds:        0\n",
      "Total number of equality constraints.................:        1\n",
      "Total number of inequality constraints...............:        2\n",
      "        inequality constraints with only lower bounds:        0\n",
      "   inequality constraints with lower and upper bounds:        0\n",
      "        inequality constraints with only upper bounds:        2\n",
      "\n",
      "iter    objective    inf_pr   inf_du lg(mu)  ||d||  lg(rg) alpha_du alpha_pr  ls\n",
      "   0  1.0232078e+01 4.90e-01 6.29e+00  -1.0 0.00e+00    -  0.00e+00 0.00e+00   0\n",
      "   1  1.0394152e+01 0.00e+00 3.89e+01  -1.0 4.90e-01    -  2.47e-02 1.00e+00f  1\n",
      "   2  1.0350794e+01 0.00e+00 1.71e-02  -1.0 1.04e-02    -  9.90e-01 1.00e+00f  1\n",
      "   3  1.0356122e+01 0.00e+00 4.45e-03  -1.0 1.73e-03    -  9.90e-01 1.00e+00f  1\n",
      "   4  1.0355886e+01 0.00e+00 1.00e-06  -1.0 7.16e-05    -  1.00e+00 1.00e+00f  1\n",
      "   5  1.0336956e+01 0.00e+00 2.83e-08  -2.5 8.77e-03    -  1.00e+00 1.00e+00f  1\n",
      "   6  1.0334912e+01 0.00e+00 1.50e-09  -3.8 3.39e-03    -  1.00e+00 1.00e+00f  1\n",
      "   7  1.0334857e+01 0.00e+00 1.50e-09  -3.8 6.06e-04    -  1.00e+00 1.00e+00f  1\n",
      "   8  1.0334857e+01 0.00e+00 1.85e-11  -5.7 5.33e-05    -  1.00e+00 1.00e+00f  1\n",
      "   9  1.0334857e+01 0.00e+00 2.51e-14  -8.6 5.69e-07    -  1.00e+00 1.00e+00f  1\n",
      "\n",
      "Number of Iterations....: 9\n",
      "\n",
      "                                   (scaled)                 (unscaled)\n",
      "Objective...............:   1.0334856772132891e+01    1.0334856772132891e+01\n",
      "Dual infeasibility......:   2.5140729426796843e-14    2.5140729426796843e-14\n",
      "Constraint violation....:   0.0000000000000000e+00    0.0000000000000000e+00\n",
      "Variable bound violation:   0.0000000000000000e+00    0.0000000000000000e+00\n",
      "Complementarity.........:   2.5886511235664159e-09    2.5886511235664159e-09\n",
      "Overall NLP error.......:   2.5886511235664159e-09    2.5886511235664159e-09\n",
      "\n",
      "\n",
      "Number of objective function evaluations             = 10\n",
      "Number of objective gradient evaluations             = 10\n",
      "Number of equality constraint evaluations            = 10\n",
      "Number of inequality constraint evaluations          = 10\n",
      "Number of equality constraint Jacobian evaluations   = 10\n",
      "Number of inequality constraint Jacobian evaluations = 10\n",
      "Number of Lagrangian Hessian evaluations             = 9\n",
      "Total seconds in IPOPT                               = 0.002\n",
      "\n",
      "EXIT: Optimal Solution Found.\n",
      "This is Ipopt version 3.14.4, running with linear solver MUMPS 5.4.1.\n",
      "\n",
      "Number of nonzeros in equality constraint Jacobian...:        1\n",
      "Number of nonzeros in inequality constraint Jacobian.:        2\n",
      "Number of nonzeros in Lagrangian Hessian.............:        3\n",
      "\n",
      "Total number of variables............................:        2\n",
      "                     variables with only lower bounds:        2\n",
      "                variables with lower and upper bounds:        0\n",
      "                     variables with only upper bounds:        0\n",
      "Total number of equality constraints.................:        1\n",
      "Total number of inequality constraints...............:        2\n",
      "        inequality constraints with only lower bounds:        0\n",
      "   inequality constraints with lower and upper bounds:        0\n",
      "        inequality constraints with only upper bounds:        2\n",
      "\n",
      "iter    objective    inf_pr   inf_du lg(mu)  ||d||  lg(rg) alpha_du alpha_pr  ls\n",
      "   0  1.0237534e+01 4.90e-01 6.02e+00  -1.0 0.00e+00    -  0.00e+00 0.00e+00   0\n",
      "   1  9.9234310e+00 0.00e+00 3.88e+01  -1.0 4.90e-01    -  2.47e-02 1.00e+00f  1\n",
      "   2  9.9258732e+00 0.00e+00 9.75e-03  -1.0 1.88e-03    -  9.90e-01 1.00e+00f  1\n",
      "   3  9.9258025e+00 0.00e+00 9.54e-05  -1.0 4.61e-05    -  9.90e-01 1.00e+00f  1\n",
      "   4  9.9258025e+00 0.00e+00 1.00e-06  -1.0 1.85e-08    -  1.00e+00 1.00e+00f  1\n",
      "   5  9.9213030e+00 0.00e+00 2.83e-08  -2.5 5.31e-03    -  1.00e+00 1.00e+00f  1\n",
      "   6  9.9212485e+00 0.00e+00 1.50e-09  -3.8 6.36e-04    -  1.00e+00 1.00e+00f  1\n",
      "   7  9.9212485e+00 0.00e+00 1.84e-11  -5.7 1.65e-05    -  1.00e+00 1.00e+00f  1\n",
      "   8  9.9212485e+00 0.00e+00 2.54e-14  -8.6 1.25e-07    -  1.00e+00 1.00e+00f  1\n",
      "\n",
      "Number of Iterations....: 8\n",
      "\n",
      "                                   (scaled)                 (unscaled)\n",
      "Objective...............:   9.9212484986725702e+00    9.9212484986725702e+00\n",
      "Dual infeasibility......:   2.5432162970760947e-14    2.5432162970760947e-14\n",
      "Constraint violation....:   0.0000000000000000e+00    0.0000000000000000e+00\n",
      "Variable bound violation:   0.0000000000000000e+00    0.0000000000000000e+00\n",
      "Complementarity.........:   2.5099355874032349e-09    2.5099355874032349e-09\n",
      "Overall NLP error.......:   2.5099355874032349e-09    2.5099355874032349e-09\n",
      "\n",
      "\n",
      "Number of objective function evaluations             = 9\n",
      "Number of objective gradient evaluations             = 9\n",
      "Number of equality constraint evaluations            = 9\n",
      "Number of inequality constraint evaluations          = 9\n",
      "Number of equality constraint Jacobian evaluations   = 9\n",
      "Number of inequality constraint Jacobian evaluations = 9\n",
      "Number of Lagrangian Hessian evaluations             = 8\n",
      "Total seconds in IPOPT                               = 0.002\n",
      "\n",
      "EXIT: Optimal Solution Found.\n",
      "This is Ipopt version 3.14.4, running with linear solver MUMPS 5.4.1.\n",
      "\n",
      "Number of nonzeros in equality constraint Jacobian...:        2\n",
      "Number of nonzeros in inequality constraint Jacobian.:        5\n",
      "Number of nonzeros in Lagrangian Hessian.............:       18\n",
      "\n",
      "Total number of variables............................:        5\n",
      "                     variables with only lower bounds:        5\n",
      "                variables with lower and upper bounds:        0\n",
      "                     variables with only upper bounds:        0\n",
      "Total number of equality constraints.................:        1\n",
      "Total number of inequality constraints...............:        5\n",
      "        inequality constraints with only lower bounds:        0\n",
      "   inequality constraints with lower and upper bounds:        0\n",
      "        inequality constraints with only upper bounds:        5\n",
      "\n",
      "iter    objective    inf_pr   inf_du lg(mu)  ||d||  lg(rg) alpha_du alpha_pr  ls\n",
      "   0  1.0374761e+01 5.00e-01 1.38e-03  -1.0 0.00e+00    -  0.00e+00 0.00e+00   0\n",
      "   1  1.0372794e+01 4.80e-01 9.77e+03  -1.0 2.50e+01    -  3.98e-04 3.92e-02f  1\n",
      "   2  1.0282965e+01 5.88e-02 1.81e+03  -1.0 2.43e-01    -  6.39e-02 1.00e+00f  1\n",
      "   3  1.0046156e+01 4.34e-02 1.34e+03  -1.0 4.80e-01    -  2.62e-01 2.65e-01h  1\n",
      "   4  1.0360499e+01 4.18e-02 1.29e+03  -1.0 6.89e+00    -  3.80e-02 3.71e-02h  1\n",
      "   5  6.5366989e+01 3.99e-02 1.15e+03  -1.0 4.13e+01   0.0 5.53e-04 4.50e-02h  1\n",
      "   6  1.3789870e+01 7.34e-04 4.54e+01  -1.0 2.43e-01   2.2 9.11e-01 1.00e+00f  1\n",
      "   7  1.0091418e+01 2.64e-05 4.66e+00  -1.0 7.73e-02   1.8 9.90e-01 1.00e+00f  1\n",
      "   8  1.0044962e+01 2.77e-04 3.20e-01  -1.0 1.68e-02   1.3 9.95e-01 1.00e+00f  1\n",
      "   9  9.9335033e+00 2.11e-02 3.55e+00  -1.7 2.50e-01    -  7.97e-01 1.00e+00f  1\n",
      "iter    objective    inf_pr   inf_du lg(mu)  ||d||  lg(rg) alpha_du alpha_pr  ls\n",
      "  10  9.9254314e+00 2.32e-04 1.91e-01  -1.7 2.05e-02   0.8 1.00e+00 1.00e+00h  1\n",
      "  11  9.9199713e+00 1.03e-04 1.29e+00  -2.5 8.51e+00    -  2.57e-01 7.92e-02f  3\n",
      "  12  9.8805011e+00 4.14e-03 1.18e-01  -2.5 2.84e-01    -  5.56e-01 8.84e-01f  1\n",
      "  13  9.8852383e+00 7.44e-05 1.98e-01  -2.5 1.58e-01    -  1.00e+00 1.00e+00f  1\n",
      "  14  9.8846083e+00 3.48e-06 1.33e+00  -2.5 3.71e-01    -  1.00e+00 1.00e+00h  1\n",
      "  15  9.8841121e+00 3.82e-10 3.38e-02  -2.5 1.37e-01    -  1.00e+00 1.00e+00h  1\n",
      "  16  9.8841770e+00 3.61e-10 7.73e-01  -2.5 5.41e+00    -  4.51e-01 5.64e-02f  4\n",
      "  17  9.8841284e+00 1.47e-11 4.44e-01  -2.5 3.07e-01    -  1.00e+00 1.00e+00f  1\n",
      "  18  9.8842229e+00 1.56e-10 1.03e+00  -2.5 4.41e-01    -  1.00e+00 1.00e+00f  1\n",
      "  19  9.8841112e+00 3.58e-12 2.57e-01  -2.5 3.02e-01    -  1.00e+00 1.00e+00f  1\n",
      "iter    objective    inf_pr   inf_du lg(mu)  ||d||  lg(rg) alpha_du alpha_pr  ls\n",
      "  20  9.8842315e+00 2.15e-12 1.33e+00  -2.5 1.00e+00    -  1.00e+00 5.00e-01f  2\n",
      "  21  9.8841108e+00 3.18e-12 2.93e-01  -2.5 3.65e-01    -  1.00e+00 1.00e+00f  1\n",
      "  22  9.8842566e+00 3.00e-12 1.78e+00  -2.5 1.29e+00    -  1.00e+00 5.00e-01f  2\n",
      "  23  9.8841101e+00 2.73e-12 2.81e-01  -2.5 4.27e-01    -  1.00e+00 1.00e+00f  1\n",
      "  24  9.8844046e+00 2.92e-12 3.04e+00  -2.5 1.87e+00    -  1.00e+00 5.00e-01f  2\n",
      "  25  9.8841111e+00 1.41e-11 6.95e-02  -2.5 4.47e-01    -  1.00e+00 1.00e+00f  1\n",
      "  26  9.8841218e+00 1.24e-11 1.23e+00  -2.5 4.96e+00    -  1.00e+00 1.25e-01f  4\n",
      "  27  9.8844478e+00 4.76e-11 4.39e+00  -2.5 1.40e+00    -  1.00e+00 1.00e+00f  1\n",
      "  28  9.8841119e+00 6.15e-11 1.44e-02  -2.5 5.78e-01    -  1.00e+00 1.00e+00f  1\n",
      "  29  9.8815737e+00 1.66e-05 5.04e-01  -3.8 4.92e-01    -  1.00e+00 1.00e+00f  1\n",
      "iter    objective    inf_pr   inf_du lg(mu)  ||d||  lg(rg) alpha_du alpha_pr  ls\n",
      "  30  9.8814870e+00 1.83e-08 1.13e-01  -3.8 2.91e-01    -  1.00e+00 1.00e+00h  1\n",
      "  31  9.8815442e+00 2.33e-15 2.10e+00  -3.8 1.11e+00    -  1.00e+00 1.00e+00h  1\n",
      "  32  9.8814869e+00 2.22e-15 2.34e-02  -3.8 1.46e-01    -  1.00e+00 1.00e+00f  1\n",
      "  33  9.8814869e+00 6.66e-16 5.91e-06  -3.8 2.80e-06   0.3 1.00e+00 1.00e+00h  1\n",
      "  34  9.8813387e+00 5.83e-08 3.05e-02  -5.7 1.43e-01    -  1.00e+00 1.00e+00f  1\n",
      "  35  9.8813385e+00 1.97e-13 7.30e-03  -5.7 7.40e-02    -  1.00e+00 1.00e+00h  1\n",
      "  36  9.8813386e+00 5.55e-17 1.26e-01  -5.7 2.98e-01    -  1.00e+00 1.00e+00h  1\n",
      "  37  9.8813385e+00 0.00e+00 2.18e-04  -5.7 2.24e-02    -  1.00e+00 1.00e+00f  1\n",
      "  38  9.8813385e+00 5.55e-17 4.42e-02  -5.7 5.73e+00    -  1.00e+00 3.12e-02f  6\n",
      "  39  9.8813385e+00 0.00e+00 3.81e-03  -5.7 5.61e-02    -  1.00e+00 1.00e+00f  1\n",
      "\n",
      "Number of Iterations....: 866\n",
      "\n",
      "                                   (scaled)"
     ]
    }
   ],
   "source": [
    "for i in 1:10\n",
    "    sda = setcount(0.5)\n",
    "end"
   ]
  },
  {
   "cell_type": "code",
   "execution_count": 83,
   "id": "244c50d4",
   "metadata": {},
   "outputs": [
    {
     "data": {
      "text/plain": [
       "4×25 Matrix{Float64}:\n",
       " 1.0  0.0  0.0  0.0  0.0  0.0  0.0  0.0  …  0.0  0.0  0.0  0.0  0.0  0.0  0.0\n",
       " 0.0  1.0  0.0  0.0  0.0  0.0  0.0  0.0     0.0  0.0  0.0  0.0  0.0  0.0  0.0\n",
       " 3.0  2.0  3.0  0.0  0.0  0.0  0.0  0.0     0.0  0.0  0.0  0.0  0.0  0.0  0.0\n",
       " 1.0  0.0  0.0  0.0  0.0  0.0  0.0  0.0     0.0  0.0  0.0  0.0  0.0  0.0  0.0"
      ]
     },
     "execution_count": 83,
     "metadata": {},
     "output_type": "execute_result"
    }
   ],
   "source": [
    "count"
   ]
  },
  {
   "cell_type": "code",
   "execution_count": null,
   "id": "7516585e",
   "metadata": {},
   "outputs": [],
   "source": []
  }
 ],
 "metadata": {
  "kernelspec": {
   "display_name": "Julia 1.6.7",
   "language": "julia",
   "name": "julia-1.6"
  },
  "language_info": {
   "file_extension": ".jl",
   "mimetype": "application/julia",
   "name": "julia",
   "version": "1.6.7"
  }
 },
 "nbformat": 4,
 "nbformat_minor": 5
}
