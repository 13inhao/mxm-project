{
 "cells": [
  {
   "cell_type": "code",
   "execution_count": 154,
   "id": "0b7d7760",
   "metadata": {},
   "outputs": [
    {
     "data": {
      "text/plain": [
       "1000000000"
      ]
     },
     "execution_count": 154,
     "metadata": {},
     "output_type": "execute_result"
    }
   ],
   "source": [
    "obs1 = [-1 -1 -1 -1 -1 -1 -1 -1 +1 +1 +1 +1 +1 +1 +1 +1; \n",
    "                -1 -1 -1 -1 +1 +1 +1 +1 -1 -1 -1 -1 +1 +1 +1 +1;\n",
    "        -1 -1 +1 +1 -1 -1 +1 +1 -1 -1 +1 +1 -1 -1 +1 +1;\n",
    "    -1 +1 -1 +1 -1 +1 -1 +1 -1 +1 -1 +1 -1 +1 -1 +1]\n",
    "\n",
    "\n",
    "tau = 0.5\n",
    "\n",
    "k = 1000000000\n"
   ]
  },
  {
   "cell_type": "code",
   "execution_count": 155,
   "id": "d371d106",
   "metadata": {},
   "outputs": [
    {
     "data": {
      "text/plain": [
       "16-element Vector{Float64}:\n",
       " 0.09375\n",
       " 0.09375\n",
       " 0.09375\n",
       " 0.09375\n",
       " 0.03125\n",
       " 0.03125\n",
       " 0.03125\n",
       " 0.03125\n",
       " 0.03125\n",
       " 0.03125\n",
       " 0.03125\n",
       " 0.03125\n",
       " 0.09375\n",
       " 0.09375\n",
       " 0.09375\n",
       " 0.09375"
      ]
     },
     "execution_count": 155,
     "metadata": {},
     "output_type": "execute_result"
    }
   ],
   "source": [
    "q = zeros(16)\n",
    "for j = 1:16\n",
    "   q[j] = (1 / 16) * (1 + obs1[1, j] * obs1[2, j] * tau)\n",
    "end\n",
    "\n",
    "q\n"
   ]
  },
  {
   "cell_type": "code",
   "execution_count": 263,
   "id": "6bb154e5",
   "metadata": {},
   "outputs": [
    {
     "data": {
      "text/plain": [
       "16-element Vector{Float64}:\n",
       " 9.375761058718953e7\n",
       " 9.374876403521897e7\n",
       " 9.374690037312461e7\n",
       " 9.375302872039875e7\n",
       " 3.1245180717181955e7\n",
       " 3.1254178511845656e7\n",
       " 3.124837055588501e7\n",
       " 3.1246670116113413e7\n",
       " 3.1241920551602434e7\n",
       " 3.1247896052321594e7\n",
       " 3.1250819225579415e7\n",
       " 3.1248168615593202e7\n",
       " 9.374816167232552e7\n",
       " 9.37618864870285e7\n",
       " 9.376102434706515e7\n",
       " 9.373941943150829e7"
      ]
     },
     "execution_count": 263,
     "metadata": {},
     "output_type": "execute_result"
    }
   ],
   "source": [
    "mean = k *q\n",
    "\n",
    "using LinearAlgebra # this package comes with Julia, no need to install it\n",
    "\n",
    "meandia = diagm(q)\n",
    "\n",
    "b = transpose(q)\n",
    "\n",
    "c = q * b\n",
    "\n",
    "d = meandia -c \n",
    "\n",
    "cov = k * d\n",
    "# find the Covariance of the distribution\n",
    "\n",
    "using Distributions\n",
    "d = MvNormal(mean, cov)\n",
    "test = rand(d)\n",
    "# the basic generated data"
   ]
  },
  {
   "cell_type": "code",
   "execution_count": 4,
   "id": "8df90c96",
   "metadata": {},
   "outputs": [
    {
     "name": "stderr",
     "output_type": "stream",
     "text": [
      "\u001b[32m\u001b[1m    Updating\u001b[22m\u001b[39m registry at `~/.julia/registries/General`\n",
      "\u001b[32m\u001b[1m   Resolving\u001b[22m\u001b[39m package versions...\n",
      "\u001b[32m\u001b[1m  No Changes\u001b[22m\u001b[39m to `~/.julia/environments/v1.6/Project.toml`\n",
      "\u001b[32m\u001b[1m  No Changes\u001b[22m\u001b[39m to `~/.julia/environments/v1.6/Manifest.toml`\n"
     ]
    }
   ],
   "source": [
    "import Pkg; Pkg.add(\"Ipopt\")"
   ]
  },
  {
   "cell_type": "markdown",
   "id": "fa9c865d",
   "metadata": {},
   "source": [
    "This is Z6 which will used the fixed data for compartion to the mates' results."
   ]
  },
  {
   "cell_type": "code",
   "execution_count": 6,
   "id": "159639de",
   "metadata": {},
   "outputs": [
    {
     "name": "stderr",
     "output_type": "stream",
     "text": [
      "\u001b[32m\u001b[1m   Resolving\u001b[22m\u001b[39m package versions...\n",
      "\u001b[32m\u001b[1m  No Changes\u001b[22m\u001b[39m to `~/.julia/environments/v1.6/Project.toml`\n",
      "\u001b[32m\u001b[1m  No Changes\u001b[22m\u001b[39m to `~/.julia/environments/v1.6/Manifest.toml`\n"
     ]
    }
   ],
   "source": [
    "import Pkg; Pkg.add(\"JuMP\")"
   ]
  },
  {
   "cell_type": "markdown",
   "id": "053e9380",
   "metadata": {},
   "source": [
    "This is case 1"
   ]
  },
  {
   "cell_type": "code",
   "execution_count": 7,
   "id": "f54d085e",
   "metadata": {},
   "outputs": [
    {
     "name": "stdout",
     "output_type": "stream",
     "text": [
      "\n",
      "******************************************************************************\n",
      "This program contains Ipopt, a library for large-scale nonlinear optimization.\n",
      " Ipopt is released as open source code under the Eclipse Public License (EPL).\n",
      "         For more information visit https://github.com/coin-or/Ipopt\n",
      "******************************************************************************\n",
      "\n",
      "This is Ipopt version 3.14.4, running with linear solver MUMPS 5.4.1.\n",
      "\n",
      "Number of nonzeros in equality constraint Jacobian...:        3\n",
      "Number of nonzeros in inequality constraint Jacobian.:        5\n",
      "Number of nonzeros in Lagrangian Hessian.............:       21\n",
      "\n",
      "Total number of variables............................:        5\n",
      "                     variables with only lower bounds:        5\n",
      "                variables with lower and upper bounds:        0\n",
      "                     variables with only upper bounds:        0\n",
      "Total number of equality constraints.................:        1\n",
      "Total number of inequality constraints...............:        5\n",
      "        inequality constraints with only lower bounds:        0\n",
      "   inequality constraints with lower and upper bounds:        0\n",
      "        inequality constraints with only upper bounds:        5\n",
      "\n",
      "iter    objective    inf_pr   inf_du lg(mu)  ||d||  lg(rg) alpha_du alpha_pr  ls\n",
      "   0  9.5405914e+00 5.00e-01 1.23e+00  -1.0 0.00e+00    -  0.00e+00 0.00e+00   0\n",
      "   1  2.2227231e+01 4.23e-01 9.26e+05  -1.0 1.69e+03    -  5.84e-06 5.78e-04h  1\n",
      "   2  9.7633827e+00 6.12e-02 2.03e+05  -1.0 1.51e-01    -  1.58e-01 1.00e+00f  1\n",
      "   3  8.2835028e+00 1.61e-02 5.71e+04  -1.0 9.07e-02    -  9.90e-01 7.58e-01f  1\n",
      "   4  8.6481531e+00 1.67e-04 1.16e+03  -1.0 3.58e-02    -  9.90e-01 1.00e+00f  1\n",
      "   5  8.3847370e+00 4.06e-08 5.67e-01  -1.0 2.04e-02    -  1.00e+00 1.00e+00f  1\n",
      "   6  8.2674426e+00 3.63e-03 6.02e-01  -1.7 7.22e-02    -  8.91e-01 1.00e+00f  1\n",
      "   7  8.2199431e+00 3.37e-03 1.48e+00  -1.7 2.24e-01    -  9.64e-01 7.64e-01H  1\n",
      "   8  8.2260128e+00 1.02e-03 8.98e-02  -1.7 3.92e-02    -  1.00e+00 1.00e+00f  1\n",
      "   9  8.2199162e+00 1.95e-04 1.60e-02  -2.5 1.35e-02    -  1.00e+00 1.00e+00h  1\n",
      "iter    objective    inf_pr   inf_du lg(mu)  ||d||  lg(rg) alpha_du alpha_pr  ls\n",
      "  10  8.2158610e+00 3.65e-04 2.65e-03  -3.8 2.44e-02    -  1.00e+00 1.00e+00h  1\n",
      "  11  8.2156074e+00 1.44e-06 1.02e-04  -3.8 2.03e-03    -  1.00e+00 1.00e+00h  1\n",
      "  12  8.2154680e+00 4.58e-07 4.80e-06  -5.7 8.85e-04    -  1.00e+00 1.00e+00h  1\n",
      "  13  8.2154656e+00 1.32e-10 1.46e-09  -8.6 1.57e-05    -  1.00e+00 1.00e+00h  1\n",
      "\n",
      "Number of Iterations....: 13\n",
      "\n",
      "                                   (scaled)                 (unscaled)\n",
      "Objective...............:   8.2154655940073642e+00    8.2154655940073642e+00\n",
      "Dual infeasibility......:   1.4587727726893487e-09    1.4587727726893487e-09\n",
      "Constraint violation....:   1.3193057757376891e-10    1.3193057757376891e-10\n",
      "Variable bound violation:   0.0000000000000000e+00    0.0000000000000000e+00\n",
      "Complementarity.........:   2.5391766175697464e-09    2.5391766175697464e-09\n",
      "Overall NLP error.......:   2.5391766175697464e-09    2.5391766175697464e-09\n",
      "\n",
      "\n",
      "Number of objective function evaluations             = 15\n",
      "Number of objective gradient evaluations             = 14\n",
      "Number of equality constraint evaluations            = 15\n",
      "Number of inequality constraint evaluations          = 15\n",
      "Number of equality constraint Jacobian evaluations   = 14\n",
      "Number of inequality constraint Jacobian evaluations = 14\n",
      "Number of Lagrangian Hessian evaluations             = 13\n",
      "Total seconds in IPOPT                               = 1.828\n",
      "\n",
      "EXIT: Optimal Solution Found.\n"
     ]
    },
    {
     "data": {
      "text/plain": [
       "8.215465594007364"
      ]
     },
     "execution_count": 7,
     "metadata": {},
     "output_type": "execute_result"
    }
   ],
   "source": [
    "using Ipopt,JuMP\n",
    "model = Model(Ipopt.Optimizer)\n",
    "@variable(model,x[1:5]>=0)\n",
    "#set each one variable to be larger than 0\n",
    "@constraint(model,x[1]<=1)\n",
    "@constraint(model,x[2]<=1)\n",
    "@constraint(model,x[3]<=sqrt(k))\n",
    "@constraint(model,x[4]<=sqrt(k))\n",
    "@constraint(model,x[5]<=1)\n",
    "@NLconstraint(model,x[1]*x[2]*x[5] == 0.5)\n",
    "@NLobjective(model, Min, 1/2*sum(((freqtest[i]-obs1[1,i]*obs1[3,i]*x[1]*x[3]\n",
    "                -obs1[2,i]*obs1[4,i]*x[2]*x[4]\n",
    "                -obs1[1,i]*obs1[4,i]*x[1]*x[5]*x[4]\n",
    "                -obs1[2,i]*obs1[3,i]*x[2]*x[5]*x[3])^2)/q[i] for i in 1:16))\n",
    "optimize!(model)\n",
    "status = termination_status(model)\n",
    "asdgf =objective_value(model)"
   ]
  },
  {
   "cell_type": "code",
   "execution_count": 264,
   "id": "df62aa35",
   "metadata": {},
   "outputs": [
    {
     "data": {
      "text/plain": [
       "test1 (generic function with 2 methods)"
      ]
     },
     "execution_count": 264,
     "metadata": {},
     "output_type": "execute_result"
    }
   ],
   "source": [
    "function test1(freqtest,e)\n",
    "model = Model(Ipopt.Optimizer)\n",
    "@variable(model,x1>=0)\n",
    "@variable(model,x2>=0)\n",
    "@variable(model,x3>=0)\n",
    "@variable(model,x4>=0)\n",
    "@variable(model,x5>=0)\n",
    "#set each one variable to be larger than 0\n",
    "@constraint(model,x1<=1)\n",
    "@constraint(model,x2<=1)\n",
    "@constraint(model,x3<=sqrt(k))\n",
    "@constraint(model,x4<=sqrt(k))\n",
    "@constraint(model,x5<=1)\n",
    "@NLconstraint(model,x1*x2*x5 == e)\n",
    "@NLobjective(model, Min, 1/2*sum(((freqtest[i]-obs1[1,i]*obs1[3,i]*x1*x3\n",
    "                -obs1[2,i]*obs1[4,i]*x2*x4\n",
    "                -obs1[1,i]*obs1[4,i]*x1*x5*x4\n",
    "                -obs1[2,i]*obs1[3,i]*x2*x5*x3)^2)/q[i] for i in 1:16))\n",
    "optimize!(model)\n",
    "status = termination_status(model)\n",
    "asdgf =objective_value(model)\n",
    "    return objective_value(model)\n",
    "end"
   ]
  },
  {
   "cell_type": "code",
   "execution_count": 266,
   "id": "4657bde6",
   "metadata": {},
   "outputs": [
    {
     "data": {
      "text/plain": [
       "test11 (generic function with 2 methods)"
      ]
     },
     "execution_count": 266,
     "metadata": {},
     "output_type": "execute_result"
    }
   ],
   "source": [
    "function test11(freqtest,e)\n",
    "model = Model(Ipopt.Optimizer)\n",
    "@variable(model,x2>=0)\n",
    "@variable(model,x3>=0)\n",
    "@variable(model,x4>=0)\n",
    "@variable(model,x5>=0)\n",
    "#set each one variable to be larger than 0\n",
    "@constraint(model,x2<=1)\n",
    "@constraint(model,x3<=sqrt(k))\n",
    "@constraint(model,x4<=sqrt(k))\n",
    "@constraint(model,x5<=1)\n",
    "@NLconstraint(model,x2*x5 == e)\n",
    "@NLobjective(model, Min, 1/2*sum(((freqtest[i]-obs1[1,i]*obs1[3,i]*x3\n",
    "                -obs1[2,i]*obs1[4,i]*x2*x4\n",
    "                -obs1[1,i]*obs1[4,i]*x5*x4\n",
    "                -obs1[2,i]*obs1[3,i]*x2*x5*x3)^2)/q[i] for i in 1:16))\n",
    "optimize!(model)\n",
    "status = termination_status(model)\n",
    "asdgf =objective_value(model)\n",
    "    return objective_value(model)\n",
    "end"
   ]
  },
  {
   "cell_type": "code",
   "execution_count": 267,
   "id": "e00bc0bf",
   "metadata": {},
   "outputs": [
    {
     "data": {
      "text/plain": [
       "test12 (generic function with 2 methods)"
      ]
     },
     "execution_count": 267,
     "metadata": {},
     "output_type": "execute_result"
    }
   ],
   "source": [
    "function test12(freqtest,e)\n",
    "model = Model(Ipopt.Optimizer)\n",
    "@variable(model,x1>=0)\n",
    "@variable(model,x3>=0)\n",
    "@variable(model,x4>=0)\n",
    "@variable(model,x5>=0)\n",
    "#set each one variable to be larger than 0\n",
    "@constraint(model,x1<=1)\n",
    "@constraint(model,x3<=sqrt(k))\n",
    "@constraint(model,x4<=sqrt(k))\n",
    "@constraint(model,x5<=1)\n",
    "@NLconstraint(model,x1*x5 == e)\n",
    "@NLobjective(model, Min, 1/2*sum(((freqtest[i]-obs1[1,i]*obs1[3,i]*x1*x3\n",
    "                -obs1[2,i]*obs1[4,i]*x4\n",
    "                -obs1[1,i]*obs1[4,i]*x1*x5*x4\n",
    "                -obs1[2,i]*obs1[3,i]*x5*x3)^2)/q[i] for i in 1:16))\n",
    "optimize!(model)\n",
    "status = termination_status(model)\n",
    "asdgf =objective_value(model)\n",
    "    return objective_value(model)\n",
    "end"
   ]
  },
  {
   "cell_type": "code",
   "execution_count": 268,
   "id": "5c3d5312",
   "metadata": {},
   "outputs": [
    {
     "data": {
      "text/plain": [
       "test13 (generic function with 2 methods)"
      ]
     },
     "execution_count": 268,
     "metadata": {},
     "output_type": "execute_result"
    }
   ],
   "source": [
    "function test13(freqtest,e)\n",
    "model = Model(Ipopt.Optimizer)\n",
    "@variable(model,x1>=0)\n",
    "@variable(model,x2>=0)\n",
    "@variable(model,x4>=0)\n",
    "@variable(model,x5>=0)\n",
    "#set each one variable to be larger than 0\n",
    "@constraint(model,x1<=1)\n",
    "@constraint(model,x2<=1)\n",
    "@constraint(model,x4<=sqrt(k))\n",
    "@constraint(model,x5<=1)\n",
    "@NLconstraint(model,x1*x2*x5 == e)\n",
    "@NLobjective(model, Min, 1/2*sum(((freqtest[i]-obs1[1,i]*obs1[3,i]*0\n",
    "                -obs1[2,i]*obs1[4,i]*x2*x4\n",
    "                -obs1[1,i]*obs1[4,i]*x1*x5*x4\n",
    "                -obs1[2,i]*obs1[3,i]*0)^2)/q[i] for i in 1:16))\n",
    "optimize!(model)\n",
    "status = termination_status(model)\n",
    "asdgf =objective_value(model)\n",
    "    return objective_value(model)\n",
    "end"
   ]
  },
  {
   "cell_type": "code",
   "execution_count": 269,
   "id": "e6a457f8",
   "metadata": {},
   "outputs": [
    {
     "data": {
      "text/plain": [
       "test14 (generic function with 2 methods)"
      ]
     },
     "execution_count": 269,
     "metadata": {},
     "output_type": "execute_result"
    }
   ],
   "source": [
    "function test14(freqtest,e)\n",
    "model = Model(Ipopt.Optimizer)\n",
    "@variable(model,x1>=0)\n",
    "@variable(model,x2>=0)\n",
    "@variable(model,x3>=0)\n",
    "@variable(model,x5>=0)\n",
    "#set each one variable to be larger than 0\n",
    "@constraint(model,x1<=1)\n",
    "@constraint(model,x2<=1)\n",
    "@constraint(model,x3<=sqrt(k))\n",
    "@constraint(model,x5<=1)\n",
    "@NLconstraint(model,x1*x2*x5 == e)\n",
    "@NLobjective(model, Min, 1/2*sum(((freqtest[i]-obs1[1,i]*obs1[3,i]*x1*x3\n",
    "                -obs1[2,i]*obs1[4,i]*0\n",
    "                -obs1[1,i]*obs1[4,i]*0\n",
    "                -obs1[2,i]*obs1[3,i]*x2*x5*x3)^2)/q[i] for i in 1:16))\n",
    "optimize!(model)\n",
    "status = termination_status(model)\n",
    "asdgf =objective_value(model)\n",
    "    return objective_value(model)\n",
    "end"
   ]
  },
  {
   "cell_type": "code",
   "execution_count": 270,
   "id": "a1a360f4",
   "metadata": {},
   "outputs": [
    {
     "data": {
      "text/plain": [
       "test15 (generic function with 2 methods)"
      ]
     },
     "execution_count": 270,
     "metadata": {},
     "output_type": "execute_result"
    }
   ],
   "source": [
    "function test15(freqtest,e)\n",
    "model = Model(Ipopt.Optimizer)\n",
    "@variable(model,x1>=0)\n",
    "@variable(model,x2>=0)\n",
    "@variable(model,x3>=0)\n",
    "@variable(model,x4>=0)\n",
    "#set each one variable to be larger than 0\n",
    "@constraint(model,x1<=1)\n",
    "@constraint(model,x2<=1)\n",
    "@constraint(model,x3<=sqrt(k))\n",
    "@constraint(model,x4<=sqrt(k))\n",
    "@NLconstraint(model,x1*x2 == e)\n",
    "@NLobjective(model, Min, 1/2*sum(((freqtest[i]-obs1[1,i]*obs1[3,i]*x1*x3\n",
    "                -obs1[2,i]*obs1[4,i]*x2*x4\n",
    "                -obs1[1,i]*obs1[4,i]*x1*x4\n",
    "                -obs1[2,i]*obs1[3,i]*x2*x3)^2)/q[i] for i in 1:16))\n",
    "optimize!(model)\n",
    "status = termination_status(model)\n",
    "asdgf =objective_value(model)\n",
    "    return objective_value(model)\n",
    "end"
   ]
  },
  {
   "cell_type": "code",
   "execution_count": 271,
   "id": "af3ab4f7",
   "metadata": {},
   "outputs": [
    {
     "data": {
      "text/plain": [
       "test111 (generic function with 2 methods)"
      ]
     },
     "execution_count": 271,
     "metadata": {},
     "output_type": "execute_result"
    }
   ],
   "source": [
    "function test111(freqtest,e)\n",
    "model = Model(Ipopt.Optimizer)\n",
    "@variable(model,x2>=0)\n",
    "@variable(model,x4>=0)\n",
    "@variable(model,x5>=0)\n",
    "#set each one variable to be larger than 0\n",
    "@constraint(model,x2<=1)\n",
    "@constraint(model,x4<=sqrt(k))\n",
    "@constraint(model,x5<=1)\n",
    "@NLconstraint(model,x2*x5 == e)\n",
    "@NLobjective(model, Min, 1/2*sum(((freqtest[i]-obs1[1,i]*obs1[3,i]*0\n",
    "                -obs1[2,i]*obs1[4,i]*x2*x4\n",
    "                -obs1[1,i]*obs1[4,i]*x5*x4\n",
    "                -obs1[2,i]*obs1[3,i]*0)^2)/q[i] for i in 1:16))\n",
    "optimize!(model)\n",
    "status = termination_status(model)\n",
    "asdgf =objective_value(model)\n",
    "    return objective_value(model)\n",
    "end"
   ]
  },
  {
   "cell_type": "code",
   "execution_count": 272,
   "id": "fc23a5a3",
   "metadata": {},
   "outputs": [
    {
     "data": {
      "text/plain": [
       "test112 (generic function with 2 methods)"
      ]
     },
     "execution_count": 272,
     "metadata": {},
     "output_type": "execute_result"
    }
   ],
   "source": [
    "function test112(freqtest,e)\n",
    "model = Model(Ipopt.Optimizer)\n",
    "@variable(model,x2>=0)\n",
    "@variable(model,x3>=0)\n",
    "@variable(model,x5>=0)\n",
    "#set each one variable to be larger than 0\n",
    "@constraint(model,x2<=1)\n",
    "@constraint(model,x3<=sqrt(k))\n",
    "@constraint(model,x5<=1)\n",
    "@NLconstraint(model,x2*x5 == e)\n",
    "@NLobjective(model, Min, 1/2*sum(((freqtest[i]-obs1[1,i]*obs1[3,i]*x1*x3\n",
    "                -obs1[2,i]*obs1[4,i]*0\n",
    "                -obs1[1,i]*obs1[4,i]*0\n",
    "                -obs1[2,i]*obs1[3,i]*x2*x5*x3)^2)/q[i] for i in 1:16))\n",
    "optimize!(model)\n",
    "status = termination_status(model)\n",
    "asdgf =objective_value(model)\n",
    "    return objective_value(model)\n",
    "end"
   ]
  },
  {
   "cell_type": "code",
   "execution_count": 273,
   "id": "a38ae0fc",
   "metadata": {},
   "outputs": [
    {
     "data": {
      "text/plain": [
       "test113 (generic function with 2 methods)"
      ]
     },
     "execution_count": 273,
     "metadata": {},
     "output_type": "execute_result"
    }
   ],
   "source": [
    "function test113(freqtest,e)\n",
    "model = Model(Ipopt.Optimizer)\n",
    "@variable(model,x1>=0)\n",
    "@variable(model,x4>=0)\n",
    "@variable(model,x5>=0)\n",
    "#set each one variable to be larger than 0\n",
    "@constraint(model,x1<=1)\n",
    "@constraint(model,x4<=sqrt(k))\n",
    "@constraint(model,x5<=1)\n",
    "@NLconstraint(model,x1*x5 == e)\n",
    "@NLobjective(model, Min, 1/2*sum(((freqtest[i]-obs1[1,i]*obs1[3,i]*0\n",
    "                -obs1[2,i]*obs1[4,i]*x4\n",
    "                -obs1[1,i]*obs1[4,i]*x1*x5*x4\n",
    "                -obs1[2,i]*obs1[3,i]*0)^2)/q[i] for i in 1:16))\n",
    "optimize!(model)\n",
    "status = termination_status(model)\n",
    "asdgf =objective_value(model)\n",
    "    return objective_value(model)\n",
    "end"
   ]
  },
  {
   "cell_type": "code",
   "execution_count": 274,
   "id": "4a46ede2",
   "metadata": {},
   "outputs": [
    {
     "data": {
      "text/plain": [
       "test114 (generic function with 2 methods)"
      ]
     },
     "execution_count": 274,
     "metadata": {},
     "output_type": "execute_result"
    }
   ],
   "source": [
    "function test114(freqtest,e)\n",
    "model = Model(Ipopt.Optimizer)\n",
    "@variable(model,x1>=0)\n",
    "@variable(model,x3>=0)\n",
    "@variable(model,x5>=0)\n",
    "#set each one variable to be larger than 0\n",
    "@constraint(model,x1<=1)\n",
    "@constraint(model,x3<=sqrt(k))\n",
    "@constraint(model,x5<=1)\n",
    "@NLconstraint(model,x1*x5 == e)\n",
    "@NLobjective(model, Min, 1/2*sum(((freqtest[i]-obs1[1,i]*obs1[3,i]*x1*x3\n",
    "                -obs1[2,i]*obs1[4,i]*0\n",
    "                -obs1[1,i]*obs1[4,i]*0\n",
    "                -obs1[2,i]*obs1[3,i]*x5*x3)^2)/q[i] for i in 1:16))\n",
    "optimize!(model)\n",
    "status = termination_status(model)\n",
    "asdgf =objective_value(model)\n",
    "    return objective_value(model)\n",
    "end"
   ]
  },
  {
   "cell_type": "code",
   "execution_count": 275,
   "id": "55efcabc",
   "metadata": {},
   "outputs": [
    {
     "data": {
      "text/plain": [
       "test115 (generic function with 2 methods)"
      ]
     },
     "execution_count": 275,
     "metadata": {},
     "output_type": "execute_result"
    }
   ],
   "source": [
    "function test115(freqtest,e)\n",
    "model = Model(Ipopt.Optimizer)\n",
    "@variable(model,x1>=0)\n",
    "@variable(model,x2>=0)\n",
    "@variable(model,x4>=0)\n",
    "#set each one variable to be larger than 0\n",
    "@constraint(model,x1<=1)\n",
    "@constraint(model,x2<=1)\n",
    "@constraint(model,x4<=sqrt(k))\n",
    "@NLconstraint(model,x1*x2 == e)\n",
    "@NLobjective(model, Min, 1/2*sum(((freqtest[i]-obs1[1,i]*obs1[3,i]*0\n",
    "                -obs1[2,i]*obs1[4,i]*x2*x4\n",
    "                -obs1[1,i]*obs1[4,i]*x1*x4\n",
    "                -obs1[2,i]*obs1[3,i]*0)^2)/q[i] for i in 1:16))\n",
    "optimize!(model)\n",
    "status = termination_status(model)\n",
    "asdgf =objective_value(model)\n",
    "    return objective_value(model)\n",
    "end"
   ]
  },
  {
   "cell_type": "code",
   "execution_count": 276,
   "id": "744292ec",
   "metadata": {},
   "outputs": [
    {
     "data": {
      "text/plain": [
       "test116 (generic function with 2 methods)"
      ]
     },
     "execution_count": 276,
     "metadata": {},
     "output_type": "execute_result"
    }
   ],
   "source": [
    "function test116(freqtest,e)\n",
    "model = Model(Ipopt.Optimizer)\n",
    "@variable(model,x1>=0)\n",
    "@variable(model,x2>=0)\n",
    "@variable(model,x3>=0)\n",
    "#set each one variable to be larger than 0\n",
    "@constraint(model,x1<=1)\n",
    "@constraint(model,x2<=1)\n",
    "@constraint(model,x3<=sqrt(k))\n",
    "@NLconstraint(model,x1*x2 == e)\n",
    "@NLobjective(model, Min, 1/2*sum(((freqtest[i]-obs1[1,i]*obs1[3,i]*x1*x3\n",
    "                -obs1[2,i]*obs1[4,i]*0\n",
    "                -obs1[1,i]*obs1[4,i]*0\n",
    "                -obs1[2,i]*obs1[3,i]*x2*x3)^2)/q[i] for i in 1:16))\n",
    "optimize!(model)\n",
    "status = termination_status(model)\n",
    "asdgf =objective_value(model)\n",
    "    return objective_value(model)\n",
    "end"
   ]
  },
  {
   "cell_type": "code",
   "execution_count": 277,
   "id": "461adad7",
   "metadata": {},
   "outputs": [
    {
     "data": {
      "text/plain": [
       "test117 (generic function with 2 methods)"
      ]
     },
     "execution_count": 277,
     "metadata": {},
     "output_type": "execute_result"
    }
   ],
   "source": [
    "function test117(freqtest,e)\n",
    "model = Model(Ipopt.Optimizer)\n",
    "@variable(model,x3>=0)\n",
    "@variable(model,x4>=0)\n",
    "@variable(model,x5>=0)\n",
    "#set each one variable to be larger than 0\n",
    "@constraint(model,x3<=sqrt(k))\n",
    "@constraint(model,x4<=sqrt(k))\n",
    "@constraint(model,x5<=1)\n",
    "@NLconstraint(model,x5 == e)\n",
    "@NLobjective(model, Min, 1/2*sum(((freqtest[i]-obs1[1,i]*obs1[3,i]*x3\n",
    "                -obs1[2,i]*obs1[4,i]*x4\n",
    "                -obs1[1,i]*obs1[4,i]*x5*x4\n",
    "                -obs1[2,i]*obs1[3,i]*x5*x3)^2)/q[i] for i in 1:16))\n",
    "optimize!(model)\n",
    "status = termination_status(model)\n",
    "asdgf =objective_value(model)\n",
    "    return objective_value(model)\n",
    "end"
   ]
  },
  {
   "cell_type": "code",
   "execution_count": 278,
   "id": "9fe80f89",
   "metadata": {},
   "outputs": [
    {
     "data": {
      "text/plain": [
       "test118 (generic function with 2 methods)"
      ]
     },
     "execution_count": 278,
     "metadata": {},
     "output_type": "execute_result"
    }
   ],
   "source": [
    "function test118(freqtest,e)\n",
    "model = Model(Ipopt.Optimizer)\n",
    "@variable(model,x1>=0)\n",
    "@variable(model,x3>=0)\n",
    "@variable(model,x4>=0)\n",
    "#set each one variable to be larger than 0\n",
    "@constraint(model,x1<=1)\n",
    "@constraint(model,x3<=sqrt(k))\n",
    "@constraint(model,x4<=sqrt(k))\n",
    "@NLconstraint(model,x1 == e)\n",
    "@NLobjective(model, Min, 1/2*sum(((freqtest[i]-obs1[1,i]*obs1[3,i]*x1*x3\n",
    "                -obs1[2,i]*obs1[4,i]*x4\n",
    "                -obs1[1,i]*obs1[4,i]*x1*x4\n",
    "                -obs1[2,i]*obs1[3,i]*x3)^2)/q[i] for i in 1:16))\n",
    "optimize!(model)\n",
    "status = termination_status(model)\n",
    "asdgf =objective_value(model)\n",
    "    return objective_value(model)\n",
    "end"
   ]
  },
  {
   "cell_type": "code",
   "execution_count": 279,
   "id": "152984b0",
   "metadata": {},
   "outputs": [
    {
     "data": {
      "text/plain": [
       "test119 (generic function with 2 methods)"
      ]
     },
     "execution_count": 279,
     "metadata": {},
     "output_type": "execute_result"
    }
   ],
   "source": [
    "function test119(freqtest,e)\n",
    "model = Model(Ipopt.Optimizer)\n",
    "@variable(model,x2>=0)\n",
    "@variable(model,x3>=0)\n",
    "@variable(model,x4>=0)\n",
    "#set each one variable to be larger than 0\n",
    "@constraint(model,x2<=1)\n",
    "@constraint(model,x3<=sqrt(k))\n",
    "@constraint(model,x4<=sqrt(k))\n",
    "@NLconstraint(model,x2 == e)\n",
    "@NLobjective(model, Min, 1/2*sum(((freqtest[i]-obs1[1,i]*obs1[3,i]*x3\n",
    "                -obs1[2,i]*obs1[4,i]*x2*x4\n",
    "                -obs1[1,i]*obs1[4,i]*x4\n",
    "                -obs1[2,i]*obs1[3,i]*x2*x3)^2)/q[i] for i in 1:16))\n",
    "optimize!(model)\n",
    "status = termination_status(model)\n",
    "asdgf =objective_value(model)\n",
    "    return objective_value(model)\n",
    "end"
   ]
  },
  {
   "cell_type": "code",
   "execution_count": 280,
   "id": "aaabb8e6",
   "metadata": {},
   "outputs": [
    {
     "data": {
      "text/plain": [
       "test1111 (generic function with 1 method)"
      ]
     },
     "execution_count": 280,
     "metadata": {},
     "output_type": "execute_result"
    }
   ],
   "source": [
    "function test1111(freqtest,e)\n",
    "model = Model(Ipopt.Optimizer)\n",
    "@variable(model,x4>=0)\n",
    "@variable(model,x5>=0)\n",
    "#set each one variable to be larger than 0\n",
    "@constraint(model,x4<=sqrt(k))\n",
    "@constraint(model,x5<=1)\n",
    "@NLconstraint(model,x5 == e)\n",
    "@NLobjective(model, Min, 1/2*sum(((freqtest[i]-obs1[1,i]*obs1[3,i]*0\n",
    "                -obs1[2,i]*obs1[4,i]*x4\n",
    "                -obs1[1,i]*obs1[4,i]*x5*x4\n",
    "                -obs1[2,i]*obs1[3,i]*0)^2)/q[i] for i in 1:16))\n",
    "optimize!(model)\n",
    "status = termination_status(model)\n",
    "asdgf =objective_value(model)\n",
    "    return objective_value(model)\n",
    "end"
   ]
  },
  {
   "cell_type": "code",
   "execution_count": 281,
   "id": "4e81e983",
   "metadata": {},
   "outputs": [
    {
     "data": {
      "text/plain": [
       "test1112 (generic function with 1 method)"
      ]
     },
     "execution_count": 281,
     "metadata": {},
     "output_type": "execute_result"
    }
   ],
   "source": [
    "function test1112(freqtest,e)\n",
    "model = Model(Ipopt.Optimizer)\n",
    "@variable(model,x3>=0)\n",
    "@variable(model,x5>=0)\n",
    "#set each one variable to be larger than 0\n",
    "@constraint(model,x3<=sqrt(k))\n",
    "@constraint(model,x5<=1)\n",
    "@NLconstraint(model,x5 == e)\n",
    "@NLobjective(model, Min, 1/2*sum(((freqtest[i]-obs1[1,i]*obs1[3,i]*x3\n",
    "                -obs1[2,i]*obs1[4,i]*0\n",
    "                -obs1[1,i]*obs1[4,i]*0\n",
    "                -obs1[2,i]*obs1[3,i]*x5*x3)^2)/q[i] for i in 1:16))\n",
    "optimize!(model)\n",
    "status = termination_status(model)\n",
    "asdgf =objective_value(model)\n",
    "    return objective_value(model)\n",
    "end"
   ]
  },
  {
   "cell_type": "code",
   "execution_count": 346,
   "id": "08214706",
   "metadata": {},
   "outputs": [
    {
     "data": {
      "text/plain": [
       "test1113 (generic function with 1 method)"
      ]
     },
     "execution_count": 346,
     "metadata": {},
     "output_type": "execute_result"
    }
   ],
   "source": [
    "function test1113(freqtest,e)\n",
    "model = Model(Ipopt.Optimizer)\n",
    "@variable(model,x1>=0)\n",
    "@variable(model,x4>=0)\n",
    "#set each one variable to be larger than 0\n",
    "@constraint(model,x1<=1)\n",
    "@constraint(model,x4<=sqrt(k))\n",
    "@NLconstraint(model,x1 == e)\n",
    "@NLobjective(model, Min, 1/2*sum(((freqtest[i]-obs1[1,i]*obs1[3,i]*0\n",
    "                -obs1[2,i]*obs1[4,i]*x4\n",
    "                -obs1[1,i]*obs1[4,i]*x1*x4\n",
    "                -obs1[2,i]*obs1[3,i]*0)^2)/q[i] for i in 1:16))\n",
    "optimize!(model)\n",
    "status = termination_status(model)\n",
    "asdgf =objective_value(model)\n",
    "    return objective_value(model)\n",
    "end"
   ]
  },
  {
   "cell_type": "code",
   "execution_count": 283,
   "id": "c267c0e9",
   "metadata": {},
   "outputs": [
    {
     "data": {
      "text/plain": [
       "test1114 (generic function with 1 method)"
      ]
     },
     "execution_count": 283,
     "metadata": {},
     "output_type": "execute_result"
    }
   ],
   "source": [
    "function test1114(freqtest,e)\n",
    "model = Model(Ipopt.Optimizer)\n",
    "@variable(model,x1>=0)\n",
    "@variable(model,x3>=0)\n",
    "#set each one variable to be larger than 0\n",
    "@constraint(model,x1<=1)\n",
    "@constraint(model,x3<=sqrt(k))\n",
    "@NLconstraint(model,x1 == e)\n",
    "@NLobjective(model, Min, 1/2*sum(((freqtest[i]-obs1[1,i]*obs1[3,i]*x1*x3\n",
    "                -obs1[2,i]*obs1[4,i]*0\n",
    "                -obs1[1,i]*obs1[4,i]*0\n",
    "                -obs1[2,i]*obs1[3,i]*x3)^2)/q[i] for i in 1:16))\n",
    "optimize!(model)\n",
    "status = termination_status(model)\n",
    "asdgf =objective_value(model)\n",
    "    return objective_value(model)\n",
    "end"
   ]
  },
  {
   "cell_type": "code",
   "execution_count": 284,
   "id": "67205094",
   "metadata": {},
   "outputs": [
    {
     "data": {
      "text/plain": [
       "test1115 (generic function with 1 method)"
      ]
     },
     "execution_count": 284,
     "metadata": {},
     "output_type": "execute_result"
    }
   ],
   "source": [
    "function test1115(freqtest,e)\n",
    "model = Model(Ipopt.Optimizer)\n",
    "@variable(model,x2>=0)\n",
    "@variable(model,x3>=0)\n",
    "#set each one variable to be larger than 0\n",
    "@constraint(model,x2<=1)\n",
    "@constraint(model,x3<=sqrt(k))\n",
    "@NLconstraint(model,x2 == e)\n",
    "@NLobjective(model, Min, 1/2*sum(((freqtest[i]-obs1[1,i]*obs1[3,i]*x3\n",
    "                -obs1[2,i]*obs1[4,i]*0\n",
    "                -obs1[1,i]*obs1[4,i]*0\n",
    "                -obs1[2,i]*obs1[3,i]*x2*x3)^2)/q[i] for i in 1:16))\n",
    "optimize!(model)\n",
    "status = termination_status(model)\n",
    "asdgf =objective_value(model)\n",
    "    return objective_value(model)\n",
    "end"
   ]
  },
  {
   "cell_type": "code",
   "execution_count": 285,
   "id": "004b6001",
   "metadata": {},
   "outputs": [
    {
     "data": {
      "text/plain": [
       "test1116 (generic function with 1 method)"
      ]
     },
     "execution_count": 285,
     "metadata": {},
     "output_type": "execute_result"
    }
   ],
   "source": [
    "function test1116(freqtest,e)\n",
    "model = Model(Ipopt.Optimizer)\n",
    "@variable(model,x2>=0)\n",
    "@variable(model,x4>=0)\n",
    "#set each one variable to be larger than 0\n",
    "@constraint(model,x2<=1)\n",
    "@constraint(model,x4<=sqrt(k))\n",
    "@NLconstraint(model,x2 == e)\n",
    "@NLobjective(model, Min, 1/2*sum(((freqtest[i]-obs1[1,i]*obs1[3,i]*0\n",
    "                -obs1[2,i]*obs1[4,i]*x2*x4\n",
    "                -obs1[1,i]*obs1[4,i]*x4\n",
    "                -obs1[2,i]*obs1[3,i]*0)^2)/q[i] for i in 1:16))\n",
    "optimize!(model)\n",
    "status = termination_status(model)\n",
    "asdgf =objective_value(model)\n",
    "    return objective_value(model)\n",
    "end"
   ]
  },
  {
   "cell_type": "code",
   "execution_count": 289,
   "id": "c440666d",
   "metadata": {},
   "outputs": [
    {
     "data": {
      "text/plain": [
       "test2a (generic function with 2 methods)"
      ]
     },
     "execution_count": 289,
     "metadata": {},
     "output_type": "execute_result"
    }
   ],
   "source": [
    "function test2a(freqtest,e)\n",
    "model = Model(Ipopt.Optimizer)\n",
    "@variable(model,x1>=0)\n",
    "@variable(model,x2>=0)\n",
    "@variable(model,x3>=0)\n",
    "@variable(model,x4>=0)\n",
    "@variable(model,x5>=0)\n",
    "#set each one variable to be larger than 0\n",
    "@constraint(model,x1<=1)\n",
    "@constraint(model,x2<=1)\n",
    "@constraint(model,x3<=sqrt(k))\n",
    "@constraint(model,x4<=sqrt(k))\n",
    "@constraint(model,x5<=1)\n",
    "@NLconstraint(model,x1*x2 == e)\n",
    "@NLobjective(model, Min, 1/2*sum(((freqtest[i]-obs1[1,i]*obs1[3,i]*x1*x3*x5\n",
    "                -obs1[2,i]*obs1[4,i]*x2*x4*x5\n",
    "                -obs1[1,i]*obs1[4,i]*x1*x5*x4\n",
    "                -obs1[2,i]*obs1[3,i]*x2*x5*x3)^2)/q[i] for i in 1:16))\n",
    "optimize!(model)\n",
    "status = termination_status(model)\n",
    "asdgf =objective_value(model)\n",
    "    return objective_value(model)\n",
    "end\n"
   ]
  },
  {
   "cell_type": "code",
   "execution_count": 287,
   "id": "97e98783",
   "metadata": {},
   "outputs": [
    {
     "data": {
      "text/plain": [
       "test2a1 (generic function with 2 methods)"
      ]
     },
     "execution_count": 287,
     "metadata": {},
     "output_type": "execute_result"
    }
   ],
   "source": [
    "function test2a1(freqtest,e)\n",
    "model = Model(Ipopt.Optimizer)\n",
    "@variable(model,x2>=0)\n",
    "@variable(model,x3>=0)\n",
    "@variable(model,x4>=0)\n",
    "@variable(model,x5>=0)\n",
    "#set each one variable to be larger than 0\n",
    "@constraint(model,x2<=1)\n",
    "@constraint(model,x3<=sqrt(k))\n",
    "@constraint(model,x4<=sqrt(k))\n",
    "@constraint(model,x5<=1)\n",
    "@NLconstraint(model,x2 == e)\n",
    "@NLobjective(model, Min, 1/2*sum(((freqtest[i]-obs1[1,i]*obs1[3,i]*x3*x5\n",
    "                -obs1[2,i]*obs1[4,i]*x2*x4*x5\n",
    "                -obs1[1,i]*obs1[4,i]*x5*x4\n",
    "                -obs1[2,i]*obs1[3,i]*x2*x5*x3)^2)/q[i] for i in 1:16))\n",
    "optimize!(model)\n",
    "status = termination_status(model)\n",
    "asdgf =objective_value(model)\n",
    "    return objective_value(model)\n",
    "end"
   ]
  },
  {
   "cell_type": "code",
   "execution_count": 290,
   "id": "71d89d48",
   "metadata": {},
   "outputs": [
    {
     "data": {
      "text/plain": [
       "test2a2 (generic function with 2 methods)"
      ]
     },
     "execution_count": 290,
     "metadata": {},
     "output_type": "execute_result"
    }
   ],
   "source": [
    "function test2a2(freqtest,e)\n",
    "model = Model(Ipopt.Optimizer)\n",
    "@variable(model,x1>=0)\n",
    "@variable(model,x3>=0)\n",
    "@variable(model,x4>=0)\n",
    "@variable(model,x5>=0)\n",
    "#set each one variable to be larger than 0\n",
    "@constraint(model,x1<=1)\n",
    "@constraint(model,x3<=sqrt(k))\n",
    "@constraint(model,x4<=sqrt(k))\n",
    "@constraint(model,x5<=1)\n",
    "@NLconstraint(model,x1*x2 == e)\n",
    "@NLobjective(model, Min, 1/2*sum(((freqtest[i]-obs1[1,i]*obs1[3,i]*x1*x3*x5\n",
    "                -obs1[2,i]*obs1[4,i]*x4*x5\n",
    "                -obs1[1,i]*obs1[4,i]*x1*x5*x4\n",
    "                -obs1[2,i]*obs1[3,i]*x5*x3)^2)/q[i] for i in 1:16))\n",
    "optimize!(model)\n",
    "status = termination_status(model)\n",
    "asdgf =objective_value(model)\n",
    "    return objective_value(model)\n",
    "end"
   ]
  },
  {
   "cell_type": "code",
   "execution_count": 291,
   "id": "330aa57a",
   "metadata": {},
   "outputs": [
    {
     "data": {
      "text/plain": [
       "test2a3 (generic function with 2 methods)"
      ]
     },
     "execution_count": 291,
     "metadata": {},
     "output_type": "execute_result"
    }
   ],
   "source": [
    "function test2a3(freqtest,e)\n",
    "model = Model(Ipopt.Optimizer)\n",
    "@variable(model,x1>=0)\n",
    "@variable(model,x2>=0)\n",
    "@variable(model,x4>=0)\n",
    "@variable(model,x5>=0)\n",
    "#set each one variable to be larger than 0\n",
    "@constraint(model,x1<=1)\n",
    "@constraint(model,x2<=1)\n",
    "@constraint(model,x4<=sqrt(k))\n",
    "@constraint(model,x5<=1)\n",
    "@NLconstraint(model,x1*x2 == e)\n",
    "@NLobjective(model, Min, 1/2*sum(((freqtest[i]-obs1[1,i]*obs1[3,i]*x1*0*x5\n",
    "                -obs1[2,i]*obs1[4,i]*x2*x4*x5\n",
    "                -obs1[1,i]*obs1[4,i]*x1*x5*x4\n",
    "                -obs1[2,i]*obs1[3,i]*x2*x5*0)^2)/q[i] for i in 1:16))\n",
    "optimize!(model)\n",
    "status = termination_status(model)\n",
    "asdgf =objective_value(model)\n",
    "    return objective_value(model)\n",
    "end"
   ]
  },
  {
   "cell_type": "code",
   "execution_count": 292,
   "id": "7e64d223",
   "metadata": {},
   "outputs": [
    {
     "data": {
      "text/plain": [
       "test2a4 (generic function with 2 methods)"
      ]
     },
     "execution_count": 292,
     "metadata": {},
     "output_type": "execute_result"
    }
   ],
   "source": [
    "function test2a4(freqtest,e)\n",
    "model = Model(Ipopt.Optimizer)\n",
    "@variable(model,x1>=0)\n",
    "@variable(model,x2>=0)\n",
    "@variable(model,x3>=0)\n",
    "@variable(model,x5>=0)\n",
    "#set each one variable to be larger than 0\n",
    "@constraint(model,x1<=1)\n",
    "@constraint(model,x2<=1)\n",
    "@constraint(model,x3<=sqrt(k))\n",
    "@constraint(model,x5<=1)\n",
    "@NLconstraint(model,x1*x2 == e)\n",
    "@NLobjective(model, Min, 1/2*sum(((freqtest[i]-obs1[1,i]*obs1[3,i]*x1*x3*x5\n",
    "                -obs1[2,i]*obs1[4,i]*x2*0*x5\n",
    "                -obs1[1,i]*obs1[4,i]*x1*x5*0\n",
    "                -obs1[2,i]*obs1[3,i]*x2*x5*x3)^2)/q[i] for i in 1:16))\n",
    "optimize!(model)\n",
    "status = termination_status(model)\n",
    "asdgf =objective_value(model)\n",
    "    return objective_value(model)\n",
    "end"
   ]
  },
  {
   "cell_type": "code",
   "execution_count": 293,
   "id": "56eeb539",
   "metadata": {},
   "outputs": [
    {
     "data": {
      "text/plain": [
       "test2a5 (generic function with 2 methods)"
      ]
     },
     "execution_count": 293,
     "metadata": {},
     "output_type": "execute_result"
    }
   ],
   "source": [
    "function test2a5(freqtest,e)\n",
    "model = Model(Ipopt.Optimizer)\n",
    "@variable(model,x1>=0)\n",
    "@variable(model,x2>=0)\n",
    "@variable(model,x3>=0)\n",
    "@variable(model,x4>=0)\n",
    "#set each one variable to be larger than 0\n",
    "@constraint(model,x1<=1)\n",
    "@constraint(model,x2<=1)\n",
    "@constraint(model,x3<=sqrt(k))\n",
    "@constraint(model,x4<=sqrt(k))\n",
    "@NLconstraint(model,x1*x2 == e)\n",
    "@NLobjective(model, Min, 1/2*sum(((freqtest[i]-obs1[1,i]*obs1[3,i]*x1*x3\n",
    "                -obs1[2,i]*obs1[4,i]*x2*x4\n",
    "                -obs1[1,i]*obs1[4,i]*x1*x4\n",
    "                -obs1[2,i]*obs1[3,i]*x2*x3)^2)/q[i] for i in 1:16))\n",
    "optimize!(model)\n",
    "status = termination_status(model)\n",
    "asdgf =objective_value(model)\n",
    "    return objective_value(model)\n",
    "end"
   ]
  },
  {
   "cell_type": "code",
   "execution_count": 294,
   "id": "f5f30dfe",
   "metadata": {},
   "outputs": [
    {
     "data": {
      "text/plain": [
       "test2a11 (generic function with 2 methods)"
      ]
     },
     "execution_count": 294,
     "metadata": {},
     "output_type": "execute_result"
    }
   ],
   "source": [
    "function test2a11(freqtest,e)\n",
    "model = Model(Ipopt.Optimizer)\n",
    "@variable(model,x2>=0)\n",
    "@variable(model,x4>=0)\n",
    "@variable(model,x5>=0)\n",
    "#set each one variable to be larger than 0\n",
    "@constraint(model,x2<=1)\n",
    "@constraint(model,x4<=sqrt(k))\n",
    "@constraint(model,x5<=1)\n",
    "@NLconstraint(model,x1*x2 == e)\n",
    "@NLobjective(model, Min, 1/2*sum(((freqtest[i]-obs1[1,i]*obs1[3,i]*0\n",
    "                -obs1[2,i]*obs1[4,i]*x2*x4*x5\n",
    "                -obs1[1,i]*obs1[4,i]*x5*x4\n",
    "                -obs1[2,i]*obs1[3,i]*0)^2)/q[i] for i in 1:16))\n",
    "optimize!(model)\n",
    "status = termination_status(model)\n",
    "asdgf =objective_value(model)\n",
    "    return objective_value(model)\n",
    "end"
   ]
  },
  {
   "cell_type": "code",
   "execution_count": 295,
   "id": "bceee847",
   "metadata": {},
   "outputs": [
    {
     "data": {
      "text/plain": [
       "test2a12 (generic function with 2 methods)"
      ]
     },
     "execution_count": 295,
     "metadata": {},
     "output_type": "execute_result"
    }
   ],
   "source": [
    "function test2a12(freqtest,e)\n",
    "model = Model(Ipopt.Optimizer)\n",
    "@variable(model,x1>=0)\n",
    "@variable(model,x4>=0)\n",
    "@variable(model,x5>=0)\n",
    "#set each one variable to be larger than 0\n",
    "@constraint(model,x1<=1)\n",
    "@constraint(model,x4<=sqrt(k))\n",
    "@constraint(model,x5<=1)\n",
    "@NLconstraint(model,x1*x2 == e)\n",
    "@NLobjective(model, Min, 1/2*sum(((freqtest[i]-obs1[1,i]*obs1[3,i]*x1*0*x5\n",
    "                -obs1[2,i]*obs1[4,i]*x4*x5\n",
    "                -obs1[1,i]*obs1[4,i]*x1*x5*x4\n",
    "                -obs1[2,i]*obs1[3,i]*x2*x5*0)^2)/q[i] for i in 1:16))\n",
    "optimize!(model)\n",
    "status = termination_status(model)\n",
    "asdgf =objective_value(model)\n",
    "    return objective_value(model)\n",
    "end"
   ]
  },
  {
   "cell_type": "code",
   "execution_count": 296,
   "id": "4065887d",
   "metadata": {},
   "outputs": [
    {
     "data": {
      "text/plain": [
       "test2a13 (generic function with 2 methods)"
      ]
     },
     "execution_count": 296,
     "metadata": {},
     "output_type": "execute_result"
    }
   ],
   "source": [
    "function test2a13(freqtest,e)\n",
    "model = Model(Ipopt.Optimizer)\n",
    "@variable(model,x2>=0)\n",
    "@variable(model,x3>=0)\n",
    "@variable(model,x5>=0)\n",
    "#set each one variable to be larger than 0\n",
    "@constraint(model,x2<=1)\n",
    "@constraint(model,x3<=sqrt(k))\n",
    "@constraint(model,x5<=1)\n",
    "@NLconstraint(model,x1*x2 == e)\n",
    "@NLobjective(model, Min, 1/2*sum(((freqtest[i]-obs1[1,i]*obs1[3,i]*x3*x5\n",
    "                -obs1[2,i]*obs1[4,i]*x2*0*x5\n",
    "                -obs1[1,i]*obs1[4,i]*x1*x5*0\n",
    "                -obs1[2,i]*obs1[3,i]*x2*x5*x3)^2)/q[i] for i in 1:16))\n",
    "optimize!(model)\n",
    "status = termination_status(model)\n",
    "asdgf =objective_value(model)\n",
    "    return objective_value(model)\n",
    "end"
   ]
  },
  {
   "cell_type": "code",
   "execution_count": 297,
   "id": "ad73092f",
   "metadata": {},
   "outputs": [
    {
     "data": {
      "text/plain": [
       "test2a14 (generic function with 2 methods)"
      ]
     },
     "execution_count": 297,
     "metadata": {},
     "output_type": "execute_result"
    }
   ],
   "source": [
    "function test2a14(freqtest,e)\n",
    "model = Model(Ipopt.Optimizer)\n",
    "@variable(model,x1>=0)\n",
    "@variable(model,x3>=0)\n",
    "@variable(model,x5>=0)\n",
    "#set each one variable to be larger than 0\n",
    "@constraint(model,x1<=1)\n",
    "@constraint(model,x3<=sqrt(k))\n",
    "@constraint(model,x5<=1)\n",
    "@NLconstraint(model,x1*x2 == e)\n",
    "@NLobjective(model, Min, 1/2*sum(((freqtest[i]-obs1[1,i]*obs1[3,i]*x1*x3*x5\n",
    "                -obs1[2,i]*obs1[4,i]*0\n",
    "                -obs1[1,i]*obs1[4,i]*0\n",
    "                -obs1[2,i]*obs1[3,i]*x5*x3)^2)/q[i] for i in 1:16))\n",
    "optimize!(model)\n",
    "status = termination_status(model)\n",
    "asdgf =objective_value(model)\n",
    "    return objective_value(model)\n",
    "end"
   ]
  },
  {
   "cell_type": "code",
   "execution_count": 298,
   "id": "574728b6",
   "metadata": {},
   "outputs": [
    {
     "data": {
      "text/plain": [
       "test2a15 (generic function with 2 methods)"
      ]
     },
     "execution_count": 298,
     "metadata": {},
     "output_type": "execute_result"
    }
   ],
   "source": [
    "function test2a15(freqtest,e)\n",
    "model = Model(Ipopt.Optimizer)\n",
    "@variable(model,x2>=0)\n",
    "@variable(model,x3>=0)\n",
    "@variable(model,x4>=0)\n",
    "#set each one variable to be larger than 0\n",
    "@constraint(model,x2<=1)\n",
    "@constraint(model,x3<=sqrt(k))\n",
    "@constraint(model,x4<=sqrt(k))\n",
    "@NLconstraint(model,x2 == e)\n",
    "@NLobjective(model, Min, 1/2*sum(((freqtest[i]-obs1[1,i]*obs1[3,i]*x3\n",
    "                -obs1[2,i]*obs1[4,i]*x2*x4\n",
    "                -obs1[1,i]*obs1[4,i]*x4\n",
    "                -obs1[2,i]*obs1[3,i]*x2*x3)^2)/q[i] for i in 1:16))\n",
    "optimize!(model)\n",
    "status = termination_status(model)\n",
    "asdgf =objective_value(model)\n",
    "    return objective_value(model)\n",
    "end"
   ]
  },
  {
   "cell_type": "code",
   "execution_count": 299,
   "id": "8efe1dfc",
   "metadata": {},
   "outputs": [
    {
     "data": {
      "text/plain": [
       "test2a16 (generic function with 2 methods)"
      ]
     },
     "execution_count": 299,
     "metadata": {},
     "output_type": "execute_result"
    }
   ],
   "source": [
    "function test2a16(freqtest,e)\n",
    "model = Model(Ipopt.Optimizer)\n",
    "@variable(model,x1>=0)\n",
    "@variable(model,x3>=0)\n",
    "@variable(model,x4>=0)\n",
    "#set each one variable to be larger than 0\n",
    "@constraint(model,x1<=1)\n",
    "@constraint(model,x3<=sqrt(k))\n",
    "@constraint(model,x4<=sqrt(k))\n",
    "@NLconstraint(model,x1== e)\n",
    "@NLobjective(model, Min, 1/2*sum(((freqtest[i]-obs1[1,i]*obs1[3,i]*x1*x3\n",
    "                -obs1[2,i]*obs1[4,i]*x4\n",
    "                -obs1[1,i]*obs1[4,i]*x1*x4\n",
    "                -obs1[2,i]*obs1[3,i]*x3)^2)/q[i] for i in 1:16))\n",
    "optimize!(model)\n",
    "status = termination_status(model)\n",
    "asdgf =objective_value(model)\n",
    "    return objective_value(model)\n",
    "end"
   ]
  },
  {
   "cell_type": "code",
   "execution_count": 300,
   "id": "294e83ca",
   "metadata": {},
   "outputs": [
    {
     "data": {
      "text/plain": [
       "test2a17 (generic function with 2 methods)"
      ]
     },
     "execution_count": 300,
     "metadata": {},
     "output_type": "execute_result"
    }
   ],
   "source": [
    "function test2a17(freqtest,e)\n",
    "model = Model(Ipopt.Optimizer)\n",
    "@variable(model,x1>=0)\n",
    "@variable(model,x2>=0)\n",
    "@variable(model,x4>=0)\n",
    "#set each one variable to be larger than 0\n",
    "@constraint(model,x1<=1)\n",
    "@constraint(model,x2<=1)\n",
    "@constraint(model,x4<=sqrt(k))\n",
    "@NLconstraint(model,x1*x2 == e)\n",
    "@NLobjective(model, Min, 1/2*sum(((freqtest[i]-obs1[1,i]*obs1[3,i]*x1*0\n",
    "                -obs1[2,i]*obs1[4,i]*x2*x4\n",
    "                -obs1[1,i]*obs1[4,i]*x1*x4\n",
    "                -obs1[2,i]*obs1[3,i]*0)^2)/q[i] for i in 1:16))\n",
    "optimize!(model)\n",
    "status = termination_status(model)\n",
    "asdgf =objective_value(model)\n",
    "    return objective_value(model)\n",
    "end"
   ]
  },
  {
   "cell_type": "code",
   "execution_count": 302,
   "id": "da5c44c7",
   "metadata": {},
   "outputs": [
    {
     "data": {
      "text/plain": [
       "test2a18 (generic function with 2 methods)"
      ]
     },
     "execution_count": 302,
     "metadata": {},
     "output_type": "execute_result"
    }
   ],
   "source": [
    "function test2a18(freqtest,e)\n",
    "model = Model(Ipopt.Optimizer)\n",
    "@variable(model,x1>=0)\n",
    "@variable(model,x2>=0)\n",
    "@variable(model,x3>=0)\n",
    "#set each one variable to be larger than 0\n",
    "@constraint(model,x1<=1)\n",
    "@constraint(model,x2<=1)\n",
    "@constraint(model,x3<=sqrt(k))\n",
    "@NLconstraint(model,x1*x2 == e)\n",
    "@NLobjective(model, Min, 1/2*sum(((freqtest[i]-obs1[1,i]*obs1[3,i]*x1*x3\n",
    "                -obs1[2,i]*obs1[4,i]*0\n",
    "                -obs1[1,i]*obs1[4,i]*0\n",
    "                -obs1[2,i]*obs1[3,i]*x2*x3)^2)/q[i] for i in 1:16))\n",
    "optimize!(model)\n",
    "status = termination_status(model)\n",
    "asdgf =objective_value(model)\n",
    "    return objective_value(model)\n",
    "end"
   ]
  },
  {
   "cell_type": "code",
   "execution_count": 303,
   "id": "15c980c2",
   "metadata": {},
   "outputs": [
    {
     "data": {
      "text/plain": [
       "test2b (generic function with 3 methods)"
      ]
     },
     "execution_count": 303,
     "metadata": {},
     "output_type": "execute_result"
    }
   ],
   "source": [
    "function test2b(freqtest,e)\n",
    "model = Model(Ipopt.Optimizer)\n",
    "@variable(model,x1>=0)\n",
    "@variable(model,x2>=0)\n",
    "@variable(model,x3>=0) \n",
    "@variable(model,x4>=0)\n",
    "@variable(model,x5>=0)\n",
    "#set each one variable to be larger than 0\n",
    "@constraint(model,x1<=1)\n",
    "@constraint(model,x2<=1)\n",
    "@constraint(model,x3<=sqrt(k))\n",
    "@constraint(model,x4<=sqrt(k))\n",
    "@constraint(model,x5<=1)\n",
    "@NLconstraint(model,x1*x2 == e)\n",
    "@NLobjective(model, Min, 1/2*sum(((freqtest[i]-obs1[1,i]*obs1[3,i]*x1*x3*x5\n",
    "                -obs1[2,i]*obs1[4,i]*x2*x4*x5\n",
    "                -obs1[1,i]*obs1[4,i]*x1*x5*x4\n",
    "                -obs1[2,i]*obs1[3,i]*x2*x5*x3\n",
    "                -obs1[1,i]*obs1[2,i]*obs1[3,i]*obs1[4,i]*x1*x2*x3*x4)^2)/q[i] for i in 1:16))\n",
    "optimize!(model)\n",
    "status = termination_status(model)\n",
    "asdgf =objective_value(model)\n",
    "    return objective_value(model)\n",
    "end"
   ]
  },
  {
   "cell_type": "code",
   "execution_count": 304,
   "id": "44bd0677",
   "metadata": {},
   "outputs": [
    {
     "data": {
      "text/plain": [
       "test2b1 (generic function with 3 methods)"
      ]
     },
     "execution_count": 304,
     "metadata": {},
     "output_type": "execute_result"
    }
   ],
   "source": [
    "function test2b1(freqtest,e)\n",
    "model = Model(Ipopt.Optimizer)\n",
    "@variable(model,x2>=0)\n",
    "@variable(model,x3>=0) \n",
    "@variable(model,x4>=0)\n",
    "@variable(model,x5>=0)\n",
    "#set each one variable to be larger than 0\n",
    "@constraint(model,x2<=1)\n",
    "@constraint(model,x3<=sqrt(k))\n",
    "@constraint(model,x4<=sqrt(k))\n",
    "@constraint(model,x5<=1)\n",
    "@NLconstraint(model,x2 == e)\n",
    "@NLobjective(model, Min, 1/2*sum(((freqtest[i]-obs1[1,i]*obs1[3,i]*x3*x5\n",
    "                -obs1[2,i]*obs1[4,i]*x2*x4*x5\n",
    "                -obs1[1,i]*obs1[4,i]*x5*x4\n",
    "                -obs1[2,i]*obs1[3,i]*x2*x5*x3\n",
    "                -obs1[1,i]*obs1[2,i]*obs1[3,i]*obs1[4,i]*x2*x3*x4)^2)/q[i] for i in 1:16))\n",
    "optimize!(model)\n",
    "status = termination_status(model)\n",
    "asdgf =objective_value(model)\n",
    "    return objective_value(model)\n",
    "end"
   ]
  },
  {
   "cell_type": "code",
   "execution_count": 305,
   "id": "23700992",
   "metadata": {},
   "outputs": [
    {
     "data": {
      "text/plain": [
       "test2b2 (generic function with 3 methods)"
      ]
     },
     "execution_count": 305,
     "metadata": {},
     "output_type": "execute_result"
    }
   ],
   "source": [
    "function test2b2(freqtest,e)\n",
    "model = Model(Ipopt.Optimizer)\n",
    "@variable(model,x1>=0)\n",
    "@variable(model,x3>=0) \n",
    "@variable(model,x4>=0)\n",
    "@variable(model,x5>=0)\n",
    "#set each one variable to be larger than 0\n",
    "@constraint(model,x1<=1)\n",
    "@constraint(model,x3<=sqrt(k))\n",
    "@constraint(model,x4<=sqrt(k))\n",
    "@constraint(model,x5<=1)\n",
    "@NLconstraint(model,x1 == e)\n",
    "@NLobjective(model, Min, 1/2*sum(((freqtest[i]-obs1[1,i]*obs1[3,i]*x1*x3*x5\n",
    "                -obs1[2,i]*obs1[4,i]*x4*x5\n",
    "                -obs1[1,i]*obs1[4,i]*x1*x5*x4\n",
    "                -obs1[2,i]*obs1[3,i]*x5*x3\n",
    "                -obs1[1,i]*obs1[2,i]*obs1[3,i]*obs1[4,i]*x1*x3*x4)^2)/q[i] for i in 1:16))\n",
    "optimize!(model)\n",
    "status = termination_status(model)\n",
    "asdgf =objective_value(model)\n",
    "    return objective_value(model)\n",
    "end"
   ]
  },
  {
   "cell_type": "code",
   "execution_count": 306,
   "id": "950236f0",
   "metadata": {},
   "outputs": [
    {
     "data": {
      "text/plain": [
       "test2b3 (generic function with 3 methods)"
      ]
     },
     "execution_count": 306,
     "metadata": {},
     "output_type": "execute_result"
    }
   ],
   "source": [
    "function test2b3(freqtest,e)\n",
    "model = Model(Ipopt.Optimizer)\n",
    "@variable(model,x1>=0)\n",
    "@variable(model,x2>=0)\n",
    "@variable(model,x4>=0)\n",
    "@variable(model,x5>=0)\n",
    "#set each one variable to be larger than 0\n",
    "@constraint(model,x1<=1)\n",
    "@constraint(model,x2<=1)\n",
    "@constraint(model,x4<=sqrt(k))\n",
    "@constraint(model,x5<=1)\n",
    "@NLconstraint(model,x1*x2 == e)\n",
    "@NLobjective(model, Min, 1/2*sum(((freqtest[i]-obs1[1,i]*obs1[3,i]*x1*0*x5\n",
    "                -obs1[2,i]*obs1[4,i]*x2*x4*x5\n",
    "                -obs1[1,i]*obs1[4,i]*x1*x5*x4\n",
    "                -obs1[2,i]*obs1[3,i]*x2*x5*0\n",
    "                -obs1[1,i]*obs1[2,i]*obs1[3,i]*obs1[4,i]*x1*x2*0*x4)^2)/q[i] for i in 1:16))\n",
    "optimize!(model)\n",
    "status = termination_status(model)\n",
    "asdgf =objective_value(model)\n",
    "    return objective_value(model)\n",
    "end"
   ]
  },
  {
   "cell_type": "code",
   "execution_count": 307,
   "id": "fed338ad",
   "metadata": {},
   "outputs": [
    {
     "data": {
      "text/plain": [
       "test2b4 (generic function with 3 methods)"
      ]
     },
     "execution_count": 307,
     "metadata": {},
     "output_type": "execute_result"
    }
   ],
   "source": [
    "function test2b4(freqtest,e)\n",
    "model = Model(Ipopt.Optimizer)\n",
    "@variable(model,x1>=0)\n",
    "@variable(model,x2>=0)\n",
    "@variable(model,x3>=0) \n",
    "@variable(model,x5>=0)\n",
    "#set each one variable to be larger than 0\n",
    "@constraint(model,x1<=1)\n",
    "@constraint(model,x2<=1)\n",
    "@constraint(model,x3<=sqrt(k))\n",
    "@constraint(model,x5<=1)\n",
    "@NLconstraint(model,x1*x2 == e)\n",
    "@NLobjective(model, Min, 1/2*sum(((freqtest[i]-obs1[1,i]*obs1[3,i]*x1*x3*x5\n",
    "                -obs1[2,i]*obs1[4,i]*x2*0*x5\n",
    "                -obs1[1,i]*obs1[4,i]*x1*x5*0\n",
    "                -obs1[2,i]*obs1[3,i]*x2*x5*x3\n",
    "                -obs1[1,i]*obs1[2,i]*obs1[3,i]*obs1[4,i]*x1*x2*x3*0)^2)/q[i] for i in 1:16))\n",
    "optimize!(model)\n",
    "status = termination_status(model)\n",
    "asdgf =objective_value(model)\n",
    "    return objective_value(model)\n",
    "end"
   ]
  },
  {
   "cell_type": "code",
   "execution_count": 308,
   "id": "f8117317",
   "metadata": {},
   "outputs": [
    {
     "data": {
      "text/plain": [
       "test2b5 (generic function with 3 methods)"
      ]
     },
     "execution_count": 308,
     "metadata": {},
     "output_type": "execute_result"
    }
   ],
   "source": [
    "function test2b5(freqtest,e)\n",
    "model = Model(Ipopt.Optimizer)\n",
    "@variable(model,x1>=0)\n",
    "@variable(model,x2>=0)\n",
    "@variable(model,x3>=0) \n",
    "@variable(model,x4>=0)\n",
    "#set each one variable to be larger than 0\n",
    "@constraint(model,x1<=1)\n",
    "@constraint(model,x2<=1)\n",
    "@constraint(model,x3<=sqrt(k))\n",
    "@constraint(model,x4<=sqrt(k))\n",
    "@NLconstraint(model,x1*x2 == e)\n",
    "@NLobjective(model, Min, 1/2*sum(((freqtest[i]-obs1[1,i]*obs1[3,i]*x1*x3*1\n",
    "                -obs1[2,i]*obs1[4,i]*x2*x4*1\n",
    "                -obs1[1,i]*obs1[4,i]*x1*1*x4\n",
    "                -obs1[2,i]*obs1[3,i]*x2*1*x3\n",
    "                -obs1[1,i]*obs1[2,i]*obs1[3,i]*obs1[4,i]*x1*x2*x3*x4)^2)/q[i] for i in 1:16))\n",
    "optimize!(model)\n",
    "status = termination_status(model)\n",
    "asdgf =objective_value(model)\n",
    "    return objective_value(model)\n",
    "end"
   ]
  },
  {
   "cell_type": "code",
   "execution_count": 309,
   "id": "051d91ca",
   "metadata": {},
   "outputs": [
    {
     "data": {
      "text/plain": [
       "test2b11 (generic function with 3 methods)"
      ]
     },
     "execution_count": 309,
     "metadata": {},
     "output_type": "execute_result"
    }
   ],
   "source": [
    "function test2b11(freqtest,e)\n",
    "model = Model(Ipopt.Optimizer)\n",
    "@variable(model,x2>=0) \n",
    "@variable(model,x4>=0)\n",
    "@variable(model,x5>=0)\n",
    "#set each one variable to be larger than 0\n",
    "@constraint(model,x2<=1)\n",
    "@constraint(model,x4<=sqrt(k))\n",
    "@constraint(model,x5<=1)\n",
    "@NLconstraint(model,x2 == e)\n",
    "@NLobjective(model, Min, 1/2*sum(((freqtest[i]-obs1[1,i]*obs1[3,i]*0\n",
    "                -obs1[2,i]*obs1[4,i]*x2*x4*x5\n",
    "                -obs1[1,i]*obs1[4,i]*1*x5*x4\n",
    "                -obs1[2,i]*obs1[3,i]*0\n",
    "                -obs1[1,i]*obs1[2,i]*obs1[3,i]*obs1[4,i]*x1*x2*0*x4)^2)/q[i] for i in 1:16))\n",
    "optimize!(model)\n",
    "status = termination_status(model)\n",
    "asdgf =objective_value(model)\n",
    "    return objective_value(model)\n",
    "end"
   ]
  },
  {
   "cell_type": "code",
   "execution_count": 352,
   "id": "cde7d638",
   "metadata": {},
   "outputs": [
    {
     "data": {
      "text/plain": [
       "test2b12 (generic function with 3 methods)"
      ]
     },
     "execution_count": 352,
     "metadata": {},
     "output_type": "execute_result"
    }
   ],
   "source": [
    "function test2b12(freqtest,e)\n",
    "model = Model(Ipopt.Optimizer)\n",
    "@variable(model,x1>=0)\n",
    "@variable(model,x4>=0)\n",
    "@variable(model,x5>=0)\n",
    "#set each one variable to be larger than 0\n",
    "@constraint(model,x1<=1)\n",
    "@constraint(model,x4<=sqrt(k))\n",
    "@constraint(model,x5<=1)\n",
    "@NLconstraint(model,x1 == e)\n",
    "@NLobjective(model, Min, 1/2*sum(((freqtest[i]-obs1[1,i]*obs1[3,i]*0\n",
    "                -obs1[2,i]*obs1[4,i]*x4*x5\n",
    "                -obs1[1,i]*obs1[4,i]*x1*x5*x4\n",
    "                -obs1[2,i]*obs1[3,i]*0\n",
    "                -obs1[1,i]*obs1[2,i]*obs1[3,i]*obs1[4,i]*0)^2)/q[i] for i in 1:16))\n",
    "optimize!(model)\n",
    "status = termination_status(model)\n",
    "asdgf =objective_value(model)\n",
    "    return objective_value(model)\n",
    "end"
   ]
  },
  {
   "cell_type": "code",
   "execution_count": 311,
   "id": "15dad43a",
   "metadata": {},
   "outputs": [
    {
     "data": {
      "text/plain": [
       "test2b13 (generic function with 3 methods)"
      ]
     },
     "execution_count": 311,
     "metadata": {},
     "output_type": "execute_result"
    }
   ],
   "source": [
    "function test2b13(freqtest,e)\n",
    "model = Model(Ipopt.Optimizer)\n",
    "@variable(model,x1>=0)\n",
    "@variable(model,x2>=0)\n",
    "@variable(model,x4>=0)\n",
    "#set each one variable to be larger than 0\n",
    "@constraint(model,x1<=1)\n",
    "@constraint(model,x2<=1)\n",
    "@constraint(model,x4<=sqrt(k))\n",
    "@NLconstraint(model,x1*x2 == e)\n",
    "@NLobjective(model, Min, 1/2*sum(((freqtest[i]-obs1[1,i]*obs1[3,i]*x1*0\n",
    "                -obs1[2,i]*obs1[4,i]*x2*x4\n",
    "                -obs1[1,i]*obs1[4,i]*x1*x4\n",
    "                -obs1[2,i]*obs1[3,i]*0\n",
    "                -obs1[1,i]*obs1[2,i]*obs1[3,i]*obs1[4,i]*x1*x2*0*x4)^2)/q[i] for i in 1:16))\n",
    "optimize!(model)\n",
    "status = termination_status(model)\n",
    "asdgf =objective_value(model)\n",
    "    return objective_value(model)\n",
    "end"
   ]
  },
  {
   "cell_type": "code",
   "execution_count": 312,
   "id": "3230fd5f",
   "metadata": {},
   "outputs": [
    {
     "data": {
      "text/plain": [
       "test2b14 (generic function with 3 methods)"
      ]
     },
     "execution_count": 312,
     "metadata": {},
     "output_type": "execute_result"
    }
   ],
   "source": [
    "function test2b14(freqtest,e)\n",
    "model = Model(Ipopt.Optimizer)\n",
    "@variable(model,x2>=0)\n",
    "@variable(model,x3>=0) \n",
    "@variable(model,x5>=0)\n",
    "#set each one variable to be larger than 0\n",
    "@constraint(model,x2<=1)\n",
    "@constraint(model,x3<=sqrt(k))\n",
    "@constraint(model,x5<=1)\n",
    "@NLconstraint(model,x2 == e)\n",
    "@NLobjective(model, Min, 1/2*sum(((freqtest[i]-obs1[1,i]*obs1[3,i]*x3*x5\n",
    "                -obs1[2,i]*obs1[4,i]*0\n",
    "                -obs1[1,i]*obs1[4,i]*0\n",
    "                -obs1[2,i]*obs1[3,i]*x2*x5*x3\n",
    "                -obs1[1,i]*obs1[2,i]*obs1[3,i]*obs1[4,i]*0)^2)/q[i] for i in 1:16))\n",
    "optimize!(model)\n",
    "status = termination_status(model)\n",
    "asdgf =objective_value(model)\n",
    "    return objective_value(model)\n",
    "end"
   ]
  },
  {
   "cell_type": "code",
   "execution_count": 313,
   "id": "20187dee",
   "metadata": {},
   "outputs": [
    {
     "data": {
      "text/plain": [
       "test2b15 (generic function with 3 methods)"
      ]
     },
     "execution_count": 313,
     "metadata": {},
     "output_type": "execute_result"
    }
   ],
   "source": [
    "function test2b15(freqtest,e)\n",
    "model = Model(Ipopt.Optimizer)\n",
    "@variable(model,x1>=0)\n",
    "@variable(model,x3>=0) \n",
    "@variable(model,x5>=0)\n",
    "#set each one variable to be larger than 0\n",
    "@constraint(model,x1<=1)\n",
    "@constraint(model,x3<=sqrt(k))\n",
    "@constraint(model,x5<=1)\n",
    "@NLconstraint(model,x1 == e)\n",
    "@NLobjective(model, Min, 1/2*sum(((freqtest[i]-obs1[1,i]*obs1[3,i]*x1*x3*x5\n",
    "                -obs1[2,i]*obs1[4,i]*0*x5\n",
    "                -obs1[1,i]*obs1[4,i]*x1*x5*0\n",
    "                -obs1[2,i]*obs1[3,i]*x5*x3\n",
    "                -obs1[1,i]*obs1[2,i]*obs1[3,i]*obs1[4,i]*0)^2)/q[i] for i in 1:16))\n",
    "optimize!(model)\n",
    "status = termination_status(model)\n",
    "asdgf =objective_value(model)\n",
    "    return objective_value(model)\n",
    "end"
   ]
  },
  {
   "cell_type": "code",
   "execution_count": 314,
   "id": "86be844d",
   "metadata": {},
   "outputs": [
    {
     "data": {
      "text/plain": [
       "test2b16 (generic function with 3 methods)"
      ]
     },
     "execution_count": 314,
     "metadata": {},
     "output_type": "execute_result"
    }
   ],
   "source": [
    "function test2b16(freqtest,e)\n",
    "model = Model(Ipopt.Optimizer)\n",
    "@variable(model,x1>=0)\n",
    "@variable(model,x2>=0)\n",
    "@variable(model,x3>=0) \n",
    "#set each one variable to be larger than 0\n",
    "@constraint(model,x1<=1)\n",
    "@constraint(model,x2<=1)\n",
    "@constraint(model,x3<=sqrt(k))\n",
    "@NLconstraint(model,x1*x2 == e)\n",
    "@NLobjective(model, Min, 1/2*sum(((freqtest[i]-obs1[1,i]*obs1[3,i]*x1*x3\n",
    "                -obs1[2,i]*obs1[4,i]*0\n",
    "                -obs1[1,i]*obs1[4,i]*0\n",
    "                -obs1[2,i]*obs1[3,i]*x2*x3\n",
    "                -obs1[1,i]*obs1[2,i]*obs1[3,i]*obs1[4,i]*0)^2)/q[i] for i in 1:16))\n",
    "optimize!(model)\n",
    "status = termination_status(model)\n",
    "asdgf =objective_value(model)\n",
    "    return objective_value(model)\n",
    "end"
   ]
  },
  {
   "cell_type": "code",
   "execution_count": 315,
   "id": "ba68ffd5",
   "metadata": {},
   "outputs": [
    {
     "data": {
      "text/plain": [
       "test2b17 (generic function with 3 methods)"
      ]
     },
     "execution_count": 315,
     "metadata": {},
     "output_type": "execute_result"
    }
   ],
   "source": [
    "function test2b17(freqtest,e)\n",
    "model = Model(Ipopt.Optimizer)\n",
    "@variable(model,x2>=0)\n",
    "@variable(model,x3>=0) \n",
    "@variable(model,x4>=0)\n",
    "#set each one variable to be larger than 0\n",
    "@constraint(model,x2<=1)\n",
    "@constraint(model,x3<=sqrt(k))\n",
    "@constraint(model,x4<=sqrt(k))\n",
    "@NLconstraint(model,x2 == e)\n",
    "@NLobjective(model, Min, 1/2*sum(((freqtest[i]-obs1[1,i]*obs1[3,i]*x3\n",
    "                -obs1[2,i]*obs1[4,i]*x2*x4\n",
    "                -obs1[1,i]*obs1[4,i]*x4\n",
    "                -obs1[2,i]*obs1[3,i]*x2*x3\n",
    "                -obs1[1,i]*obs1[2,i]*obs1[3,i]*obs1[4,i]*x2*x3*x4)^2)/q[i] for i in 1:16))\n",
    "optimize!(model)\n",
    "status = termination_status(model)\n",
    "asdgf =objective_value(model)\n",
    "    return objective_value(model)\n",
    "end"
   ]
  },
  {
   "cell_type": "code",
   "execution_count": 316,
   "id": "80d8edac",
   "metadata": {},
   "outputs": [
    {
     "data": {
      "text/plain": [
       "test2b18 (generic function with 3 methods)"
      ]
     },
     "execution_count": 316,
     "metadata": {},
     "output_type": "execute_result"
    }
   ],
   "source": [
    "function test2b18(freqtest,e)\n",
    "model = Model(Ipopt.Optimizer)\n",
    "@variable(model,x2>=0)\n",
    "@variable(model,x3>=0) \n",
    "@variable(model,x4>=0)\n",
    "#set each one variable to be larger than 0\n",
    "@constraint(model,x2<=1)\n",
    "@constraint(model,x3<=sqrt(k))\n",
    "@constraint(model,x4<=sqrt(k))\n",
    "@NLconstraint(model,x2 == e)\n",
    "@NLobjective(model, Min, 1/2*sum(((freqtest[i]-obs1[1,i]*obs1[3,i]*x1*x3\n",
    "                -obs1[2,i]*obs1[4,i]*x2*x4\n",
    "                -obs1[1,i]*obs1[4,i]*x4\n",
    "                -obs1[2,i]*obs1[3,i]*x2*x3\n",
    "                -obs1[1,i]*obs1[2,i]*obs1[3,i]*obs1[4,i]*x2*x3*x4)^2)/q[i] for i in 1:16))\n",
    "optimize!(model)\n",
    "status = termination_status(model)\n",
    "asdgf =objective_value(model)\n",
    "    return objective_value(model)\n",
    "end"
   ]
  },
  {
   "cell_type": "code",
   "execution_count": 317,
   "id": "ac391979",
   "metadata": {},
   "outputs": [
    {
     "data": {
      "text/plain": [
       "test2b21 (generic function with 3 methods)"
      ]
     },
     "execution_count": 317,
     "metadata": {},
     "output_type": "execute_result"
    }
   ],
   "source": [
    "function test2b21(freqtest,e)\n",
    "model = Model(Ipopt.Optimizer)\n",
    "@variable(model,x2>=0)\n",
    "@variable(model,x4>=0)\n",
    "#set each one variable to be larger than 0\n",
    "@constraint(model,x2<=1)\n",
    "@constraint(model,x4<=sqrt(k))\n",
    "@NLconstraint(model,x2 == e)\n",
    "@NLobjective(model, Min, 1/2*sum(((freqtest[i]-obs1[1,i]*obs1[3,i]*0\n",
    "                -obs1[2,i]*obs1[4,i]*x2*x4\n",
    "                -obs1[1,i]*obs1[4,i]*x4\n",
    "                -obs1[2,i]*obs1[3,i]*0\n",
    "                -obs1[1,i]*obs1[2,i]*obs1[3,i]*obs1[4,i]*0)^2)/q[i] for i in 1:16))\n",
    "optimize!(model)\n",
    "status = termination_status(model)\n",
    "asdgf =objective_value(model)\n",
    "    return objective_value(model)\n",
    "end"
   ]
  },
  {
   "cell_type": "code",
   "execution_count": 318,
   "id": "63192b88",
   "metadata": {},
   "outputs": [
    {
     "data": {
      "text/plain": [
       "test2b22 (generic function with 3 methods)"
      ]
     },
     "execution_count": 318,
     "metadata": {},
     "output_type": "execute_result"
    }
   ],
   "source": [
    "function test2b22(freqtest,e)\n",
    "model = Model(Ipopt.Optimizer)\n",
    "@variable(model,x1>=0)\n",
    "@variable(model,x4>=0)\n",
    "#set each one variable to be larger than 0\n",
    "@constraint(model,x1<=1)\n",
    "@constraint(model,x4<=sqrt(k))\n",
    "@NLconstraint(model,x1 == e)\n",
    "@NLobjective(model, Min, 1/2*sum(((freqtest[i]-obs1[1,i]*obs1[3,i]*x1*0\n",
    "                -obs1[2,i]*obs1[4,i]*x4\n",
    "                -obs1[1,i]*obs1[4,i]*x1*x4\n",
    "                -obs1[2,i]*obs1[3,i]*0\n",
    "                -obs1[1,i]*obs1[2,i]*obs1[3,i]*obs1[4,i]*0)^2)/q[i] for i in 1:16))\n",
    "optimize!(model)\n",
    "status = termination_status(model)\n",
    "asdgf =objective_value(model)\n",
    "    return objective_value(model)\n",
    "end"
   ]
  },
  {
   "cell_type": "code",
   "execution_count": 319,
   "id": "9b813df3",
   "metadata": {},
   "outputs": [
    {
     "data": {
      "text/plain": [
       "test2b23 (generic function with 3 methods)"
      ]
     },
     "execution_count": 319,
     "metadata": {},
     "output_type": "execute_result"
    }
   ],
   "source": [
    "function test2b23(freqtest,e)\n",
    "model = Model(Ipopt.Optimizer)\n",
    "@variable(model,x2>=0)\n",
    "@variable(model,x3>=0) \n",
    "#set each one variable to be larger than 0\n",
    "@constraint(model,x2<=1)\n",
    "@constraint(model,x3<=sqrt(k))\n",
    "@NLconstraint(model,x2 == e)\n",
    "@NLobjective(model, Min, 1/2*sum(((freqtest[i]-obs1[1,i]*obs1[3,i]*x3\n",
    "                -obs1[2,i]*obs1[4,i]*0\n",
    "                -obs1[1,i]*obs1[4,i]*0\n",
    "                -obs1[2,i]*obs1[3,i]*x2*x3\n",
    "                -obs1[1,i]*obs1[2,i]*obs1[3,i]*obs1[4,i]*0)^2)/q[i] for i in 1:16))\n",
    "optimize!(model)\n",
    "status = termination_status(model)\n",
    "asdgf =objective_value(model)\n",
    "    return objective_value(model)\n",
    "end"
   ]
  },
  {
   "cell_type": "code",
   "execution_count": 320,
   "id": "53f3c152",
   "metadata": {},
   "outputs": [
    {
     "data": {
      "text/plain": [
       "test2b24 (generic function with 3 methods)"
      ]
     },
     "execution_count": 320,
     "metadata": {},
     "output_type": "execute_result"
    }
   ],
   "source": [
    "function test2b24(freqtest,e)\n",
    "model = Model(Ipopt.Optimizer)\n",
    "@variable(model,x1>=0)\n",
    "@variable(model,x3>=0) \n",
    "#set each one variable to be larger than 0\n",
    "@constraint(model,x1<=1)\n",
    "@constraint(model,x3<=sqrt(k))\n",
    "@NLconstraint(model,x1 == e)\n",
    "@NLobjective(model, Min, 1/2*sum(((freqtest[i]-obs1[1,i]*obs1[3,i]*x1*x3\n",
    "                -obs1[2,i]*obs1[4,i]*0\n",
    "                -obs1[1,i]*obs1[4,i]*0\n",
    "                -obs1[2,i]*obs1[3,i]*x3\n",
    "                -obs1[1,i]*obs1[2,i]*obs1[3,i]*obs1[4,i]*0)^2)/q[i] for i in 1:16))\n",
    "optimize!(model)\n",
    "status = termination_status(model)\n",
    "asdgf =objective_value(model)\n",
    "    return objective_value(model)\n",
    "end"
   ]
  },
  {
   "cell_type": "code",
   "execution_count": 321,
   "id": "e711e6b1",
   "metadata": {},
   "outputs": [
    {
     "data": {
      "text/plain": [
       "test3 (generic function with 3 methods)"
      ]
     },
     "execution_count": 321,
     "metadata": {},
     "output_type": "execute_result"
    }
   ],
   "source": [
    "function test3(freqtest,e)\n",
    "model = Model(Ipopt.Optimizer)\n",
    "@variable(model,x1>=0)\n",
    "@variable(model,x2>=0)\n",
    "@variable(model,x3>=0)\n",
    "@variable(model,x4>=0)\n",
    "@variable(model,x5>=0)\n",
    "#set each one variable to be larger than 0\n",
    "@constraint(model,x1<=1)\n",
    "@constraint(model,x2<=1)\n",
    "@constraint(model,x3<=sqrt(k))\n",
    "@constraint(model,x4<=sqrt(k))\n",
    "@constraint(model,x5<=1)\n",
    "@NLconstraint(model,x1*x2*x5 == e)\n",
    "@NLobjective(model, Min, 1/2*sum(((freqtest[i]-obs1[1,i]*obs1[4,i]*x1*x4\n",
    "                -obs1[2,i]*obs1[3,i]*x2*x3\n",
    "                -obs1[1,i]*obs1[3,i]*x1*x3*x5\n",
    "                -obs1[2,i]*obs1[4,i]*x2*x4*x5)^2)/q[i] for i in 1:16))\n",
    "optimize!(model)\n",
    "status = termination_status(model)\n",
    "asdgf =objective_value(model)\n",
    "    return objective_value(model)\n",
    "end"
   ]
  },
  {
   "cell_type": "code",
   "execution_count": 322,
   "id": "2e50c8d6",
   "metadata": {},
   "outputs": [
    {
     "data": {
      "text/plain": [
       "test31 (generic function with 2 methods)"
      ]
     },
     "execution_count": 322,
     "metadata": {},
     "output_type": "execute_result"
    }
   ],
   "source": [
    "function test31(freqtest,e)\n",
    "model = Model(Ipopt.Optimizer)\n",
    "@variable(model,x2>=0)\n",
    "@variable(model,x3>=0)\n",
    "@variable(model,x4>=0)\n",
    "@variable(model,x5>=0)\n",
    "#set each one variable to be larger than 0\n",
    "@constraint(model,x2<=1)\n",
    "@constraint(model,x3<=sqrt(k))\n",
    "@constraint(model,x4<=sqrt(k))\n",
    "@constraint(model,x5<=1)\n",
    "@NLconstraint(model,x2*x5 == e)\n",
    "@NLobjective(model, Min, 1/2*sum(((freqtest[i]-obs1[1,i]*obs1[4,i]*x4\n",
    "                -obs1[2,i]*obs1[3,i]*x2*x3\n",
    "                -obs1[1,i]*obs1[3,i]*x3*x5\n",
    "                -obs1[2,i]*obs1[4,i]*x2*x4*x5)^2)/q[i] for i in 1:16))\n",
    "optimize!(model)\n",
    "status = termination_status(model)\n",
    "asdgf =objective_value(model)\n",
    "    return objective_value(model)\n",
    "end"
   ]
  },
  {
   "cell_type": "code",
   "execution_count": 323,
   "id": "865518d8",
   "metadata": {},
   "outputs": [
    {
     "data": {
      "text/plain": [
       "test32 (generic function with 2 methods)"
      ]
     },
     "execution_count": 323,
     "metadata": {},
     "output_type": "execute_result"
    }
   ],
   "source": [
    "function test32(freqtest,e)\n",
    "model = Model(Ipopt.Optimizer)\n",
    "@variable(model,x1>=0)\n",
    "@variable(model,x3>=0)\n",
    "@variable(model,x4>=0)\n",
    "@variable(model,x5>=0)\n",
    "#set each one variable to be larger than 0\n",
    "@constraint(model,x1<=1)\n",
    "@constraint(model,x3<=sqrt(k))\n",
    "@constraint(model,x4<=sqrt(k))\n",
    "@constraint(model,x5<=1)\n",
    "@NLconstraint(model,x1*x5 == e)\n",
    "@NLobjective(model, Min, 1/2*sum(((freqtest[i]-obs1[1,i]*obs1[4,i]*x1*x4\n",
    "                -obs1[2,i]*obs1[3,i]*x3\n",
    "                -obs1[1,i]*obs1[3,i]*x1*x3*x5\n",
    "                -obs1[2,i]*obs1[4,i]*x4*x5)^2)/q[i] for i in 1:16))\n",
    "optimize!(model)\n",
    "status = termination_status(model)\n",
    "asdgf =objective_value(model)\n",
    "    return objective_value(model)\n",
    "end"
   ]
  },
  {
   "cell_type": "code",
   "execution_count": 324,
   "id": "1fd2c933",
   "metadata": {},
   "outputs": [
    {
     "data": {
      "text/plain": [
       "test33 (generic function with 2 methods)"
      ]
     },
     "execution_count": 324,
     "metadata": {},
     "output_type": "execute_result"
    }
   ],
   "source": [
    "function test33(freqtest,e)\n",
    "model = Model(Ipopt.Optimizer)\n",
    "@variable(model,x1>=0)\n",
    "@variable(model,x2>=0)\n",
    "@variable(model,x4>=0)\n",
    "@variable(model,x5>=0)\n",
    "#set each one variable to be larger than 0\n",
    "@constraint(model,x1<=1)\n",
    "@constraint(model,x2<=1)\n",
    "@constraint(model,x4<=sqrt(k))\n",
    "@constraint(model,x5<=1)\n",
    "@NLconstraint(model,x1*x2*x5 == e)\n",
    "@NLobjective(model, Min, 1/2*sum(((freqtest[i]-obs1[1,i]*obs1[4,i]*x1*x4\n",
    "                -obs1[2,i]*obs1[3,i]*0\n",
    "                -obs1[1,i]*obs1[3,i]*x1*0*x5\n",
    "                -obs1[2,i]*obs1[4,i]*x2*x4*x5)^2)/q[i] for i in 1:16))\n",
    "optimize!(model)\n",
    "status = termination_status(model)\n",
    "asdgf =objective_value(model)\n",
    "    return objective_value(model)\n",
    "end"
   ]
  },
  {
   "cell_type": "code",
   "execution_count": 325,
   "id": "e52bc09d",
   "metadata": {},
   "outputs": [
    {
     "data": {
      "text/plain": [
       "test34 (generic function with 2 methods)"
      ]
     },
     "execution_count": 325,
     "metadata": {},
     "output_type": "execute_result"
    }
   ],
   "source": [
    "function test34(freqtest,e)\n",
    "model = Model(Ipopt.Optimizer)\n",
    "@variable(model,x1>=0)\n",
    "@variable(model,x2>=0)\n",
    "@variable(model,x3>=0)\n",
    "@variable(model,x5>=0)\n",
    "#set each one variable to be larger than 0\n",
    "@constraint(model,x1<=1)\n",
    "@constraint(model,x2<=1)\n",
    "@constraint(model,x3<=sqrt(k))\n",
    "@constraint(model,x5<=1)\n",
    "@NLconstraint(model,x1*x2*x5 == e)\n",
    "@NLobjective(model, Min, 1/2*sum(((freqtest[i]-obs1[1,i]*obs1[4,i]*0\n",
    "                -obs1[2,i]*obs1[3,i]*x2*x3\n",
    "                -obs1[1,i]*obs1[3,i]*x1*x3*x5\n",
    "                -obs1[2,i]*obs1[4,i]*0)^2)/q[i] for i in 1:16))\n",
    "optimize!(model)\n",
    "status = termination_status(model)\n",
    "asdgf =objective_value(model)\n",
    "    return objective_value(model)\n",
    "end"
   ]
  },
  {
   "cell_type": "code",
   "execution_count": 326,
   "id": "399491f3",
   "metadata": {},
   "outputs": [
    {
     "data": {
      "text/plain": [
       "test35 (generic function with 2 methods)"
      ]
     },
     "execution_count": 326,
     "metadata": {},
     "output_type": "execute_result"
    }
   ],
   "source": [
    "function test35(freqtest,e)\n",
    "model = Model(Ipopt.Optimizer)\n",
    "@variable(model,x1>=0)\n",
    "@variable(model,x2>=0)\n",
    "@variable(model,x3>=0)\n",
    "@variable(model,x4>=0)\n",
    "#set each one variable to be larger than 0\n",
    "@constraint(model,x1<=1)\n",
    "@constraint(model,x2<=1)\n",
    "@constraint(model,x3<=sqrt(k))\n",
    "@constraint(model,x4<=sqrt(k))\n",
    "@NLconstraint(model,x1*x2 == e)\n",
    "@NLobjective(model, Min, 1/2*sum(((freqtest[i]-obs1[1,i]*obs1[4,i]*x1*x4\n",
    "                -obs1[2,i]*obs1[3,i]*x2*x3\n",
    "                -obs1[1,i]*obs1[3,i]*x1*x3\n",
    "                -obs1[2,i]*obs1[4,i]*x2*x4)^2)/q[i] for i in 1:16))\n",
    "optimize!(model)\n",
    "status = termination_status(model)\n",
    "asdgf =objective_value(model)\n",
    "    return objective_value(model)\n",
    "end"
   ]
  },
  {
   "cell_type": "code",
   "execution_count": 327,
   "id": "71686222",
   "metadata": {},
   "outputs": [
    {
     "data": {
      "text/plain": [
       "test311 (generic function with 2 methods)"
      ]
     },
     "execution_count": 327,
     "metadata": {},
     "output_type": "execute_result"
    }
   ],
   "source": [
    "function test311(freqtest,e)\n",
    "model = Model(Ipopt.Optimizer)\n",
    "@variable(model,x3>=0)\n",
    "@variable(model,x4>=0)\n",
    "@variable(model,x5>=0)\n",
    "#set each one variable to be larger than 0\n",
    "@constraint(model,x3<=sqrt(k))\n",
    "@constraint(model,x4<=sqrt(k))\n",
    "@constraint(model,x5<=1)\n",
    "@NLconstraint(model,x5 == e)\n",
    "@NLobjective(model, Min, 1/2*sum(((freqtest[i]-obs1[1,i]*obs1[4,i]*x4\n",
    "                -obs1[2,i]*obs1[3,i]*x3\n",
    "                -obs1[1,i]*obs1[3,i]*x3*x5\n",
    "                -obs1[2,i]*obs1[4,i]*x4*x5)^2)/q[i] for i in 1:16))\n",
    "optimize!(model)\n",
    "status = termination_status(model)\n",
    "asdgf =objective_value(model)\n",
    "    return objective_value(model)\n",
    "end"
   ]
  },
  {
   "cell_type": "code",
   "execution_count": 328,
   "id": "2411251d",
   "metadata": {},
   "outputs": [
    {
     "data": {
      "text/plain": [
       "test312 (generic function with 2 methods)"
      ]
     },
     "execution_count": 328,
     "metadata": {},
     "output_type": "execute_result"
    }
   ],
   "source": [
    "function test312(freqtest,e)\n",
    "model = Model(Ipopt.Optimizer)\n",
    "@variable(model,x2>=0)\n",
    "@variable(model,x4>=0)\n",
    "@variable(model,x5>=0)\n",
    "#set each one variable to be larger than 0\n",
    "@constraint(model,x2<=1)\n",
    "@constraint(model,x4<=sqrt(k))\n",
    "@constraint(model,x5<=1)\n",
    "@NLconstraint(model,x2*x5 == e)\n",
    "@NLobjective(model, Min, 1/2*sum(((freqtest[i]-obs1[1,i]*obs1[4,i]*x4\n",
    "                -obs1[2,i]*obs1[3,i]*0\n",
    "                -obs1[1,i]*obs1[3,i]*0\n",
    "                -obs1[2,i]*obs1[4,i]*x2*x4*x5)^2)/q[i] for i in 1:16))\n",
    "optimize!(model)\n",
    "status = termination_status(model)\n",
    "asdgf =objective_value(model)\n",
    "    return objective_value(model)\n",
    "end"
   ]
  },
  {
   "cell_type": "code",
   "execution_count": 329,
   "id": "3df9845a",
   "metadata": {},
   "outputs": [
    {
     "data": {
      "text/plain": [
       "test313 (generic function with 2 methods)"
      ]
     },
     "execution_count": 329,
     "metadata": {},
     "output_type": "execute_result"
    }
   ],
   "source": [
    "function test313(freqtest,e)\n",
    "model = Model(Ipopt.Optimizer)\n",
    "@variable(model,x2>=0)\n",
    "@variable(model,x3>=0)\n",
    "@variable(model,x5>=0)\n",
    "#set each one variable to be larger than 0\n",
    "@constraint(model,x2<=1)\n",
    "@constraint(model,x3<=sqrt(k))\n",
    "@constraint(model,x5<=1)\n",
    "@NLconstraint(model,x2*x5 == e)\n",
    "@NLobjective(model, Min, 1/2*sum(((freqtest[i]-obs1[1,i]*obs1[4,i]*0\n",
    "                -obs1[2,i]*obs1[3,i]*x2*x3\n",
    "                -obs1[1,i]*obs1[3,i]*x3*x5\n",
    "                -obs1[2,i]*obs1[4,i]*0)^2)/q[i] for i in 1:16))\n",
    "optimize!(model)\n",
    "status = termination_status(model)\n",
    "asdgf =objective_value(model)\n",
    "    return objective_value(model)\n",
    "end"
   ]
  },
  {
   "cell_type": "code",
   "execution_count": 330,
   "id": "c526df66",
   "metadata": {},
   "outputs": [
    {
     "data": {
      "text/plain": [
       "test314 (generic function with 2 methods)"
      ]
     },
     "execution_count": 330,
     "metadata": {},
     "output_type": "execute_result"
    }
   ],
   "source": [
    "function test314(freqtest,e)\n",
    "model = Model(Ipopt.Optimizer)\n",
    "@variable(model,x2>=0)\n",
    "@variable(model,x3>=0)\n",
    "@variable(model,x4>=0)\n",
    "#set each one variable to be larger than 0\n",
    "@constraint(model,x2<=1)\n",
    "@constraint(model,x3<=sqrt(k))\n",
    "@constraint(model,x4<=sqrt(k))\n",
    "@NLconstraint(model,x2 == e)\n",
    "@NLobjective(model, Min, 1/2*sum(((freqtest[i]-obs1[1,i]*obs1[4,i]*x4\n",
    "                -obs1[2,i]*obs1[3,i]*x2*x3\n",
    "                -obs1[1,i]*obs1[3,i]*x3\n",
    "                -obs1[2,i]*obs1[4,i]*x2*x4)^2)/q[i] for i in 1:16))\n",
    "optimize!(model)\n",
    "status = termination_status(model)\n",
    "asdgf =objective_value(model)\n",
    "    return objective_value(model)\n",
    "end"
   ]
  },
  {
   "cell_type": "code",
   "execution_count": 331,
   "id": "d15ccbc7",
   "metadata": {},
   "outputs": [
    {
     "data": {
      "text/plain": [
       "test315 (generic function with 2 methods)"
      ]
     },
     "execution_count": 331,
     "metadata": {},
     "output_type": "execute_result"
    }
   ],
   "source": [
    "function test315(freqtest,e)\n",
    "model = Model(Ipopt.Optimizer)\n",
    "@variable(model,x1>=0)\n",
    "@variable(model,x4>=0)\n",
    "@variable(model,x5>=0)\n",
    "#set each one variable to be larger than 0\n",
    "@constraint(model,x1<=1)\n",
    "@constraint(model,x4<=sqrt(k))\n",
    "@constraint(model,x5<=1)\n",
    "@NLconstraint(model,x1*x5 == e)\n",
    "@NLobjective(model, Min, 1/2*sum(((freqtest[i]-obs1[1,i]*obs1[4,i]*x1*x4\n",
    "                -obs1[2,i]*obs1[3,i]*0\n",
    "                -obs1[1,i]*obs1[3,i]*0\n",
    "                -obs1[2,i]*obs1[4,i]*x4*x5)^2)/q[i] for i in 1:16))\n",
    "optimize!(model)\n",
    "status = termination_status(model)\n",
    "asdgf =objective_value(model)\n",
    "    return objective_value(model)\n",
    "end"
   ]
  },
  {
   "cell_type": "code",
   "execution_count": 332,
   "id": "08ea783a",
   "metadata": {},
   "outputs": [
    {
     "data": {
      "text/plain": [
       "test316 (generic function with 2 methods)"
      ]
     },
     "execution_count": 332,
     "metadata": {},
     "output_type": "execute_result"
    }
   ],
   "source": [
    "function test316(freqtest,e)\n",
    "model = Model(Ipopt.Optimizer)\n",
    "@variable(model,x1>=0)\n",
    "@variable(model,x3>=0)\n",
    "@variable(model,x5>=0)\n",
    "#set each one variable to be larger than 0\n",
    "@constraint(model,x1<=1)\n",
    "@constraint(model,x3<=sqrt(k))\n",
    "@constraint(model,x5<=1)\n",
    "@NLconstraint(model,x1*x5 == e)\n",
    "@NLobjective(model, Min, 1/2*sum(((freqtest[i]-obs1[1,i]*obs1[4,i]*0\n",
    "                -obs1[2,i]*obs1[3,i]*x3\n",
    "                -obs1[1,i]*obs1[3,i]*x1*x3*x5\n",
    "                -obs1[2,i]*obs1[4,i]*0)^2)/q[i] for i in 1:16))\n",
    "optimize!(model)\n",
    "status = termination_status(model)\n",
    "asdgf =objective_value(model)\n",
    "    return objective_value(model)\n",
    "end"
   ]
  },
  {
   "cell_type": "code",
   "execution_count": 333,
   "id": "74559636",
   "metadata": {},
   "outputs": [
    {
     "data": {
      "text/plain": [
       "test317 (generic function with 2 methods)"
      ]
     },
     "execution_count": 333,
     "metadata": {},
     "output_type": "execute_result"
    }
   ],
   "source": [
    "function test317(freqtest,e)\n",
    "model = Model(Ipopt.Optimizer)\n",
    "@variable(model,x1>=0)\n",
    "@variable(model,x3>=0)\n",
    "@variable(model,x4>=0)\n",
    "#set each one variable to be larger than 0\n",
    "@constraint(model,x1<=1)\n",
    "@constraint(model,x3<=sqrt(k))\n",
    "@constraint(model,x4<=sqrt(k))\n",
    "@NLconstraint(model,x1 == e)\n",
    "@NLobjective(model, Min, 1/2*sum(((freqtest[i]-obs1[1,i]*obs1[4,i]*x1*x4\n",
    "                -obs1[2,i]*obs1[3,i]*x3\n",
    "                -obs1[1,i]*obs1[3,i]*x1*x3\n",
    "                -obs1[2,i]*obs1[4,i]*x4)^2)/q[i] for i in 1:16))\n",
    "optimize!(model)\n",
    "status = termination_status(model)\n",
    "asdgf =objective_value(model)\n",
    "    return objective_value(model)\n",
    "end"
   ]
  },
  {
   "cell_type": "code",
   "execution_count": 334,
   "id": "7d30a6b6",
   "metadata": {},
   "outputs": [
    {
     "data": {
      "text/plain": [
       "test318 (generic function with 2 methods)"
      ]
     },
     "execution_count": 334,
     "metadata": {},
     "output_type": "execute_result"
    }
   ],
   "source": [
    "function test318(freqtest,e)\n",
    "model = Model(Ipopt.Optimizer)\n",
    "@variable(model,x1>=0)\n",
    "@variable(model,x2>=0)\n",
    "@variable(model,x4>=0)\n",
    "#set each one variable to be larger than 0\n",
    "@constraint(model,x1<=1)\n",
    "@constraint(model,x2<=1)\n",
    "@constraint(model,x4<=sqrt(k))\n",
    "@NLconstraint(model,x1*x2 == e)\n",
    "@NLobjective(model, Min, 1/2*sum(((freqtest[i]-obs1[1,i]*obs1[4,i]*x1*x4\n",
    "                -obs1[2,i]*obs1[3,i]*0\n",
    "                -obs1[1,i]*obs1[3,i]*0\n",
    "                -obs1[2,i]*obs1[4,i]*x2*x4)^2)/q[i] for i in 1:16))\n",
    "optimize!(model)\n",
    "status = termination_status(model)\n",
    "asdgf =objective_value(model)\n",
    "    return objective_value(model)\n",
    "end"
   ]
  },
  {
   "cell_type": "code",
   "execution_count": 335,
   "id": "b38b39ed",
   "metadata": {},
   "outputs": [
    {
     "data": {
      "text/plain": [
       "test319 (generic function with 2 methods)"
      ]
     },
     "execution_count": 335,
     "metadata": {},
     "output_type": "execute_result"
    }
   ],
   "source": [
    "function test319(freqtest,e)\n",
    "model = Model(Ipopt.Optimizer)\n",
    "@variable(model,x1>=0)\n",
    "@variable(model,x2>=0)\n",
    "@variable(model,x3>=0)\n",
    "#set each one variable to be larger than 0\n",
    "@constraint(model,x1<=1)\n",
    "@constraint(model,x2<=1)\n",
    "@constraint(model,x3<=sqrt(k))\n",
    "@NLconstraint(model,x1*x2 == e)\n",
    "@NLobjective(model, Min, 1/2*sum(((freqtest[i]-obs1[1,i]*obs1[4,i]*0\n",
    "                -obs1[2,i]*obs1[3,i]*x2*x3\n",
    "                -obs1[1,i]*obs1[3,i]*x1*x3\n",
    "                -obs1[2,i]*obs1[4,i]*0)^2)/q[i] for i in 1:16))\n",
    "optimize!(model)\n",
    "status = termination_status(model)\n",
    "asdgf =objective_value(model)\n",
    "    return objective_value(model)\n",
    "end"
   ]
  },
  {
   "cell_type": "code",
   "execution_count": 337,
   "id": "3680ba89",
   "metadata": {},
   "outputs": [
    {
     "data": {
      "text/plain": [
       "getforonetime (generic function with 2 methods)"
      ]
     },
     "execution_count": 337,
     "metadata": {},
     "output_type": "execute_result"
    }
   ],
   "source": [
    "function getforonetime(freqtest,e)\n",
    "    testwhole = zeros(4,25)\n",
    "    testwhole = settest1(testwhole,freqtest,e)\n",
    "    testwhole = settest2(testwhole,freqtest,e)\n",
    "    testwhole = settest3(testwhole,freqtest,e)\n",
    "    testwhole = settest4(testwhole,freqtest,e)\n",
    "    for i in 1:4\n",
    "        for j in 1:25\n",
    "            if testwhole[i,j] == 0\n",
    "                testwhole[i,j] = 100\n",
    "            end\n",
    "        end\n",
    "    end\n",
    "    return testwhole\n",
    "end"
   ]
  },
  {
   "cell_type": "code",
   "execution_count": 336,
   "id": "79bbeb6f",
   "metadata": {},
   "outputs": [
    {
     "data": {
      "text/plain": [
       "settest1 (generic function with 3 methods)"
      ]
     },
     "execution_count": 336,
     "metadata": {},
     "output_type": "execute_result"
    }
   ],
   "source": [
    "function settest1(testwhole,freqtest,e)\n",
    "    testwhole[1,1] = test1(freqtest,e)\n",
    "    testwhole[1,2] = test11(freqtest,e)\n",
    "    testwhole[1,3] = test12(freqtest,e)\n",
    "    testwhole[1,4] = test13(freqtest,e)\n",
    "    testwhole[1,5] = test14(freqtest,e)\n",
    "    testwhole[1,6] = test15(freqtest,e)\n",
    "    testwhole[1,7] = test111(freqtest,e)\n",
    "    testwhole[1,8] = test112(freqtest,e)\n",
    "    testwhole[1,9] = test113(freqtest,e)\n",
    "    testwhole[1,10] = test114(freqtest,e)\n",
    "    testwhole[1,11] = test115(freqtest,e)\n",
    "    testwhole[1,12] = test116(freqtest,e)\n",
    "    testwhole[1,13] = test117(freqtest,e)\n",
    "    testwhole[1,14] = test118(freqtest,e)\n",
    "    testwhole[1,15] = test1111(freqtest,e)\n",
    "    testwhole[1,16] = test1112(freqtest,e)\n",
    "    testwhole[1,17] = test1113(freqtest,e)\n",
    "    testwhole[1,18] = test1114(freqtest,e)\n",
    "    testwhole[1,19] = test1115(freqtest,e)\n",
    "    testwhole[1,20] = test1116(freqtest,e)\n",
    "    return testwhole\n",
    "end"
   ]
  },
  {
   "cell_type": "code",
   "execution_count": 338,
   "id": "ac8fa0e7",
   "metadata": {},
   "outputs": [
    {
     "data": {
      "text/plain": [
       "settest2 (generic function with 3 methods)"
      ]
     },
     "execution_count": 338,
     "metadata": {},
     "output_type": "execute_result"
    }
   ],
   "source": [
    "function settest2(testwhole,freqtest,e)\n",
    "    testwhole[2,1] = test2a(freqtest,e)\n",
    "    testwhole[2,2] = test2a1(freqtest,e)\n",
    "    testwhole[2,3] = test2a2(freqtest,e)\n",
    "    testwhole[2,4] = test2a3(freqtest,e)\n",
    "    testwhole[2,5] = test2a4(freqtest,e)\n",
    "    testwhole[2,6] = test2a5(freqtest,e)\n",
    "    testwhole[2,7] = test2a11(freqtest,e)\n",
    "    testwhole[2,8] = test2a12(freqtest,e)\n",
    "    testwhole[2,9] = test2a13(freqtest,e)\n",
    "    testwhole[2,10] = test2a14(freqtest,e)\n",
    "    testwhole[2,11] = test2a15(freqtest,e)\n",
    "    testwhole[2,12] = test2a16(freqtest,e)\n",
    "    testwhole[2,13] = test2a17(freqtest,e)\n",
    "    testwhole[2,14] = test2a18(freqtest,e)\n",
    "    return testwhole\n",
    "end"
   ]
  },
  {
   "cell_type": "code",
   "execution_count": 339,
   "id": "e0a1b297",
   "metadata": {},
   "outputs": [
    {
     "data": {
      "text/plain": [
       "settest3 (generic function with 3 methods)"
      ]
     },
     "execution_count": 339,
     "metadata": {},
     "output_type": "execute_result"
    }
   ],
   "source": [
    "function settest3(testwhole,freqtest,e)\n",
    "    testwhole[3,1] = test2b(freqtest,e)\n",
    "    testwhole[3,2] = test2b1(freqtest,e)\n",
    "    testwhole[3,3] = test2b2(freqtest,e)\n",
    "    testwhole[3,4] = test2b3(freqtest,e)\n",
    "    testwhole[3,5] = test2b4(freqtest,e)\n",
    "    testwhole[3,6] = test2b11(freqtest,e)\n",
    "    testwhole[3,7] = test2b12(freqtest,e)\n",
    "    testwhole[3,8] = test2b13(freqtest,e)\n",
    "    testwhole[3,9] = test2b14(freqtest,e)\n",
    "    testwhole[3,10] = test2b15(freqtest,e)\n",
    "    testwhole[3,11] = test2b16(freqtest,e)\n",
    "    testwhole[3,12] = test2b17(freqtest,e)\n",
    "    testwhole[3,13] = test2b18(freqtest,e)\n",
    "    testwhole[3,14] = test2b21(freqtest,e)\n",
    "    testwhole[3,16] = test2b22(freqtest,e)\n",
    "    testwhole[3,17] = test2b23(freqtest,e)\n",
    "    testwhole[3,18] = test2b24(freqtest,e)\n",
    "    return testwhole\n",
    "end"
   ]
  },
  {
   "cell_type": "code",
   "execution_count": 348,
   "id": "61383abf",
   "metadata": {},
   "outputs": [
    {
     "data": {
      "text/plain": [
       "settest4 (generic function with 3 methods)"
      ]
     },
     "execution_count": 348,
     "metadata": {},
     "output_type": "execute_result"
    }
   ],
   "source": [
    "function settest4(testwhole,freqtest,e)\n",
    "    testwhole[4,1] = test3(freqtest,e)\n",
    "    testwhole[4,2] = test31(freqtest,e)\n",
    "    testwhole[4,3] = test32(freqtest,e)\n",
    "    testwhole[4,4] = test33(freqtest,e)\n",
    "    testwhole[4,5] = test34(freqtest,e)\n",
    "    testwhole[4,6] = test35(freqtest,e)\n",
    "    testwhole[4,7] = test311(freqtest,e)\n",
    "    testwhole[4,8] = test312(freqtest,e)\n",
    "    testwhole[4,9] = test313(freqtest,e)\n",
    "    testwhole[4,10] = test314(freqtest,e)\n",
    "    testwhole[4,11] = test315(freqtest,e)\n",
    "    testwhole[4,12] = test316(freqtest,e)\n",
    "    testwhole[4,13] = test317(freqtest,e)\n",
    "    testwhole[4,14] = test318(freqtest,e)\n",
    "    return testwhole\n",
    "end"
   ]
  },
  {
   "cell_type": "code",
   "execution_count": 340,
   "id": "d6f3b31e",
   "metadata": {},
   "outputs": [
    {
     "data": {
      "text/plain": [
       "4×25 Matrix{Float64}:\n",
       " 0.0  0.0  0.0  0.0  0.0  0.0  0.0  0.0  …  0.0  0.0  0.0  0.0  0.0  0.0  0.0\n",
       " 0.0  0.0  0.0  0.0  0.0  0.0  0.0  0.0     0.0  0.0  0.0  0.0  0.0  0.0  0.0\n",
       " 0.0  0.0  0.0  0.0  0.0  0.0  0.0  0.0     0.0  0.0  0.0  0.0  0.0  0.0  0.0\n",
       " 0.0  0.0  0.0  0.0  0.0  0.0  0.0  0.0     0.0  0.0  0.0  0.0  0.0  0.0  0.0"
      ]
     },
     "execution_count": 340,
     "metadata": {},
     "output_type": "execute_result"
    }
   ],
   "source": [
    "count = zeros(4,25)"
   ]
  },
  {
   "cell_type": "code",
   "execution_count": 344,
   "id": "b524b4ce",
   "metadata": {},
   "outputs": [
    {
     "data": {
      "text/plain": [
       "setcount (generic function with 2 methods)"
      ]
     },
     "execution_count": 344,
     "metadata": {},
     "output_type": "execute_result"
    }
   ],
   "source": [
    "function setcount(e)\n",
    "    test123 = rand(d)\n",
    "    freqtest = (test123-mean)/sqrt(k)\n",
    "    testwhole = getforonetime(freqtest,e)\n",
    "    sat = findmin(testwhole)\n",
    "    count[sat[2]] = count[sat[2]]+1\n",
    "    return testwhole\n",
    "end"
   ]
  },
  {
   "cell_type": "code",
   "execution_count": 360,
   "id": "d1d609e9",
   "metadata": {},
   "outputs": [
    {
     "name": "stdout",
     "output_type": "stream",
     "text": [
      "This is Ipopt version 3.14.4, running with linear solver MUMPS 5.4.1.\n",
      "\n",
      "Number of nonzeros in equality constraint Jacobian...:        3\n",
      "Number of nonzeros in inequality constraint Jacobian.:        5\n",
      "Number of nonzeros in Lagrangian Hessian.............:       21\n",
      "\n",
      "Total number of variables............................:        5\n",
      "                     variables with only lower bounds:        5\n",
      "                variables with lower and upper bounds:        0\n",
      "                     variables with only upper bounds:        0\n",
      "Total number of equality constraints.................:        1\n",
      "Total number of inequality constraints...............:        5\n",
      "        inequality constraints with only lower bounds:        0\n",
      "   inequality constraints with lower and upper bounds:        0\n",
      "        inequality constraints with only upper bounds:        5\n",
      "\n",
      "iter    objective    inf_pr   inf_du lg(mu)  ||d||  lg(rg) alpha_du alpha_pr  ls\n",
      "   0  3.1029731e+00 5.00e-01 5.27e-02  -1.0 0.00e+00    -  0.00e+00 0.00e+00   0\n",
      "   1  3.0981397e+00 4.99e-01 9.37e+02  -1.0 1.68e+03    -  5.90e-06 5.56e-05f  1\n",
      "   2  3.2646813e+00 4.54e-01 1.40e+06  -1.0 1.59e+01    -  9.19e-03 5.59e-02h  1\n",
      "   3  3.1605581e+00 6.83e-02 3.80e+05  -1.0 1.59e-01   6.0 1.21e-01 1.00e+00f  1\n",
      "   4  3.1445164e+00 2.42e-03 5.33e+04  -1.0 4.45e-02   5.5 9.90e-01 1.00e+00h  1\n",
      "   5  3.1445411e+00 3.87e-06 3.36e+02  -1.0 1.33e-03   5.0 9.90e-01 1.00e+00h  1\n",
      "   6  3.1460797e+00 7.57e-12 5.10e+00  -1.0 1.38e-04   4.6 1.00e+00 1.00e+00h  1\n",
      "   7  3.1289671e+00 9.61e-04 2.59e-02  -1.0 3.76e-02    -  1.00e+00 1.00e+00f  1\n",
      "   8  3.0459042e+00 8.73e-05 3.21e-02  -2.5 1.13e-02    -  9.77e-01 1.00e+00f  1\n",
      "   9  3.0371934e+00 2.18e-03 1.01e-01  -2.5 5.70e-02    -  1.00e+00 1.00e+00h  1\n",
      "iter    objective    inf_pr   inf_du lg(mu)  ||d||  lg(rg) alpha_du alpha_pr  ls\n",
      "  10  3.0370466e+00 1.24e-05 2.27e-04  -2.5 4.05e-03    -  1.00e+00 1.00e+00h  1\n",
      "  11  3.0342239e+00 1.37e-04 5.32e-03  -3.8 1.33e-02    -  1.00e+00 1.00e+00h  1\n",
      "  12  3.0342220e+00 5.85e-06 2.31e-04  -3.8 2.64e-03    -  1.00e+00 1.00e+00h  1\n",
      "  13  3.0340727e+00 9.19e-07 3.41e-05  -5.7 1.06e-03    -  1.00e+00 1.00e+00h  1\n",
      "  14  3.0340728e+00 4.16e-08 2.24e-07  -5.7 2.55e-04    -  1.00e+00 1.00e+00h  1\n",
      "  15  3.0340709e+00 7.86e-08 2.62e-06  -8.6 3.46e-04    -  9.99e-01 1.00e+00h  1\n",
      "  16  3.0340709e+00 1.48e-05 1.49e+00  -8.6 2.11e-01    -  1.00e+00 2.21e-02h  6\n",
      "  17  3.0340709e+00 2.24e-05 1.24e-04  -8.6 5.74e-03    -  1.00e+00 1.00e+00h  1\n",
      "  18  3.0340709e+00 1.06e-05 5.88e-05  -8.6 3.99e-03    -  1.00e+00 1.00e+00h  1\n",
      "  19  3.0340709e+00 2.70e-09 2.55e-04  -8.6 8.31e-03    -  1.00e+00 1.00e+00H  1\n",
      "iter    objective    inf_pr   inf_du lg(mu)  ||d||  lg(rg) alpha_du alpha_pr  ls\n",
      "  20  3.0340709e+00 2.42e-06 1.34e-05  -8.6 1.94e-03    -  1.00e+00 1.00e+00h  1\n",
      "  21  3.0340711e+00 1.36e-09 4.19e-03  -8.6 3.41e-02    -  1.00e+00 1.00e+00H  1\n",
      "  22  3.0340709e+00 2.22e-07 9.44e-06  -8.6 5.15e-04    -  1.00e+00 1.00e+00h  1\n",
      "  23  3.0340709e+00 3.18e-14 1.64e-03  -8.6 1.33e-07   4.1 1.00e+00 1.00e+00h  1\n",
      "  24  3.0340709e+00 7.12e-11 3.48e-08  -8.6 1.02e-05    -  1.00e+00 1.00e+00h  1\n",
      "  25  3.0340709e+00 1.84e-05 1.62e+00  -8.6 2.16e-01    -  1.00e+00 2.55e-02h  5\n",
      "  26  3.0340709e+00 9.78e-06 5.44e-05  -8.6 4.07e-03    -  1.00e+00 1.00e+00h  1\n",
      "  27  3.0340709e+00 3.45e-05 1.92e-04  -8.6 7.66e-03    -  1.00e+00 1.00e+00h  1\n",
      "  28  3.0340709e+00 2.67e-06 1.49e-05  -8.6 2.18e-03    -  1.00e+00 1.00e+00h  1\n",
      "  29  3.0340710e+00 1.73e-14 1.54e-03  -8.6 2.19e-02    -  1.00e+00 1.00e+00H  1\n",
      "iter    objective    inf_pr   inf_du lg(mu)  ||d||  lg(rg) alpha_du alpha_pr  ls\n",
      "  30  3.0340709e+00 4.73e-08 1.17e-06  -8.6 3.15e-04    -  1.00e+00 1.00e+00h  1\n",
      "  31  3.0340709e+00 9.00e-06 2.24e-01  -8.6 3.23e-02    -  1.00e+00 1.25e-01h  4\n",
      "  32  3.0340709e+00 6.91e-06 3.85e-05  -8.6 3.57e-03    -  1.00e+00 1.00e+00h  1\n",
      "  33  3.0340709e+00 7.25e-06 4.03e-05  -8.6 3.67e-03    -  1.00e+00 1.00e+00h  1\n",
      "  34  3.0340709e+00 3.04e-06 1.69e-05  -8.6 2.38e-03    -  1.00e+00 1.00e+00h  1\n",
      "  35  3.0340709e+00 3.33e-06 1.85e-05  -8.6 2.50e-03    -  1.00e+00 1.00e+00h  1\n",
      "  36  3.0340709e+00 4.18e-07 2.33e-06  -8.6 8.90e-04    -  1.00e+00 1.00e+00h  1\n",
      "  37  3.0340709e+00 1.67e-07 9.28e-07  -8.6 5.61e-04    -  1.00e+00 1.00e+00h  1\n",
      "  38  3.0340709e+00 6.99e-10 3.89e-09  -8.6 3.65e-05    -  1.00e+00 1.00e+00h  1\n",
      "\n",
      "Number of Iterations....: 38\n",
      "\n",
      "                                   (scaled)                 (unscaled)\n",
      "Objective...............:   3.0340709284491023e+00    3.0340709284491023e+00\n",
      "Dual infeasibility......:   3.8870926049092574e-09    3.8870926049092574e-09\n",
      "Constraint violation....:   6.9862410301269051e-10    6.9862410301269051e-10\n",
      "Variable bound violation:   9.8002420304727095e-09    9.8002420304727095e-09\n",
      "Complementarity.........:   2.5059035596800618e-09    2.5059035596800618e-09\n",
      "Overall NLP error.......:   3.8870926049092574e-09    3.8870926049092574e-09\n",
      "\n",
      "\n",
      "Number of objective function evaluations             = 66\n",
      "Number of objective gradient evaluations             = 39\n",
      "Number of equality constraint evaluations            = 66\n",
      "Number of inequality constraint evaluations          = 66\n",
      "Number of equality constraint Jacobian evaluations   = 39\n",
      "Number of inequality constraint Jacobian evaluations = 39\n",
      "Number of Lagrangian Hessian evaluations             = 38\n",
      "Total seconds in IPOPT                               = 0.020\n",
      "\n",
      "EXIT: Optimal Solution Found.\n",
      "This is Ipopt version 3.14.4, running with linear solver MUMPS 5.4.1.\n",
      "\n",
      "Number of nonzeros in equality constraint Jacobian...:        2\n",
      "Number of nonzeros in inequality constraint Jacobian.:        4\n",
      "Number of nonzeros in Lagrangian Hessian.............:       13\n",
      "\n",
      "Total number of variables............................:        4\n",
      "                     variables with only lower bounds:        4\n",
      "                variables with lower and upper bounds:        0\n",
      "                     variables with only upper bounds:        0\n",
      "Total number of equality constraints.................:        1\n",
      "Total number of inequality constraints...............:        4\n",
      "        inequality constraints with only lower bounds:        0\n",
      "   inequality constraints with lower and upper bounds:        0\n",
      "        inequality constraints with only upper bounds:        4\n",
      "\n",
      "iter    objective    inf_pr   inf_du lg(mu)  ||d||  lg(rg) alpha_du alpha_pr  ls\n",
      "   0  3.0906217e+00 5.00e-01 1.98e-01  -1.0 0.00e+00    -  0.00e+00 0.00e+00   0\n",
      "   1  3.0889368e+00 4.94e-01 4.70e+01  -1.0 2.51e+01    -  3.96e-04 2.68e-03h  1\n",
      "   2  3.4783746e+00 4.75e-01 6.85e+03  -1.0 3.22e+00    -  9.90e-01 2.84e-01h  1\n",
      "   3  3.3623171e+00 5.78e-02 2.50e+03  -1.0 2.43e-01   4.0 4.17e-02 1.00e+00f  1\n",
      "   4  3.3433070e+00 5.56e-03 5.71e+02  -1.0 1.22e-01   3.5 8.28e-01 1.00e+00h  1\n",
      "   5  3.2926793e+00 1.32e-05 7.27e+00  -1.0 4.85e-03   3.0 9.92e-01 1.00e+00h  1\n",
      "   6  3.0941275e+00 7.69e-05 1.67e-01  -1.0 1.62e-02    -  1.00e+00 1.00e+00f  1\n",
      "   7  3.0597539e+00 5.26e-06 1.18e-03  -2.5 7.75e-03    -  1.00e+00 1.00e+00f  1\n",
      "   8  3.0553014e+00 3.15e-05 3.40e-04  -3.8 6.26e-03    -  1.00e+00 1.00e+00f  1\n",
      "   9  3.0552696e+00 2.10e-04 2.96e-02  -3.8 9.66e-02    -  1.00e+00 1.00e+00H  1\n",
      "iter    objective    inf_pr   inf_du lg(mu)  ||d||  lg(rg) alpha_du alpha_pr  ls\n",
      "  10  3.0552506e+00 2.37e-07 1.19e-06  -3.8 6.43e-04    -  1.00e+00 1.00e+00h  1\n",
      "  11  3.0551019e+00 7.31e-11 3.02e-08  -5.7 3.02e-05    -  1.00e+00 1.00e+00h  1\n",
      "  12  3.0551001e+00 7.24e-07 8.25e-06  -8.6 8.70e-04    -  9.98e-01 1.00e+00h  1\n",
      "  13  3.0551001e+00 7.24e-07 2.72e+00  -8.6 5.05e-01    -  1.00e+00 2.42e-06h 19\n",
      "  14  3.0541322e+00 1.42e-02 1.73e-01  -8.6 2.49e-01    -  1.00e+00 1.00e+00H  1\n",
      "  15  3.0550929e+00 9.82e-05 1.07e-03  -8.6 1.31e-02    -  1.00e+00 1.00e+00h  1\n",
      "  16  3.0551000e+00 3.60e-09 2.93e-02  -8.6 7.92e-05   2.6 1.00e+00 1.00e+00h  1\n",
      "  17  3.0551000e+00 0.00e+00 2.64e-04  -8.6 2.13e-06   2.1 1.00e+00 1.00e+00h  1\n",
      "  18  3.0551000e+00 0.00e+00 6.41e-05  -8.6 1.56e-06   1.6 1.00e+00 1.00e+00f  1\n",
      "  19  3.0551000e+00 6.09e-13 6.84e-01  -8.6 8.78e-02    -  1.00e+00 1.17e-05f 17\n",
      "iter    objective    inf_pr   inf_du lg(mu)  ||d||  lg(rg) alpha_du alpha_pr  ls\n",
      "  20  3.0550980e+00 2.85e-05 2.60e-03  -8.6 3.53e-02    -  1.00e+00 1.00e+00H  1\n",
      "  21  3.0551000e+00 2.16e-10 6.15e-09  -8.6 3.30e-05    -  1.00e+00 1.00e+00h  1\n",
      "\n",
      "Number of Iterations....: 21\n",
      "\n",
      "                                   (scaled)                 (unscaled)\n",
      "Objective...............:   3.0551000260581564e+00    3.0551000260581564e+00\n",
      "Dual infeasibility......:   6.1466651397743440e-09    6.1466651397743440e-09\n",
      "Constraint violation....:   2.1602275523946446e-10    2.1602275523946446e-10\n",
      "Variable bound violation:   9.7998361062226009e-09    9.7998361062226009e-09\n",
      "Complementarity.........:   2.5059297031544410e-09    2.5059297031544410e-09\n",
      "Overall NLP error.......:   6.1466651397743440e-09    6.1466651397743440e-09\n",
      "\n",
      "\n",
      "Number of objective function evaluations             = 63\n",
      "Number of objective gradient evaluations             = 22\n",
      "Number of equality constraint evaluations            = 63\n",
      "Number of inequality constraint evaluations          = 63\n",
      "Number of equality constraint Jacobian evaluations   = 22\n",
      "Number of inequality constraint Jacobian evaluations = 22\n",
      "Number of Lagrangian Hessian evaluations             = 21\n",
      "Total seconds in IPOPT                               = 0.011\n",
      "\n",
      "EXIT: Optimal Solution Found.\n",
      "This is Ipopt version 3.14.4, running with linear solver MUMPS 5.4.1.\n",
      "\n",
      "Number of nonzeros in equality constraint Jacobian...:        2\n",
      "Number of nonzeros in inequality constraint Jacobian.:        4\n",
      "Number of nonzeros in Lagrangian Hessian.............:       13\n",
      "\n",
      "Total number of variables............................:        4\n",
      "                     variables with only lower bounds:        4\n",
      "                variables with lower and upper bounds:        0\n",
      "                     variables with only upper bounds:        0\n",
      "Total number of equality constraints.................:        1\n",
      "Total number of inequality constraints...............:        4\n",
      "        inequality constraints with only lower bounds:        0\n",
      "   inequality constraints with lower and upper bounds:        0\n",
      "        inequality constraints with only upper bounds:        4\n",
      "\n",
      "iter    objective    inf_pr   inf_du lg(mu)  ||d||  lg(rg) alpha_du alpha_pr  ls\n",
      "   0  3.2232275e+00 5.00e-01 6.94e+00  -1.0 0.00e+00    -  0.00e+00 0.00e+00   0\n",
      "   1  3.7917887e+00 4.80e-01 1.01e+04  -1.0 2.50e+01    -  3.97e-04 3.92e-02h  1\n",
      "   2  3.1374156e+00 5.87e-02 1.86e+03  -1.0 2.42e-01    -  6.40e-02 1.00e+00f  1\n",
      "   3  4.1363280e+00 1.54e-03 9.20e+01  -1.0 5.45e-02    -  9.90e-01 1.00e+00h  1\n",
      "   4  3.3781242e+00 1.17e-06 1.55e-01  -1.0 3.37e-02    -  9.90e-01 1.00e+00f  1\n",
      "   5  3.1780133e+00 2.87e-05 1.24e-03  -1.0 1.20e-02    -  1.00e+00 1.00e+00f  1\n",
      "   6  3.0533139e+00 1.24e-05 1.48e-02  -2.5 1.02e-02    -  1.00e+00 1.00e+00f  1\n",
      "   7  3.0347042e+00 1.57e-04 3.53e-03  -3.8 1.27e-02    -  1.00e+00 1.00e+00f  1\n",
      "   8  3.0342218e+00 2.13e-05 4.78e-04  -3.8 4.87e-03    -  1.00e+00 1.00e+00h  1\n",
      "   9  3.0340728e+00 1.27e-07 2.31e-06  -5.7 3.85e-04    -  1.00e+00 1.00e+00h  1\n",
      "iter    objective    inf_pr   inf_du lg(mu)  ||d||  lg(rg) alpha_du alpha_pr  ls\n",
      "  10  3.0340709e+00 3.62e-11 8.13e-10  -8.6 6.34e-06    -  1.00e+00 1.00e+00h  1\n",
      "\n",
      "Number of Iterations....: 10\n",
      "\n",
      "                                   (scaled)                 (unscaled)\n",
      "Objective...............:   3.0340709261137615e+00    3.0340709261137615e+00\n",
      "Dual infeasibility......:   8.1340303774709833e-10    8.1340303774709833e-10\n",
      "Constraint violation....:   3.6220360044580957e-11    3.6220360044580957e-11\n",
      "Variable bound violation:   9.8034689965668753e-09    9.8034689965668753e-09\n",
      "Complementarity.........:   2.5551292332305888e-09    2.5551292332305888e-09\n",
      "Overall NLP error.......:   2.5551292332305888e-09    2.5551292332305888e-09\n",
      "\n",
      "\n",
      "Number of objective function evaluations             = 11\n",
      "Number of objective gradient evaluations             = 11\n",
      "Number of equality constraint evaluations            = 11\n",
      "Number of inequality constraint evaluations          = 11\n",
      "Number of equality constraint Jacobian evaluations   = 11\n",
      "Number of inequality constraint Jacobian evaluations = 11\n",
      "Number of Lagrangian Hessian evaluations             = 10\n",
      "Total seconds in IPOPT                               = 0.004\n",
      "\n",
      "EXIT: Optimal Solution Found.\n",
      "This is Ipopt version 3.14.4, running with linear solver MUMPS 5.4.1.\n",
      "\n",
      "Number of nonzeros in equality constraint Jacobian...:        3\n",
      "Number of nonzeros in inequality constraint Jacobian.:        4\n",
      "Number of nonzeros in Lagrangian Hessian.............:       16\n",
      "\n",
      "Total number of variables............................:        4\n",
      "                     variables with only lower bounds:        4\n",
      "                variables with lower and upper bounds:        0\n",
      "                     variables with only upper bounds:        0\n",
      "Total number of equality constraints.................:        1\n",
      "Total number of inequality constraints...............:        4\n",
      "        inequality constraints with only lower bounds:        0\n",
      "   inequality constraints with lower and upper bounds:        0\n",
      "        inequality constraints with only upper bounds:        4\n",
      "\n",
      "iter    objective    inf_pr   inf_du lg(mu)  ||d||  lg(rg) alpha_du alpha_pr  ls\n",
      "   0  3.1032770e+00 5.00e-01 5.27e-02  -1.0 0.00e+00    -  0.00e+00 0.00e+00   0\n",
      "   1  3.1023375e+00 4.99e-01 9.19e+02  -1.0 1.68e+03    -  5.90e-06 5.56e-05f  1\n",
      "   2  3.1679060e+00 4.55e-01 1.38e+06  -1.0 1.59e+01    -  9.21e-03 5.59e-02h  1\n",
      "   3  3.1545791e+00 6.83e-02 3.74e+05  -1.0 1.59e-01   6.0 1.20e-01 1.00e+00f  1\n",
      "   4  3.1526155e+00 2.53e-03 5.18e+04  -1.0 4.14e-02   5.5 9.90e-01 1.00e+00h  1\n",
      "   5  3.1531168e+00 4.22e-06 3.48e+02  -1.0 1.38e-03   5.0 9.90e-01 1.00e+00h  1\n",
      "   6  3.1548081e+00 1.08e-11 5.12e+00  -1.0 1.38e-04   4.6 1.00e+00 1.00e+00h  1\n",
      "   7  3.1779371e+00 8.53e-04 1.05e-02  -1.0 3.89e-02    -  1.00e+00 1.00e+00f  1\n",
      "   8  3.1107781e+00 4.65e-07 5.68e-03  -2.5 5.70e-03    -  1.00e+00 1.00e+00f  1\n",
      "   9  3.1024745e+00 4.48e-08 9.10e-05  -3.8 7.40e-04    -  1.00e+00 1.00e+00f  1\n",
      "iter    objective    inf_pr   inf_du lg(mu)  ||d||  lg(rg) alpha_du alpha_pr  ls\n",
      "  10  3.1022264e+00 8.27e-10 1.49e-07  -5.7 3.68e-05    -  1.00e+00 1.00e+00h  1\n",
      "  11  3.1022244e+00 4.05e-07 4.63e-06  -8.6 8.14e-04    -  9.99e-01 1.00e+00h  1\n",
      "  12  3.1022244e+00 1.09e-13 2.67e-03  -8.6 2.17e-07   4.1 1.00e+00 1.00e+00h  1\n",
      "  13  3.1022244e+00 2.57e-11 4.43e-08  -8.6 6.50e-06    -  1.00e+00 1.00e+00h  1\n",
      "  14  3.1022244e+00 0.00e+00 7.86e-08  -8.6 1.91e-11   3.6 1.00e+00 1.00e+00h  1\n",
      "  15  3.1022244e+00 6.74e-03 1.62e+00  -8.6 3.52e-01    -  1.00e+00 3.06e-01f  2\n",
      "  16  3.1022244e+00 6.06e-03 1.03e+00  -8.6 1.86e-01    -  1.00e+00 2.89e-01h  2\n",
      "  17  3.1022244e+00 1.84e-04 1.47e-04  -8.6 2.64e-02    -  1.00e+00 1.00e+00h  1\n",
      "  18  3.1022244e+00 1.82e-06 3.61e-06  -8.6 2.04e-03    -  1.00e+00 1.00e+00h  1\n",
      "  19  3.1022244e+00 2.47e-10 3.25e-10  -8.6 2.62e-05    -  1.00e+00 1.00e+00h  1\n",
      "\n",
      "Number of Iterations....: 19\n",
      "\n",
      "                                   (scaled)                 (unscaled)\n",
      "Objective...............:   3.1022244097316318e+00    3.1022244097316318e+00\n",
      "Dual infeasibility......:   3.2548896911066549e-10    3.2548896911066549e-10\n",
      "Constraint violation....:   2.4694812861270066e-10    2.4694812861270066e-10\n",
      "Variable bound violation:   9.8001784247736613e-09    9.8001784247736613e-09\n",
      "Complementarity.........:   2.5059035596800618e-09    2.5059035596800618e-09\n",
      "Overall NLP error.......:   2.5059035596800618e-09    2.5059035596800618e-09\n",
      "\n",
      "\n",
      "Number of objective function evaluations             = 26\n",
      "Number of objective gradient evaluations             = 20\n",
      "Number of equality constraint evaluations            = 26\n",
      "Number of inequality constraint evaluations          = 26\n",
      "Number of equality constraint Jacobian evaluations   = 20\n",
      "Number of inequality constraint Jacobian evaluations = 20\n",
      "Number of Lagrangian Hessian evaluations             = 19\n",
      "Total seconds in IPOPT                               = 0.008\n",
      "\n",
      "EXIT: Optimal Solution Found.\n",
      "This is Ipopt version 3.14.4, running with linear solver MUMPS 5.4.1.\n",
      "\n",
      "Number of nonzeros in equality constraint Jacobian...:        3\n",
      "Number of nonzeros in inequality constraint Jacobian.:        4\n",
      "Number of nonzeros in Lagrangian Hessian.............:       16\n",
      "\n",
      "Total number of variables............................:        4\n",
      "                     variables with only lower bounds:        4\n",
      "                variables with lower and upper bounds:        0\n",
      "                     variables with only upper bounds:        0\n",
      "Total number of equality constraints.................:        1\n",
      "Total number of inequality constraints...............:        4\n",
      "        inequality constraints with only lower bounds:        0\n",
      "   inequality constraints with lower and upper bounds:        0\n",
      "        inequality constraints with only upper bounds:        4\n",
      "\n",
      "iter    objective    inf_pr   inf_du lg(mu)  ||d||  lg(rg) alpha_du alpha_pr  ls\n",
      "   0  3.1019207e+00 5.00e-01 1.51e-02  -1.0 0.00e+00    -  0.00e+00 0.00e+00   0\n",
      "   1  3.0972714e+00 4.70e-01 9.89e+05  -1.0 1.67e+03    -  5.94e-06 5.88e-04f  1\n",
      "   2  3.0646245e+00 7.19e-02 2.25e+05  -1.0 1.60e-01    -  1.38e-01 1.00e+00f  1\n",
      "   3  3.0559206e+00 2.97e-03 1.73e+04  -1.0 3.48e-02    -  9.90e-01 1.00e+00h  1\n",
      "   4  3.0557118e+00 5.84e-06 6.78e+01  -1.0 1.57e-03    -  9.90e-01 1.00e+00h  1\n",
      "   5  3.0556143e+00 8.90e-07 1.04e-01  -1.0 1.23e-03    -  1.00e+00 1.00e+00h  1\n",
      "   6  3.0389053e+00 1.29e-04 4.58e-02  -2.5 1.46e-02    -  9.57e-01 1.00e+00f  1\n",
      "   7  3.0344923e+00 4.14e-03 1.84e-01  -2.5 8.03e-02    -  1.00e+00 1.00e+00h  1\n",
      "   8  3.0342093e+00 6.32e-06 1.37e-03  -2.5 3.92e-03    -  1.00e+00 1.00e+00h  1\n",
      "   9  3.0340771e+00 1.22e-04 4.73e-03  -3.8 1.26e-02    -  1.00e+00 1.00e+00h  1\n",
      "iter    objective    inf_pr   inf_du lg(mu)  ||d||  lg(rg) alpha_du alpha_pr  ls\n",
      "  10  3.0340716e+00 5.20e-06 2.05e-04  -3.8 2.49e-03    -  1.00e+00 1.00e+00h  1\n",
      "  11  3.0340711e+00 8.02e-07 2.97e-05  -5.7 9.94e-04    -  1.00e+00 1.00e+00h  1\n",
      "  12  3.0340711e+00 1.37e-10 5.34e-09  -5.7 1.27e-05    -  1.00e+00 1.00e+00h  1\n",
      "  13  3.0340711e+00 1.25e-10 4.62e-09  -8.6 1.24e-05    -  1.00e+00 1.00e+00h  1\n",
      "\n",
      "Number of Iterations....: 13\n",
      "\n",
      "                                   (scaled)                 (unscaled)\n",
      "Objective...............:   3.0340710513901987e+00    3.0340710513901987e+00\n",
      "Dual infeasibility......:   4.6170960211474465e-09    4.6170960211474465e-09\n",
      "Constraint violation....:   1.2496426116115344e-10    1.2496426116115344e-10\n",
      "Variable bound violation:   0.0000000000000000e+00    0.0000000000000000e+00\n",
      "Complementarity.........:   2.6066245538758487e-09    2.6066245538758487e-09\n",
      "Overall NLP error.......:   4.6170960211474465e-09    4.6170960211474465e-09\n",
      "\n",
      "\n",
      "Number of objective function evaluations             = 14\n",
      "Number of objective gradient evaluations             = 14\n",
      "Number of equality constraint evaluations            = 14\n",
      "Number of inequality constraint evaluations          = 14\n",
      "Number of equality constraint Jacobian evaluations   = 14\n",
      "Number of inequality constraint Jacobian evaluations = 14\n",
      "Number of Lagrangian Hessian evaluations             = 13\n",
      "Total seconds in IPOPT                               = 0.005\n",
      "\n",
      "EXIT: Optimal Solution Found.\n",
      "This is Ipopt version 3.14.4, running with linear solver MUMPS 5.4.1.\n",
      "\n",
      "Number of nonzeros in equality constraint Jacobian...:        2\n",
      "Number of nonzeros in inequality constraint Jacobian.:        4\n",
      "Number of nonzeros in Lagrangian Hessian.............:       13\n",
      "\n",
      "Total number of variables............................:        4\n",
      "                     variables with only lower bounds:        4\n",
      "                variables with lower and upper bounds:        0\n",
      "                     variables with only upper bounds:        0\n",
      "Total number of equality constraints.................:        1\n",
      "Total number of inequality constraints...............:        4\n",
      "        inequality constraints with only lower bounds:        0\n",
      "   inequality constraints with lower and upper bounds:        0\n",
      "        inequality constraints with only upper bounds:        4\n",
      "\n",
      "iter    objective    inf_pr   inf_du lg(mu)  ||d||  lg(rg) alpha_du alpha_pr  ls\n",
      "   0  3.1030569e+00 5.00e-01 7.57e-02  -1.0 0.00e+00    -  0.00e+00 0.00e+00   0\n",
      "   1  3.0948186e+00 4.94e-01 4.85e+01  -1.0 2.51e+01    -  3.96e-04 2.68e-03h  1\n",
      "   2  5.5054048e+00 4.74e-01 7.05e+03  -1.0 3.22e+00    -  4.62e-02 2.83e-01h  1\n",
      "   3  4.3568805e+00 5.77e-02 2.54e+03  -1.0 2.42e-01   4.0 5.75e-02 1.00e+00f  1\n",
      "   4  4.1869356e+00 2.12e-03 5.09e+02  -1.0 9.80e-02   3.5 9.90e-01 1.00e+00h  1\n",
      "   5  4.0153920e+00 1.50e-06 7.77e+00  -1.0 6.99e-03   3.0 9.90e-01 1.00e+00f  1\n",
      "   6  3.0428992e+00 1.24e-04 9.56e-01  -1.0 8.60e-02    -  1.00e+00 9.87e-01f  1\n",
      "   7  3.0555013e+00 1.48e-03 6.65e-02  -1.7 4.28e-02    -  9.89e-01 1.00e+00f  1\n",
      "   8  3.0374389e+00 9.87e-05 4.70e-03  -2.5 1.05e-02    -  1.00e+00 1.00e+00h  1\n",
      "   9  3.0342371e+00 9.54e-07 1.59e-04  -3.8 1.01e-03    -  1.00e+00 1.00e+00h  1\n",
      "iter    objective    inf_pr   inf_du lg(mu)  ||d||  lg(rg) alpha_du alpha_pr  ls\n",
      "  10  3.0340728e+00 1.32e-08 6.79e-07  -5.7 1.20e-04    -  1.00e+00 1.00e+00h  1\n",
      "  11  3.0340709e+00 2.65e-11 5.64e-10  -8.6 5.36e-06    -  1.00e+00 1.00e+00h  1\n",
      "\n",
      "Number of Iterations....: 11\n",
      "\n",
      "                                   (scaled)                 (unscaled)\n",
      "Objective...............:   3.0340709455146917e+00    3.0340709455146917e+00\n",
      "Dual infeasibility......:   5.6449268637807654e-10    5.6449268637807654e-10\n",
      "Constraint violation....:   2.6541935316259924e-11    2.6541935316259924e-11\n",
      "Variable bound violation:   9.7688408321402700e-09    9.7688408321402700e-09\n",
      "Complementarity.........:   2.5518944052069247e-09    2.5518944052069247e-09\n",
      "Overall NLP error.......:   2.5518944052069247e-09    2.5518944052069247e-09\n",
      "\n",
      "\n",
      "Number of objective function evaluations             = 12\n",
      "Number of objective gradient evaluations             = 12\n",
      "Number of equality constraint evaluations            = 12\n",
      "Number of inequality constraint evaluations          = 12\n",
      "Number of equality constraint Jacobian evaluations   = 12\n",
      "Number of inequality constraint Jacobian evaluations = 12\n",
      "Number of Lagrangian Hessian evaluations             = 11\n",
      "Total seconds in IPOPT                               = 0.004\n",
      "\n",
      "EXIT: Optimal Solution Found.\n",
      "This is Ipopt version 3.14.4, running with linear solver MUMPS 5.4.1.\n",
      "\n",
      "Number of nonzeros in equality constraint Jacobian...:        2\n",
      "Number of nonzeros in inequality constraint Jacobian.:        3\n",
      "Number of nonzeros in Lagrangian Hessian.............:        9\n",
      "\n",
      "Total number of variables............................:        3\n",
      "                     variables with only lower bounds:        3\n",
      "                variables with lower and upper bounds:        0\n",
      "                     variables with only upper bounds:        0\n",
      "Total number of equality constraints.................:        1\n",
      "Total number of inequality constraints...............:        3\n",
      "        inequality constraints with only lower bounds:        0\n",
      "   inequality constraints with lower and upper bounds:        0\n",
      "        inequality constraints with only upper bounds:        3\n",
      "\n",
      "iter    objective    inf_pr   inf_du lg(mu)  ||d||  lg(rg) alpha_du alpha_pr  ls\n",
      "   0  3.1037359e+00 5.00e-01 7.57e-02  -1.0 0.00e+00    -  0.00e+00 0.00e+00   0\n",
      "   1  3.1023408e+00 4.94e-01 4.70e+01  -1.0 2.51e+01    -  3.96e-04 2.68e-03h  1\n",
      "   2  3.5455772e+00 4.75e-01 6.85e+03  -1.0 3.22e+00    -  9.90e-01 2.84e-01h  1\n",
      "   3  3.4133630e+00 5.78e-02 2.50e+03  -1.0 2.43e-01   4.0 4.17e-02 1.00e+00f  1\n",
      "   4  3.3899846e+00 5.55e-03 5.71e+02  -1.0 1.22e-01   3.5 8.28e-01 1.00e+00h  1\n",
      "   5  3.3391503e+00 1.31e-05 7.26e+00  -1.0 4.84e-03   3.0 9.92e-01 1.00e+00h  1\n",
      "   6  3.2262427e+00 1.27e-05 3.66e+00  -1.0 1.62e-02    -  1.00e+00 5.00e-01f  2\n",
      "   7  3.1947258e+00 3.50e-04 1.63e-01  -1.0 2.11e-02    -  1.00e+00 1.00e+00f  1\n",
      "   8  3.1132757e+00 5.28e-06 8.32e-03  -2.5 6.86e-03    -  1.00e+00 1.00e+00f  1\n",
      "   9  3.1025692e+00 2.42e-05 8.18e-04  -3.8 5.38e-03    -  1.00e+00 1.00e+00f  1\n",
      "iter    objective    inf_pr   inf_du lg(mu)  ||d||  lg(rg) alpha_du alpha_pr  ls\n",
      "  10  3.1022266e+00 8.27e-07 4.25e-06  -5.7 9.69e-04    -  1.00e+00 1.00e+00h  1\n",
      "  11  3.1022244e+00 9.12e-07 9.67e-06  -8.6 1.04e-03    -  9.99e-01 1.00e+00h  1\n",
      "  12  3.1022244e+00 1.14e-02 4.00e+00  -8.6 9.97e-01    -  7.31e-01 1.16e-01h  2\n",
      "  13  3.1022244e+00 5.39e-04 6.97e-09  -8.6 4.14e-02    -  1.00e+00 1.00e+00h  1\n",
      "  14  3.1022244e+00 1.11e-03 1.21e-08  -8.6 4.42e-02    -  1.00e+00 1.00e+00h  1\n",
      "  15  3.1022244e+00 6.67e-07 9.48e-12  -8.6 1.40e-03    -  1.00e+00 1.00e+00h  1\n",
      "  16  3.1022244e+00 4.17e-13 2.51e-14  -8.6 9.28e-07    -  1.00e+00 1.00e+00h  1\n",
      "\n",
      "Number of Iterations....: 16\n",
      "\n",
      "                                   (scaled)                 (unscaled)\n",
      "Objective...............:   3.1022244098445348e+00    3.1022244098445348e+00\n",
      "Dual infeasibility......:   2.5059072219300466e-14    2.5059072219300466e-14\n",
      "Constraint violation....:   4.1744385725905886e-13    4.1744385725905886e-13\n",
      "Variable bound violation:   9.7999983628930214e-09    9.7999983628930214e-09\n",
      "Complementarity.........:   2.5059035597105392e-09    2.5059035597105392e-09\n",
      "Overall NLP error.......:   2.5059035597105392e-09    2.5059035597105392e-09\n",
      "\n",
      "\n",
      "Number of objective function evaluations             = 25\n",
      "Number of objective gradient evaluations             = 17\n",
      "Number of equality constraint evaluations            = 25\n",
      "Number of inequality constraint evaluations          = 25\n",
      "Number of equality constraint Jacobian evaluations   = 17\n",
      "Number of inequality constraint Jacobian evaluations = 17\n",
      "Number of Lagrangian Hessian evaluations             = 16\n",
      "Total seconds in IPOPT                               = 0.006\n",
      "\n",
      "EXIT: Optimal Solution Found.\n",
      "This is Ipopt version 3.14.4, running with linear solver MUMPS 5.4.1.\n",
      "\n",
      "Number of nonzeros in equality constraint Jacobian...:        2\n",
      "Number of nonzeros in inequality constraint Jacobian.:        3\n",
      "Number of nonzeros in Lagrangian Hessian.............:        9\n",
      "\n",
      "Total number of variables............................:        3\n",
      "                     variables with only lower bounds:        3\n",
      "                variables with lower and upper bounds:        0\n",
      "                     variables with only upper bounds:        0\n",
      "Total number of equality constraints.................:        1\n",
      "Total number of inequality constraints...............:        3\n",
      "        inequality constraints with only lower bounds:        0\n",
      "   inequality constraints with lower and upper bounds:        0\n",
      "        inequality constraints with only upper bounds:        3\n",
      "\n",
      "iter    objective    inf_pr   inf_du lg(mu)  ||d||  lg(rg) alpha_du alpha_pr  ls\n",
      "   0  3.1019207e+00 5.00e-01 1.51e-02  -1.0 0.00e+00    -  0.00e+00 0.00e+00   0\n",
      "   1  3.1246753e+00 4.80e-01 9.90e+03  -1.0 2.50e+01    -  3.97e-04 3.92e-02f  1\n",
      "   2  3.0796643e+00 5.87e-02 1.83e+03  -1.0 2.42e-01    -  6.40e-02 1.00e+00f  1\n",
      "   3  3.0601654e+00 1.54e-03 9.06e+01  -1.0 3.93e-02    -  9.90e-01 1.00e+00h  1\n",
      "   4  3.0597976e+00 6.46e-07 2.33e-01  -1.0 1.82e-03    -  9.90e-01 1.00e+00h  1\n",
      "   5  3.0571602e+00 2.23e-03 9.96e-03  -1.0 4.73e-02    -  1.00e+00 1.00e+00f  1\n",
      "   6  3.0409134e+00 1.38e-04 3.11e-02  -2.5 1.44e-02    -  9.98e-01 1.00e+00h  1\n",
      "   7  3.0360389e+00 1.19e-02 6.31e-02  -2.5 1.19e-01    -  1.00e+00 1.00e+00h  1\n",
      "   8  3.0358600e+00 6.03e-05 2.79e-03  -2.5 9.46e-03    -  1.00e+00 1.00e+00h  1\n",
      "   9  3.0350045e+00 1.40e-03 2.11e-03  -3.8 4.72e-02    -  9.86e-01 1.00e+00h  1\n",
      "iter    objective    inf_pr   inf_du lg(mu)  ||d||  lg(rg) alpha_du alpha_pr  ls\n",
      "  10  3.0345819e+00 5.97e-04 3.72e-04  -3.8 3.39e-02    -  1.00e+00 1.00e+00h  1\n",
      "  11  3.0344059e+00 1.74e-04 1.37e-04  -5.7 1.88e-02    -  9.93e-01 1.00e+00h  1\n",
      "  12  3.0343659e+00 1.17e-05 8.98e-06  -5.7 4.98e-03    -  1.00e+00 1.00e+00h  1\n",
      "  13  3.0343616e+00 1.48e-07 9.44e-08  -8.6 5.56e-04    -  1.00e+00 1.00e+00h  1\n",
      "  14  3.0343616e+00 8.79e-12 6.79e-12  -8.6 4.34e-06    -  1.00e+00 1.00e+00h  1\n",
      "\n",
      "Number of Iterations....: 14\n",
      "\n",
      "                                   (scaled)                 (unscaled)\n",
      "Objective...............:   3.0343615913550881e+00    3.0343615913550881e+00\n",
      "Dual infeasibility......:   6.7929690242812517e-12    6.7929690242812517e-12\n",
      "Constraint violation....:   8.7908569312844520e-12    8.7908569312844520e-12\n",
      "Variable bound violation:   0.0000000000000000e+00    0.0000000000000000e+00\n",
      "Complementarity.........:   2.5077490288819949e-09    2.5077490288819949e-09\n",
      "Overall NLP error.......:   2.5077490288819949e-09    2.5077490288819949e-09\n",
      "\n",
      "\n",
      "Number of objective function evaluations             = 15\n",
      "Number of objective gradient evaluations             = 15\n",
      "Number of equality constraint evaluations            = 15\n",
      "Number of inequality constraint evaluations          = 15\n",
      "Number of equality constraint Jacobian evaluations   = 15\n",
      "Number of inequality constraint Jacobian evaluations = 15\n",
      "Number of Lagrangian Hessian evaluations             = 14\n",
      "Total seconds in IPOPT                               = 0.004\n",
      "\n",
      "EXIT: Optimal Solution Found.\n",
      "This is Ipopt version 3.14.4, running with linear solver MUMPS 5.4.1.\n",
      "\n",
      "Number of nonzeros in equality constraint Jacobian...:        2\n",
      "Number of nonzeros in inequality constraint Jacobian.:        3\n",
      "Number of nonzeros in Lagrangian Hessian.............:        9\n",
      "\n",
      "Total number of variables............................:        3\n",
      "                     variables with only lower bounds:        3\n",
      "                variables with lower and upper bounds:        0\n",
      "                     variables with only upper bounds:        0\n",
      "Total number of equality constraints.................:        1\n",
      "Total number of inequality constraints...............:        3\n",
      "        inequality constraints with only lower bounds:        0\n",
      "   inequality constraints with lower and upper bounds:        0\n",
      "        inequality constraints with only upper bounds:        3\n",
      "\n",
      "iter    objective    inf_pr   inf_du lg(mu)  ||d||  lg(rg) alpha_du alpha_pr  ls\n",
      "   0  3.2239064e+00 5.00e-01 6.94e+00  -1.0 0.00e+00    -  0.00e+00 0.00e+00   0\n",
      "   1  3.2617231e+00 4.80e-01 9.76e+03  -1.0 2.50e+01    -  3.98e-04 3.92e-02h  1\n",
      "   2  3.1067668e+00 5.88e-02 1.81e+03  -1.0 2.43e-01    -  6.39e-02 1.00e+00f  1\n",
      "   3  4.1857972e+00 1.55e-03 8.95e+01  -1.0 5.44e-02    -  9.90e-01 1.00e+00h  1\n",
      "   4  3.4287788e+00 1.19e-06 1.37e-01  -1.0 3.36e-02    -  9.90e-01 1.00e+00f  1\n",
      "   5  3.2293230e+00 7.14e-13 1.02e-06  -1.0 1.20e-02    -  1.00e+00 1.00e+00f  1\n",
      "   6  3.1201171e+00 0.00e+00 2.83e-08  -2.5 7.73e-03    -  1.00e+00 1.00e+00f  1\n",
      "   7  3.1028299e+00 0.00e+00 1.50e-09  -3.8 1.33e-03    -  1.00e+00 1.00e+00f  1\n",
      "   8  3.1022268e+00 0.00e+00 1.84e-11  -5.7 4.72e-05    -  1.00e+00 1.00e+00f  1\n",
      "   9  3.1022244e+00 0.00e+00 2.84e-14  -8.6 1.89e-07    -  1.00e+00 1.00e+00f  1\n",
      "\n",
      "Number of Iterations....: 9\n",
      "\n",
      "                                   (scaled)                 (unscaled)\n",
      "Objective...............:   3.1022244073599552e+00    3.1022244073599552e+00\n",
      "Dual infeasibility......:   2.8421709430404007e-14    2.8421709430404007e-14\n",
      "Constraint violation....:   0.0000000000000000e+00    0.0000000000000000e+00\n",
      "Variable bound violation:   9.8031875159233364e-09    9.8031875159233364e-09\n",
      "Complementarity.........:   2.5150244647501615e-09    2.5150244647501615e-09\n",
      "Overall NLP error.......:   2.5150244647501615e-09    2.5150244647501615e-09\n",
      "\n",
      "\n",
      "Number of objective function evaluations             = 10\n",
      "Number of objective gradient evaluations             = 10\n",
      "Number of equality constraint evaluations            = 10\n",
      "Number of inequality constraint evaluations          = 10\n",
      "Number of equality constraint Jacobian evaluations   = 10\n",
      "Number of inequality constraint Jacobian evaluations = 10\n",
      "Number of Lagrangian Hessian evaluations             = 9\n",
      "Total seconds in IPOPT                               = 0.003\n",
      "\n",
      "EXIT: Optimal Solution Found.\n",
      "This is Ipopt version 3.14.4, running with linear solver MUMPS 5.4.1.\n",
      "\n",
      "Number of nonzeros in equality constraint Jacobian...:        2\n",
      "Number of nonzeros in inequality constraint Jacobian.:        3\n",
      "Number of nonzeros in Lagrangian Hessian.............:        9\n",
      "\n",
      "Total number of variables............................:        3\n",
      "                     variables with only lower bounds:        3\n",
      "                variables with lower and upper bounds:        0\n",
      "                     variables with only upper bounds:        0\n",
      "Total number of equality constraints.................:        1\n",
      "Total number of inequality constraints...............:        3\n",
      "        inequality constraints with only lower bounds:        0\n",
      "   inequality constraints with lower and upper bounds:        0\n",
      "        inequality constraints with only upper bounds:        3\n",
      "\n",
      "iter    objective    inf_pr   inf_du lg(mu)  ||d||  lg(rg) alpha_du alpha_pr  ls\n",
      "   0  3.1015456e+00 5.00e-01 3.39e-02  -1.0 0.00e+00    -  0.00e+00 0.00e+00   0\n",
      "   1  3.6323209e+00 4.80e-01 1.01e+04  -1.0 2.50e+01    -  3.97e-04 3.92e-02h  1\n",
      "   2  3.1329783e+00 5.87e-02 1.86e+03  -1.0 2.42e-01    -  6.40e-02 1.00e+00f  1\n",
      "   3  3.0503794e+00 1.54e-03 9.20e+01  -1.0 3.93e-02    -  9.90e-01 1.00e+00h  1\n",
      "   4  3.0508990e+00 1.17e-06 1.57e-01  -1.0 1.21e-03    -  9.90e-01 1.00e+00h  1\n",
      "   5  3.0507685e+00 2.86e-05 1.23e-03  -1.0 5.35e-03    -  1.00e+00 1.00e+00h  1\n",
      "   6  3.0353923e+00 1.24e-05 1.48e-02  -2.5 1.02e-02    -  1.00e+00 1.00e+00f  1\n",
      "   7  3.0340974e+00 1.57e-04 3.53e-03  -3.8 1.27e-02    -  1.00e+00 1.00e+00h  1\n",
      "   8  3.0340712e+00 2.13e-05 4.78e-04  -3.8 4.87e-03    -  1.00e+00 1.00e+00h  1\n",
      "   9  3.0340711e+00 1.27e-07 2.31e-06  -5.7 3.85e-04    -  1.00e+00 1.00e+00h  1\n",
      "iter    objective    inf_pr   inf_du lg(mu)  ||d||  lg(rg) alpha_du alpha_pr  ls\n",
      "  10  3.0340711e+00 3.62e-11 8.14e-10  -8.6 6.34e-06    -  1.00e+00 1.00e+00h  1\n",
      "\n",
      "Number of Iterations....: 10\n",
      "\n",
      "                                   (scaled)                 (unscaled)\n",
      "Objective...............:   3.0340710513901978e+00    3.0340710513901978e+00\n",
      "Dual infeasibility......:   8.1351805999663580e-10    8.1351805999663580e-10\n",
      "Constraint violation....:   3.6224856447830689e-11    3.6224856447830689e-11\n",
      "Variable bound violation:   0.0000000000000000e+00    0.0000000000000000e+00\n",
      "Complementarity.........:   2.5551330184025193e-09    2.5551330184025193e-09\n",
      "Overall NLP error.......:   2.5551330184025193e-09    2.5551330184025193e-09\n",
      "\n",
      "\n",
      "Number of objective function evaluations             = 11\n",
      "Number of objective gradient evaluations             = 11\n",
      "Number of equality constraint evaluations            = 11\n",
      "Number of inequality constraint evaluations          = 11\n",
      "Number of equality constraint Jacobian evaluations   = 11\n",
      "Number of inequality constraint Jacobian evaluations = 11\n",
      "Number of Lagrangian Hessian evaluations             = 10\n",
      "Total seconds in IPOPT                               = 0.004\n",
      "\n",
      "EXIT: Optimal Solution Found.\n",
      "This is Ipopt version 3.14.4, running with linear solver MUMPS 5.4.1.\n",
      "\n",
      "Number of nonzeros in equality constraint Jacobian...:        2\n",
      "Number of nonzeros in inequality constraint Jacobian.:        3\n",
      "Number of nonzeros in Lagrangian Hessian.............:        9\n",
      "\n",
      "Total number of variables............................:        3\n",
      "                     variables with only lower bounds:        3\n",
      "                variables with lower and upper bounds:        0\n",
      "                     variables with only upper bounds:        0\n",
      "Total number of equality constraints.................:        1\n",
      "Total number of inequality constraints...............:        3\n",
      "        inequality constraints with only lower bounds:        0\n",
      "   inequality constraints with lower and upper bounds:        0\n",
      "        inequality constraints with only upper bounds:        3\n",
      "\n",
      "iter    objective    inf_pr   inf_du lg(mu)  ||d||  lg(rg) alpha_du alpha_pr  ls\n",
      "   0  3.1037359e+00 5.00e-01 7.57e-02  -1.0 0.00e+00    -  0.00e+00 0.00e+00   0\n",
      "   1  3.1023408e+00 4.94e-01 4.70e+01  -1.0 2.51e+01    -  3.96e-04 2.68e-03h  1\n",
      "   2  3.5455772e+00 4.75e-01 6.85e+03  -1.0 3.22e+00    -  9.90e-01 2.84e-01h  1\n",
      "   3  3.4133630e+00 5.78e-02 2.50e+03  -1.0 2.43e-01   4.0 4.17e-02 1.00e+00f  1\n",
      "   4  3.3899846e+00 5.55e-03 5.71e+02  -1.0 1.22e-01   3.5 8.28e-01 1.00e+00h  1\n",
      "   5  3.3391503e+00 1.31e-05 7.26e+00  -1.0 4.84e-03   3.0 9.92e-01 1.00e+00h  1\n",
      "   6  3.2262427e+00 1.27e-05 3.66e+00  -1.0 1.62e-02    -  1.00e+00 5.00e-01f  2\n",
      "   7  3.1947258e+00 3.50e-04 1.63e-01  -1.0 2.11e-02    -  1.00e+00 1.00e+00f  1\n",
      "   8  3.1132757e+00 5.28e-06 8.32e-03  -2.5 6.86e-03    -  1.00e+00 1.00e+00f  1\n",
      "   9  3.1025692e+00 2.42e-05 8.18e-04  -3.8 5.38e-03    -  1.00e+00 1.00e+00f  1\n",
      "iter    objective    inf_pr   inf_du lg(mu)  ||d||  lg(rg) alpha_du alpha_pr  ls\n",
      "  10  3.1022266e+00 8.27e-07 4.25e-06  -5.7 9.69e-04    -  1.00e+00 1.00e+00h  1\n",
      "  11  3.1022244e+00 9.12e-07 9.67e-06  -8.6 1.04e-03    -  9.99e-01 1.00e+00h  1\n",
      "  12  3.1022244e+00 1.14e-02 4.00e+00  -8.6 9.97e-01    -  7.31e-01 1.16e-01h  2\n",
      "  13  3.1022244e+00 5.39e-04 6.97e-09  -8.6 4.14e-02    -  1.00e+00 1.00e+00h  1\n",
      "  14  3.1022244e+00 1.11e-03 1.21e-08  -8.6 4.42e-02    -  1.00e+00 1.00e+00h  1\n",
      "  15  3.1022244e+00 6.67e-07 9.48e-12  -8.6 1.40e-03    -  1.00e+00 1.00e+00h  1\n",
      "  16  3.1022244e+00 4.17e-13 2.51e-14  -8.6 9.28e-07    -  1.00e+00 1.00e+00h  1\n",
      "\n",
      "Number of Iterations....: 16\n",
      "\n",
      "                                   (scaled)                 (unscaled)\n",
      "Objective...............:   3.1022244098445348e+00    3.1022244098445348e+00\n",
      "Dual infeasibility......:   2.5059072219300466e-14    2.5059072219300466e-14\n",
      "Constraint violation....:   4.1744385725905886e-13    4.1744385725905886e-13\n",
      "Variable bound violation:   9.7999983628930214e-09    9.7999983628930214e-09\n",
      "Complementarity.........:   2.5059035597105392e-09    2.5059035597105392e-09\n",
      "Overall NLP error.......:   2.5059035597105392e-09    2.5059035597105392e-09\n",
      "\n",
      "\n",
      "Number of objective function evaluations             = 25\n",
      "Number of objective gradient evaluations             = 17\n",
      "Number of equality constraint evaluations            = 25\n",
      "Number of inequality constraint evaluations          = 25\n",
      "Number of equality constraint Jacobian evaluations   = 17\n",
      "Number of inequality constraint Jacobian evaluations = 17\n",
      "Number of Lagrangian Hessian evaluations             = 16\n",
      "Total seconds in IPOPT                               = 0.005\n",
      "\n",
      "EXIT: Optimal Solution Found.\n",
      "This is Ipopt version 3.14.4, running with linear solver MUMPS 5.4.1.\n",
      "\n",
      "Number of nonzeros in equality constraint Jacobian...:        2\n",
      "Number of nonzeros in inequality constraint Jacobian.:        3\n",
      "Number of nonzeros in Lagrangian Hessian.............:        9\n",
      "\n",
      "Total number of variables............................:        3\n",
      "                     variables with only lower bounds:        3\n",
      "                variables with lower and upper bounds:        0\n",
      "                     variables with only upper bounds:        0\n",
      "Total number of equality constraints.................:        1\n",
      "Total number of inequality constraints...............:        3\n",
      "        inequality constraints with only lower bounds:        0\n",
      "   inequality constraints with lower and upper bounds:        0\n",
      "        inequality constraints with only upper bounds:        3\n",
      "\n",
      "iter    objective    inf_pr   inf_du lg(mu)  ||d||  lg(rg) alpha_du alpha_pr  ls\n",
      "   0  3.1015456e+00 5.00e-01 3.39e-02  -1.0 0.00e+00    -  0.00e+00 0.00e+00   0\n",
      "   1  3.6323209e+00 4.80e-01 1.01e+04  -1.0 2.50e+01    -  3.97e-04 3.92e-02h  1\n",
      "   2  3.1329783e+00 5.87e-02 1.86e+03  -1.0 2.42e-01    -  6.40e-02 1.00e+00f  1\n",
      "   3  3.0503794e+00 1.54e-03 9.20e+01  -1.0 3.93e-02    -  9.90e-01 1.00e+00h  1\n",
      "   4  3.0508990e+00 1.17e-06 1.57e-01  -1.0 1.21e-03    -  9.90e-01 1.00e+00h  1\n",
      "   5  3.0507685e+00 2.86e-05 1.23e-03  -1.0 5.35e-03    -  1.00e+00 1.00e+00h  1\n",
      "   6  3.0353923e+00 1.24e-05 1.48e-02  -2.5 1.02e-02    -  1.00e+00 1.00e+00f  1\n",
      "   7  3.0340974e+00 1.57e-04 3.53e-03  -3.8 1.27e-02    -  1.00e+00 1.00e+00h  1\n",
      "   8  3.0340712e+00 2.13e-05 4.78e-04  -3.8 4.87e-03    -  1.00e+00 1.00e+00h  1\n",
      "   9  3.0340711e+00 1.27e-07 2.31e-06  -5.7 3.85e-04    -  1.00e+00 1.00e+00h  1\n",
      "iter    objective    inf_pr   inf_du lg(mu)  ||d||  lg(rg) alpha_du alpha_pr  ls\n",
      "  10  3.0340711e+00 3.62e-11 8.14e-10  -8.6 6.34e-06    -  1.00e+00 1.00e+00h  1\n",
      "\n",
      "Number of Iterations....: 10\n",
      "\n",
      "                                   (scaled)                 (unscaled)\n",
      "Objective...............:   3.0340710513901983e+00    3.0340710513901983e+00\n",
      "Dual infeasibility......:   8.1351595050512637e-10    8.1351595050512637e-10\n",
      "Constraint violation....:   3.6224911958981920e-11    3.6224911958981920e-11\n",
      "Variable bound violation:   0.0000000000000000e+00    0.0000000000000000e+00\n",
      "Complementarity.........:   2.5551330184038672e-09    2.5551330184038672e-09\n",
      "Overall NLP error.......:   2.5551330184038672e-09    2.5551330184038672e-09\n",
      "\n",
      "\n",
      "Number of objective function evaluations             = 11\n",
      "Number of objective gradient evaluations             = 11\n",
      "Number of equality constraint evaluations            = 11\n",
      "Number of inequality constraint evaluations          = 11\n",
      "Number of equality constraint Jacobian evaluations   = 11\n",
      "Number of inequality constraint Jacobian evaluations = 11\n",
      "Number of Lagrangian Hessian evaluations             = 10\n",
      "Total seconds in IPOPT                               = 0.003\n",
      "\n",
      "EXIT: Optimal Solution Found.\n",
      "This is Ipopt version 3.14.4, running with linear solver MUMPS 5.4.1.\n",
      "\n",
      "Number of nonzeros in equality constraint Jacobian...:        1\n",
      "Number of nonzeros in inequality constraint Jacobian.:        3\n",
      "Number of nonzeros in Lagrangian Hessian.............:        6\n",
      "\n",
      "Total number of variables............................:        3\n",
      "                     variables with only lower bounds:        3\n",
      "                variables with lower and upper bounds:        0\n",
      "                     variables with only upper bounds:        0\n",
      "Total number of equality constraints.................:        1\n",
      "Total number of inequality constraints...............:        3\n",
      "        inequality constraints with only lower bounds:        0\n",
      "   inequality constraints with lower and upper bounds:        0\n",
      "        inequality constraints with only upper bounds:        3\n",
      "\n",
      "iter    objective    inf_pr   inf_du lg(mu)  ||d||  lg(rg) alpha_du alpha_pr  ls\n",
      "   0  3.2105415e+00 4.90e-01 6.94e+00  -1.0 0.00e+00    -  0.00e+00 0.00e+00   0\n",
      "   1  3.1089075e+00 1.99e-02 3.73e+01  -1.0 4.90e-01    -  2.47e-02 9.59e-01f  1\n",
      "   2  4.8330047e+00 0.00e+00 3.03e-01  -1.0 7.75e-02    -  9.90e-01 1.00e+00h  1\n",
      "   3  3.5937856e+00 0.00e+00 1.13e-01  -1.0 4.66e-02    -  9.90e-01 1.00e+00f  1\n",
      "   4  3.2488251e+00 0.00e+00 1.00e-06  -1.0 1.88e-02    -  1.00e+00 1.00e+00f  1\n",
      "   5  3.0847845e+00 0.00e+00 2.83e-08  -2.5 1.00e-02    -  1.00e+00 1.00e+00f  1\n",
      "   6  3.0563551e+00 0.00e+00 1.50e-09  -3.8 3.19e-03    -  1.00e+00 1.00e+00f  1\n",
      "   7  3.0552524e+00 0.00e+00 1.50e-09  -3.8 5.02e-04    -  1.00e+00 1.00e+00f  1\n",
      "   8  3.0551019e+00 0.00e+00 1.85e-11  -5.7 4.32e-05    -  1.00e+00 1.00e+00f  1\n",
      "   9  3.0551000e+00 0.00e+00 2.51e-14  -8.6 4.72e-07    -  1.00e+00 1.00e+00f  1\n",
      "\n",
      "Number of Iterations....: 9\n",
      "\n",
      "                                   (scaled)                 (unscaled)\n",
      "Objective...............:   3.0551000234527139e+00    3.0551000234527139e+00\n",
      "Dual infeasibility......:   2.5085218275565585e-14    2.5085218275565585e-14\n",
      "Constraint violation....:   0.0000000000000000e+00    0.0000000000000000e+00\n",
      "Variable bound violation:   9.8034686841604515e-09    9.8034686841604515e-09\n",
      "Complementarity.........:   2.5630112231095761e-09    2.5630112231095761e-09\n",
      "Overall NLP error.......:   2.5630112231095761e-09    2.5630112231095761e-09\n",
      "\n",
      "\n",
      "Number of objective function evaluations             = 10\n",
      "Number of objective gradient evaluations             = 10\n",
      "Number of equality constraint evaluations            = 10\n",
      "Number of inequality constraint evaluations          = 10\n",
      "Number of equality constraint Jacobian evaluations   = 10\n",
      "Number of inequality constraint Jacobian evaluations = 10\n",
      "Number of Lagrangian Hessian evaluations             = 9\n",
      "Total seconds in IPOPT                               = 0.002\n",
      "\n",
      "EXIT: Optimal Solution Found.\n",
      "This is Ipopt version 3.14.4, running with linear solver MUMPS 5.4.1.\n",
      "\n",
      "Number of nonzeros in equality constraint Jacobian...:        1\n",
      "Number of nonzeros in inequality constraint Jacobian.:        3\n",
      "Number of nonzeros in Lagrangian Hessian.............:        6\n",
      "\n",
      "Total number of variables............................:        3\n",
      "                     variables with only lower bounds:        3\n",
      "                variables with lower and upper bounds:        0\n",
      "                     variables with only upper bounds:        0\n",
      "Total number of equality constraints.................:        1\n",
      "Total number of inequality constraints...............:        3\n",
      "        inequality constraints with only lower bounds:        0\n",
      "   inequality constraints with lower and upper bounds:        0\n",
      "        inequality constraints with only upper bounds:        3\n",
      "\n",
      "iter    objective    inf_pr   inf_du lg(mu)  ||d||  lg(rg) alpha_du alpha_pr  ls\n",
      "   0  3.2029049e+00 4.90e-01 6.94e+00  -1.0 0.00e+00    -  0.00e+00 0.00e+00   0\n",
      "   1  3.0974002e+00 1.99e-02 3.73e+01  -1.0 4.90e-01    -  2.47e-02 9.59e-01f  1\n",
      "   2  4.8245309e+00 0.00e+00 3.03e-01  -1.0 7.75e-02    -  9.90e-01 1.00e+00h  1\n",
      "   3  3.5847718e+00 0.00e+00 1.13e-01  -1.0 4.66e-02    -  9.90e-01 1.00e+00f  1\n",
      "   4  3.2398443e+00 0.00e+00 1.00e-06  -1.0 1.88e-02    -  1.00e+00 1.00e+00f  1\n",
      "   5  3.0768333e+00 0.00e+00 2.83e-08  -2.5 1.00e-02    -  1.00e+00 1.00e+00f  1\n",
      "   6  3.0486523e+00 0.00e+00 1.50e-09  -3.8 3.00e-03    -  1.00e+00 1.00e+00f  1\n",
      "   7  3.0475615e+00 0.00e+00 1.50e-09  -3.8 4.17e-04    -  1.00e+00 1.00e+00f  1\n",
      "   8  3.0474110e+00 0.00e+00 1.85e-11  -5.7 3.63e-05    -  1.00e+00 1.00e+00f  1\n",
      "   9  3.0474091e+00 0.00e+00 2.51e-14  -8.6 4.11e-07    -  1.00e+00 1.00e+00f  1\n",
      "\n",
      "Number of Iterations....: 9\n",
      "\n",
      "                                   (scaled)                 (unscaled)\n",
      "Objective...............:   3.0474091069301719e+00    3.0474091069301719e+00\n",
      "Dual infeasibility......:   2.5059035640133008e-14    2.5059035640133008e-14\n",
      "Constraint violation....:   0.0000000000000000e+00    0.0000000000000000e+00\n",
      "Variable bound violation:   9.8034686841604250e-09    9.8034686841604250e-09\n",
      "Complementarity.........:   2.5492505558572016e-09    2.5492505558572016e-09\n",
      "Overall NLP error.......:   2.5492505558572016e-09    2.5492505558572016e-09\n",
      "\n",
      "\n",
      "Number of objective function evaluations             = 10\n",
      "Number of objective gradient evaluations             = 10\n",
      "Number of equality constraint evaluations            = 10\n",
      "Number of inequality constraint evaluations          = 10\n",
      "Number of equality constraint Jacobian evaluations   = 10\n",
      "Number of inequality constraint Jacobian evaluations = 10\n",
      "Number of Lagrangian Hessian evaluations             = 9\n",
      "Total seconds in IPOPT                               = 0.002\n",
      "\n",
      "EXIT: Optimal Solution Found.\n",
      "This is Ipopt version 3.14.4, running with linear solver MUMPS 5.4.1.\n",
      "\n",
      "Number of nonzeros in equality constraint Jacobian...:        1\n",
      "Number of nonzeros in inequality constraint Jacobian.:        2\n",
      "Number of nonzeros in Lagrangian Hessian.............:        3\n",
      "\n",
      "Total number of variables............................:        2\n",
      "                     variables with only lower bounds:        2\n",
      "                variables with lower and upper bounds:        0\n",
      "                     variables with only upper bounds:        0\n",
      "Total number of equality constraints.................:        1\n",
      "Total number of inequality constraints...............:        2\n",
      "        inequality constraints with only lower bounds:        0\n",
      "   inequality constraints with lower and upper bounds:        0\n",
      "        inequality constraints with only upper bounds:        2\n",
      "\n",
      "iter    objective    inf_pr   inf_du lg(mu)  ||d||  lg(rg) alpha_du alpha_pr  ls\n",
      "   0  3.2241981e+00 4.90e-01 6.94e+00  -1.0 0.00e+00    -  0.00e+00 0.00e+00   0\n",
      "   1  3.1034943e+00 1.99e-02 3.74e+01  -1.0 4.90e-01    -  2.47e-02 9.59e-01h  1\n",
      "   2  4.8644404e+00 0.00e+00 3.03e-01  -1.0 7.75e-02    -  9.90e-01 1.00e+00h  1\n",
      "   3  3.6211666e+00 0.00e+00 1.13e-01  -1.0 4.66e-02    -  9.90e-01 1.00e+00f  1\n",
      "   4  3.2763450e+00 0.00e+00 1.00e-06  -1.0 1.88e-02    -  1.00e+00 1.00e+00f  1\n",
      "   5  3.1301212e+00 0.00e+00 2.83e-08  -2.5 1.00e-02    -  1.00e+00 1.00e+00f  1\n",
      "   6  3.1034413e+00 0.00e+00 1.50e-09  -3.8 2.04e-03    -  1.00e+00 1.00e+00f  1\n",
      "   7  3.1022286e+00 0.00e+00 1.84e-11  -5.7 9.48e-05    -  1.00e+00 1.00e+00f  1\n",
      "   8  3.1022244e+00 0.00e+00 2.51e-14  -8.6 3.24e-07    -  1.00e+00 1.00e+00f  1\n",
      "\n",
      "Number of Iterations....: 8\n",
      "\n",
      "                                   (scaled)                 (unscaled)\n",
      "Objective...............:   3.1022244073777521e+00    3.1022244073777521e+00\n",
      "Dual infeasibility......:   2.5059035640133008e-14    2.5059035640133008e-14\n",
      "Constraint violation....:   0.0000000000000000e+00    0.0000000000000000e+00\n",
      "Variable bound violation:   9.8017948874310103e-09    9.8017948874310103e-09\n",
      "Complementarity.........:   2.5328205652305115e-09    2.5328205652305115e-09\n",
      "Overall NLP error.......:   2.5328205652305115e-09    2.5328205652305115e-09\n",
      "\n",
      "\n",
      "Number of objective function evaluations             = 9\n",
      "Number of objective gradient evaluations             = 9\n",
      "Number of equality constraint evaluations            = 9\n",
      "Number of inequality constraint evaluations          = 9\n",
      "Number of equality constraint Jacobian evaluations   = 9\n",
      "Number of inequality constraint Jacobian evaluations = 9\n",
      "Number of Lagrangian Hessian evaluations             = 8\n",
      "Total seconds in IPOPT                               = 0.003\n",
      "\n",
      "EXIT: Optimal Solution Found.\n",
      "This is Ipopt version 3.14.4, running with linear solver MUMPS 5.4.1.\n",
      "\n",
      "Number of nonzeros in equality constraint Jacobian...:        1\n",
      "Number of nonzeros in inequality constraint Jacobian.:        2\n",
      "Number of nonzeros in Lagrangian Hessian.............:        3\n",
      "\n",
      "Total number of variables............................:        2\n",
      "                     variables with only lower bounds:        2\n",
      "                variables with lower and upper bounds:        0\n",
      "                     variables with only upper bounds:        0\n",
      "Total number of equality constraints.................:        1\n",
      "Total number of inequality constraints...............:        2\n",
      "        inequality constraints with only lower bounds:        0\n",
      "   inequality constraints with lower and upper bounds:        0\n",
      "        inequality constraints with only upper bounds:        2\n",
      "\n",
      "iter    objective    inf_pr   inf_du lg(mu)  ||d||  lg(rg) alpha_du alpha_pr  ls\n",
      "   0  3.0885680e+00 4.90e-01 1.62e-01  -1.0 0.00e+00    -  0.00e+00 0.00e+00   0\n",
      "   1  3.1109458e+00 0.00e+00 3.89e+01  -1.0 4.90e-01    -  2.47e-02 1.00e+00f  1\n",
      "   2  3.0702207e+00 0.00e+00 1.63e-02  -1.0 1.00e-02    -  9.90e-01 1.00e+00f  1\n",
      "   3  3.0748890e+00 0.00e+00 4.04e-03  -1.0 1.57e-03    -  9.90e-01 1.00e+00f  1\n",
      "   4  3.0747051e+00 0.00e+00 1.00e-06  -1.0 5.79e-05    -  1.00e+00 1.00e+00f  1\n",
      "   5  3.0568879e+00 0.00e+00 2.83e-08  -2.5 8.64e-03    -  1.00e+00 1.00e+00f  1\n",
      "   6  3.0551383e+00 0.00e+00 1.50e-09  -3.8 3.19e-03    -  1.00e+00 1.00e+00f  1\n",
      "   7  3.0551004e+00 0.00e+00 1.50e-09  -3.8 5.02e-04    -  1.00e+00 1.00e+00f  1\n",
      "   8  3.0551001e+00 0.00e+00 1.84e-11  -5.7 4.32e-05    -  1.00e+00 1.00e+00f  1\n",
      "   9  3.0551001e+00 0.00e+00 2.83e-14  -8.6 4.72e-07    -  1.00e+00 1.00e+00f  1\n",
      "\n",
      "Number of Iterations....: 9\n",
      "\n",
      "                                   (scaled)                 (unscaled)\n",
      "Objective...............:   3.0551001487291467e+00    3.0551001487291467e+00\n",
      "Dual infeasibility......:   2.8323619838738407e-14    2.8323619838738407e-14\n",
      "Constraint violation....:   0.0000000000000000e+00    0.0000000000000000e+00\n",
      "Variable bound violation:   0.0000000000000000e+00    0.0000000000000000e+00\n",
      "Complementarity.........:   2.5630113503728920e-09    2.5630113503728920e-09\n",
      "Overall NLP error.......:   2.5630113503728920e-09    2.5630113503728920e-09\n",
      "\n",
      "\n",
      "Number of objective function evaluations             = 10\n",
      "Number of objective gradient evaluations             = 10\n",
      "Number of equality constraint evaluations            = 10\n",
      "Number of inequality constraint evaluations          = 10\n",
      "Number of equality constraint Jacobian evaluations   = 10\n",
      "Number of inequality constraint Jacobian evaluations = 10\n",
      "Number of Lagrangian Hessian evaluations             = 9\n",
      "Total seconds in IPOPT                               = 0.003\n",
      "\n",
      "EXIT: Optimal Solution Found.\n",
      "This is Ipopt version 3.14.4, running with linear solver MUMPS 5.4.1.\n",
      "\n",
      "Number of nonzeros in equality constraint Jacobian...:        1\n",
      "Number of nonzeros in inequality constraint Jacobian.:        2\n",
      "Number of nonzeros in Lagrangian Hessian.............:        3\n",
      "\n",
      "Total number of variables............................:        2\n",
      "                     variables with only lower bounds:        2\n",
      "                variables with lower and upper bounds:        0\n",
      "                     variables with only upper bounds:        0\n",
      "Total number of equality constraints.................:        1\n",
      "Total number of inequality constraints...............:        2\n",
      "        inequality constraints with only lower bounds:        0\n",
      "   inequality constraints with lower and upper bounds:        0\n",
      "        inequality constraints with only upper bounds:        2\n",
      "\n",
      "iter    objective    inf_pr   inf_du lg(mu)  ||d||  lg(rg) alpha_du alpha_pr  ls\n",
      "   0  3.2241981e+00 4.90e-01 6.94e+00  -1.0 0.00e+00    -  0.00e+00 0.00e+00   0\n",
      "   1  3.1034943e+00 1.99e-02 3.74e+01  -1.0 4.90e-01    -  2.47e-02 9.59e-01h  1\n",
      "   2  4.8644404e+00 0.00e+00 3.03e-01  -1.0 7.75e-02    -  9.90e-01 1.00e+00h  1\n",
      "   3  3.6211666e+00 0.00e+00 1.13e-01  -1.0 4.66e-02    -  9.90e-01 1.00e+00f  1\n",
      "   4  3.2763450e+00 0.00e+00 1.00e-06  -1.0 1.88e-02    -  1.00e+00 1.00e+00f  1\n",
      "   5  3.1301212e+00 0.00e+00 2.83e-08  -2.5 1.00e-02    -  1.00e+00 1.00e+00f  1\n",
      "   6  3.1034413e+00 0.00e+00 1.50e-09  -3.8 2.04e-03    -  1.00e+00 1.00e+00f  1\n",
      "   7  3.1022286e+00 0.00e+00 1.84e-11  -5.7 9.48e-05    -  1.00e+00 1.00e+00f  1\n",
      "   8  3.1022244e+00 0.00e+00 2.51e-14  -8.6 3.24e-07    -  1.00e+00 1.00e+00f  1\n",
      "\n",
      "Number of Iterations....: 8\n",
      "\n",
      "                                   (scaled)                 (unscaled)\n",
      "Objective...............:   3.1022244073777521e+00    3.1022244073777521e+00\n",
      "Dual infeasibility......:   2.5059035640133008e-14    2.5059035640133008e-14\n",
      "Constraint violation....:   0.0000000000000000e+00    0.0000000000000000e+00\n",
      "Variable bound violation:   9.8017948874310632e-09    9.8017948874310632e-09\n",
      "Complementarity.........:   2.5328205652298349e-09    2.5328205652298349e-09\n",
      "Overall NLP error.......:   2.5328205652298349e-09    2.5328205652298349e-09\n",
      "\n",
      "\n",
      "Number of objective function evaluations             = 9\n",
      "Number of objective gradient evaluations             = 9\n",
      "Number of equality constraint evaluations            = 9\n",
      "Number of inequality constraint evaluations          = 9\n",
      "Number of equality constraint Jacobian evaluations   = 9\n",
      "Number of inequality constraint Jacobian evaluations = 9\n",
      "Number of Lagrangian Hessian evaluations             = 8\n",
      "Total seconds in IPOPT                               = 0.002\n",
      "\n",
      "EXIT: Optimal Solution Found.\n",
      "This is Ipopt version 3.14.4, running with linear solver MUMPS 5.4.1.\n",
      "\n",
      "Number of nonzeros in equality constraint Jacobian...:        1\n",
      "Number of nonzeros in inequality constraint Jacobian.:        2\n",
      "Number of nonzeros in Lagrangian Hessian.............:        3\n",
      "\n",
      "Total number of variables............................:        2\n",
      "                     variables with only lower bounds:        2\n",
      "                variables with lower and upper bounds:        0\n",
      "                     variables with only upper bounds:        0\n",
      "Total number of equality constraints.................:        1\n",
      "Total number of inequality constraints...............:        2\n",
      "        inequality constraints with only lower bounds:        0\n",
      "   inequality constraints with lower and upper bounds:        0\n",
      "        inequality constraints with only upper bounds:        2\n",
      "\n",
      "iter    objective    inf_pr   inf_du lg(mu)  ||d||  lg(rg) alpha_du alpha_pr  ls\n",
      "   0  3.0809314e+00 4.90e-01 2.20e-01  -1.0 0.00e+00    -  0.00e+00 0.00e+00   0\n",
      "   1  3.0999580e+00 0.00e+00 3.89e+01  -1.0 4.90e-01    -  2.47e-02 1.00e+00f  1\n",
      "   2  3.0617763e+00 0.00e+00 1.57e-02  -1.0 9.67e-03    -  9.90e-01 1.00e+00f  1\n",
      "   3  3.0658675e+00 0.00e+00 3.65e-03  -1.0 1.41e-03    -  9.90e-01 1.00e+00f  1\n",
      "   4  3.0657243e+00 0.00e+00 1.00e-06  -1.0 4.67e-05    -  1.00e+00 1.00e+00f  1\n",
      "   5  3.0489368e+00 0.00e+00 2.83e-08  -2.5 8.51e-03    -  1.00e+00 1.00e+00f  1\n",
      "   6  3.0474356e+00 0.00e+00 1.50e-09  -3.8 3.00e-03    -  1.00e+00 1.00e+00f  1\n",
      "   7  3.0474094e+00 0.00e+00 1.50e-09  -3.8 4.17e-04    -  1.00e+00 1.00e+00f  1\n",
      "   8  3.0474092e+00 0.00e+00 1.84e-11  -5.7 3.63e-05    -  1.00e+00 1.00e+00f  1\n",
      "   9  3.0474092e+00 0.00e+00 2.61e-14  -8.6 4.11e-07    -  1.00e+00 1.00e+00f  1\n",
      "\n",
      "Number of Iterations....: 9\n",
      "\n",
      "                                   (scaled)                 (unscaled)\n",
      "Objective...............:   3.0474092322066051e+00    3.0474092322066051e+00\n",
      "Dual infeasibility......:   2.6139843036914815e-14    2.6139843036914815e-14\n",
      "Constraint violation....:   0.0000000000000000e+00    0.0000000000000000e+00\n",
      "Variable bound violation:   0.0000000000000000e+00    0.0000000000000000e+00\n",
      "Complementarity.........:   2.5492505944646416e-09    2.5492505944646416e-09\n",
      "Overall NLP error.......:   2.5492505944646416e-09    2.5492505944646416e-09\n",
      "\n",
      "\n",
      "Number of objective function evaluations             = 10\n",
      "Number of objective gradient evaluations             = 10\n",
      "Number of equality constraint evaluations            = 10\n",
      "Number of inequality constraint evaluations          = 10\n",
      "Number of equality constraint Jacobian evaluations   = 10\n",
      "Number of inequality constraint Jacobian evaluations = 10\n",
      "Number of Lagrangian Hessian evaluations             = 9\n",
      "Total seconds in IPOPT                               = 0.003\n",
      "\n",
      "EXIT: Optimal Solution Found.\n",
      "This is Ipopt version 3.14.4, running with linear solver MUMPS 5.4.1.\n",
      "\n",
      "Number of nonzeros in equality constraint Jacobian...:        1\n",
      "Number of nonzeros in inequality constraint Jacobian.:        2\n",
      "Number of nonzeros in Lagrangian Hessian.............:        3\n",
      "\n",
      "Total number of variables............................:        2\n",
      "                     variables with only lower bounds:        2\n",
      "                variables with lower and upper bounds:        0\n",
      "                     variables with only upper bounds:        0\n",
      "Total number of equality constraints.................:        1\n",
      "Total number of inequality constraints...............:        2\n",
      "        inequality constraints with only lower bounds:        0\n",
      "   inequality constraints with lower and upper bounds:        0\n",
      "        inequality constraints with only upper bounds:        2\n",
      "\n",
      "iter    objective    inf_pr   inf_du lg(mu)  ||d||  lg(rg) alpha_du alpha_pr  ls\n",
      "   0  3.0885680e+00 4.90e-01 1.62e-01  -1.0 0.00e+00    -  0.00e+00 0.00e+00   0\n",
      "   1  3.1109458e+00 0.00e+00 3.89e+01  -1.0 4.90e-01    -  2.47e-02 1.00e+00f  1\n",
      "   2  3.0702207e+00 0.00e+00 1.63e-02  -1.0 1.00e-02    -  9.90e-01 1.00e+00f  1\n",
      "   3  3.0748890e+00 0.00e+00 4.04e-03  -1.0 1.57e-03    -  9.90e-01 1.00e+00f  1\n",
      "   4  3.0747051e+00 0.00e+00 1.00e-06  -1.0 5.79e-05    -  1.00e+00 1.00e+00f  1\n",
      "   5  3.0568879e+00 0.00e+00 2.83e-08  -2.5 8.64e-03    -  1.00e+00 1.00e+00f  1\n",
      "   6  3.0551383e+00 0.00e+00 1.50e-09  -3.8 3.19e-03    -  1.00e+00 1.00e+00f  1\n",
      "   7  3.0551004e+00 0.00e+00 1.50e-09  -3.8 5.02e-04    -  1.00e+00 1.00e+00f  1\n",
      "   8  3.0551001e+00 0.00e+00 1.84e-11  -5.7 4.32e-05    -  1.00e+00 1.00e+00f  1\n",
      "   9  3.0551001e+00 0.00e+00 2.83e-14  -8.6 4.72e-07    -  1.00e+00 1.00e+00f  1\n",
      "\n",
      "Number of Iterations....: 9\n",
      "\n",
      "                                   (scaled)                 (unscaled)\n",
      "Objective...............:   3.0551001487291467e+00    3.0551001487291467e+00\n",
      "Dual infeasibility......:   2.8323619838738407e-14    2.8323619838738407e-14\n",
      "Constraint violation....:   0.0000000000000000e+00    0.0000000000000000e+00\n",
      "Variable bound violation:   0.0000000000000000e+00    0.0000000000000000e+00\n",
      "Complementarity.........:   2.5630113503728920e-09    2.5630113503728920e-09\n",
      "Overall NLP error.......:   2.5630113503728920e-09    2.5630113503728920e-09\n",
      "\n",
      "\n",
      "Number of objective function evaluations             = 10\n",
      "Number of objective gradient evaluations             = 10\n",
      "Number of equality constraint evaluations            = 10\n",
      "Number of inequality constraint evaluations          = 10\n",
      "Number of equality constraint Jacobian evaluations   = 10\n",
      "Number of inequality constraint Jacobian evaluations = 10\n",
      "Number of Lagrangian Hessian evaluations             = 9\n",
      "Total seconds in IPOPT                               = 0.003\n",
      "\n",
      "EXIT: Optimal Solution Found.\n",
      "This is Ipopt version 3.14.4, running with linear solver MUMPS 5.4.1.\n",
      "\n",
      "Number of nonzeros in equality constraint Jacobian...:        1\n",
      "Number of nonzeros in inequality constraint Jacobian.:        2\n",
      "Number of nonzeros in Lagrangian Hessian.............:        3\n",
      "\n",
      "Total number of variables............................:        2\n",
      "                     variables with only lower bounds:        2\n",
      "                variables with lower and upper bounds:        0\n",
      "                     variables with only upper bounds:        0\n",
      "Total number of equality constraints.................:        1\n",
      "Total number of inequality constraints...............:        2\n",
      "        inequality constraints with only lower bounds:        0\n",
      "   inequality constraints with lower and upper bounds:        0\n",
      "        inequality constraints with only upper bounds:        2\n",
      "\n",
      "iter    objective    inf_pr   inf_du lg(mu)  ||d||  lg(rg) alpha_du alpha_pr  ls\n",
      "   0  3.1665191e+00 4.90e-01 4.06e+00  -1.0 0.00e+00    -  0.00e+00 0.00e+00   0\n",
      "   1  3.1698326e+00 0.00e+00 3.90e+01  -1.0 4.90e-01    -  2.47e-02 1.00e+00f  1\n",
      "   2  3.1980009e+00 0.00e+00 2.94e+01  -1.0 9.55e-03    -  9.90e-01 2.50e-01f  3\n",
      "   3  3.1938581e+00 0.00e+00 1.74e-02  -1.0 3.44e-04    -  9.90e-01 1.00e+00f  1\n",
      "   4  3.1933354e+00 0.00e+00 1.00e-06  -1.0 4.35e-05    -  1.00e+00 1.00e+00f  1\n",
      "   5  3.1168833e+00 0.00e+00 2.83e-08  -2.5 6.88e-03    -  1.00e+00 1.00e+00f  1\n",
      "   6  3.1028709e+00 0.00e+00 1.50e-09  -3.8 1.39e-03    -  1.00e+00 1.00e+00f  1\n",
      "   7  3.1022274e+00 0.00e+00 1.84e-11  -5.7 6.52e-05    -  1.00e+00 1.00e+00f  1\n",
      "   8  3.1022244e+00 0.00e+00 2.51e-14  -8.6 2.97e-07    -  1.00e+00 1.00e+00f  1\n",
      "\n",
      "Number of Iterations....: 8\n",
      "\n",
      "                                   (scaled)                 (unscaled)\n",
      "Objective...............:   3.1022244365042004e+00    3.1022244365042004e+00\n",
      "Dual infeasibility......:   2.5059035640133008e-14    2.5059035640133008e-14\n",
      "Constraint violation....:   0.0000000000000000e+00    0.0000000000000000e+00\n",
      "Variable bound violation:   9.7437102039883420e-09    9.7437102039883420e-09\n",
      "Complementarity.........:   2.5284798279204855e-09    2.5284798279204855e-09\n",
      "Overall NLP error.......:   2.5284798279204855e-09    2.5284798279204855e-09\n",
      "\n",
      "\n",
      "Number of objective function evaluations             = 12\n",
      "Number of objective gradient evaluations             = 9\n",
      "Number of equality constraint evaluations            = 12\n",
      "Number of inequality constraint evaluations          = 12\n",
      "Number of equality constraint Jacobian evaluations   = 9\n",
      "Number of inequality constraint Jacobian evaluations = 9\n",
      "Number of Lagrangian Hessian evaluations             = 8\n",
      "Total seconds in IPOPT                               = 0.002\n",
      "\n",
      "EXIT: Optimal Solution Found.\n",
      "This is Ipopt version 3.14.4, running with linear solver MUMPS 5.4.1.\n",
      "\n",
      "Number of nonzeros in equality constraint Jacobian...:        2\n",
      "Number of nonzeros in inequality constraint Jacobian.:        5\n",
      "Number of nonzeros in Lagrangian Hessian.............:       18\n",
      "\n",
      "Total number of variables............................:        5\n",
      "                     variables with only lower bounds:        5\n",
      "                variables with lower and upper bounds:        0\n",
      "                     variables with only upper bounds:        0\n",
      "Total number of equality constraints.................:        1\n",
      "Total number of inequality constraints...............:        5\n",
      "        inequality constraints with only lower bounds:        0\n",
      "   inequality constraints with lower and upper bounds:        0\n",
      "        inequality constraints with only upper bounds:        5\n",
      "\n",
      "iter    objective    inf_pr   inf_du lg(mu)  ||d||  lg(rg) alpha_du alpha_pr  ls\n",
      "   0  3.1022328e+00 5.00e-01 7.55e-04  -1.0 0.00e+00    -  0.00e+00 0.00e+00   0\n",
      "   1  3.1033765e+00 4.80e-01 9.76e+03  -1.0 2.50e+01    -  3.98e-04 3.92e-02f  1\n",
      "   2  3.1703954e+00 5.88e-02 1.81e+03  -1.0 2.43e-01    -  6.39e-02 1.00e+00f  1\n",
      "   3  3.0440189e+00 1.40e-02 4.57e+02  -1.0 1.19e-01   0.0 9.44e-01 7.77e-01h  1\n",
      "   4  3.0905178e+00 9.59e-05 6.13e+00  -1.0 7.07e-02   0.4 9.90e-01 1.00e+00f  1\n",
      "   5  3.0835873e+00 4.78e-05 3.10e+00  -1.0 2.44e-01    -  9.18e-01 5.00e-01f  2\n",
      "   6  3.1223863e+00 1.75e-05 1.58e+00  -1.0 2.67e-01  -0.1 1.00e+00 5.00e-01f  2\n",
      "   7  3.1382576e+00 1.95e-06 1.77e+00  -1.0 3.80e-01    -  1.00e+00 1.00e+00f  1\n",
      "   8  3.0919143e+00 1.22e-06 2.87e+00  -1.0 3.18e-01  -0.5 1.00e+00 1.00e+00f  1\n",
      "   9  3.1685998e+00 3.33e-06 6.89e+00  -1.0 8.88e-01    -  9.85e-01 1.00e+00f  1\n",
      "iter    objective    inf_pr   inf_du lg(mu)  ||d||  lg(rg) alpha_du alpha_pr  ls\n",
      "  10  3.1148399e+00 2.49e-06 1.85e-01  -1.0 6.33e-01  -1.0 1.00e+00 5.00e-01f  2\n",
      "  11  3.0355454e+00 2.95e-05 9.15e-01  -2.5 6.61e+00    -  2.08e-01 1.31e-01f  1\n",
      "  12  3.0366019e+00 2.75e-05 1.68e-01  -2.5 1.08e-01    -  9.56e-01 1.00e+00f  1\n",
      "  13  3.0389405e+00 3.48e-07 2.33e+00  -2.5 7.86e-01    -  1.00e+00 1.00e+00H  1\n",
      "  14  3.0371540e+00 3.92e-06 7.78e-01  -2.5 4.76e-01    -  1.00e+00 1.00e+00f  1\n",
      "  15  3.0368920e+00 8.28e-07 9.79e-03  -2.5 1.77e-02  -1.5 1.00e+00 1.00e+00h  1\n",
      "\n",
      "Number of Iterations....: 30\n",
      "\n",
      "                             "
     ]
    }
   ],
   "source": [
    "for i in 1:10\n",
    "    setcount(0.5)\n",
    "end"
   ]
  },
  {
   "cell_type": "code",
   "execution_count": 361,
   "id": "244c50d4",
   "metadata": {},
   "outputs": [
    {
     "data": {
      "text/plain": [
       "4×25 Matrix{Float64}:\n",
       " 30.0   2.0   9.0  0.0  0.0  1.0  0.0  …  0.0  0.0  0.0  0.0  0.0  0.0  0.0\n",
       " 10.0   7.0  70.0  0.0  0.0  0.0  0.0     0.0  0.0  0.0  0.0  0.0  0.0  0.0\n",
       " 81.0  49.0  30.0  0.0  0.0  0.0  0.0     0.0  0.0  0.0  0.0  0.0  0.0  0.0\n",
       " 29.0   4.0  10.0  0.0  0.0  0.0  2.0     0.0  0.0  0.0  0.0  0.0  0.0  0.0"
      ]
     },
     "execution_count": 361,
     "metadata": {},
     "output_type": "execute_result"
    }
   ],
   "source": [
    "count"
   ]
  },
  {
   "cell_type": "code",
   "execution_count": null,
   "id": "a259ee0b",
   "metadata": {},
   "outputs": [],
   "source": []
  }
 ],
 "metadata": {
  "kernelspec": {
   "display_name": "Julia 1.6.7",
   "language": "julia",
   "name": "julia-1.6"
  },
  "language_info": {
   "file_extension": ".jl",
   "mimetype": "application/julia",
   "name": "julia",
   "version": "1.6.7"
  }
 },
 "nbformat": 4,
 "nbformat_minor": 5
}
