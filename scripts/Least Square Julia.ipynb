{
 "cells": [
  {
   "cell_type": "code",
   "execution_count": 37,
   "id": "963f424a",
   "metadata": {},
   "outputs": [
    {
     "data": {
      "text/plain": [
       "4×16 Matrix{Int64}:\n",
       " -1  -1  -1  -1  -1  -1  -1  -1   1   1   1   1   1   1   1  1\n",
       " -1  -1  -1  -1   1   1   1   1  -1  -1  -1  -1   1   1   1  1\n",
       " -1  -1   1   1  -1  -1   1   1  -1  -1   1   1  -1  -1   1  1\n",
       " -1   1  -1   1  -1   1  -1   1  -1   1  -1   1  -1   1  -1  1"
      ]
     },
     "execution_count": 37,
     "metadata": {},
     "output_type": "execute_result"
    }
   ],
   "source": [
    "obs1 = [-1 -1 -1 -1 -1 -1 -1 -1 +1 +1 +1 +1 +1 +1 +1 +1; \n",
    "                -1 -1 -1 -1 +1 +1 +1 +1 -1 -1 -1 -1 +1 +1 +1 +1;\n",
    "        -1 -1 +1 +1 -1 -1 +1 +1 -1 -1 +1 +1 -1 -1 +1 +1;\n",
    "    -1 +1 -1 +1 -1 +1 -1 +1 -1 +1 -1 +1 -1 +1 -1 +1]\n"
   ]
  },
  {
   "cell_type": "code",
   "execution_count": 38,
   "id": "e3203ccc",
   "metadata": {},
   "outputs": [
    {
     "data": {
      "text/plain": [
       "0.5"
      ]
     },
     "execution_count": 38,
     "metadata": {},
     "output_type": "execute_result"
    }
   ],
   "source": [
    "tau = 0.5"
   ]
  },
  {
   "cell_type": "code",
   "execution_count": 39,
   "id": "f0dc38ff",
   "metadata": {},
   "outputs": [
    {
     "data": {
      "text/plain": [
       "300"
      ]
     },
     "execution_count": 39,
     "metadata": {},
     "output_type": "execute_result"
    }
   ],
   "source": [
    "k = 300"
   ]
  },
  {
   "cell_type": "code",
   "execution_count": 40,
   "id": "45727086",
   "metadata": {},
   "outputs": [],
   "source": [
    "q = zeros(16)\n",
    "for j = 1:16\n",
    "   q[j] = (1 / 16) * (1 + obs1[1, j] * obs1[2, j] * tau)\n",
    "end"
   ]
  },
  {
   "cell_type": "code",
   "execution_count": 41,
   "id": "1ef48442",
   "metadata": {},
   "outputs": [
    {
     "data": {
      "text/plain": [
       "16-element Vector{Float64}:\n",
       " 0.09375\n",
       " 0.09375\n",
       " 0.09375\n",
       " 0.09375\n",
       " 0.03125\n",
       " 0.03125\n",
       " 0.03125\n",
       " 0.03125\n",
       " 0.03125\n",
       " 0.03125\n",
       " 0.03125\n",
       " 0.03125\n",
       " 0.09375\n",
       " 0.09375\n",
       " 0.09375\n",
       " 0.09375"
      ]
     },
     "execution_count": 41,
     "metadata": {},
     "output_type": "execute_result"
    }
   ],
   "source": [
    "q"
   ]
  },
  {
   "cell_type": "code",
   "execution_count": 42,
   "id": "033b57c3",
   "metadata": {},
   "outputs": [
    {
     "data": {
      "text/plain": [
       "16-element Vector{Float64}:\n",
       " 28.125\n",
       " 28.125\n",
       " 28.125\n",
       " 28.125\n",
       "  9.375\n",
       "  9.375\n",
       "  9.375\n",
       "  9.375\n",
       "  9.375\n",
       "  9.375\n",
       "  9.375\n",
       "  9.375\n",
       " 28.125\n",
       " 28.125\n",
       " 28.125\n",
       " 28.125"
      ]
     },
     "execution_count": 42,
     "metadata": {},
     "output_type": "execute_result"
    }
   ],
   "source": [
    "mean = k *q"
   ]
  },
  {
   "cell_type": "code",
   "execution_count": 43,
   "id": "d4b10649",
   "metadata": {},
   "outputs": [],
   "source": [
    "using LinearAlgebra # this package comes with Julia, no need to install it"
   ]
  },
  {
   "cell_type": "code",
   "execution_count": 44,
   "id": "46a88bef",
   "metadata": {},
   "outputs": [
    {
     "data": {
      "text/plain": [
       "16×16 Matrix{Float64}:\n",
       " 0.09375  0.0      0.0      0.0      …  0.0      0.0      0.0      0.0\n",
       " 0.0      0.09375  0.0      0.0         0.0      0.0      0.0      0.0\n",
       " 0.0      0.0      0.09375  0.0         0.0      0.0      0.0      0.0\n",
       " 0.0      0.0      0.0      0.09375     0.0      0.0      0.0      0.0\n",
       " 0.0      0.0      0.0      0.0         0.0      0.0      0.0      0.0\n",
       " 0.0      0.0      0.0      0.0      …  0.0      0.0      0.0      0.0\n",
       " 0.0      0.0      0.0      0.0         0.0      0.0      0.0      0.0\n",
       " 0.0      0.0      0.0      0.0         0.0      0.0      0.0      0.0\n",
       " 0.0      0.0      0.0      0.0         0.0      0.0      0.0      0.0\n",
       " 0.0      0.0      0.0      0.0         0.0      0.0      0.0      0.0\n",
       " 0.0      0.0      0.0      0.0      …  0.0      0.0      0.0      0.0\n",
       " 0.0      0.0      0.0      0.0         0.0      0.0      0.0      0.0\n",
       " 0.0      0.0      0.0      0.0         0.09375  0.0      0.0      0.0\n",
       " 0.0      0.0      0.0      0.0         0.0      0.09375  0.0      0.0\n",
       " 0.0      0.0      0.0      0.0         0.0      0.0      0.09375  0.0\n",
       " 0.0      0.0      0.0      0.0      …  0.0      0.0      0.0      0.09375"
      ]
     },
     "execution_count": 44,
     "metadata": {},
     "output_type": "execute_result"
    }
   ],
   "source": [
    "meandia = diagm(q)"
   ]
  },
  {
   "cell_type": "code",
   "execution_count": 45,
   "id": "154fd474",
   "metadata": {},
   "outputs": [
    {
     "data": {
      "text/plain": [
       "1×16 transpose(::Vector{Float64}) with eltype Float64:\n",
       " 0.09375  0.09375  0.09375  0.09375  …  0.09375  0.09375  0.09375  0.09375"
      ]
     },
     "execution_count": 45,
     "metadata": {},
     "output_type": "execute_result"
    }
   ],
   "source": [
    "b = transpose(q)"
   ]
  },
  {
   "cell_type": "code",
   "execution_count": 46,
   "id": "5c131045",
   "metadata": {},
   "outputs": [
    {
     "data": {
      "text/plain": [
       "16×16 Matrix{Float64}:\n",
       " 0.00878906  0.00878906  0.00878906  …  0.00878906  0.00878906  0.00878906\n",
       " 0.00878906  0.00878906  0.00878906     0.00878906  0.00878906  0.00878906\n",
       " 0.00878906  0.00878906  0.00878906     0.00878906  0.00878906  0.00878906\n",
       " 0.00878906  0.00878906  0.00878906     0.00878906  0.00878906  0.00878906\n",
       " 0.00292969  0.00292969  0.00292969     0.00292969  0.00292969  0.00292969\n",
       " 0.00292969  0.00292969  0.00292969  …  0.00292969  0.00292969  0.00292969\n",
       " 0.00292969  0.00292969  0.00292969     0.00292969  0.00292969  0.00292969\n",
       " 0.00292969  0.00292969  0.00292969     0.00292969  0.00292969  0.00292969\n",
       " 0.00292969  0.00292969  0.00292969     0.00292969  0.00292969  0.00292969\n",
       " 0.00292969  0.00292969  0.00292969     0.00292969  0.00292969  0.00292969\n",
       " 0.00292969  0.00292969  0.00292969  …  0.00292969  0.00292969  0.00292969\n",
       " 0.00292969  0.00292969  0.00292969     0.00292969  0.00292969  0.00292969\n",
       " 0.00878906  0.00878906  0.00878906     0.00878906  0.00878906  0.00878906\n",
       " 0.00878906  0.00878906  0.00878906     0.00878906  0.00878906  0.00878906\n",
       " 0.00878906  0.00878906  0.00878906     0.00878906  0.00878906  0.00878906\n",
       " 0.00878906  0.00878906  0.00878906  …  0.00878906  0.00878906  0.00878906"
      ]
     },
     "execution_count": 46,
     "metadata": {},
     "output_type": "execute_result"
    }
   ],
   "source": [
    "c = q * b"
   ]
  },
  {
   "cell_type": "code",
   "execution_count": 47,
   "id": "d3de8001",
   "metadata": {},
   "outputs": [
    {
     "data": {
      "text/plain": [
       "16×16 Matrix{Float64}:\n",
       "  0.0849609   -0.00878906  -0.00878906  …  -0.00878906  -0.00878906\n",
       " -0.00878906   0.0849609   -0.00878906     -0.00878906  -0.00878906\n",
       " -0.00878906  -0.00878906   0.0849609      -0.00878906  -0.00878906\n",
       " -0.00878906  -0.00878906  -0.00878906     -0.00878906  -0.00878906\n",
       " -0.00292969  -0.00292969  -0.00292969     -0.00292969  -0.00292969\n",
       " -0.00292969  -0.00292969  -0.00292969  …  -0.00292969  -0.00292969\n",
       " -0.00292969  -0.00292969  -0.00292969     -0.00292969  -0.00292969\n",
       " -0.00292969  -0.00292969  -0.00292969     -0.00292969  -0.00292969\n",
       " -0.00292969  -0.00292969  -0.00292969     -0.00292969  -0.00292969\n",
       " -0.00292969  -0.00292969  -0.00292969     -0.00292969  -0.00292969\n",
       " -0.00292969  -0.00292969  -0.00292969  …  -0.00292969  -0.00292969\n",
       " -0.00292969  -0.00292969  -0.00292969     -0.00292969  -0.00292969\n",
       " -0.00878906  -0.00878906  -0.00878906     -0.00878906  -0.00878906\n",
       " -0.00878906  -0.00878906  -0.00878906     -0.00878906  -0.00878906\n",
       " -0.00878906  -0.00878906  -0.00878906      0.0849609   -0.00878906\n",
       " -0.00878906  -0.00878906  -0.00878906  …  -0.00878906   0.0849609"
      ]
     },
     "execution_count": 47,
     "metadata": {},
     "output_type": "execute_result"
    }
   ],
   "source": [
    "d = meandia -c "
   ]
  },
  {
   "cell_type": "code",
   "execution_count": 48,
   "id": "a681d38a",
   "metadata": {},
   "outputs": [
    {
     "data": {
      "text/plain": [
       "16×16 Matrix{Float64}:\n",
       " 25.4883    -2.63672   -2.63672   …  -2.63672   -2.63672   -2.63672\n",
       " -2.63672   25.4883    -2.63672      -2.63672   -2.63672   -2.63672\n",
       " -2.63672   -2.63672   25.4883       -2.63672   -2.63672   -2.63672\n",
       " -2.63672   -2.63672   -2.63672      -2.63672   -2.63672   -2.63672\n",
       " -0.878906  -0.878906  -0.878906     -0.878906  -0.878906  -0.878906\n",
       " -0.878906  -0.878906  -0.878906  …  -0.878906  -0.878906  -0.878906\n",
       " -0.878906  -0.878906  -0.878906     -0.878906  -0.878906  -0.878906\n",
       " -0.878906  -0.878906  -0.878906     -0.878906  -0.878906  -0.878906\n",
       " -0.878906  -0.878906  -0.878906     -0.878906  -0.878906  -0.878906\n",
       " -0.878906  -0.878906  -0.878906     -0.878906  -0.878906  -0.878906\n",
       " -0.878906  -0.878906  -0.878906  …  -0.878906  -0.878906  -0.878906\n",
       " -0.878906  -0.878906  -0.878906     -0.878906  -0.878906  -0.878906\n",
       " -2.63672   -2.63672   -2.63672      -2.63672   -2.63672   -2.63672\n",
       " -2.63672   -2.63672   -2.63672      25.4883    -2.63672   -2.63672\n",
       " -2.63672   -2.63672   -2.63672      -2.63672   25.4883    -2.63672\n",
       " -2.63672   -2.63672   -2.63672   …  -2.63672   -2.63672   25.4883"
      ]
     },
     "execution_count": 48,
     "metadata": {},
     "output_type": "execute_result"
    }
   ],
   "source": [
    "cov = k * d"
   ]
  },
  {
   "cell_type": "code",
   "execution_count": 49,
   "id": "4a12dbd5",
   "metadata": {},
   "outputs": [
    {
     "data": {
      "text/plain": [
       "1×16 Matrix{Float64}:\n",
       " 26.186  19.8818  32.362  25.185  …  29.2824  27.0167  30.9481  32.7879"
      ]
     },
     "execution_count": 49,
     "metadata": {},
     "output_type": "execute_result"
    }
   ],
   "source": [
    "freq1 =[26.18595552 19.88178106 32.3619518  25.1850168  11.72939597  4.96815609 8.61220286  7.62459227 11.13078244 16.30505883  8.51878733  7.4611995 29.28236207 27.01672445 30.94814749 32.78788534] "
   ]
  },
  {
   "cell_type": "code",
   "execution_count": 50,
   "id": "4f848412",
   "metadata": {},
   "outputs": [],
   "source": [
    "using Pkg"
   ]
  },
  {
   "cell_type": "code",
   "execution_count": 51,
   "id": "badc6c2d",
   "metadata": {},
   "outputs": [
    {
     "name": "stderr",
     "output_type": "stream",
     "text": [
      "\u001b[32m\u001b[1m   Resolving\u001b[22m\u001b[39m package versions...\n",
      "\u001b[32m\u001b[1m  No Changes\u001b[22m\u001b[39m to `C:\\Users\\21068\\.julia\\environments\\v1.6\\Project.toml`\n",
      "\u001b[32m\u001b[1m  No Changes\u001b[22m\u001b[39m to `C:\\Users\\21068\\.julia\\environments\\v1.6\\Manifest.toml`\n"
     ]
    }
   ],
   "source": [
    "Pkg.add(\"JuMP\")"
   ]
  },
  {
   "cell_type": "code",
   "execution_count": 66,
   "id": "7880343e",
   "metadata": {},
   "outputs": [
    {
     "name": "stdout",
     "output_type": "stream",
     "text": [
      "This is Ipopt version 3.14.4, running with linear solver MUMPS 5.4.1.\n",
      "\n",
      "Number of nonzeros in equality constraint Jacobian...:       48\n",
      "Number of nonzeros in inequality constraint Jacobian.:       80\n",
      "Number of nonzeros in Lagrangian Hessian.............:      336\n",
      "\n",
      "Total number of variables............................:       80\n",
      "                     variables with only lower bounds:       80\n",
      "                variables with lower and upper bounds:        0\n",
      "                     variables with only upper bounds:        0\n",
      "Total number of equality constraints.................:       16\n",
      "Total number of inequality constraints...............:       80\n",
      "        inequality constraints with only lower bounds:       32\n",
      "   inequality constraints with lower and upper bounds:        0\n",
      "        inequality constraints with only upper bounds:       48\n",
      "\n",
      "iter    objective    inf_pr   inf_du lg(mu)  ||d||  lg(rg) alpha_du alpha_pr  ls\n",
      "   0  2.5000002e-01 9.90e-01 1.00e+00  -1.0 0.00e+00    -  0.00e+00 0.00e+00   0\n",
      "   1  2.4943186e-01 9.90e-01 9.72e+05  -1.0 1.67e+03    -  5.94e-06 5.88e-04h  1\n",
      "   2  2.5325668e-01 9.76e-01 9.49e+05  -1.0 6.16e-01    -  1.86e-02 2.35e-02h  1\n",
      "   3  5.1201037e+00 6.95e-02 2.14e+05  -1.0 1.03e+00    -  1.98e-01 1.00e+00f  1\n",
      "   4  4.8315128e+00 2.79e-03 1.60e+04  -1.0 1.37e-01    -  7.82e-01 1.00e+00f  1\n",
      "   5  4.5539540e+00 5.14e-06 5.93e+01  -1.0 3.82e+00    -  2.94e-01 1.00e+00f  1\n",
      "   6  4.6968739e+00 5.38e-05 6.69e-01  -1.0 1.20e+00    -  7.46e-01 1.00e+00f  1\n",
      "   7  3.2454281e+00 1.47e-02 2.37e-01  -1.7 1.66e+00    -  6.60e-01 1.00e+00f  1\n",
      "   8  3.5509570e+00 1.37e-03 3.12e+00  -1.7 6.90e+00    -  6.82e-01 8.53e-01H  1\n",
      "   9  2.9291491e+00 5.30e-03 1.60e+00  -1.7 2.51e+00  -2.0 1.15e-01 1.00e+00f  1\n",
      "iter    objective    inf_pr   inf_du lg(mu)  ||d||  lg(rg) alpha_du alpha_pr  ls\n",
      "  10  2.9226682e+00 1.30e-05 1.89e-02  -1.7 1.11e-02   0.2 1.00e+00 1.00e+00h  1\n",
      "  11  2.5688498e+00 2.49e-03 2.85e-02  -3.8 4.43e-01    -  9.11e-01 1.00e+00f  1\n",
      "  12  2.5040339e+00 5.61e-03 2.05e-02  -3.8 7.84e-01    -  9.74e-01 1.00e+00h  1\n",
      "  13  2.5064146e+00 8.09e-06 5.54e-03  -3.8 9.74e-03  -0.2 1.00e+00 1.00e+00h  1\n",
      "  14  2.5047102e+00 6.66e-05 2.20e-03  -3.8 1.16e-02  -0.7 1.00e+00 1.00e+00h  1\n",
      "  15  2.5043859e+00 6.52e-05 1.30e-01  -3.8 1.22e+01    -  8.06e-01 4.05e-01h  2\n",
      "  16  2.5039559e+00 8.88e-05 1.09e-03  -3.8 1.24e-02  -1.2 1.00e+00 1.00e+00h  1\n",
      "  17  2.5001184e+00 8.53e-04 3.95e-03  -5.7 2.00e-01    -  9.65e-01 1.00e+00h  1\n",
      "  18  2.5000852e+00 3.96e-05 3.19e-04  -5.7 9.12e-03  -1.7 1.00e+00 1.00e+00h  1\n",
      "  19  2.5000528e+00 6.85e-05 3.48e-04  -5.7 1.14e-02  -2.2 1.00e+00 1.00e+00h  1\n",
      "iter    objective    inf_pr   inf_du lg(mu)  ||d||  lg(rg) alpha_du alpha_pr  ls\n",
      "  20  2.5070766e+00 1.32e-05 1.04e+00  -5.7 1.74e+01    -  7.00e-01 8.71e-01H  1\n",
      "  21  2.5000462e+00 9.08e-06 3.05e-03  -5.7 4.46e-03  -0.8 1.00e+00 1.00e+00f  1\n",
      "  22  2.5000463e+00 6.49e-09 1.44e-05  -5.7 2.89e-04  -1.3 1.00e+00 1.00e+00h  1\n",
      "  23  2.5000014e+00 5.04e-06 1.21e-04  -8.6 4.56e-02    -  9.96e-01 9.97e-01h  1\n",
      "  24  2.5000004e+00 4.96e-07 2.18e-05  -8.6 1.07e-03  -1.8 1.00e+00 1.00e+00h  1\n",
      "  25  2.5000001e+00 6.79e-07 1.40e-05  -8.6 1.16e-03  -2.3 1.00e+00 1.00e+00h  1\n",
      "  26  2.5000000e+00 1.81e-07 3.65e-06  -8.6 5.99e-04  -2.7 1.00e+00 1.00e+00h  1\n",
      "  27  2.5000000e+00 1.39e-08 2.66e-07  -8.6 1.65e-04  -3.2 1.00e+00 1.00e+00h  1\n",
      "  28  2.5000000e+00 1.36e-08 7.74e-01  -8.6 3.25e+01    -  2.40e-01 1.78e-02h  5\n",
      "  29  2.5000000e+00 5.44e-10 1.30e-08  -8.6 4.05e-05  -3.7 1.00e+00 1.00e+00h  1\n",
      "iter    objective    inf_pr   inf_du lg(mu)  ||d||  lg(rg) alpha_du alpha_pr  ls\n",
      "  30  2.5000000e+00 4.83e-09 5.49e-01  -9.0 2.72e+01    -  2.26e-01 6.48e-02h  3\n",
      "  31  2.4999999e+00 2.70e-09 6.50e-08  -9.0 7.34e-05  -4.2 1.00e+00 1.00e+00h  1\n",
      "  32  2.4999999e+00 7.49e-09 8.06e-01  -9.0 1.72e+02    -  5.20e-02 1.45e-02h  3\n",
      "  33  2.4999999e+00 9.33e-11 3.63e-09  -9.0 1.36e-05  -3.7 1.00e+00 1.00e+00h  1\n",
      "\n",
      "Number of Iterations....: 33\n",
      "\n",
      "                                   (scaled)                 (unscaled)\n",
      "Objective...............:   2.4999999243538875e+00    2.4999999243538875e+00\n",
      "Dual infeasibility......:   3.6282519525139371e-09    3.6282519525139371e-09\n",
      "Constraint violation....:   9.3315910554281345e-11    9.3315910554281345e-11\n",
      "Variable bound violation:   0.0000000000000000e+00    0.0000000000000000e+00\n",
      "Complementarity.........:   1.0174947843738850e-09    1.0174947843738850e-09\n",
      "Overall NLP error.......:   3.6282519525139371e-09    3.6282519525139371e-09\n",
      "\n",
      "\n",
      "Number of objective function evaluations             = 53\n",
      "Number of objective gradient evaluations             = 34\n",
      "Number of equality constraint evaluations            = 53\n",
      "Number of inequality constraint evaluations          = 53\n",
      "Number of equality constraint Jacobian evaluations   = 34\n",
      "Number of inequality constraint Jacobian evaluations = 34\n",
      "Number of Lagrangian Hessian evaluations             = 33\n",
      "Total seconds in IPOPT                               = 0.035\n",
      "\n",
      "EXIT: Optimal Solution Found.\n"
     ]
    },
    {
     "data": {
      "text/plain": [
       "LOCALLY_SOLVED::TerminationStatusCode = 4"
      ]
     },
     "execution_count": 66,
     "metadata": {},
     "output_type": "execute_result"
    }
   ],
   "source": [
    "using Ipopt,JuMP\n",
    "model = Model(Ipopt.Optimizer)\n",
    "@variable(model,x[1:16,1:5]>=0)\n",
    "i = 1\n",
    "for j in 1:16\n",
    "    @constraint(model,x[j,i]<=1)\n",
    "end\n",
    "i = 2\n",
    "for j in 1:16\n",
    "    @constraint(model,x[j,i]<=1)\n",
    "end\n",
    "i = 3\n",
    "for j in 1:16\n",
    "    @constraint(model,x[j,i]>=1)\n",
    "end\n",
    "i = 4\n",
    "for j in 1:16\n",
    "    @constraint(model,x[j,i]>=1)\n",
    "end\n",
    "i = 5\n",
    "for j in 1:16\n",
    "    @constraint(model,x[j,i]<=1)\n",
    "end\n",
    "for j in 1:16\n",
    "    @NLconstraint(model,x[j,1]*x[j,2]*x[j,5] == 0.5)\n",
    "end\n",
    "@NLobjective(model, Min, sum(q[i]*((0.5-obs1[1,i]*obs1[3,i]*x[i,1]*x[i,3]\n",
    "                -obs1[2,i]*obs1[4,i]*x[i,2]*x[i,4]\n",
    "                -obs1[1,i]*obs1[4,i]*x[i,1]*x[i,5]*x[i,4]\n",
    "                -obs1[1,i]*obs1[4,i]*x[i,1]*x[i,5]*x[i,4])^2) for i in 1:16))\n",
    "optimize!(model)\n",
    "status = termination_status(model)"
   ]
  },
  {
   "cell_type": "code",
   "execution_count": 67,
   "id": "56862c31",
   "metadata": {},
   "outputs": [
    {
     "name": "stdout",
     "output_type": "stream",
     "text": [
      "2.4999999243538875\n"
     ]
    }
   ],
   "source": [
    "println(objective_value(model))"
   ]
  },
  {
   "cell_type": "code",
   "execution_count": 73,
   "id": "7cebf3cf",
   "metadata": {},
   "outputs": [
    {
     "name": "stdout",
     "output_type": "stream",
     "text": [
      " 0.5 1.0 1.0 1.0 1.0\n",
      "the multiple of 125 is 0.5\n",
      " 0.82 0.79 24.73 9.55 0.78\n",
      "the multiple of 125 is 0.4999999999998011\n",
      " 0.82 0.79 21.25 8.67 0.78\n",
      "the multiple of 125 is 0.4999999999999595\n",
      " 0.5 1.0 1.0 1.0 1.0\n",
      "the multiple of 125 is 0.5\n",
      " 0.5 1.0 1.0 10.28 1.0\n",
      "the multiple of 125 is 0.4999999999066841\n",
      " 0.8 0.76 12.2 17.08 0.81\n",
      "the multiple of 125 is 0.49999999999973116\n",
      " 0.77 0.9 8.76 35.81 0.72\n",
      "the multiple of 125 is 0.49999999999856803\n",
      " 0.5 1.0 1.0 12.45 1.0\n",
      "the multiple of 125 is 0.5\n",
      " 0.5 1.0 1.0 12.45 1.0\n",
      "the multiple of 125 is 0.5\n",
      " 0.77 0.9 8.76 35.81 0.72\n",
      "the multiple of 125 is 0.49999999999856803\n",
      " 0.8 0.76 12.2 17.08 0.81\n",
      "the multiple of 125 is 0.49999999999973116\n",
      " 0.5 1.0 1.0 10.28 1.0\n",
      "the multiple of 125 is 0.4999999999066841\n",
      " 0.5 1.0 1.0 1.0 1.0\n",
      "the multiple of 125 is 0.5\n",
      " 0.82 0.79 21.25 8.67 0.78\n",
      "the multiple of 125 is 0.4999999999999595\n",
      " 0.82 0.79 24.73 9.55 0.78\n",
      "the multiple of 125 is 0.4999999999998011\n",
      " 0.5 1.0 1.0 1.0 1.0\n",
      "the multiple of 125 is 0.5\n"
     ]
    }
   ],
   "source": [
    "for i in 1:16\n",
    "    for j in 1:5\n",
    "        print(\" \",round(value(x[i,j]),digits =2))\n",
    "    end\n",
    "    println()\n",
    "    a = value(x[i,1])\n",
    "    b = value(x[i,2])\n",
    "    c =  value(x[i,5])\n",
    "    println(\"the multiple of 125 is \", a*b*c)\n",
    "end"
   ]
  },
  {
   "cell_type": "code",
   "execution_count": 69,
   "id": "d72aadec",
   "metadata": {},
   "outputs": [
    {
     "name": "stdout",
     "output_type": "stream",
     "text": [
      "1.0"
     ]
    }
   ],
   "source": [
    " print(round(value(x[1,2]),digits =2))"
   ]
  },
  {
   "cell_type": "code",
   "execution_count": null,
   "id": "dc36b54d",
   "metadata": {},
   "outputs": [],
   "source": []
  }
 ],
 "metadata": {
  "kernelspec": {
   "display_name": "Julia 1.6.7",
   "language": "julia",
   "name": "julia-1.6"
  },
  "language_info": {
   "file_extension": ".jl",
   "mimetype": "application/julia",
   "name": "julia",
   "version": "1.6.7"
  }
 },
 "nbformat": 4,
 "nbformat_minor": 5
}
