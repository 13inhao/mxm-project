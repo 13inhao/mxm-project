{
 "cells": [
  {
   "cell_type": "code",
   "execution_count": 6,
   "metadata": {
    "colab": {
     "base_uri": "https://localhost:8080/"
    },
    "id": "jSc--Q9U7VMq",
    "outputId": "e5e4bec7-42d8-41bc-c68f-301b105ee7e1"
   },
   "outputs": [
    {
     "name": "stdout",
     "output_type": "stream",
     "text": [
      "Mounted at /mldata\n"
     ]
    }
   ],
   "source": [
    "#from google.colab import drive\n",
    "#drive.mount('/mldata')"
   ]
  },
  {
   "cell_type": "code",
   "execution_count": 2,
   "metadata": {
    "colab": {
     "base_uri": "https://localhost:8080/",
     "height": 383
    },
    "id": "i2jDvNhscumz",
    "outputId": "b8a7d612-5a7b-4022-9fcb-6687c74ac8e8"
   },
   "outputs": [
    {
     "name": "stdout",
     "output_type": "stream",
     "text": [
      "15\n",
      "[[ 1  1]\n",
      " [ 1  1]\n",
      " [ 1 -1]\n",
      " [ 1  1]\n",
      " [ 1  1]\n",
      " [-1 -1]\n",
      " [-1 -1]\n",
      " [ 1  1]\n",
      " [-1 -1]\n",
      " [ 1  1]\n",
      " [ 1  1]\n",
      " [-1 -1]\n",
      " [-1 -1]\n",
      " [-1 -1]\n",
      " [-1 -1]]\n"
     ]
    }
   ],
   "source": [
    "import numpy as np\n",
    "import pandas as pd\n",
    "from sympy import *\n",
    "\n",
    "df = pd.read_csv('../data/chars.txt', delimiter='\\t')\n",
    "a = df['A'].to_numpy()\n",
    "b = df['B'].to_numpy()\n",
    "\n",
    "n = len(a)\n",
    "\n",
    "a = np.reshape(a, (n,1))\n",
    "b = np.reshape(b, (n,1))\n",
    "ab = np.hstack((a, b))\n",
    "\n",
    "#ab = np.array([[1, 1, 1], [-1, -1, -1]]).T\n",
    "#n = np.shape(ab)[0]\n",
    "\n",
    "print(ab)\n",
    "#print(np.shape(ab))"
   ]
  },
  {
   "cell_type": "code",
   "execution_count": 3,
   "metadata": {
    "colab": {
     "base_uri": "https://localhost:8080/"
    },
    "id": "Klkef8ujzSP3",
    "outputId": "623e7523-88ef-4a89-e853-d9080f3575d2"
   },
   "outputs": [
    {
     "name": "stdout",
     "output_type": "stream",
     "text": [
      "critical (T_A)(T_B) [0.866666666666667]\n",
      "optimal (T_A)(T_B) 0.866666666666667\n",
      "maximum likelihood  1.54214256443409e-65\n"
     ]
    }
   ],
   "source": [
    "x = symbols('x')\n",
    "expr = 0\n",
    "\n",
    "for i in range(n):\n",
    "  factor = ab[i][0] * ab[i][1]\n",
    "  subexpr = 1 / (2 ** n) * (1 + factor * x) # is this right?\n",
    "  expr += -log(subexpr)\n",
    "\n",
    "solution = list(solveset(diff(expr), x, Interval(0, 1).closure))\n",
    "nll = -1\n",
    "print(\"critical (T_A)(T_B)\", solution)\n",
    "if len(solution) == 0:\n",
    "  min = 0\n",
    "  max = 1\n",
    "  nll_0 = expr.evalf(subs={x: min})\n",
    "  nll_1 = expr.evalf(subs={x: max})\n",
    "  if nll_0 <= nll_1:\n",
    "    solution.append(min)\n",
    "    nll = nll_0\n",
    "  else:\n",
    "    solution.append(max)\n",
    "    nll = nll_1\n",
    "else:\n",
    "  nll = expr.evalf(subs={x: solution[0]})\n",
    "  min = 0\n",
    "  max = 1\n",
    "  nll_0 = expr.evalf(subs={x: min})\n",
    "  nll_1 = expr.evalf(subs={x: max})\n",
    "  if nll_0 <= nll:\n",
    "    solution.insert(0, min)\n",
    "    nll = nll_0\n",
    "  elif nll_1 <= nll:\n",
    "    solution.insert(0, max)\n",
    "    nll = nll_1\n",
    "lhd = exp(-1 * nll)\n",
    "print(\"optimal (T_A)(T_B)\", solution[0])\n",
    "print(\"maximum likelihood \", lhd)"
   ]
  },
  {
   "cell_type": "code",
   "execution_count": null,
   "metadata": {
    "id": "4a5rF0J8AITo"
   },
   "outputs": [],
   "source": []
  },
  {
   "cell_type": "code",
   "execution_count": null,
   "metadata": {
    "id": "Um-HoQqpcp8B"
   },
   "outputs": [],
   "source": []
  }
 ],
 "metadata": {
  "colab": {
   "name": "Analytical ML.ipynb",
   "provenance": []
  },
  "kernelspec": {
   "display_name": "Python 3 (ipykernel)",
   "language": "python",
   "name": "python3"
  },
  "language_info": {
   "codemirror_mode": {
    "name": "ipython",
    "version": 3
   },
   "file_extension": ".py",
   "mimetype": "text/x-python",
   "name": "python",
   "nbconvert_exporter": "python",
   "pygments_lexer": "ipython3",
   "version": "3.9.7"
  }
 },
 "nbformat": 4,
 "nbformat_minor": 4
}
