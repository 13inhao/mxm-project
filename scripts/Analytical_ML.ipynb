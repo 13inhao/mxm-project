{
  "nbformat": 4,
  "nbformat_minor": 0,
  "metadata": {
    "colab": {
      "name": "Analytical_ML.ipynb",
      "provenance": [],
      "collapsed_sections": []
    },
    "kernelspec": {
      "name": "python3",
      "display_name": "Python 3"
    },
    "language_info": {
      "name": "python"
    }
  },
  "cells": [
    {
      "cell_type": "code",
      "source": [
        "#from google.colab import drive\n",
        "#drive.mount('/content/drive/')"
      ],
      "metadata": {
        "colab": {
          "base_uri": "https://localhost:8080/"
        },
        "id": "jSc--Q9U7VMq",
        "outputId": "f836dcd0-9973-4318-8e47-ca957b121f6b"
      },
      "execution_count": null,
      "outputs": [
        {
          "output_type": "stream",
          "name": "stdout",
          "text": [
            "Drive already mounted at /content/drive/; to attempt to forcibly remount, call drive.mount(\"/content/drive/\", force_remount=True).\n"
          ]
        }
      ]
    },
    {
      "cell_type": "code",
      "execution_count": null,
      "metadata": {
        "id": "i2jDvNhscumz",
        "colab": {
          "base_uri": "https://localhost:8080/"
        },
        "outputId": "9b4ab110-b771-473e-b952-71818be71603"
      },
      "outputs": [
        {
          "output_type": "stream",
          "name": "stdout",
          "text": [
            "[[ 1  1]\n",
            " [ 1  1]\n",
            " [ 1 -1]\n",
            " [ 1  1]\n",
            " [ 1  1]\n",
            " [-1 -1]\n",
            " [-1 -1]\n",
            " [ 1  1]\n",
            " [-1 -1]\n",
            " [ 1  1]\n",
            " [ 1  1]\n",
            " [-1 -1]\n",
            " [-1 -1]\n",
            " [-1 -1]\n",
            " [-1 -1]]\n"
          ]
        }
      ],
      "source": [
        "import numpy as np\n",
        "import pandas as pd\n",
        "from sympy import *\n",
        "\n",
        "# reads input\n",
        "df = pd.read_csv('../data/chars.txt', delimiter='\\t')\n",
        "#df = pd.read_csv('/content/drive/MyDrive/mldata/chars.txt', delimiter='\\t')\n",
        "a = df['A'].to_numpy()\n",
        "b = df['B'].to_numpy()\n",
        "\n",
        "n = len(a)\n",
        "\n",
        "a = np.reshape(a, (n,1))\n",
        "b = np.reshape(b, (n,1))\n",
        "ab = np.hstack((a, b))\n",
        "\n",
        "#ab = np.array([[1, 1, 1], [1, 1, 1]]).T\n",
        "#n = np.shape(ab)[0]\n",
        "\n",
        "print(ab)\n",
        "#print(np.shape(ab))"
      ]
    },
    {
      "cell_type": "markdown",
      "source": [
        "Assume T_C = 0, so sigma_C is irrelevant"
      ],
      "metadata": {
        "id": "xiy0CH721HzA"
      }
    },
    {
      "cell_type": "code",
      "source": [
        "x = symbols('x')\n",
        "expr = 0 # negative log likelihood\n",
        "\n",
        "for i in range(n):\n",
        "  factor = ab[i][0] * ab[i][1]\n",
        "  subexpr = 1 / (2 ** n) * (1 + factor * x) # probability of observing column i\n",
        "  expr += -log(subexpr)\n",
        "\n",
        "dexpr = diff(expr) # derivative of negative log likelihood\n",
        "solution = list(solveset(dexpr, x, Interval(0, 1).closure))\n",
        "nll = -1\n",
        "print(\"critical (T_A)(T_B)\", solution)\n",
        "if len(solution) == 0: # if there exist no critical values, check 0 and 1\n",
        "  min = 0\n",
        "  max = 1\n",
        "  nll_0 = expr.evalf(subs={x: min})\n",
        "  nll_1 = expr.evalf(subs={x: max})\n",
        "  if nll_0 <= nll_1:\n",
        "    solution.append(min)\n",
        "    nll = nll_0\n",
        "  else:\n",
        "    solution.append(max)\n",
        "    nll = nll_1\n",
        "else: # plug in critical value to compute maximum likelihood\n",
        "  nll = expr.evalf(subs={x: solution[0]})\n",
        "  min = 0\n",
        "  max = 1\n",
        "  nll_0 = expr.evalf(subs={x: min})\n",
        "  nll_1 = expr.evalf(subs={x: max})\n",
        "  if nll_0 <= nll:\n",
        "    solution.insert(0, min)\n",
        "    nll = nll_0\n",
        "  elif nll_1 <= nll:\n",
        "    solution.insert(0, max)\n",
        "    nll = nll_1\n",
        "lhd = exp(-1 * nll)\n",
        "print(\"optimal (T_A)(T_B) \", solution[0]) # (T_A)(T_B) maximizing likelihood\n",
        "print(\"maximum likelihood \", lhd) # maximum likelihood"
      ],
      "metadata": {
        "colab": {
          "base_uri": "https://localhost:8080/"
        },
        "id": "Klkef8ujzSP3",
        "outputId": "b65211a6-f9b6-428a-fa89-194c548e3b9a"
      },
      "execution_count": null,
      "outputs": [
        {
          "output_type": "stream",
          "name": "stdout",
          "text": [
            "critical (T_A)(T_B) [0.866666666666667]\n",
            "optimal (T_A)(T_B)  0.866666666666667\n",
            "maximum likelihood  1.54214256443409e-65\n"
          ]
        }
      ]
    },
    {
      "cell_type": "code",
      "source": [
        ""
      ],
      "metadata": {
        "id": "4a5rF0J8AITo"
      },
      "execution_count": null,
      "outputs": []
    },
    {
      "cell_type": "code",
      "source": [
        ""
      ],
      "metadata": {
        "id": "Um-HoQqpcp8B"
      },
      "execution_count": null,
      "outputs": []
    }
  ]
}